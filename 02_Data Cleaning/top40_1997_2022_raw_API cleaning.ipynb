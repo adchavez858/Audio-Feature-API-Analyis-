{
 "cells": [
  {
   "cell_type": "code",
   "execution_count": 1,
   "id": "2bcaa019",
   "metadata": {},
   "outputs": [],
   "source": [
    "import pandas as pd\n",
    "import os"
   ]
  },
  {
   "cell_type": "code",
   "execution_count": 4,
   "id": "5cf1c297",
   "metadata": {},
   "outputs": [],
   "source": [
    "# Files to load\n",
    "top_40_to_load = os.path.join(\"Resources\", \"top_40_cleaned_data_analysis.csv\")"
   ]
  },
  {
   "cell_type": "code",
   "execution_count": 11,
   "id": "9cdccdb6",
   "metadata": {},
   "outputs": [
    {
     "data": {
      "text/html": [
       "<div>\n",
       "<style scoped>\n",
       "    .dataframe tbody tr th:only-of-type {\n",
       "        vertical-align: middle;\n",
       "    }\n",
       "\n",
       "    .dataframe tbody tr th {\n",
       "        vertical-align: top;\n",
       "    }\n",
       "\n",
       "    .dataframe thead th {\n",
       "        text-align: right;\n",
       "    }\n",
       "</style>\n",
       "<table border=\"1\" class=\"dataframe\">\n",
       "  <thead>\n",
       "    <tr style=\"text-align: right;\">\n",
       "      <th></th>\n",
       "      <th>Unnamed: 0</th>\n",
       "      <th>week</th>\n",
       "      <th>position</th>\n",
       "      <th>song</th>\n",
       "      <th>artist</th>\n",
       "    </tr>\n",
       "  </thead>\n",
       "  <tbody>\n",
       "    <tr>\n",
       "      <th>0</th>\n",
       "      <td>0</td>\n",
       "      <td>7/7/1997</td>\n",
       "      <td>1</td>\n",
       "      <td>Mmm Bop</td>\n",
       "      <td>Hanson</td>\n",
       "    </tr>\n",
       "    <tr>\n",
       "      <th>1</th>\n",
       "      <td>1</td>\n",
       "      <td>7/7/1997</td>\n",
       "      <td>2</td>\n",
       "      <td>Bitch</td>\n",
       "      <td>Meredith Brooks</td>\n",
       "    </tr>\n",
       "    <tr>\n",
       "      <th>2</th>\n",
       "      <td>2</td>\n",
       "      <td>7/7/1997</td>\n",
       "      <td>3</td>\n",
       "      <td>Say You'll Be There</td>\n",
       "      <td>Spice Girls</td>\n",
       "    </tr>\n",
       "    <tr>\n",
       "      <th>3</th>\n",
       "      <td>3</td>\n",
       "      <td>7/7/1997</td>\n",
       "      <td>4</td>\n",
       "      <td>Return Of The Mack</td>\n",
       "      <td>Mark Morrison</td>\n",
       "    </tr>\n",
       "    <tr>\n",
       "      <th>4</th>\n",
       "      <td>4</td>\n",
       "      <td>7/7/1997</td>\n",
       "      <td>5</td>\n",
       "      <td>Sunny Came Home</td>\n",
       "      <td>Shawn Colvin</td>\n",
       "    </tr>\n",
       "    <tr>\n",
       "      <th>...</th>\n",
       "      <td>...</td>\n",
       "      <td>...</td>\n",
       "      <td>...</td>\n",
       "      <td>...</td>\n",
       "      <td>...</td>\n",
       "    </tr>\n",
       "    <tr>\n",
       "      <th>52427</th>\n",
       "      <td>52763</td>\n",
       "      <td>10/15/2022</td>\n",
       "      <td>36</td>\n",
       "      <td>Alone</td>\n",
       "      <td>Rod Wave</td>\n",
       "    </tr>\n",
       "    <tr>\n",
       "      <th>52428</th>\n",
       "      <td>52764</td>\n",
       "      <td>10/15/2022</td>\n",
       "      <td>37</td>\n",
       "      <td>Big Time</td>\n",
       "      <td>DJ Khaled, Future</td>\n",
       "    </tr>\n",
       "    <tr>\n",
       "      <th>52429</th>\n",
       "      <td>52765</td>\n",
       "      <td>10/15/2022</td>\n",
       "      <td>38</td>\n",
       "      <td>Under The Influence</td>\n",
       "      <td>Chris Brown</td>\n",
       "    </tr>\n",
       "    <tr>\n",
       "      <th>52430</th>\n",
       "      <td>52766</td>\n",
       "      <td>10/15/2022</td>\n",
       "      <td>39</td>\n",
       "      <td>Romantic Homicide</td>\n",
       "      <td>d4vd</td>\n",
       "    </tr>\n",
       "    <tr>\n",
       "      <th>52431</th>\n",
       "      <td>52767</td>\n",
       "      <td>10/15/2022</td>\n",
       "      <td>40</td>\n",
       "      <td>What My World Spins Around</td>\n",
       "      <td>Jordan Davis</td>\n",
       "    </tr>\n",
       "  </tbody>\n",
       "</table>\n",
       "<p>52432 rows × 5 columns</p>\n",
       "</div>"
      ],
      "text/plain": [
       "       Unnamed: 0        week  position                        song  \\\n",
       "0               0    7/7/1997         1                     Mmm Bop   \n",
       "1               1    7/7/1997         2                       Bitch   \n",
       "2               2    7/7/1997         3         Say You'll Be There   \n",
       "3               3    7/7/1997         4          Return Of The Mack   \n",
       "4               4    7/7/1997         5             Sunny Came Home   \n",
       "...           ...         ...       ...                         ...   \n",
       "52427       52763  10/15/2022        36                       Alone   \n",
       "52428       52764  10/15/2022        37                    Big Time   \n",
       "52429       52765  10/15/2022        38         Under The Influence   \n",
       "52430       52766  10/15/2022        39           Romantic Homicide   \n",
       "52431       52767  10/15/2022        40  What My World Spins Around   \n",
       "\n",
       "                  artist  \n",
       "0                 Hanson  \n",
       "1        Meredith Brooks  \n",
       "2            Spice Girls  \n",
       "3          Mark Morrison  \n",
       "4           Shawn Colvin  \n",
       "...                  ...  \n",
       "52427           Rod Wave  \n",
       "52428  DJ Khaled, Future  \n",
       "52429        Chris Brown  \n",
       "52430               d4vd  \n",
       "52431       Jordan Davis  \n",
       "\n",
       "[52432 rows x 5 columns]"
      ]
     },
     "execution_count": 11,
     "metadata": {},
     "output_type": "execute_result"
    }
   ],
   "source": [
    "# Read the data file and store it in a Pandas DataFrame.\n",
    "top_40_df = pd.read_csv(top_40_to_load)\n",
    "top_40_df"
   ]
  },
  {
   "cell_type": "code",
   "execution_count": 6,
   "id": "79214d6b",
   "metadata": {},
   "outputs": [
    {
     "data": {
      "text/html": [
       "<div>\n",
       "<style scoped>\n",
       "    .dataframe tbody tr th:only-of-type {\n",
       "        vertical-align: middle;\n",
       "    }\n",
       "\n",
       "    .dataframe tbody tr th {\n",
       "        vertical-align: top;\n",
       "    }\n",
       "\n",
       "    .dataframe thead th {\n",
       "        text-align: right;\n",
       "    }\n",
       "</style>\n",
       "<table border=\"1\" class=\"dataframe\">\n",
       "  <thead>\n",
       "    <tr style=\"text-align: right;\">\n",
       "      <th></th>\n",
       "      <th>Unnamed: 0</th>\n",
       "      <th>week</th>\n",
       "      <th>position</th>\n",
       "      <th>song</th>\n",
       "      <th>artist</th>\n",
       "    </tr>\n",
       "  </thead>\n",
       "  <tbody>\n",
       "    <tr>\n",
       "      <th>0</th>\n",
       "      <td>0</td>\n",
       "      <td>7/7/1997</td>\n",
       "      <td>1</td>\n",
       "      <td>Mmm Bop</td>\n",
       "      <td>Hanson</td>\n",
       "    </tr>\n",
       "    <tr>\n",
       "      <th>1</th>\n",
       "      <td>1</td>\n",
       "      <td>7/7/1997</td>\n",
       "      <td>2</td>\n",
       "      <td>Bitch</td>\n",
       "      <td>Meredith Brooks</td>\n",
       "    </tr>\n",
       "    <tr>\n",
       "      <th>2</th>\n",
       "      <td>2</td>\n",
       "      <td>7/7/1997</td>\n",
       "      <td>3</td>\n",
       "      <td>Say You'll Be There</td>\n",
       "      <td>Spice Girls</td>\n",
       "    </tr>\n",
       "    <tr>\n",
       "      <th>3</th>\n",
       "      <td>3</td>\n",
       "      <td>7/7/1997</td>\n",
       "      <td>4</td>\n",
       "      <td>Return Of The Mack</td>\n",
       "      <td>Mark Morrison</td>\n",
       "    </tr>\n",
       "    <tr>\n",
       "      <th>4</th>\n",
       "      <td>4</td>\n",
       "      <td>7/7/1997</td>\n",
       "      <td>5</td>\n",
       "      <td>Sunny Came Home</td>\n",
       "      <td>Shawn Colvin</td>\n",
       "    </tr>\n",
       "  </tbody>\n",
       "</table>\n",
       "</div>"
      ],
      "text/plain": [
       "   Unnamed: 0      week  position                 song           artist\n",
       "0           0  7/7/1997         1              Mmm Bop           Hanson\n",
       "1           1  7/7/1997         2                Bitch  Meredith Brooks\n",
       "2           2  7/7/1997         3  Say You'll Be There      Spice Girls\n",
       "3           3  7/7/1997         4   Return Of The Mack    Mark Morrison\n",
       "4           4  7/7/1997         5      Sunny Came Home     Shawn Colvin"
      ]
     },
     "execution_count": 6,
     "metadata": {},
     "output_type": "execute_result"
    }
   ],
   "source": [
    "# Read the data file and store it in a Pandas DataFrame.\n",
    "top_40_df = pd.read_csv(top_40_to_load)\n",
    "top_40_df.head()"
   ]
  },
  {
   "cell_type": "markdown",
   "id": "24968148",
   "metadata": {},
   "source": [
    "Checking and Delete Duplicates"
   ]
  },
  {
   "cell_type": "code",
   "execution_count": 12,
   "id": "a424ec05",
   "metadata": {},
   "outputs": [
    {
     "data": {
      "text/plain": [
       "(52432, 5)"
      ]
     },
     "execution_count": 12,
     "metadata": {},
     "output_type": "execute_result"
    }
   ],
   "source": [
    "# Find shape of dataframe\n",
    "top_40_df.shape"
   ]
  },
  {
   "cell_type": "code",
   "execution_count": 15,
   "id": "858628a8",
   "metadata": {},
   "outputs": [
    {
     "data": {
      "text/plain": [
       "0        False\n",
       "1        False\n",
       "2        False\n",
       "3        False\n",
       "4        False\n",
       "         ...  \n",
       "52427     True\n",
       "52428     True\n",
       "52429     True\n",
       "52430     True\n",
       "52431    False\n",
       "Length: 52432, dtype: bool"
      ]
     },
     "execution_count": 15,
     "metadata": {},
     "output_type": "execute_result"
    }
   ],
   "source": [
    "# Find duplicates in the song and artist columns.\n",
    "top_40_df.duplicated(subset=['song','artist'])"
   ]
  },
  {
   "cell_type": "code",
   "execution_count": 17,
   "id": "1a2412cd",
   "metadata": {},
   "outputs": [
    {
     "data": {
      "text/plain": [
       "48031"
      ]
     },
     "execution_count": 17,
     "metadata": {},
     "output_type": "execute_result"
    }
   ],
   "source": [
    "# Find the sum of duplicates in the song and artist columns. This shows a song's performance over time\n",
    "top_40_df.duplicated(subset=['song','artist']).sum()"
   ]
  },
  {
   "cell_type": "code",
   "execution_count": 20,
   "id": "44769d26",
   "metadata": {},
   "outputs": [
    {
     "data": {
      "text/html": [
       "<div>\n",
       "<style scoped>\n",
       "    .dataframe tbody tr th:only-of-type {\n",
       "        vertical-align: middle;\n",
       "    }\n",
       "\n",
       "    .dataframe tbody tr th {\n",
       "        vertical-align: top;\n",
       "    }\n",
       "\n",
       "    .dataframe thead th {\n",
       "        text-align: right;\n",
       "    }\n",
       "</style>\n",
       "<table border=\"1\" class=\"dataframe\">\n",
       "  <thead>\n",
       "    <tr style=\"text-align: right;\">\n",
       "      <th></th>\n",
       "      <th>Unnamed: 0</th>\n",
       "      <th>week</th>\n",
       "      <th>position</th>\n",
       "      <th>song</th>\n",
       "      <th>artist</th>\n",
       "    </tr>\n",
       "  </thead>\n",
       "  <tbody>\n",
       "    <tr>\n",
       "      <th>40</th>\n",
       "      <td>40</td>\n",
       "      <td>7/14/1997</td>\n",
       "      <td>1</td>\n",
       "      <td>Bitch</td>\n",
       "      <td>Meredith Brooks</td>\n",
       "    </tr>\n",
       "    <tr>\n",
       "      <th>41</th>\n",
       "      <td>41</td>\n",
       "      <td>7/14/1997</td>\n",
       "      <td>2</td>\n",
       "      <td>Mmm Bop</td>\n",
       "      <td>Hanson</td>\n",
       "    </tr>\n",
       "    <tr>\n",
       "      <th>42</th>\n",
       "      <td>42</td>\n",
       "      <td>7/14/1997</td>\n",
       "      <td>3</td>\n",
       "      <td>Return Of The Mack</td>\n",
       "      <td>Mark Morrison</td>\n",
       "    </tr>\n",
       "    <tr>\n",
       "      <th>43</th>\n",
       "      <td>43</td>\n",
       "      <td>7/14/1997</td>\n",
       "      <td>4</td>\n",
       "      <td>Sunny Came Home</td>\n",
       "      <td>Shawn Colvin</td>\n",
       "    </tr>\n",
       "    <tr>\n",
       "      <th>44</th>\n",
       "      <td>44</td>\n",
       "      <td>7/14/1997</td>\n",
       "      <td>5</td>\n",
       "      <td>Do You Know</td>\n",
       "      <td>Robyn</td>\n",
       "    </tr>\n",
       "    <tr>\n",
       "      <th>...</th>\n",
       "      <td>...</td>\n",
       "      <td>...</td>\n",
       "      <td>...</td>\n",
       "      <td>...</td>\n",
       "      <td>...</td>\n",
       "    </tr>\n",
       "    <tr>\n",
       "      <th>52426</th>\n",
       "      <td>52762</td>\n",
       "      <td>10/15/2022</td>\n",
       "      <td>35</td>\n",
       "      <td>Beautiful</td>\n",
       "      <td>DJ Khaled, Future</td>\n",
       "    </tr>\n",
       "    <tr>\n",
       "      <th>52427</th>\n",
       "      <td>52763</td>\n",
       "      <td>10/15/2022</td>\n",
       "      <td>36</td>\n",
       "      <td>Alone</td>\n",
       "      <td>Rod Wave</td>\n",
       "    </tr>\n",
       "    <tr>\n",
       "      <th>52428</th>\n",
       "      <td>52764</td>\n",
       "      <td>10/15/2022</td>\n",
       "      <td>37</td>\n",
       "      <td>Big Time</td>\n",
       "      <td>DJ Khaled, Future</td>\n",
       "    </tr>\n",
       "    <tr>\n",
       "      <th>52429</th>\n",
       "      <td>52765</td>\n",
       "      <td>10/15/2022</td>\n",
       "      <td>38</td>\n",
       "      <td>Under The Influence</td>\n",
       "      <td>Chris Brown</td>\n",
       "    </tr>\n",
       "    <tr>\n",
       "      <th>52430</th>\n",
       "      <td>52766</td>\n",
       "      <td>10/15/2022</td>\n",
       "      <td>39</td>\n",
       "      <td>Romantic Homicide</td>\n",
       "      <td>d4vd</td>\n",
       "    </tr>\n",
       "  </tbody>\n",
       "</table>\n",
       "<p>48031 rows × 5 columns</p>\n",
       "</div>"
      ],
      "text/plain": [
       "       Unnamed: 0        week  position                 song  \\\n",
       "40             40   7/14/1997         1                Bitch   \n",
       "41             41   7/14/1997         2              Mmm Bop   \n",
       "42             42   7/14/1997         3   Return Of The Mack   \n",
       "43             43   7/14/1997         4      Sunny Came Home   \n",
       "44             44   7/14/1997         5          Do You Know   \n",
       "...           ...         ...       ...                  ...   \n",
       "52426       52762  10/15/2022        35            Beautiful   \n",
       "52427       52763  10/15/2022        36                Alone   \n",
       "52428       52764  10/15/2022        37             Big Time   \n",
       "52429       52765  10/15/2022        38  Under The Influence   \n",
       "52430       52766  10/15/2022        39    Romantic Homicide   \n",
       "\n",
       "                  artist  \n",
       "40       Meredith Brooks  \n",
       "41                Hanson  \n",
       "42         Mark Morrison  \n",
       "43          Shawn Colvin  \n",
       "44                 Robyn  \n",
       "...                  ...  \n",
       "52426  DJ Khaled, Future  \n",
       "52427           Rod Wave  \n",
       "52428  DJ Khaled, Future  \n",
       "52429        Chris Brown  \n",
       "52430               d4vd  \n",
       "\n",
       "[48031 rows x 5 columns]"
      ]
     },
     "execution_count": 20,
     "metadata": {},
     "output_type": "execute_result"
    }
   ],
   "source": [
    "# Display the rows identified as duplicates\n",
    "top_40_df.loc[top_40_df.duplicated(subset=['song','artist']), :]"
   ]
  },
  {
   "cell_type": "code",
   "execution_count": 23,
   "id": "3c76a073",
   "metadata": {},
   "outputs": [
    {
     "data": {
      "text/plain": [
       "(4401, 5)"
      ]
     },
     "execution_count": 23,
     "metadata": {},
     "output_type": "execute_result"
    }
   ],
   "source": [
    "top_40_df.drop_duplicates(subset=['song','artist']).shape"
   ]
  },
  {
   "cell_type": "code",
   "execution_count": 24,
   "id": "f3b6ce1a",
   "metadata": {},
   "outputs": [],
   "source": [
    "top_40_df_2 = top_40_df.drop_duplicates(subset=['song','artist'])"
   ]
  },
  {
   "cell_type": "code",
   "execution_count": 27,
   "id": "002aaf63",
   "metadata": {},
   "outputs": [],
   "source": [
    "top_40_df_3 = top_40_df_2.drop_duplicates(subset=['song','artist','position'])"
   ]
  },
  {
   "cell_type": "code",
   "execution_count": 29,
   "id": "f19f5ee3",
   "metadata": {},
   "outputs": [],
   "source": [
    "top_40_df_3.to_csv('top_40_cleaned_data_API analysis.csv')"
   ]
  },
  {
   "cell_type": "code",
   "execution_count": null,
   "id": "c9a153ed",
   "metadata": {},
   "outputs": [],
   "source": []
  }
 ],
 "metadata": {
  "kernelspec": {
   "display_name": "Python 3 (ipykernel)",
   "language": "python",
   "name": "python3"
  },
  "language_info": {
   "codemirror_mode": {
    "name": "ipython",
    "version": 3
   },
   "file_extension": ".py",
   "mimetype": "text/x-python",
   "name": "python",
   "nbconvert_exporter": "python",
   "pygments_lexer": "ipython3",
   "version": "3.9.12"
  }
 },
 "nbformat": 4,
 "nbformat_minor": 5
}
