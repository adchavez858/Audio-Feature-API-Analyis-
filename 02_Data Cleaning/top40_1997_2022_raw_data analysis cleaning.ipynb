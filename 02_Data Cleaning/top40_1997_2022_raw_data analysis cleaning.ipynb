{
 "cells": [
  {
   "cell_type": "code",
   "execution_count": 1,
   "id": "a3de6f2f",
   "metadata": {},
   "outputs": [],
   "source": [
    "import pandas as pd\n",
    "import os"
   ]
  },
  {
   "cell_type": "code",
   "execution_count": 2,
   "id": "a02f83a2",
   "metadata": {},
   "outputs": [],
   "source": [
    "# Files to load\n",
    "top_40_to_load = os.path.join(\"Resources\", \"top40_1997_2022_raw.csv\")"
   ]
  },
  {
   "cell_type": "code",
   "execution_count": 3,
   "id": "8ba8539a",
   "metadata": {},
   "outputs": [
    {
     "data": {
      "text/html": [
       "<div>\n",
       "<style scoped>\n",
       "    .dataframe tbody tr th:only-of-type {\n",
       "        vertical-align: middle;\n",
       "    }\n",
       "\n",
       "    .dataframe tbody tr th {\n",
       "        vertical-align: top;\n",
       "    }\n",
       "\n",
       "    .dataframe thead th {\n",
       "        text-align: right;\n",
       "    }\n",
       "</style>\n",
       "<table border=\"1\" class=\"dataframe\">\n",
       "  <thead>\n",
       "    <tr style=\"text-align: right;\">\n",
       "      <th></th>\n",
       "      <th>week</th>\n",
       "      <th>position</th>\n",
       "      <th>song</th>\n",
       "      <th>artist</th>\n",
       "    </tr>\n",
       "  </thead>\n",
       "  <tbody>\n",
       "    <tr>\n",
       "      <th>0</th>\n",
       "      <td>7/7/1997</td>\n",
       "      <td>1</td>\n",
       "      <td>Mmm Bop</td>\n",
       "      <td>Hanson</td>\n",
       "    </tr>\n",
       "    <tr>\n",
       "      <th>1</th>\n",
       "      <td>7/7/1997</td>\n",
       "      <td>2</td>\n",
       "      <td>Bitch</td>\n",
       "      <td>Meredith Brooks</td>\n",
       "    </tr>\n",
       "    <tr>\n",
       "      <th>2</th>\n",
       "      <td>7/7/1997</td>\n",
       "      <td>3</td>\n",
       "      <td>Say You'll Be There</td>\n",
       "      <td>Spice Girls</td>\n",
       "    </tr>\n",
       "    <tr>\n",
       "      <th>3</th>\n",
       "      <td>7/7/1997</td>\n",
       "      <td>4</td>\n",
       "      <td>Return Of The Mack</td>\n",
       "      <td>Mark Morrison</td>\n",
       "    </tr>\n",
       "    <tr>\n",
       "      <th>4</th>\n",
       "      <td>7/7/1997</td>\n",
       "      <td>5</td>\n",
       "      <td>Sunny Came Home</td>\n",
       "      <td>Shawn Colvin</td>\n",
       "    </tr>\n",
       "    <tr>\n",
       "      <th>...</th>\n",
       "      <td>...</td>\n",
       "      <td>...</td>\n",
       "      <td>...</td>\n",
       "      <td>...</td>\n",
       "    </tr>\n",
       "    <tr>\n",
       "      <th>52763</th>\n",
       "      <td>10/15/2022</td>\n",
       "      <td>36</td>\n",
       "      <td>Alone</td>\n",
       "      <td>Rod Wave</td>\n",
       "    </tr>\n",
       "    <tr>\n",
       "      <th>52764</th>\n",
       "      <td>10/15/2022</td>\n",
       "      <td>37</td>\n",
       "      <td>Big Time</td>\n",
       "      <td>DJ Khaled, Future &amp;amp; Lil Baby</td>\n",
       "    </tr>\n",
       "    <tr>\n",
       "      <th>52765</th>\n",
       "      <td>10/15/2022</td>\n",
       "      <td>38</td>\n",
       "      <td>Under The Influence</td>\n",
       "      <td>Chris Brown</td>\n",
       "    </tr>\n",
       "    <tr>\n",
       "      <th>52766</th>\n",
       "      <td>10/15/2022</td>\n",
       "      <td>39</td>\n",
       "      <td>Romantic Homicide</td>\n",
       "      <td>d4vd</td>\n",
       "    </tr>\n",
       "    <tr>\n",
       "      <th>52767</th>\n",
       "      <td>10/15/2022</td>\n",
       "      <td>40</td>\n",
       "      <td>What My World Spins Around</td>\n",
       "      <td>Jordan Davis</td>\n",
       "    </tr>\n",
       "  </tbody>\n",
       "</table>\n",
       "<p>52768 rows × 4 columns</p>\n",
       "</div>"
      ],
      "text/plain": [
       "             week  position                        song  \\\n",
       "0        7/7/1997         1                     Mmm Bop   \n",
       "1        7/7/1997         2                       Bitch   \n",
       "2        7/7/1997         3         Say You'll Be There   \n",
       "3        7/7/1997         4          Return Of The Mack   \n",
       "4        7/7/1997         5             Sunny Came Home   \n",
       "...           ...       ...                         ...   \n",
       "52763  10/15/2022        36                       Alone   \n",
       "52764  10/15/2022        37                    Big Time   \n",
       "52765  10/15/2022        38         Under The Influence   \n",
       "52766  10/15/2022        39           Romantic Homicide   \n",
       "52767  10/15/2022        40  What My World Spins Around   \n",
       "\n",
       "                                 artist  \n",
       "0                                Hanson  \n",
       "1                       Meredith Brooks  \n",
       "2                           Spice Girls  \n",
       "3                         Mark Morrison  \n",
       "4                          Shawn Colvin  \n",
       "...                                 ...  \n",
       "52763                          Rod Wave  \n",
       "52764  DJ Khaled, Future &amp; Lil Baby  \n",
       "52765                       Chris Brown  \n",
       "52766                              d4vd  \n",
       "52767                      Jordan Davis  \n",
       "\n",
       "[52768 rows x 4 columns]"
      ]
     },
     "execution_count": 3,
     "metadata": {},
     "output_type": "execute_result"
    }
   ],
   "source": [
    "# Read the data file and store it in a Pandas DataFrame.\n",
    "top_40_df = pd.read_csv(top_40_to_load)\n",
    "top_40_df"
   ]
  },
  {
   "cell_type": "code",
   "execution_count": 4,
   "id": "c0f7e5c4",
   "metadata": {},
   "outputs": [
    {
     "data": {
      "text/html": [
       "<div>\n",
       "<style scoped>\n",
       "    .dataframe tbody tr th:only-of-type {\n",
       "        vertical-align: middle;\n",
       "    }\n",
       "\n",
       "    .dataframe tbody tr th {\n",
       "        vertical-align: top;\n",
       "    }\n",
       "\n",
       "    .dataframe thead th {\n",
       "        text-align: right;\n",
       "    }\n",
       "</style>\n",
       "<table border=\"1\" class=\"dataframe\">\n",
       "  <thead>\n",
       "    <tr style=\"text-align: right;\">\n",
       "      <th></th>\n",
       "      <th>week</th>\n",
       "      <th>position</th>\n",
       "      <th>song</th>\n",
       "      <th>artist</th>\n",
       "    </tr>\n",
       "  </thead>\n",
       "  <tbody>\n",
       "    <tr>\n",
       "      <th>0</th>\n",
       "      <td>7/7/1997</td>\n",
       "      <td>1</td>\n",
       "      <td>Mmm Bop</td>\n",
       "      <td>Hanson</td>\n",
       "    </tr>\n",
       "    <tr>\n",
       "      <th>1</th>\n",
       "      <td>7/7/1997</td>\n",
       "      <td>2</td>\n",
       "      <td>Bitch</td>\n",
       "      <td>Meredith Brooks</td>\n",
       "    </tr>\n",
       "    <tr>\n",
       "      <th>2</th>\n",
       "      <td>7/7/1997</td>\n",
       "      <td>3</td>\n",
       "      <td>Say You'll Be There</td>\n",
       "      <td>Spice Girls</td>\n",
       "    </tr>\n",
       "    <tr>\n",
       "      <th>3</th>\n",
       "      <td>7/7/1997</td>\n",
       "      <td>4</td>\n",
       "      <td>Return Of The Mack</td>\n",
       "      <td>Mark Morrison</td>\n",
       "    </tr>\n",
       "    <tr>\n",
       "      <th>4</th>\n",
       "      <td>7/7/1997</td>\n",
       "      <td>5</td>\n",
       "      <td>Sunny Came Home</td>\n",
       "      <td>Shawn Colvin</td>\n",
       "    </tr>\n",
       "  </tbody>\n",
       "</table>\n",
       "</div>"
      ],
      "text/plain": [
       "       week  position                 song           artist\n",
       "0  7/7/1997         1              Mmm Bop           Hanson\n",
       "1  7/7/1997         2                Bitch  Meredith Brooks\n",
       "2  7/7/1997         3  Say You'll Be There      Spice Girls\n",
       "3  7/7/1997         4   Return Of The Mack    Mark Morrison\n",
       "4  7/7/1997         5      Sunny Came Home     Shawn Colvin"
      ]
     },
     "execution_count": 4,
     "metadata": {},
     "output_type": "execute_result"
    }
   ],
   "source": [
    "# Read the data file and store it in a Pandas DataFrame.\n",
    "top_40_df = pd.read_csv(top_40_to_load)\n",
    "top_40_df.head()"
   ]
  },
  {
   "cell_type": "markdown",
   "id": "644f9a17",
   "metadata": {},
   "source": [
    "Checking for Duplicates"
   ]
  },
  {
   "cell_type": "code",
   "execution_count": 5,
   "id": "53d5b893",
   "metadata": {},
   "outputs": [
    {
     "data": {
      "text/plain": [
       "(52768, 4)"
      ]
     },
     "execution_count": 5,
     "metadata": {},
     "output_type": "execute_result"
    }
   ],
   "source": [
    "# Find shape of dataframe\n",
    "top_40_df.shape"
   ]
  },
  {
   "cell_type": "code",
   "execution_count": 6,
   "id": "e34de40f",
   "metadata": {
    "scrolled": true
   },
   "outputs": [
    {
     "data": {
      "text/plain": [
       "0"
      ]
     },
     "execution_count": 6,
     "metadata": {},
     "output_type": "execute_result"
    }
   ],
   "source": [
    "# Find the sum of duplicates in the dataframe. These would be true repeats in the data\n",
    "top_40_df.duplicated().sum()"
   ]
  },
  {
   "cell_type": "code",
   "execution_count": 7,
   "id": "a0e4dfd8",
   "metadata": {},
   "outputs": [
    {
     "data": {
      "text/plain": [
       "0"
      ]
     },
     "execution_count": 7,
     "metadata": {},
     "output_type": "execute_result"
    }
   ],
   "source": [
    "# Double checking the sum of duplicates in all columns. These would be true repeats in the data\n",
    "top_40_df.duplicated(subset=['song','artist','position','week']).sum()"
   ]
  },
  {
   "cell_type": "code",
   "execution_count": 8,
   "id": "6a056d04",
   "metadata": {},
   "outputs": [
    {
     "data": {
      "text/plain": [
       "15777"
      ]
     },
     "execution_count": 8,
     "metadata": {},
     "output_type": "execute_result"
    }
   ],
   "source": [
    "# Find the sum of duplicates in the song, artist, position columns. These songs were ranked the same on different dates\n",
    "top_40_df.duplicated(subset=['song','artist','position']).sum()"
   ]
  },
  {
   "cell_type": "code",
   "execution_count": 9,
   "id": "84fea66b",
   "metadata": {},
   "outputs": [
    {
     "data": {
      "text/plain": [
       "48311"
      ]
     },
     "execution_count": 9,
     "metadata": {},
     "output_type": "execute_result"
    }
   ],
   "source": [
    "# Find the sum of duplicates in the song and artist columns. This shows a song's performance over time\n",
    "top_40_df.duplicated(subset=['song','artist']).sum()"
   ]
  },
  {
   "cell_type": "markdown",
   "id": "adff4b7f",
   "metadata": {},
   "source": [
    "Removing Featured artists "
   ]
  },
  {
   "cell_type": "code",
   "execution_count": 32,
   "id": "df48951e",
   "metadata": {
    "scrolled": true
   },
   "outputs": [
    {
     "data": {
      "text/html": [
       "<div>\n",
       "<style scoped>\n",
       "    .dataframe tbody tr th:only-of-type {\n",
       "        vertical-align: middle;\n",
       "    }\n",
       "\n",
       "    .dataframe tbody tr th {\n",
       "        vertical-align: top;\n",
       "    }\n",
       "\n",
       "    .dataframe thead th {\n",
       "        text-align: right;\n",
       "    }\n",
       "</style>\n",
       "<table border=\"1\" class=\"dataframe\">\n",
       "  <thead>\n",
       "    <tr style=\"text-align: right;\">\n",
       "      <th></th>\n",
       "      <th>week</th>\n",
       "      <th>position</th>\n",
       "      <th>song</th>\n",
       "      <th>artist</th>\n",
       "    </tr>\n",
       "  </thead>\n",
       "  <tbody>\n",
       "    <tr>\n",
       "      <th>0</th>\n",
       "      <td>7/7/1997</td>\n",
       "      <td>1</td>\n",
       "      <td>Mmm Bop</td>\n",
       "      <td>Hanson</td>\n",
       "    </tr>\n",
       "    <tr>\n",
       "      <th>1</th>\n",
       "      <td>7/7/1997</td>\n",
       "      <td>2</td>\n",
       "      <td>Bitch</td>\n",
       "      <td>Meredith Brooks</td>\n",
       "    </tr>\n",
       "    <tr>\n",
       "      <th>2</th>\n",
       "      <td>7/7/1997</td>\n",
       "      <td>3</td>\n",
       "      <td>Say You'll Be There</td>\n",
       "      <td>Spice Girls</td>\n",
       "    </tr>\n",
       "    <tr>\n",
       "      <th>3</th>\n",
       "      <td>7/7/1997</td>\n",
       "      <td>4</td>\n",
       "      <td>Return Of The Mack</td>\n",
       "      <td>Mark Morrison</td>\n",
       "    </tr>\n",
       "    <tr>\n",
       "      <th>4</th>\n",
       "      <td>7/7/1997</td>\n",
       "      <td>5</td>\n",
       "      <td>Sunny Came Home</td>\n",
       "      <td>Shawn Colvin</td>\n",
       "    </tr>\n",
       "    <tr>\n",
       "      <th>...</th>\n",
       "      <td>...</td>\n",
       "      <td>...</td>\n",
       "      <td>...</td>\n",
       "      <td>...</td>\n",
       "    </tr>\n",
       "    <tr>\n",
       "      <th>52763</th>\n",
       "      <td>10/15/2022</td>\n",
       "      <td>36</td>\n",
       "      <td>Alone</td>\n",
       "      <td>Rod Wave</td>\n",
       "    </tr>\n",
       "    <tr>\n",
       "      <th>52764</th>\n",
       "      <td>10/15/2022</td>\n",
       "      <td>37</td>\n",
       "      <td>Big Time</td>\n",
       "      <td>DJ Khaled, Future</td>\n",
       "    </tr>\n",
       "    <tr>\n",
       "      <th>52765</th>\n",
       "      <td>10/15/2022</td>\n",
       "      <td>38</td>\n",
       "      <td>Under The Influence</td>\n",
       "      <td>Chris Brown</td>\n",
       "    </tr>\n",
       "    <tr>\n",
       "      <th>52766</th>\n",
       "      <td>10/15/2022</td>\n",
       "      <td>39</td>\n",
       "      <td>Romantic Homicide</td>\n",
       "      <td>d4vd</td>\n",
       "    </tr>\n",
       "    <tr>\n",
       "      <th>52767</th>\n",
       "      <td>10/15/2022</td>\n",
       "      <td>40</td>\n",
       "      <td>What My World Spins Around</td>\n",
       "      <td>Jordan Davis</td>\n",
       "    </tr>\n",
       "  </tbody>\n",
       "</table>\n",
       "<p>52768 rows × 4 columns</p>\n",
       "</div>"
      ],
      "text/plain": [
       "             week  position                        song             artist\n",
       "0        7/7/1997         1                     Mmm Bop             Hanson\n",
       "1        7/7/1997         2                       Bitch    Meredith Brooks\n",
       "2        7/7/1997         3         Say You'll Be There        Spice Girls\n",
       "3        7/7/1997         4          Return Of The Mack      Mark Morrison\n",
       "4        7/7/1997         5             Sunny Came Home       Shawn Colvin\n",
       "...           ...       ...                         ...                ...\n",
       "52763  10/15/2022        36                       Alone           Rod Wave\n",
       "52764  10/15/2022        37                    Big Time  DJ Khaled, Future\n",
       "52765  10/15/2022        38         Under The Influence        Chris Brown\n",
       "52766  10/15/2022        39           Romantic Homicide               d4vd\n",
       "52767  10/15/2022        40  What My World Spins Around       Jordan Davis\n",
       "\n",
       "[52768 rows x 4 columns]"
      ]
     },
     "execution_count": 32,
     "metadata": {},
     "output_type": "execute_result"
    }
   ],
   "source": [
    "# Delete featured artists from artist column\n",
    "top_40_df['artist'] = [x.split(' &amp')[0].split(' (featuring')[0].split(' Featuring')[0].split(' Feturing')[0].split(' (feturing')[0].split(' Feat.')[0] for x in top_40_df['artist']]\n",
    "top_40_df"
   ]
  },
  {
   "cell_type": "code",
   "execution_count": 34,
   "id": "2d9291d9",
   "metadata": {},
   "outputs": [],
   "source": [
    "# Create index with drop conditions\n",
    "Index_def = top_40_df[(top_40_df['artist']=='<img border=\"0\" class=\"lazyimg\" src=\"https://top40-charts.com/images/spacer.gif\" width=\"75\"/>') |\n",
    "                      (top_40_df['artist']=='<img border=\"0\" class=\"lazyimg\" height=\"75\" src=\"https://top40-charts.com/thumb.php?x=75&amp;i=https://www.top40-charts.com/html/songs/song-1826-cover.jpg\" width=\"75\"/>') |\n",
    "                      (top_40_df['artist']=='<img border=\"0\" class=\"lazyimg\" height=\"75\" src=\"https://top40-charts.com/thumb.php?x=75&amp;i=https://www.top40-charts.com/html/songs/song-251-cover.jpg\" width=\"75\"/>') |\n",
    "                      (top_40_df['artist']=='<img border=\"0\" class=\"lazyimg\" src=\"/images/spacer.gif\" width=\"75\"/>') |\n",
    "                      (top_40_df['artist']=='<img border=\"0\" class=\"lazyimg\" height=\"75\" src=\"https://top40-charts.com/thumb.php?x=75&amp;i=https://www.top40-charts.com/html/songs/song-40485-cover.jpg\" width=\"75\"/>') |\n",
    "                      (top_40_df['artist']=='<img border=\"0\" class=\"lazyimg\" height=\"75\" src=\"https://top40-charts.com/thumb.php?x=75&amp;i=https://www.top40-charts.com/html/songs/song-40496-cover.jpg\" width=\"75\"/>') |\n",
    "                      (top_40_df['artist']=='<img border=\"0\" class=\"lazyimg\" height=\"75\" src=\"https://top40-charts.com/thumb.php?x=75&amp;i=http://a5.mzstatic.com/us/r30/Music1/v4/8a/5d/db/8a5ddb89-55e5-55cd-dfbc-aad1caabeab0/cover170x170.jpeg\" width=\"75\"/>') |\n",
    "                      (top_40_df['artist']=='<img border=\"0\" class=\"lazyimg\" height=\"75\" src=\"https://top40-charts.com/thumb.php?x=75&amp;i=https://images-na.ssl-images-amazon.com/images/I/51-7%2B6XeqyL._SS280.jpg\" width=\"75\"/>') |\n",
    "                      (top_40_df['artist']=='<img border=\"0\" class=\"lazyimg\" height=\"75\" src=\"https://top40-charts.com/thumb.php?x=75&amp;i=http://a3.mzstatic.com/us/r30/Music49/v4/90/ee/8b/90ee8b1a-460e-d846-8959-057151515e87/cover170x170.jpeg\" width=\"75\"/>') |\n",
    "                      (top_40_df['artist']=='<img border=\"0\" class=\"lazyimg\" height=\"75\" src=\"https://top40-charts.com/thumb.php?x=75&amp;i=https://i.ytimg.com/vi/bNHR_9q1nIQ/hqdefault.jpg\" width=\"75\"/>') |\n",
    "                      (top_40_df['artist']=='<img border=\"0\" class=\"lazyimg\" height=\"75\" src=\"https://top40-charts.com/thumb.php?x=75&amp;i=https://www.top40-charts.com/html/songs/song-43324-cover.jpg\" width=\"75\"/>')].index"
   ]
  },
  {
   "cell_type": "code",
   "execution_count": 35,
   "id": "24a77b0d",
   "metadata": {},
   "outputs": [],
   "source": [
    "# Delete rows contanining <img data where artist name should be. 336 rows total\n",
    "top_40_df_2 = top_40_df.drop(Index_def)"
   ]
  },
  {
   "cell_type": "code",
   "execution_count": 36,
   "id": "488ce423",
   "metadata": {},
   "outputs": [
    {
     "data": {
      "text/html": [
       "<div>\n",
       "<style scoped>\n",
       "    .dataframe tbody tr th:only-of-type {\n",
       "        vertical-align: middle;\n",
       "    }\n",
       "\n",
       "    .dataframe tbody tr th {\n",
       "        vertical-align: top;\n",
       "    }\n",
       "\n",
       "    .dataframe thead th {\n",
       "        text-align: right;\n",
       "    }\n",
       "</style>\n",
       "<table border=\"1\" class=\"dataframe\">\n",
       "  <thead>\n",
       "    <tr style=\"text-align: right;\">\n",
       "      <th></th>\n",
       "      <th>week</th>\n",
       "      <th>position</th>\n",
       "      <th>song</th>\n",
       "      <th>artist</th>\n",
       "    </tr>\n",
       "  </thead>\n",
       "  <tbody>\n",
       "    <tr>\n",
       "      <th>0</th>\n",
       "      <td>7/7/1997</td>\n",
       "      <td>1</td>\n",
       "      <td>Mmm Bop</td>\n",
       "      <td>Hanson</td>\n",
       "    </tr>\n",
       "    <tr>\n",
       "      <th>1</th>\n",
       "      <td>7/7/1997</td>\n",
       "      <td>2</td>\n",
       "      <td>Bitch</td>\n",
       "      <td>Meredith Brooks</td>\n",
       "    </tr>\n",
       "    <tr>\n",
       "      <th>2</th>\n",
       "      <td>7/7/1997</td>\n",
       "      <td>3</td>\n",
       "      <td>Say You'll Be There</td>\n",
       "      <td>Spice Girls</td>\n",
       "    </tr>\n",
       "    <tr>\n",
       "      <th>3</th>\n",
       "      <td>7/7/1997</td>\n",
       "      <td>4</td>\n",
       "      <td>Return Of The Mack</td>\n",
       "      <td>Mark Morrison</td>\n",
       "    </tr>\n",
       "    <tr>\n",
       "      <th>4</th>\n",
       "      <td>7/7/1997</td>\n",
       "      <td>5</td>\n",
       "      <td>Sunny Came Home</td>\n",
       "      <td>Shawn Colvin</td>\n",
       "    </tr>\n",
       "    <tr>\n",
       "      <th>...</th>\n",
       "      <td>...</td>\n",
       "      <td>...</td>\n",
       "      <td>...</td>\n",
       "      <td>...</td>\n",
       "    </tr>\n",
       "    <tr>\n",
       "      <th>52763</th>\n",
       "      <td>10/15/2022</td>\n",
       "      <td>36</td>\n",
       "      <td>Alone</td>\n",
       "      <td>Rod Wave</td>\n",
       "    </tr>\n",
       "    <tr>\n",
       "      <th>52764</th>\n",
       "      <td>10/15/2022</td>\n",
       "      <td>37</td>\n",
       "      <td>Big Time</td>\n",
       "      <td>DJ Khaled, Future</td>\n",
       "    </tr>\n",
       "    <tr>\n",
       "      <th>52765</th>\n",
       "      <td>10/15/2022</td>\n",
       "      <td>38</td>\n",
       "      <td>Under The Influence</td>\n",
       "      <td>Chris Brown</td>\n",
       "    </tr>\n",
       "    <tr>\n",
       "      <th>52766</th>\n",
       "      <td>10/15/2022</td>\n",
       "      <td>39</td>\n",
       "      <td>Romantic Homicide</td>\n",
       "      <td>d4vd</td>\n",
       "    </tr>\n",
       "    <tr>\n",
       "      <th>52767</th>\n",
       "      <td>10/15/2022</td>\n",
       "      <td>40</td>\n",
       "      <td>What My World Spins Around</td>\n",
       "      <td>Jordan Davis</td>\n",
       "    </tr>\n",
       "  </tbody>\n",
       "</table>\n",
       "<p>52432 rows × 4 columns</p>\n",
       "</div>"
      ],
      "text/plain": [
       "             week  position                        song             artist\n",
       "0        7/7/1997         1                     Mmm Bop             Hanson\n",
       "1        7/7/1997         2                       Bitch    Meredith Brooks\n",
       "2        7/7/1997         3         Say You'll Be There        Spice Girls\n",
       "3        7/7/1997         4          Return Of The Mack      Mark Morrison\n",
       "4        7/7/1997         5             Sunny Came Home       Shawn Colvin\n",
       "...           ...       ...                         ...                ...\n",
       "52763  10/15/2022        36                       Alone           Rod Wave\n",
       "52764  10/15/2022        37                    Big Time  DJ Khaled, Future\n",
       "52765  10/15/2022        38         Under The Influence        Chris Brown\n",
       "52766  10/15/2022        39           Romantic Homicide               d4vd\n",
       "52767  10/15/2022        40  What My World Spins Around       Jordan Davis\n",
       "\n",
       "[52432 rows x 4 columns]"
      ]
     },
     "execution_count": 36,
     "metadata": {},
     "output_type": "execute_result"
    }
   ],
   "source": [
    "top_40_df_2"
   ]
  },
  {
   "cell_type": "code",
   "execution_count": 38,
   "id": "48e3ce92",
   "metadata": {},
   "outputs": [],
   "source": [
    "top_40_df_2.to_csv('top_40_cleaned_data_analysis.csv')"
   ]
  },
  {
   "cell_type": "code",
   "execution_count": null,
   "id": "7145218d",
   "metadata": {},
   "outputs": [],
   "source": []
  }
 ],
 "metadata": {
  "kernelspec": {
   "display_name": "Python 3 (ipykernel)",
   "language": "python",
   "name": "python3"
  },
  "language_info": {
   "codemirror_mode": {
    "name": "ipython",
    "version": 3
   },
   "file_extension": ".py",
   "mimetype": "text/x-python",
   "name": "python",
   "nbconvert_exporter": "python",
   "pygments_lexer": "ipython3",
   "version": "3.9.12"
  }
 },
 "nbformat": 4,
 "nbformat_minor": 5
}
