{
 "cells": [
  {
   "cell_type": "markdown",
   "id": "bc0ce465",
   "metadata": {},
   "source": [
    "# S3 Bucket: List / Read / Write Functions\n",
    "\n",
    "\n",
    "## First Section: is how to List files currently on the S3\n",
    "\n",
    "\n",
    "## Second Section: is to call a CSV from S3 and convert it to a DF to have something to test with.  \n",
    "\n",
    "\n",
    "## Third Section: Shows two different methods for Write functions to the S3 bucket\n",
    "\n",
    "\n",
    "##  All of the below relies on haveing AWS CLI keys in place and working. Without out the AWS CLI AWS will reject the call."
   ]
  },
  {
   "cell_type": "code",
   "execution_count": 47,
   "id": "401a9426",
   "metadata": {},
   "outputs": [],
   "source": [
    "# Libraries required for List / Read / Write.\n",
    "import boto3\n",
    "import pandas as pd\n",
    "from io import StringIO #This library will only be used for the write.  It is not necessary to Read."
   ]
  },
  {
   "cell_type": "markdown",
   "id": "d7495e7f",
   "metadata": {},
   "source": [
    "## !This line needs to be called for all functions. List / Read / Write!"
   ]
  },
  {
   "cell_type": "code",
   "execution_count": null,
   "id": "32535baa",
   "metadata": {},
   "outputs": [],
   "source": [
    "client = boto3.client('s3')"
   ]
  },
  {
   "cell_type": "markdown",
   "id": "e4f2ab29",
   "metadata": {},
   "source": [
    "# List Function\n",
    "### The below function allows you to call all files in the S3 without direct access."
   ]
  },
  {
   "cell_type": "code",
   "execution_count": 79,
   "id": "6fa8cbb6",
   "metadata": {},
   "outputs": [
    {
     "name": "stdout",
     "output_type": "stream",
     "text": [
      "File_Name: stuff_df.csv, Size: 129, Date_M: 2022-10-20 02:46:55+00:00\n",
      "File_Name: test_data.csv, Size: 119, Date_M: 2022-10-16 21:26:16+00:00\n",
      "File_Name: test_upload.csv, Size: 129, Date_M: 2022-10-20 02:49:26+00:00\n",
      "File_Name: top50.csv, Size: 3873, Date_M: 2022-10-16 22:51:49+00:00\n"
     ]
    }
   ],
   "source": [
    "# List Function from the S3\n",
    "\n",
    "bucket_name = 'ucsd.final.project.music'\n",
    "response = client.list_objects_v2(Bucket=bucket_name)\n",
    "files = response.get(\"Contents\")\n",
    "for file in files:\n",
    "    print(f\"File_Name: {file['Key']}, Size: {file['Size']}, Date_M: {file['LastModified']}\")"
   ]
  },
  {
   "cell_type": "markdown",
   "id": "bb45a4c8",
   "metadata": {},
   "source": [
    "## Read Function"
   ]
  },
  {
   "cell_type": "code",
   "execution_count": 50,
   "id": "a0373a2c",
   "metadata": {},
   "outputs": [
    {
     "name": "stdout",
     "output_type": "stream",
     "text": [
      "What file do you want to pull into a dataframe? Don't forget the extension: top50.csv\n"
     ]
    },
    {
     "data": {
      "text/plain": [
       "'top50.csv'"
      ]
     },
     "execution_count": 50,
     "metadata": {},
     "output_type": "execute_result"
    }
   ],
   "source": [
    "file_name = input(\"What file do you want to pull into a dataframe? Don't forget the extension: \")\n",
    "file_name"
   ]
  },
  {
   "cell_type": "code",
   "execution_count": 51,
   "id": "cbeb0ee4",
   "metadata": {},
   "outputs": [
    {
     "data": {
      "text/plain": [
       "'s3://ucsd.final.project.music/top50.csv'"
      ]
     },
     "execution_count": 51,
     "metadata": {},
     "output_type": "execute_result"
    }
   ],
   "source": [
    "path = 's3://ucsd.final.project.music/' +str(file_name)\n",
    "path"
   ]
  },
  {
   "cell_type": "code",
   "execution_count": 52,
   "id": "30c80f7a",
   "metadata": {},
   "outputs": [],
   "source": [
    "df = pd.read_csv(path)"
   ]
  },
  {
   "cell_type": "code",
   "execution_count": 53,
   "id": "a681cd08",
   "metadata": {},
   "outputs": [
    {
     "data": {
      "text/html": [
       "<div>\n",
       "<style scoped>\n",
       "    .dataframe tbody tr th:only-of-type {\n",
       "        vertical-align: middle;\n",
       "    }\n",
       "\n",
       "    .dataframe tbody tr th {\n",
       "        vertical-align: top;\n",
       "    }\n",
       "\n",
       "    .dataframe thead th {\n",
       "        text-align: right;\n",
       "    }\n",
       "</style>\n",
       "<table border=\"1\" class=\"dataframe\">\n",
       "  <thead>\n",
       "    <tr style=\"text-align: right;\">\n",
       "      <th></th>\n",
       "      <th>Unnamed: 0</th>\n",
       "      <th>Track.Name</th>\n",
       "      <th>Artist.Name</th>\n",
       "      <th>Genre</th>\n",
       "      <th>Beats.Per.Minute</th>\n",
       "      <th>Energy</th>\n",
       "      <th>Danceability</th>\n",
       "      <th>Loudness..dB..</th>\n",
       "      <th>Liveness</th>\n",
       "      <th>Valence.</th>\n",
       "      <th>Length.</th>\n",
       "      <th>Acousticness..</th>\n",
       "      <th>Speechiness.</th>\n",
       "      <th>Popularity</th>\n",
       "    </tr>\n",
       "  </thead>\n",
       "  <tbody>\n",
       "    <tr>\n",
       "      <th>0</th>\n",
       "      <td>1</td>\n",
       "      <td>Señorita</td>\n",
       "      <td>Shawn Mendes</td>\n",
       "      <td>canadian pop</td>\n",
       "      <td>117</td>\n",
       "      <td>55</td>\n",
       "      <td>76</td>\n",
       "      <td>-6</td>\n",
       "      <td>8</td>\n",
       "      <td>75</td>\n",
       "      <td>191</td>\n",
       "      <td>4</td>\n",
       "      <td>3</td>\n",
       "      <td>79</td>\n",
       "    </tr>\n",
       "    <tr>\n",
       "      <th>1</th>\n",
       "      <td>2</td>\n",
       "      <td>China</td>\n",
       "      <td>Anuel AA</td>\n",
       "      <td>reggaeton flow</td>\n",
       "      <td>105</td>\n",
       "      <td>81</td>\n",
       "      <td>79</td>\n",
       "      <td>-4</td>\n",
       "      <td>8</td>\n",
       "      <td>61</td>\n",
       "      <td>302</td>\n",
       "      <td>8</td>\n",
       "      <td>9</td>\n",
       "      <td>92</td>\n",
       "    </tr>\n",
       "    <tr>\n",
       "      <th>2</th>\n",
       "      <td>3</td>\n",
       "      <td>boyfriend (with Social House)</td>\n",
       "      <td>Ariana Grande</td>\n",
       "      <td>dance pop</td>\n",
       "      <td>190</td>\n",
       "      <td>80</td>\n",
       "      <td>40</td>\n",
       "      <td>-4</td>\n",
       "      <td>16</td>\n",
       "      <td>70</td>\n",
       "      <td>186</td>\n",
       "      <td>12</td>\n",
       "      <td>46</td>\n",
       "      <td>85</td>\n",
       "    </tr>\n",
       "    <tr>\n",
       "      <th>3</th>\n",
       "      <td>4</td>\n",
       "      <td>Beautiful People (feat. Khalid)</td>\n",
       "      <td>Ed Sheeran</td>\n",
       "      <td>pop</td>\n",
       "      <td>93</td>\n",
       "      <td>65</td>\n",
       "      <td>64</td>\n",
       "      <td>-8</td>\n",
       "      <td>8</td>\n",
       "      <td>55</td>\n",
       "      <td>198</td>\n",
       "      <td>12</td>\n",
       "      <td>19</td>\n",
       "      <td>86</td>\n",
       "    </tr>\n",
       "    <tr>\n",
       "      <th>4</th>\n",
       "      <td>5</td>\n",
       "      <td>Goodbyes (Feat. Young Thug)</td>\n",
       "      <td>Post Malone</td>\n",
       "      <td>dfw rap</td>\n",
       "      <td>150</td>\n",
       "      <td>65</td>\n",
       "      <td>58</td>\n",
       "      <td>-4</td>\n",
       "      <td>11</td>\n",
       "      <td>18</td>\n",
       "      <td>175</td>\n",
       "      <td>45</td>\n",
       "      <td>7</td>\n",
       "      <td>94</td>\n",
       "    </tr>\n",
       "  </tbody>\n",
       "</table>\n",
       "</div>"
      ],
      "text/plain": [
       "   Unnamed: 0                       Track.Name    Artist.Name           Genre  \\\n",
       "0           1                         Señorita   Shawn Mendes    canadian pop   \n",
       "1           2                            China       Anuel AA  reggaeton flow   \n",
       "2           3    boyfriend (with Social House)  Ariana Grande       dance pop   \n",
       "3           4  Beautiful People (feat. Khalid)     Ed Sheeran             pop   \n",
       "4           5      Goodbyes (Feat. Young Thug)    Post Malone         dfw rap   \n",
       "\n",
       "   Beats.Per.Minute  Energy  Danceability  Loudness..dB..  Liveness  Valence.  \\\n",
       "0               117      55            76              -6         8        75   \n",
       "1               105      81            79              -4         8        61   \n",
       "2               190      80            40              -4        16        70   \n",
       "3                93      65            64              -8         8        55   \n",
       "4               150      65            58              -4        11        18   \n",
       "\n",
       "   Length.  Acousticness..  Speechiness.  Popularity  \n",
       "0      191               4             3          79  \n",
       "1      302               8             9          92  \n",
       "2      186              12            46          85  \n",
       "3      198              12            19          86  \n",
       "4      175              45             7          94  "
      ]
     },
     "execution_count": 53,
     "metadata": {},
     "output_type": "execute_result"
    }
   ],
   "source": [
    "df.head()"
   ]
  },
  {
   "cell_type": "markdown",
   "id": "73c0123b",
   "metadata": {},
   "source": [
    "## This ends the Read Segment of Code."
   ]
  },
  {
   "cell_type": "markdown",
   "id": "bfd38bcb",
   "metadata": {},
   "source": [
    "##  This begins the Write Segment of Code.  There are two methods below.\n",
    "##  This is Method I."
   ]
  },
  {
   "cell_type": "code",
   "execution_count": 54,
   "id": "703ea945",
   "metadata": {},
   "outputs": [
    {
     "data": {
      "text/html": [
       "<div>\n",
       "<style scoped>\n",
       "    .dataframe tbody tr th:only-of-type {\n",
       "        vertical-align: middle;\n",
       "    }\n",
       "\n",
       "    .dataframe tbody tr th {\n",
       "        vertical-align: top;\n",
       "    }\n",
       "\n",
       "    .dataframe thead th {\n",
       "        text-align: right;\n",
       "    }\n",
       "</style>\n",
       "<table border=\"1\" class=\"dataframe\">\n",
       "  <thead>\n",
       "    <tr style=\"text-align: right;\">\n",
       "      <th></th>\n",
       "      <th>Unnamed: 0</th>\n",
       "      <th>Track.Name</th>\n",
       "      <th>Artist.Name</th>\n",
       "      <th>Genre</th>\n",
       "      <th>Beats.Per.Minute</th>\n",
       "      <th>Energy</th>\n",
       "      <th>Danceability</th>\n",
       "      <th>Loudness..dB..</th>\n",
       "      <th>Liveness</th>\n",
       "      <th>Valence.</th>\n",
       "      <th>Length.</th>\n",
       "      <th>Acousticness..</th>\n",
       "      <th>Speechiness.</th>\n",
       "      <th>Popularity</th>\n",
       "    </tr>\n",
       "  </thead>\n",
       "  <tbody>\n",
       "    <tr>\n",
       "      <th>0</th>\n",
       "      <td>1</td>\n",
       "      <td>Señorita</td>\n",
       "      <td>Shawn Mendes</td>\n",
       "      <td>canadian pop</td>\n",
       "      <td>117</td>\n",
       "      <td>55</td>\n",
       "      <td>76</td>\n",
       "      <td>-6</td>\n",
       "      <td>8</td>\n",
       "      <td>75</td>\n",
       "      <td>191</td>\n",
       "      <td>4</td>\n",
       "      <td>3</td>\n",
       "      <td>79</td>\n",
       "    </tr>\n",
       "    <tr>\n",
       "      <th>1</th>\n",
       "      <td>2</td>\n",
       "      <td>China</td>\n",
       "      <td>Anuel AA</td>\n",
       "      <td>reggaeton flow</td>\n",
       "      <td>105</td>\n",
       "      <td>81</td>\n",
       "      <td>79</td>\n",
       "      <td>-4</td>\n",
       "      <td>8</td>\n",
       "      <td>61</td>\n",
       "      <td>302</td>\n",
       "      <td>8</td>\n",
       "      <td>9</td>\n",
       "      <td>92</td>\n",
       "    </tr>\n",
       "    <tr>\n",
       "      <th>2</th>\n",
       "      <td>3</td>\n",
       "      <td>boyfriend (with Social House)</td>\n",
       "      <td>Ariana Grande</td>\n",
       "      <td>dance pop</td>\n",
       "      <td>190</td>\n",
       "      <td>80</td>\n",
       "      <td>40</td>\n",
       "      <td>-4</td>\n",
       "      <td>16</td>\n",
       "      <td>70</td>\n",
       "      <td>186</td>\n",
       "      <td>12</td>\n",
       "      <td>46</td>\n",
       "      <td>85</td>\n",
       "    </tr>\n",
       "    <tr>\n",
       "      <th>3</th>\n",
       "      <td>4</td>\n",
       "      <td>Beautiful People (feat. Khalid)</td>\n",
       "      <td>Ed Sheeran</td>\n",
       "      <td>pop</td>\n",
       "      <td>93</td>\n",
       "      <td>65</td>\n",
       "      <td>64</td>\n",
       "      <td>-8</td>\n",
       "      <td>8</td>\n",
       "      <td>55</td>\n",
       "      <td>198</td>\n",
       "      <td>12</td>\n",
       "      <td>19</td>\n",
       "      <td>86</td>\n",
       "    </tr>\n",
       "    <tr>\n",
       "      <th>4</th>\n",
       "      <td>5</td>\n",
       "      <td>Goodbyes (Feat. Young Thug)</td>\n",
       "      <td>Post Malone</td>\n",
       "      <td>dfw rap</td>\n",
       "      <td>150</td>\n",
       "      <td>65</td>\n",
       "      <td>58</td>\n",
       "      <td>-4</td>\n",
       "      <td>11</td>\n",
       "      <td>18</td>\n",
       "      <td>175</td>\n",
       "      <td>45</td>\n",
       "      <td>7</td>\n",
       "      <td>94</td>\n",
       "    </tr>\n",
       "  </tbody>\n",
       "</table>\n",
       "</div>"
      ],
      "text/plain": [
       "   Unnamed: 0                       Track.Name    Artist.Name           Genre  \\\n",
       "0           1                         Señorita   Shawn Mendes    canadian pop   \n",
       "1           2                            China       Anuel AA  reggaeton flow   \n",
       "2           3    boyfriend (with Social House)  Ariana Grande       dance pop   \n",
       "3           4  Beautiful People (feat. Khalid)     Ed Sheeran             pop   \n",
       "4           5      Goodbyes (Feat. Young Thug)    Post Malone         dfw rap   \n",
       "\n",
       "   Beats.Per.Minute  Energy  Danceability  Loudness..dB..  Liveness  Valence.  \\\n",
       "0               117      55            76              -6         8        75   \n",
       "1               105      81            79              -4         8        61   \n",
       "2               190      80            40              -4        16        70   \n",
       "3                93      65            64              -8         8        55   \n",
       "4               150      65            58              -4        11        18   \n",
       "\n",
       "   Length.  Acousticness..  Speechiness.  Popularity  \n",
       "0      191               4             3          79  \n",
       "1      302               8             9          92  \n",
       "2      186              12            46          85  \n",
       "3      198              12            19          86  \n",
       "4      175              45             7          94  "
      ]
     },
     "execution_count": 54,
     "metadata": {},
     "output_type": "execute_result"
    }
   ],
   "source": [
    "# Converting to different name to prove it uploads into S3.\n",
    "aws_ul_test1_df = df\n",
    "aws_ul_test1_df.head()"
   ]
  },
  {
   "cell_type": "code",
   "execution_count": 55,
   "id": "3c38bac6",
   "metadata": {},
   "outputs": [
    {
     "name": "stdout",
     "output_type": "stream",
     "text": [
      "What do you want to name this file in the S3 Bucket?  Do not forget the file extension: top50_test_method1.csv\n"
     ]
    }
   ],
   "source": [
    "to_s3_upload_name = input('What do you want to name this file in the S3 Bucket?  Do not forget the file extension: ')"
   ]
  },
  {
   "cell_type": "code",
   "execution_count": 56,
   "id": "a1883e0b",
   "metadata": {},
   "outputs": [
    {
     "data": {
      "text/plain": [
       "'top50_test_method1.csv'"
      ]
     },
     "execution_count": 56,
     "metadata": {},
     "output_type": "execute_result"
    }
   ],
   "source": [
    "to_s3_upload_name"
   ]
  },
  {
   "cell_type": "code",
   "execution_count": 57,
   "id": "b1e49555",
   "metadata": {},
   "outputs": [
    {
     "data": {
      "text/plain": [
       "{'ResponseMetadata': {'RequestId': 'S3D5BASVJD9TCG74',\n",
       "  'HostId': 'J7T4cQHGL4iw/lzB+bD8uvZZyiyOwO7VSVDRHH2wJI3Ub36x3aS/fYhwDp4WDKqw6bFLw31Cc2U=',\n",
       "  'HTTPStatusCode': 200,\n",
       "  'HTTPHeaders': {'x-amz-id-2': 'J7T4cQHGL4iw/lzB+bD8uvZZyiyOwO7VSVDRHH2wJI3Ub36x3aS/fYhwDp4WDKqw6bFLw31Cc2U=',\n",
       "   'x-amz-request-id': 'S3D5BASVJD9TCG74',\n",
       "   'date': 'Thu, 20 Oct 2022 18:14:48 GMT',\n",
       "   'etag': '\"46e0f80d314f6721dd75a32b1e0f28df\"',\n",
       "   'server': 'AmazonS3',\n",
       "   'content-length': '0'},\n",
       "  'RetryAttempts': 0},\n",
       " 'ETag': '\"46e0f80d314f6721dd75a32b1e0f28df\"'}"
      ]
     },
     "execution_count": 57,
     "metadata": {},
     "output_type": "execute_result"
    }
   ],
   "source": [
    "# If HTTPStatusCode = 200 and the RetryAttempts = 0 this is a good indicator of success.\n",
    "filename = to_s3_upload_name\n",
    "bucketName = 'ucsd.final.project.music'\n",
    "\n",
    "csv_buffer = StringIO()\n",
    "aws_ul_test1_df.to_csv(csv_buffer)\n",
    "\n",
    "response = client.put_object(\n",
    "    ACL='private',\n",
    "    Body=csv_buffer.getvalue(),\n",
    "    Bucket=bucketName,\n",
    "    Key=filename)\n",
    "\n",
    "response"
   ]
  },
  {
   "cell_type": "markdown",
   "id": "92ec92ec",
   "metadata": {},
   "source": [
    "##  This ends Method I."
   ]
  },
  {
   "cell_type": "markdown",
   "id": "a0b7ef4b",
   "metadata": {},
   "source": [
    "## This begins Method II."
   ]
  },
  {
   "cell_type": "code",
   "execution_count": 58,
   "id": "3b1d9746",
   "metadata": {},
   "outputs": [
    {
     "name": "stdout",
     "output_type": "stream",
     "text": [
      "What do you want to name this file in the S3 Bucket?  Do not forget the file extension: top50_test_method2.csv\n"
     ]
    },
    {
     "data": {
      "text/plain": [
       "'top50_test_method2.csv'"
      ]
     },
     "execution_count": 58,
     "metadata": {},
     "output_type": "execute_result"
    }
   ],
   "source": [
    "to_s3_upload_name2 = input('What do you want to name this file in the S3 Bucket?  Do not forget the file extension: ')\n",
    "to_s3_upload_name2"
   ]
  },
  {
   "cell_type": "code",
   "execution_count": 59,
   "id": "b63de8ac",
   "metadata": {},
   "outputs": [
    {
     "data": {
      "text/plain": [
       "{'ResponseMetadata': {'RequestId': 'DB9KGZBHJNB693EV',\n",
       "  'HostId': 'Svjbw16h/3uBHTidCEhGxo87+H+3gd2U4UpaX66ChgbExVEdRxDTTMLSFsVgpQ7T0gwEo+NHTzI=',\n",
       "  'HTTPStatusCode': 200,\n",
       "  'HTTPHeaders': {'x-amz-id-2': 'Svjbw16h/3uBHTidCEhGxo87+H+3gd2U4UpaX66ChgbExVEdRxDTTMLSFsVgpQ7T0gwEo+NHTzI=',\n",
       "   'x-amz-request-id': 'DB9KGZBHJNB693EV',\n",
       "   'date': 'Thu, 20 Oct 2022 18:15:08 GMT',\n",
       "   'etag': '\"d5347638b86b0ae87eb9e312df865f6d\"',\n",
       "   'server': 'AmazonS3',\n",
       "   'content-length': '0'},\n",
       "  'RetryAttempts': 0},\n",
       " 'ETag': '\"d5347638b86b0ae87eb9e312df865f6d\"'}"
      ]
     },
     "execution_count": 59,
     "metadata": {},
     "output_type": "execute_result"
    }
   ],
   "source": [
    "# If HTTPStatusCode = 200 and the RetryAttempts = 0 this is a good indicator of success.\n",
    "bucket = 'ucsd.final.project.music' # Already created on S3 so this is hardcoded.\n",
    "csv_buffer = StringIO()\n",
    "stuff_df.to_csv(csv_buffer)\n",
    "s3_resource = boto3.resource('s3')\n",
    "s3_resource.Object(bucket, to_s3_upload_name2).put(Body=csv_buffer.getvalue())"
   ]
  },
  {
   "cell_type": "markdown",
   "id": "d1eeff32",
   "metadata": {},
   "source": [
    "## This Ends Method II"
   ]
  },
  {
   "cell_type": "code",
   "execution_count": null,
   "id": "14075c2c",
   "metadata": {},
   "outputs": [],
   "source": []
  }
 ],
 "metadata": {
  "kernelspec": {
   "display_name": "Python 3 (ipykernel)",
   "language": "python",
   "name": "python3"
  },
  "language_info": {
   "codemirror_mode": {
    "name": "ipython",
    "version": 3
   },
   "file_extension": ".py",
   "mimetype": "text/x-python",
   "name": "python",
   "nbconvert_exporter": "python",
   "pygments_lexer": "ipython3",
   "version": "3.9.7"
  }
 },
 "nbformat": 4,
 "nbformat_minor": 5
}
