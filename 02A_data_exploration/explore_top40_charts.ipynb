{
 "cells": [
  {
   "cell_type": "code",
   "execution_count": 186,
   "id": "3358e03a",
   "metadata": {},
   "outputs": [],
   "source": [
    "import pandas as pd\n",
    "import numpy as np\n",
    "import datetime as dt\n",
    "import plotly.express as px\n",
    "import timeit\n",
    "from IPython.display import clear_output"
   ]
  },
  {
   "cell_type": "code",
   "execution_count": 168,
   "id": "c7ca4242",
   "metadata": {},
   "outputs": [
    {
     "name": "stdout",
     "output_type": "stream",
     "text": [
      "31275\n"
     ]
    },
    {
     "data": {
      "text/html": [
       "<div>\n",
       "<style scoped>\n",
       "    .dataframe tbody tr th:only-of-type {\n",
       "        vertical-align: middle;\n",
       "    }\n",
       "\n",
       "    .dataframe tbody tr th {\n",
       "        vertical-align: top;\n",
       "    }\n",
       "\n",
       "    .dataframe thead th {\n",
       "        text-align: right;\n",
       "    }\n",
       "</style>\n",
       "<table border=\"1\" class=\"dataframe\">\n",
       "  <thead>\n",
       "    <tr style=\"text-align: right;\">\n",
       "      <th></th>\n",
       "      <th>chart_order</th>\n",
       "      <th>week</th>\n",
       "      <th>position</th>\n",
       "      <th>song</th>\n",
       "      <th>artist</th>\n",
       "      <th>combo_str</th>\n",
       "      <th>combo</th>\n",
       "      <th>artist_id</th>\n",
       "      <th>song_id</th>\n",
       "      <th>acousticness</th>\n",
       "      <th>...</th>\n",
       "      <th>virginia_hip_hop</th>\n",
       "      <th>vocal_house</th>\n",
       "      <th>vocal_jazz</th>\n",
       "      <th>washington_indie</th>\n",
       "      <th>west_coast_rap</th>\n",
       "      <th>world</th>\n",
       "      <th>worship</th>\n",
       "      <th>yacht_rock</th>\n",
       "      <th>yakut_pop</th>\n",
       "      <th>yodeling</th>\n",
       "    </tr>\n",
       "  </thead>\n",
       "  <tbody>\n",
       "    <tr>\n",
       "      <th>0</th>\n",
       "      <td>0</td>\n",
       "      <td>1997-07-07</td>\n",
       "      <td>1</td>\n",
       "      <td>Mmm Bop</td>\n",
       "      <td>Hanson</td>\n",
       "      <td>HansonMmm Bop</td>\n",
       "      <td>0SdiiPkr02EUdekHZJkt580lnxrQAd9ZxbhBBe7d8FO8</td>\n",
       "      <td>0SdiiPkr02EUdekHZJkt58</td>\n",
       "      <td>0lnxrQAd9ZxbhBBe7d8FO8</td>\n",
       "      <td>0.00481</td>\n",
       "      <td>...</td>\n",
       "      <td>0.0</td>\n",
       "      <td>0.0</td>\n",
       "      <td>0.0</td>\n",
       "      <td>0.0</td>\n",
       "      <td>0.0</td>\n",
       "      <td>0.0</td>\n",
       "      <td>0.0</td>\n",
       "      <td>0.0</td>\n",
       "      <td>0.0</td>\n",
       "      <td>0.0</td>\n",
       "    </tr>\n",
       "    <tr>\n",
       "      <th>1</th>\n",
       "      <td>1</td>\n",
       "      <td>1997-07-07</td>\n",
       "      <td>2</td>\n",
       "      <td>Bitch</td>\n",
       "      <td>Meredith Brooks</td>\n",
       "      <td>Meredith BrooksBitch</td>\n",
       "      <td>2QmLFuIDtNDmmJY3OtvinN3i6qNxyVgIdUZTTi5m25EM</td>\n",
       "      <td>2QmLFuIDtNDmmJY3OtvinN</td>\n",
       "      <td>3i6qNxyVgIdUZTTi5m25EM</td>\n",
       "      <td>0.01120</td>\n",
       "      <td>...</td>\n",
       "      <td>0.0</td>\n",
       "      <td>0.0</td>\n",
       "      <td>0.0</td>\n",
       "      <td>0.0</td>\n",
       "      <td>0.0</td>\n",
       "      <td>0.0</td>\n",
       "      <td>0.0</td>\n",
       "      <td>0.0</td>\n",
       "      <td>0.0</td>\n",
       "      <td>0.0</td>\n",
       "    </tr>\n",
       "    <tr>\n",
       "      <th>2</th>\n",
       "      <td>2</td>\n",
       "      <td>1997-07-07</td>\n",
       "      <td>3</td>\n",
       "      <td>Say You'll Be There</td>\n",
       "      <td>Spice Girls</td>\n",
       "      <td>Spice GirlsSay You'll Be There</td>\n",
       "      <td>0uq5PttqEjj3IH1bzwcrXF1yTQ39my3MoNROlFw3RDNy</td>\n",
       "      <td>0uq5PttqEjj3IH1bzwcrXF</td>\n",
       "      <td>1yTQ39my3MoNROlFw3RDNy</td>\n",
       "      <td>0.01490</td>\n",
       "      <td>...</td>\n",
       "      <td>0.0</td>\n",
       "      <td>0.0</td>\n",
       "      <td>0.0</td>\n",
       "      <td>0.0</td>\n",
       "      <td>0.0</td>\n",
       "      <td>0.0</td>\n",
       "      <td>0.0</td>\n",
       "      <td>0.0</td>\n",
       "      <td>0.0</td>\n",
       "      <td>0.0</td>\n",
       "    </tr>\n",
       "    <tr>\n",
       "      <th>3</th>\n",
       "      <td>3</td>\n",
       "      <td>1997-07-07</td>\n",
       "      <td>4</td>\n",
       "      <td>Return Of The Mack</td>\n",
       "      <td>Mark Morrison</td>\n",
       "      <td>Mark MorrisonReturn Of The Mack</td>\n",
       "      <td>6V3F8MZrOKdT9fU686ybE93jDdpx9PMlfMBS5tOBHFm9</td>\n",
       "      <td>6V3F8MZrOKdT9fU686ybE9</td>\n",
       "      <td>3jDdpx9PMlfMBS5tOBHFm9</td>\n",
       "      <td>0.00631</td>\n",
       "      <td>...</td>\n",
       "      <td>0.0</td>\n",
       "      <td>0.0</td>\n",
       "      <td>0.0</td>\n",
       "      <td>0.0</td>\n",
       "      <td>0.0</td>\n",
       "      <td>0.0</td>\n",
       "      <td>0.0</td>\n",
       "      <td>0.0</td>\n",
       "      <td>0.0</td>\n",
       "      <td>0.0</td>\n",
       "    </tr>\n",
       "    <tr>\n",
       "      <th>4</th>\n",
       "      <td>4</td>\n",
       "      <td>1997-07-07</td>\n",
       "      <td>5</td>\n",
       "      <td>Sunny Came Home</td>\n",
       "      <td>Shawn Colvin</td>\n",
       "      <td>Shawn ColvinSunny Came Home</td>\n",
       "      <td>0K7VN4aHxHcEb7PqkfoIVA4mOxpj82q6n3EO7HBZCelX</td>\n",
       "      <td>0K7VN4aHxHcEb7PqkfoIVA</td>\n",
       "      <td>4mOxpj82q6n3EO7HBZCelX</td>\n",
       "      <td>0.34200</td>\n",
       "      <td>...</td>\n",
       "      <td>0.0</td>\n",
       "      <td>0.0</td>\n",
       "      <td>0.0</td>\n",
       "      <td>0.0</td>\n",
       "      <td>0.0</td>\n",
       "      <td>0.0</td>\n",
       "      <td>0.0</td>\n",
       "      <td>0.0</td>\n",
       "      <td>0.0</td>\n",
       "      <td>0.0</td>\n",
       "    </tr>\n",
       "  </tbody>\n",
       "</table>\n",
       "<p>5 rows × 459 columns</p>\n",
       "</div>"
      ],
      "text/plain": [
       "   chart_order        week  position                 song           artist  \\\n",
       "0            0  1997-07-07         1              Mmm Bop           Hanson   \n",
       "1            1  1997-07-07         2                Bitch  Meredith Brooks   \n",
       "2            2  1997-07-07         3  Say You'll Be There      Spice Girls   \n",
       "3            3  1997-07-07         4   Return Of The Mack    Mark Morrison   \n",
       "4            4  1997-07-07         5      Sunny Came Home     Shawn Colvin   \n",
       "\n",
       "                         combo_str  \\\n",
       "0                    HansonMmm Bop   \n",
       "1             Meredith BrooksBitch   \n",
       "2   Spice GirlsSay You'll Be There   \n",
       "3  Mark MorrisonReturn Of The Mack   \n",
       "4      Shawn ColvinSunny Came Home   \n",
       "\n",
       "                                          combo               artist_id  \\\n",
       "0  0SdiiPkr02EUdekHZJkt580lnxrQAd9ZxbhBBe7d8FO8  0SdiiPkr02EUdekHZJkt58   \n",
       "1  2QmLFuIDtNDmmJY3OtvinN3i6qNxyVgIdUZTTi5m25EM  2QmLFuIDtNDmmJY3OtvinN   \n",
       "2  0uq5PttqEjj3IH1bzwcrXF1yTQ39my3MoNROlFw3RDNy  0uq5PttqEjj3IH1bzwcrXF   \n",
       "3  6V3F8MZrOKdT9fU686ybE93jDdpx9PMlfMBS5tOBHFm9  6V3F8MZrOKdT9fU686ybE9   \n",
       "4  0K7VN4aHxHcEb7PqkfoIVA4mOxpj82q6n3EO7HBZCelX  0K7VN4aHxHcEb7PqkfoIVA   \n",
       "\n",
       "                  song_id  acousticness  ...  virginia_hip_hop  vocal_house  \\\n",
       "0  0lnxrQAd9ZxbhBBe7d8FO8       0.00481  ...               0.0          0.0   \n",
       "1  3i6qNxyVgIdUZTTi5m25EM       0.01120  ...               0.0          0.0   \n",
       "2  1yTQ39my3MoNROlFw3RDNy       0.01490  ...               0.0          0.0   \n",
       "3  3jDdpx9PMlfMBS5tOBHFm9       0.00631  ...               0.0          0.0   \n",
       "4  4mOxpj82q6n3EO7HBZCelX       0.34200  ...               0.0          0.0   \n",
       "\n",
       "   vocal_jazz  washington_indie  west_coast_rap  world  worship  yacht_rock  \\\n",
       "0         0.0               0.0             0.0    0.0      0.0         0.0   \n",
       "1         0.0               0.0             0.0    0.0      0.0         0.0   \n",
       "2         0.0               0.0             0.0    0.0      0.0         0.0   \n",
       "3         0.0               0.0             0.0    0.0      0.0         0.0   \n",
       "4         0.0               0.0             0.0    0.0      0.0         0.0   \n",
       "\n",
       "   yakut_pop  yodeling  \n",
       "0        0.0       0.0  \n",
       "1        0.0       0.0  \n",
       "2        0.0       0.0  \n",
       "3        0.0       0.0  \n",
       "4        0.0       0.0  \n",
       "\n",
       "[5 rows x 459 columns]"
      ]
     },
     "execution_count": 168,
     "metadata": {},
     "output_type": "execute_result"
    }
   ],
   "source": [
    "top40 = pd.read_csv('../top40_charts_audio.csv')\n",
    "top40.dropna(inplace=True)\n",
    "print(len(top40))\n",
    "top40.head()"
   ]
  },
  {
   "cell_type": "code",
   "execution_count": 169,
   "id": "3382c4b9",
   "metadata": {},
   "outputs": [
    {
     "data": {
      "text/plain": [
       "chart_order      int64\n",
       "week            object\n",
       "position         int64\n",
       "song            object\n",
       "artist          object\n",
       "                ...   \n",
       "world          float64\n",
       "worship        float64\n",
       "yacht_rock     float64\n",
       "yakut_pop      float64\n",
       "yodeling       float64\n",
       "Length: 459, dtype: object"
      ]
     },
     "execution_count": 169,
     "metadata": {},
     "output_type": "execute_result"
    }
   ],
   "source": [
    "top40.dtypes"
   ]
  },
  {
   "cell_type": "code",
   "execution_count": 170,
   "id": "63b35294",
   "metadata": {},
   "outputs": [
    {
     "data": {
      "text/html": [
       "<div>\n",
       "<style scoped>\n",
       "    .dataframe tbody tr th:only-of-type {\n",
       "        vertical-align: middle;\n",
       "    }\n",
       "\n",
       "    .dataframe tbody tr th {\n",
       "        vertical-align: top;\n",
       "    }\n",
       "\n",
       "    .dataframe thead th {\n",
       "        text-align: right;\n",
       "    }\n",
       "</style>\n",
       "<table border=\"1\" class=\"dataframe\">\n",
       "  <thead>\n",
       "    <tr style=\"text-align: right;\">\n",
       "      <th></th>\n",
       "      <th>chart_order</th>\n",
       "      <th>week</th>\n",
       "      <th>position</th>\n",
       "      <th>song</th>\n",
       "      <th>artist</th>\n",
       "      <th>combo_str</th>\n",
       "      <th>combo</th>\n",
       "      <th>artist_id</th>\n",
       "      <th>song_id</th>\n",
       "      <th>acousticness</th>\n",
       "      <th>...</th>\n",
       "      <th>virginia_hip_hop</th>\n",
       "      <th>vocal_house</th>\n",
       "      <th>vocal_jazz</th>\n",
       "      <th>washington_indie</th>\n",
       "      <th>west_coast_rap</th>\n",
       "      <th>world</th>\n",
       "      <th>worship</th>\n",
       "      <th>yacht_rock</th>\n",
       "      <th>yakut_pop</th>\n",
       "      <th>yodeling</th>\n",
       "    </tr>\n",
       "  </thead>\n",
       "  <tbody>\n",
       "    <tr>\n",
       "      <th>0</th>\n",
       "      <td>0</td>\n",
       "      <td>1997-07-07</td>\n",
       "      <td>1</td>\n",
       "      <td>Mmm Bop</td>\n",
       "      <td>Hanson</td>\n",
       "      <td>HansonMmm Bop</td>\n",
       "      <td>0SdiiPkr02EUdekHZJkt580lnxrQAd9ZxbhBBe7d8FO8</td>\n",
       "      <td>0SdiiPkr02EUdekHZJkt58</td>\n",
       "      <td>0lnxrQAd9ZxbhBBe7d8FO8</td>\n",
       "      <td>0.00481</td>\n",
       "      <td>...</td>\n",
       "      <td>0.0</td>\n",
       "      <td>0.0</td>\n",
       "      <td>0.0</td>\n",
       "      <td>0.0</td>\n",
       "      <td>0.0</td>\n",
       "      <td>0.0</td>\n",
       "      <td>0.0</td>\n",
       "      <td>0.0</td>\n",
       "      <td>0.0</td>\n",
       "      <td>0.0</td>\n",
       "    </tr>\n",
       "    <tr>\n",
       "      <th>1</th>\n",
       "      <td>1</td>\n",
       "      <td>1997-07-07</td>\n",
       "      <td>2</td>\n",
       "      <td>Bitch</td>\n",
       "      <td>Meredith Brooks</td>\n",
       "      <td>Meredith BrooksBitch</td>\n",
       "      <td>2QmLFuIDtNDmmJY3OtvinN3i6qNxyVgIdUZTTi5m25EM</td>\n",
       "      <td>2QmLFuIDtNDmmJY3OtvinN</td>\n",
       "      <td>3i6qNxyVgIdUZTTi5m25EM</td>\n",
       "      <td>0.01120</td>\n",
       "      <td>...</td>\n",
       "      <td>0.0</td>\n",
       "      <td>0.0</td>\n",
       "      <td>0.0</td>\n",
       "      <td>0.0</td>\n",
       "      <td>0.0</td>\n",
       "      <td>0.0</td>\n",
       "      <td>0.0</td>\n",
       "      <td>0.0</td>\n",
       "      <td>0.0</td>\n",
       "      <td>0.0</td>\n",
       "    </tr>\n",
       "    <tr>\n",
       "      <th>2</th>\n",
       "      <td>2</td>\n",
       "      <td>1997-07-07</td>\n",
       "      <td>3</td>\n",
       "      <td>Say You'll Be There</td>\n",
       "      <td>Spice Girls</td>\n",
       "      <td>Spice GirlsSay You'll Be There</td>\n",
       "      <td>0uq5PttqEjj3IH1bzwcrXF1yTQ39my3MoNROlFw3RDNy</td>\n",
       "      <td>0uq5PttqEjj3IH1bzwcrXF</td>\n",
       "      <td>1yTQ39my3MoNROlFw3RDNy</td>\n",
       "      <td>0.01490</td>\n",
       "      <td>...</td>\n",
       "      <td>0.0</td>\n",
       "      <td>0.0</td>\n",
       "      <td>0.0</td>\n",
       "      <td>0.0</td>\n",
       "      <td>0.0</td>\n",
       "      <td>0.0</td>\n",
       "      <td>0.0</td>\n",
       "      <td>0.0</td>\n",
       "      <td>0.0</td>\n",
       "      <td>0.0</td>\n",
       "    </tr>\n",
       "    <tr>\n",
       "      <th>3</th>\n",
       "      <td>3</td>\n",
       "      <td>1997-07-07</td>\n",
       "      <td>4</td>\n",
       "      <td>Return Of The Mack</td>\n",
       "      <td>Mark Morrison</td>\n",
       "      <td>Mark MorrisonReturn Of The Mack</td>\n",
       "      <td>6V3F8MZrOKdT9fU686ybE93jDdpx9PMlfMBS5tOBHFm9</td>\n",
       "      <td>6V3F8MZrOKdT9fU686ybE9</td>\n",
       "      <td>3jDdpx9PMlfMBS5tOBHFm9</td>\n",
       "      <td>0.00631</td>\n",
       "      <td>...</td>\n",
       "      <td>0.0</td>\n",
       "      <td>0.0</td>\n",
       "      <td>0.0</td>\n",
       "      <td>0.0</td>\n",
       "      <td>0.0</td>\n",
       "      <td>0.0</td>\n",
       "      <td>0.0</td>\n",
       "      <td>0.0</td>\n",
       "      <td>0.0</td>\n",
       "      <td>0.0</td>\n",
       "    </tr>\n",
       "    <tr>\n",
       "      <th>4</th>\n",
       "      <td>4</td>\n",
       "      <td>1997-07-07</td>\n",
       "      <td>5</td>\n",
       "      <td>Sunny Came Home</td>\n",
       "      <td>Shawn Colvin</td>\n",
       "      <td>Shawn ColvinSunny Came Home</td>\n",
       "      <td>0K7VN4aHxHcEb7PqkfoIVA4mOxpj82q6n3EO7HBZCelX</td>\n",
       "      <td>0K7VN4aHxHcEb7PqkfoIVA</td>\n",
       "      <td>4mOxpj82q6n3EO7HBZCelX</td>\n",
       "      <td>0.34200</td>\n",
       "      <td>...</td>\n",
       "      <td>0.0</td>\n",
       "      <td>0.0</td>\n",
       "      <td>0.0</td>\n",
       "      <td>0.0</td>\n",
       "      <td>0.0</td>\n",
       "      <td>0.0</td>\n",
       "      <td>0.0</td>\n",
       "      <td>0.0</td>\n",
       "      <td>0.0</td>\n",
       "      <td>0.0</td>\n",
       "    </tr>\n",
       "  </tbody>\n",
       "</table>\n",
       "<p>5 rows × 459 columns</p>\n",
       "</div>"
      ],
      "text/plain": [
       "   chart_order       week  position                 song           artist  \\\n",
       "0            0 1997-07-07         1              Mmm Bop           Hanson   \n",
       "1            1 1997-07-07         2                Bitch  Meredith Brooks   \n",
       "2            2 1997-07-07         3  Say You'll Be There      Spice Girls   \n",
       "3            3 1997-07-07         4   Return Of The Mack    Mark Morrison   \n",
       "4            4 1997-07-07         5      Sunny Came Home     Shawn Colvin   \n",
       "\n",
       "                         combo_str  \\\n",
       "0                    HansonMmm Bop   \n",
       "1             Meredith BrooksBitch   \n",
       "2   Spice GirlsSay You'll Be There   \n",
       "3  Mark MorrisonReturn Of The Mack   \n",
       "4      Shawn ColvinSunny Came Home   \n",
       "\n",
       "                                          combo               artist_id  \\\n",
       "0  0SdiiPkr02EUdekHZJkt580lnxrQAd9ZxbhBBe7d8FO8  0SdiiPkr02EUdekHZJkt58   \n",
       "1  2QmLFuIDtNDmmJY3OtvinN3i6qNxyVgIdUZTTi5m25EM  2QmLFuIDtNDmmJY3OtvinN   \n",
       "2  0uq5PttqEjj3IH1bzwcrXF1yTQ39my3MoNROlFw3RDNy  0uq5PttqEjj3IH1bzwcrXF   \n",
       "3  6V3F8MZrOKdT9fU686ybE93jDdpx9PMlfMBS5tOBHFm9  6V3F8MZrOKdT9fU686ybE9   \n",
       "4  0K7VN4aHxHcEb7PqkfoIVA4mOxpj82q6n3EO7HBZCelX  0K7VN4aHxHcEb7PqkfoIVA   \n",
       "\n",
       "                  song_id  acousticness  ...  virginia_hip_hop  vocal_house  \\\n",
       "0  0lnxrQAd9ZxbhBBe7d8FO8       0.00481  ...               0.0          0.0   \n",
       "1  3i6qNxyVgIdUZTTi5m25EM       0.01120  ...               0.0          0.0   \n",
       "2  1yTQ39my3MoNROlFw3RDNy       0.01490  ...               0.0          0.0   \n",
       "3  3jDdpx9PMlfMBS5tOBHFm9       0.00631  ...               0.0          0.0   \n",
       "4  4mOxpj82q6n3EO7HBZCelX       0.34200  ...               0.0          0.0   \n",
       "\n",
       "   vocal_jazz  washington_indie  west_coast_rap  world  worship  yacht_rock  \\\n",
       "0         0.0               0.0             0.0    0.0      0.0         0.0   \n",
       "1         0.0               0.0             0.0    0.0      0.0         0.0   \n",
       "2         0.0               0.0             0.0    0.0      0.0         0.0   \n",
       "3         0.0               0.0             0.0    0.0      0.0         0.0   \n",
       "4         0.0               0.0             0.0    0.0      0.0         0.0   \n",
       "\n",
       "   yakut_pop  yodeling  \n",
       "0        0.0       0.0  \n",
       "1        0.0       0.0  \n",
       "2        0.0       0.0  \n",
       "3        0.0       0.0  \n",
       "4        0.0       0.0  \n",
       "\n",
       "[5 rows x 459 columns]"
      ]
     },
     "execution_count": 170,
     "metadata": {},
     "output_type": "execute_result"
    }
   ],
   "source": [
    "top40['week'] = pd.to_datetime(top40['week'])\n",
    "top40.head()"
   ]
  },
  {
   "cell_type": "code",
   "execution_count": 174,
   "id": "d60c9654",
   "metadata": {},
   "outputs": [
    {
     "data": {
      "text/html": [
       "<div>\n",
       "<style scoped>\n",
       "    .dataframe tbody tr th:only-of-type {\n",
       "        vertical-align: middle;\n",
       "    }\n",
       "\n",
       "    .dataframe tbody tr th {\n",
       "        vertical-align: top;\n",
       "    }\n",
       "\n",
       "    .dataframe thead th {\n",
       "        text-align: right;\n",
       "    }\n",
       "</style>\n",
       "<table border=\"1\" class=\"dataframe\">\n",
       "  <thead>\n",
       "    <tr style=\"text-align: right;\">\n",
       "      <th></th>\n",
       "      <th>a_cappella</th>\n",
       "      <th>acoustic_pop</th>\n",
       "      <th>adult_standards</th>\n",
       "      <th>afrofuturism</th>\n",
       "      <th>alabama_rap</th>\n",
       "      <th>alberta_country</th>\n",
       "      <th>album_rock</th>\n",
       "      <th>alt_z</th>\n",
       "      <th>alternative_dance</th>\n",
       "      <th>alternative_hip_hop</th>\n",
       "      <th>...</th>\n",
       "      <th>virginia_hip_hop</th>\n",
       "      <th>vocal_house</th>\n",
       "      <th>vocal_jazz</th>\n",
       "      <th>washington_indie</th>\n",
       "      <th>west_coast_rap</th>\n",
       "      <th>world</th>\n",
       "      <th>worship</th>\n",
       "      <th>yacht_rock</th>\n",
       "      <th>yakut_pop</th>\n",
       "      <th>yodeling</th>\n",
       "    </tr>\n",
       "  </thead>\n",
       "  <tbody>\n",
       "    <tr>\n",
       "      <th>0</th>\n",
       "      <td>0.0</td>\n",
       "      <td>0.0</td>\n",
       "      <td>0.0</td>\n",
       "      <td>0.0</td>\n",
       "      <td>0.0</td>\n",
       "      <td>0.0</td>\n",
       "      <td>0.0</td>\n",
       "      <td>0.0</td>\n",
       "      <td>0.0</td>\n",
       "      <td>0.0</td>\n",
       "      <td>...</td>\n",
       "      <td>0.0</td>\n",
       "      <td>0.0</td>\n",
       "      <td>0.0</td>\n",
       "      <td>0.0</td>\n",
       "      <td>0.0</td>\n",
       "      <td>0.0</td>\n",
       "      <td>0.0</td>\n",
       "      <td>0.0</td>\n",
       "      <td>0.0</td>\n",
       "      <td>0.0</td>\n",
       "    </tr>\n",
       "    <tr>\n",
       "      <th>1</th>\n",
       "      <td>0.0</td>\n",
       "      <td>0.0</td>\n",
       "      <td>0.0</td>\n",
       "      <td>0.0</td>\n",
       "      <td>0.0</td>\n",
       "      <td>0.0</td>\n",
       "      <td>0.0</td>\n",
       "      <td>0.0</td>\n",
       "      <td>0.0</td>\n",
       "      <td>0.0</td>\n",
       "      <td>...</td>\n",
       "      <td>0.0</td>\n",
       "      <td>0.0</td>\n",
       "      <td>0.0</td>\n",
       "      <td>0.0</td>\n",
       "      <td>0.0</td>\n",
       "      <td>0.0</td>\n",
       "      <td>0.0</td>\n",
       "      <td>0.0</td>\n",
       "      <td>0.0</td>\n",
       "      <td>0.0</td>\n",
       "    </tr>\n",
       "    <tr>\n",
       "      <th>2</th>\n",
       "      <td>0.0</td>\n",
       "      <td>0.0</td>\n",
       "      <td>0.0</td>\n",
       "      <td>0.0</td>\n",
       "      <td>0.0</td>\n",
       "      <td>0.0</td>\n",
       "      <td>0.0</td>\n",
       "      <td>0.0</td>\n",
       "      <td>0.0</td>\n",
       "      <td>0.0</td>\n",
       "      <td>...</td>\n",
       "      <td>0.0</td>\n",
       "      <td>0.0</td>\n",
       "      <td>0.0</td>\n",
       "      <td>0.0</td>\n",
       "      <td>0.0</td>\n",
       "      <td>0.0</td>\n",
       "      <td>0.0</td>\n",
       "      <td>0.0</td>\n",
       "      <td>0.0</td>\n",
       "      <td>0.0</td>\n",
       "    </tr>\n",
       "    <tr>\n",
       "      <th>3</th>\n",
       "      <td>0.0</td>\n",
       "      <td>0.0</td>\n",
       "      <td>0.0</td>\n",
       "      <td>0.0</td>\n",
       "      <td>0.0</td>\n",
       "      <td>0.0</td>\n",
       "      <td>0.0</td>\n",
       "      <td>0.0</td>\n",
       "      <td>0.0</td>\n",
       "      <td>0.0</td>\n",
       "      <td>...</td>\n",
       "      <td>0.0</td>\n",
       "      <td>0.0</td>\n",
       "      <td>0.0</td>\n",
       "      <td>0.0</td>\n",
       "      <td>0.0</td>\n",
       "      <td>0.0</td>\n",
       "      <td>0.0</td>\n",
       "      <td>0.0</td>\n",
       "      <td>0.0</td>\n",
       "      <td>0.0</td>\n",
       "    </tr>\n",
       "    <tr>\n",
       "      <th>4</th>\n",
       "      <td>0.0</td>\n",
       "      <td>0.0</td>\n",
       "      <td>0.0</td>\n",
       "      <td>0.0</td>\n",
       "      <td>0.0</td>\n",
       "      <td>0.0</td>\n",
       "      <td>0.0</td>\n",
       "      <td>0.0</td>\n",
       "      <td>0.0</td>\n",
       "      <td>0.0</td>\n",
       "      <td>...</td>\n",
       "      <td>0.0</td>\n",
       "      <td>0.0</td>\n",
       "      <td>0.0</td>\n",
       "      <td>0.0</td>\n",
       "      <td>0.0</td>\n",
       "      <td>0.0</td>\n",
       "      <td>0.0</td>\n",
       "      <td>0.0</td>\n",
       "      <td>0.0</td>\n",
       "      <td>0.0</td>\n",
       "    </tr>\n",
       "  </tbody>\n",
       "</table>\n",
       "<p>5 rows × 437 columns</p>\n",
       "</div>"
      ],
      "text/plain": [
       "   a_cappella  acoustic_pop  adult_standards  afrofuturism  alabama_rap  \\\n",
       "0         0.0           0.0              0.0           0.0          0.0   \n",
       "1         0.0           0.0              0.0           0.0          0.0   \n",
       "2         0.0           0.0              0.0           0.0          0.0   \n",
       "3         0.0           0.0              0.0           0.0          0.0   \n",
       "4         0.0           0.0              0.0           0.0          0.0   \n",
       "\n",
       "   alberta_country  album_rock  alt_z  alternative_dance  alternative_hip_hop  \\\n",
       "0              0.0         0.0    0.0                0.0                  0.0   \n",
       "1              0.0         0.0    0.0                0.0                  0.0   \n",
       "2              0.0         0.0    0.0                0.0                  0.0   \n",
       "3              0.0         0.0    0.0                0.0                  0.0   \n",
       "4              0.0         0.0    0.0                0.0                  0.0   \n",
       "\n",
       "   ...  virginia_hip_hop  vocal_house  vocal_jazz  washington_indie  \\\n",
       "0  ...               0.0          0.0         0.0               0.0   \n",
       "1  ...               0.0          0.0         0.0               0.0   \n",
       "2  ...               0.0          0.0         0.0               0.0   \n",
       "3  ...               0.0          0.0         0.0               0.0   \n",
       "4  ...               0.0          0.0         0.0               0.0   \n",
       "\n",
       "   west_coast_rap  world  worship  yacht_rock  yakut_pop  yodeling  \n",
       "0             0.0    0.0      0.0         0.0        0.0       0.0  \n",
       "1             0.0    0.0      0.0         0.0        0.0       0.0  \n",
       "2             0.0    0.0      0.0         0.0        0.0       0.0  \n",
       "3             0.0    0.0      0.0         0.0        0.0       0.0  \n",
       "4             0.0    0.0      0.0         0.0        0.0       0.0  \n",
       "\n",
       "[5 rows x 437 columns]"
      ]
     },
     "execution_count": 174,
     "metadata": {},
     "output_type": "execute_result"
    }
   ],
   "source": [
    "first_genre = list(top40.columns).index('a_cappella')\n",
    "last_genre = list(top40.columns).index('yodeling')+1\n",
    "\n",
    "first_audio = list(top40.columns).index('acousticness')\n",
    "last_audio = list(top40.columns).index('valence')+1\n",
    "\n",
    "genre_df = top40[top40.columns[first_genre:last_genre]]\n",
    "\n",
    "genre_df.head()"
   ]
  },
  {
   "cell_type": "code",
   "execution_count": 175,
   "id": "ad157d4a",
   "metadata": {},
   "outputs": [
    {
     "data": {
      "text/html": [
       "<div>\n",
       "<style scoped>\n",
       "    .dataframe tbody tr th:only-of-type {\n",
       "        vertical-align: middle;\n",
       "    }\n",
       "\n",
       "    .dataframe tbody tr th {\n",
       "        vertical-align: top;\n",
       "    }\n",
       "\n",
       "    .dataframe thead th {\n",
       "        text-align: right;\n",
       "    }\n",
       "</style>\n",
       "<table border=\"1\" class=\"dataframe\">\n",
       "  <thead>\n",
       "    <tr style=\"text-align: right;\">\n",
       "      <th></th>\n",
       "      <th>0</th>\n",
       "    </tr>\n",
       "  </thead>\n",
       "  <tbody>\n",
       "    <tr>\n",
       "      <th>a_cappella</th>\n",
       "      <td>12.0</td>\n",
       "    </tr>\n",
       "    <tr>\n",
       "      <th>acoustic_pop</th>\n",
       "      <td>226.0</td>\n",
       "    </tr>\n",
       "    <tr>\n",
       "      <th>adult_standards</th>\n",
       "      <td>120.0</td>\n",
       "    </tr>\n",
       "    <tr>\n",
       "      <th>afrofuturism</th>\n",
       "      <td>36.0</td>\n",
       "    </tr>\n",
       "    <tr>\n",
       "      <th>alabama_rap</th>\n",
       "      <td>26.0</td>\n",
       "    </tr>\n",
       "  </tbody>\n",
       "</table>\n",
       "</div>"
      ],
      "text/plain": [
       "                     0\n",
       "a_cappella        12.0\n",
       "acoustic_pop     226.0\n",
       "adult_standards  120.0\n",
       "afrofuturism      36.0\n",
       "alabama_rap       26.0"
      ]
     },
     "execution_count": 175,
     "metadata": {},
     "output_type": "execute_result"
    }
   ],
   "source": [
    "genres = []\n",
    "genre_counts = []\n",
    "#genre_counts = {'genre':[], 'count':[]}\n",
    "for column_name, column_data in genre_df.iteritems():\n",
    "    genres.append(column_name)\n",
    "    genre_counts.append(sum(column_data))\n",
    "#    genre_counts['genre'].append(column_name)\n",
    "#    genre_counts['count'].append(sum(column_data))\n",
    "\n",
    "genre_dict = dict(zip(genres, genre_counts))\n",
    "genre_counts_df = pd.DataFrame.from_dict(genre_dict, orient='index')\n",
    "genre_counts_df.head()"
   ]
  },
  {
   "cell_type": "code",
   "execution_count": 176,
   "id": "530ac586",
   "metadata": {},
   "outputs": [
    {
     "data": {
      "text/plain": [
       "{'a_cappella': 12.0,\n",
       " 'acoustic_pop': 226.0,\n",
       " 'adult_standards': 120.0,\n",
       " 'afrofuturism': 36.0,\n",
       " 'alabama_rap': 26.0,\n",
       " 'alberta_country': 37.0,\n",
       " 'album_rock': 28.0,\n",
       " 'alt_z': 46.0,\n",
       " 'alternative_dance': 27.0,\n",
       " 'alternative_hip_hop': 55.0,\n",
       " 'alternative_metal': 1291.0,\n",
       " 'alternative_pop': 4.0,\n",
       " 'alternative_r&b': 143.0,\n",
       " 'alternative_rock': 909.0,\n",
       " 'american_folk_revival': 19.0,\n",
       " 'anarcho-punk': 29.0,\n",
       " 'anti-folk': 20.0,\n",
       " 'arkansas_country': 32.0,\n",
       " 'arkansas_hip_hop': 5.0,\n",
       " 'art_pop': 417.0,\n",
       " 'art_rock': 24.0,\n",
       " 'asian_american_hip_hop': 51.0,\n",
       " 'atl_hip_hop': 1667.0,\n",
       " 'atl_trap': 42.0,\n",
       " 'atlanta_bass': 29.0,\n",
       " 'austin_singer-songwriter': 14.0,\n",
       " 'australian_country': 28.0,\n",
       " 'australian_dance': 113.0,\n",
       " 'australian_electropop': 11.0,\n",
       " 'australian_hip_hop': 138.0,\n",
       " 'australian_house': 8.0,\n",
       " 'australian_indie': 11.0,\n",
       " 'australian_pop': 321.0,\n",
       " 'australian_talent_show': 14.0,\n",
       " 'bahamian_pop': 18.0,\n",
       " 'barbadian_pop': 228.0,\n",
       " 'baroque_pop': 115.0,\n",
       " 'bass_house': 8.0,\n",
       " 'bass_trap': 12.0,\n",
       " 'bassline': 41.0,\n",
       " 'baton_rouge_rap': 20.0,\n",
       " 'battle_rap': 17.0,\n",
       " 'bedroom_pop': 12.0,\n",
       " 'bedroom_soul': 8.0,\n",
       " 'belgian_dance': 1.0,\n",
       " 'belgian_pop': 1.0,\n",
       " 'bhangra': 7.0,\n",
       " 'big_beat': 23.0,\n",
       " 'big_room': 29.0,\n",
       " 'black_americana': 68.0,\n",
       " 'blues_rock': 132.0,\n",
       " 'bossbeat': 3.0,\n",
       " 'boston_hip_hop': 3.0,\n",
       " 'boston_punk': 10.0,\n",
       " 'boston_rock': 10.0,\n",
       " 'bounce': 26.0,\n",
       " 'bow_pop': 7.0,\n",
       " 'boy_band': 898.0,\n",
       " 'brill_building_pop': 63.0,\n",
       " 'british_invasion': 6.0,\n",
       " 'british_soul': 297.0,\n",
       " 'britpop': 16.0,\n",
       " 'bronx_hip_hop': 62.0,\n",
       " 'brooklyn_drill': 64.0,\n",
       " 'brostep': 121.0,\n",
       " 'bubblegum_dance': 161.0,\n",
       " 'cali_rap': 107.0,\n",
       " 'canadian_celtic': 13.0,\n",
       " 'canadian_contemporary_country': 29.0,\n",
       " 'canadian_contemporary_r&b': 246.0,\n",
       " 'canadian_country': 106.0,\n",
       " 'canadian_hip_hop': 65.0,\n",
       " 'canadian_latin': 93.0,\n",
       " 'canadian_metal': 2.0,\n",
       " 'canadian_old_school_hip_hop': 18.0,\n",
       " 'canadian_pop': 1169.0,\n",
       " 'canadian_pop_punk': 17.0,\n",
       " 'canadian_punk': 17.0,\n",
       " 'canadian_rock': 296.0,\n",
       " 'canadian_singer-songwriter': 118.0,\n",
       " 'canadian_trap': 2.0,\n",
       " 'candy_pop': 326.0,\n",
       " 'cartoon': 1.0,\n",
       " 'ccm': 43.0,\n",
       " 'celtic': 39.0,\n",
       " 'celtic_rock': 26.0,\n",
       " 'chamber_pop': 33.0,\n",
       " 'chicago_bop': 73.0,\n",
       " 'chicago_drill': 11.0,\n",
       " 'chicago_indie': 7.0,\n",
       " 'chicago_rap': 457.0,\n",
       " 'chicano_rap': 49.0,\n",
       " \"children's_music\": 1.0,\n",
       " 'chopped_and_screwed': 3.0,\n",
       " 'christian_alternative_rock': 52.0,\n",
       " 'christian_indie': 16.0,\n",
       " 'christian_music': 43.0,\n",
       " 'christian_rock': 22.0,\n",
       " 'chutney': 3.0,\n",
       " 'classic_bhangra': 7.0,\n",
       " 'classic_dubstep': 14.0,\n",
       " 'classic_girl_group': 4.0,\n",
       " 'classic_rock': 153.0,\n",
       " 'clean_comedy': 1.0,\n",
       " 'colombian_pop': 76.0,\n",
       " 'comedy': 2.0,\n",
       " 'comedy_rap': 36.0,\n",
       " 'comic': 98.0,\n",
       " 'complextro': 115.0,\n",
       " 'conscious_hip_hop': 295.0,\n",
       " 'contemporary_country': 2556.0,\n",
       " 'contemporary_r&b': 2001.0,\n",
       " 'contemporary_vocal_jazz': 33.0,\n",
       " 'country': 2793.0,\n",
       " 'country_dawn': 701.0,\n",
       " 'country_gospel': 9.0,\n",
       " 'country_pop': 419.0,\n",
       " 'country_rap': 34.0,\n",
       " 'country_road': 2118.0,\n",
       " 'country_rock': 99.0,\n",
       " 'cowboy_western': 1.0,\n",
       " 'cowpunk': 3.0,\n",
       " 'crunk': 468.0,\n",
       " 'cyberpunk': 2.0,\n",
       " 'dance-punk': 10.0,\n",
       " 'dance_pop': 12348.0,\n",
       " 'dance_rock': 185.0,\n",
       " 'dancehall': 90.0,\n",
       " 'danish_pop': 1.0,\n",
       " 'dark_clubbing': 11.0,\n",
       " 'dark_pop': 17.0,\n",
       " 'deep_acoustic_pop': 9.0,\n",
       " 'deep_southern_trap': 17.0,\n",
       " 'deep_underground_hip_hop': 66.0,\n",
       " 'derby_indie': 5.0,\n",
       " 'desi_hip_hop': 7.0,\n",
       " 'desi_pop': 7.0,\n",
       " 'destroy_techno': 11.0,\n",
       " 'detroit_hip_hop': 203.0,\n",
       " 'detroit_rock': 21.0,\n",
       " 'dfw_rap': 259.0,\n",
       " 'dirty_south_rap': 1445.0,\n",
       " 'disco': 15.0,\n",
       " 'dmv_rap': 22.0,\n",
       " 'dong-yo': 1.0,\n",
       " 'double_drumming': 15.0,\n",
       " 'downtempo': 11.0,\n",
       " 'drill': 12.0,\n",
       " 'dutch_edm': 9.0,\n",
       " 'dutch_pop': 3.0,\n",
       " 'east_coast_hip_hop': 466.0,\n",
       " 'easy_listening': 67.0,\n",
       " 'ectofolk': 124.0,\n",
       " 'edm': 909.0,\n",
       " 'electra': 7.0,\n",
       " 'electro': 39.0,\n",
       " 'electro_house': 258.0,\n",
       " 'electronic_rock': 10.0,\n",
       " 'electronic_trap': 89.0,\n",
       " 'electronica': 8.0,\n",
       " 'electropop': 908.0,\n",
       " 'electropowerpop': 11.0,\n",
       " 'emo': 142.0,\n",
       " 'emo_rap': 85.0,\n",
       " 'escape_room': 71.0,\n",
       " 'etherpop': 36.0,\n",
       " 'eurodance': 140.0,\n",
       " 'europop': 665.0,\n",
       " 'fake': 4.0,\n",
       " 'filter_house': 30.0,\n",
       " 'florida_rap': 67.0,\n",
       " 'folk': 14.0,\n",
       " 'folk-pop': 152.0,\n",
       " 'folk_rock': 14.0,\n",
       " 'french_indie_pop': 13.0,\n",
       " 'french_pop': 6.0,\n",
       " 'french_rock': 5.0,\n",
       " 'funk': 57.0,\n",
       " 'funk_metal': 292.0,\n",
       " 'funk_rock': 84.0,\n",
       " 'futuristic_swag': 56.0,\n",
       " 'g_funk': 106.0,\n",
       " 'gambian_hip_hop': 4.0,\n",
       " 'gangster_rap': 2138.0,\n",
       " 'garage_rock': 21.0,\n",
       " 'gauze_pop': 78.0,\n",
       " 'gen_z_singer-songwriter': 4.0,\n",
       " 'german_pop': 3.0,\n",
       " 'german_techno': 129.0,\n",
       " 'ghanaian_hip_hop': 10.0,\n",
       " 'girl_group': 693.0,\n",
       " 'glam_metal': 30.0,\n",
       " 'glam_rock': 14.0,\n",
       " 'glee_club': 6.0,\n",
       " 'golden_age_hip_hop': 36.0,\n",
       " 'gospel': 8.0,\n",
       " 'gospel_r&b': 16.0,\n",
       " 'grime': 7.0,\n",
       " 'grunge': 33.0,\n",
       " 'grunge_pop': 5.0,\n",
       " 'hard_rock': 43.0,\n",
       " 'hardcore_hip_hop': 343.0,\n",
       " 'harlem_hip_hop': 31.0,\n",
       " 'hawaiian_hip_hop': 3.0,\n",
       " 'heartland_rock': 25.0,\n",
       " 'hip_hop': 4321.0,\n",
       " 'hip_house': 1.0,\n",
       " 'hip_pop': 3666.0,\n",
       " 'hollywood': 126.0,\n",
       " 'house': 106.0,\n",
       " 'houston_rap': 140.0,\n",
       " 'hyphy': 22.0,\n",
       " 'idol': 85.0,\n",
       " 'indie_pop': 61.0,\n",
       " 'indie_pop_rap': 25.0,\n",
       " 'indie_poptimism': 140.0,\n",
       " 'indie_rock': 57.0,\n",
       " 'indie_soul': 12.0,\n",
       " 'indiecoustica': 15.0,\n",
       " 'indietronica': 286.0,\n",
       " 'industrial': 2.0,\n",
       " 'industrial_metal': 16.0,\n",
       " 'industrial_rock': 16.0,\n",
       " 'irish_rock': 70.0,\n",
       " 'irish_singer-songwriter': 30.0,\n",
       " 'italian_adult_pop': 17.0,\n",
       " 'italo_dance': 17.0,\n",
       " 'jam_band': 28.0,\n",
       " 'jamaican_dancehall': 5.0,\n",
       " 'jazz_pop': 33.0,\n",
       " 'k-pop': 123.0,\n",
       " 'k-pop_boy_group': 84.0,\n",
       " 'k-pop_girl_group': 13.0,\n",
       " 'k-rap': 26.0,\n",
       " 'kentucky_hip_hop': 101.0,\n",
       " 'korean_old_school_hip_hop': 26.0,\n",
       " 'la_indie': 28.0,\n",
       " 'latin_hip_hop': 94.0,\n",
       " 'latin_pop': 233.0,\n",
       " 'latin_viral_pop': 35.0,\n",
       " 'lds_youth': 9.0,\n",
       " 'lgbtq+_hip_hop': 192.0,\n",
       " 'lilith': 355.0,\n",
       " 'lounge': 89.0,\n",
       " 'lovers_rock': 17.0,\n",
       " 'madchester': 7.0,\n",
       " 'maine_hip_hop': 12.0,\n",
       " 'medieval_folk': 13.0,\n",
       " 'melancholia': 21.0,\n",
       " 'melbourne_bounce_international': 23.0,\n",
       " 'mellow_gold': 119.0,\n",
       " 'melodic_dubstep': 7.0,\n",
       " 'melodic_rap': 682.0,\n",
       " 'memphis_hip_hop': 200.0,\n",
       " 'metal': 1.0,\n",
       " 'metropopolis': 367.0,\n",
       " 'mexican_classic_rock': 110.0,\n",
       " 'mexican_pop': 90.0,\n",
       " 'miami_bass': 2.0,\n",
       " 'miami_hip_hop': 645.0,\n",
       " 'middle_earth': 26.0,\n",
       " 'minneapolis_sound': 83.0,\n",
       " 'minnesota_hip_hop': 72.0,\n",
       " 'mississippi_hip_hop': 65.0,\n",
       " 'modern_alternative_pop': 28.0,\n",
       " 'modern_alternative_rock': 226.0,\n",
       " 'modern_blues_rock': 28.0,\n",
       " 'modern_country_rock': 475.0,\n",
       " 'modern_folk_rock': 57.0,\n",
       " 'modern_indie_pop': 3.0,\n",
       " 'modern_power_pop': 36.0,\n",
       " 'modern_rock': 1023.0,\n",
       " 'modern_uplift': 32.0,\n",
       " 'nashville_hip_hop': 31.0,\n",
       " 'neo-singer-songwriter': 11.0,\n",
       " 'neo-synthpop': 9.0,\n",
       " 'neo_mellow': 2869.0,\n",
       " 'neo_soul': 1709.0,\n",
       " 'neon_pop_punk': 121.0,\n",
       " 'new_jack_swing': 239.0,\n",
       " 'new_jersey_rap': 141.0,\n",
       " 'new_jersey_underground_rap': 3.0,\n",
       " 'new_orleans_rap': 138.0,\n",
       " 'new_rave': 32.0,\n",
       " 'new_romantic': 14.0,\n",
       " 'new_wave': 21.0,\n",
       " 'new_wave_pop': 238.0,\n",
       " 'ninja': 6.0,\n",
       " 'north_carolina_hip_hop': 148.0,\n",
       " 'norwegian_pop': 34.0,\n",
       " 'nouvelle_chanson_francaise': 8.0,\n",
       " 'nu_metal': 865.0,\n",
       " 'nyc_rap': 67.0,\n",
       " 'nz_pop': 140.0,\n",
       " 'oakland_hip_hop': 14.0,\n",
       " 'ohio_hip_hop': 37.0,\n",
       " 'oklahoma_country': 224.0,\n",
       " 'old_school_atlanta_hip_hop': 365.0,\n",
       " 'old_school_dancehall': 17.0,\n",
       " 'old_school_hip_hop': 36.0,\n",
       " 'old_school_thrash': 1.0,\n",
       " 'omaha_indie': 16.0,\n",
       " 'operatic_pop': 6.0,\n",
       " 'orchestral_soundtrack': 16.0,\n",
       " 'outlaw_country': 69.0,\n",
       " 'oxford_indie': 5.0,\n",
       " 'panamanian_pop': 11.0,\n",
       " 'permanent_wave': 938.0,\n",
       " 'philly_rap': 157.0,\n",
       " 'piano_rock': 430.0,\n",
       " 'pittsburgh_rap': 63.0,\n",
       " 'pixie': 90.0,\n",
       " 'plugg': 8.0,\n",
       " 'pluggnb': 34.0,\n",
       " 'political_hip_hop': 55.0,\n",
       " 'pop': 11524.0,\n",
       " 'pop_dance': 614.0,\n",
       " 'pop_emo': 54.0,\n",
       " 'pop_punk': 377.0,\n",
       " 'pop_r&b': 290.0,\n",
       " 'pop_rap': 6054.0,\n",
       " 'pop_rock': 4158.0,\n",
       " 'pop_soul': 256.0,\n",
       " 'post-grunge': 1185.0,\n",
       " 'post-teen_pop': 3121.0,\n",
       " 'power_pop': 18.0,\n",
       " 'progressive_electro_house': 159.0,\n",
       " 'progressive_house': 85.0,\n",
       " 'puerto_rican_pop': 72.0,\n",
       " 'punk': 134.0,\n",
       " 'punk_blues': 21.0,\n",
       " 'queens_hip_hop': 329.0,\n",
       " 'queer_country': 28.0,\n",
       " 'quiet_storm': 553.0,\n",
       " 'r&b': 4310.0,\n",
       " 'rap': 5439.0,\n",
       " 'rap_conscient': 1.0,\n",
       " 'rap_kreyol': 1.0,\n",
       " 'rap_latina': 55.0,\n",
       " 'rap_metal': 102.0,\n",
       " 'rap_rock': 252.0,\n",
       " 'redneck': 48.0,\n",
       " 'reggae_fusion': 75.0,\n",
       " 'reggaeton': 123.0,\n",
       " 'reggaeton_colombiano': 11.0,\n",
       " 'reggaeton_flow': 10.0,\n",
       " 'rhode_island_rap': 36.0,\n",
       " 'rock': 1342.0,\n",
       " 'rock-and-roll': 9.0,\n",
       " 'rock_drums': 8.0,\n",
       " 'rockabilly': 37.0,\n",
       " 'romanian_house': 8.0,\n",
       " 'romanian_pop': 17.0,\n",
       " 'roots_reggae': 17.0,\n",
       " 'sad_rap': 24.0,\n",
       " 'salsa': 9.0,\n",
       " 'san_diego_rap': 23.0,\n",
       " 'scam_rap': 13.0,\n",
       " 'scandipop': 57.0,\n",
       " 'scottish_singer-songwriter': 10.0,\n",
       " 'screamo': 1.0,\n",
       " 'seattle_hip_hop': 32.0,\n",
       " 'seattle_indie': 9.0,\n",
       " 'shimmer_pop': 35.0,\n",
       " 'shiver_pop': 78.0,\n",
       " 'shoegaze': 9.0,\n",
       " 'show_tunes': 26.0,\n",
       " 'singer-songwriter': 321.0,\n",
       " 'ska': 10.0,\n",
       " 'ska_punk': 10.0,\n",
       " 'skate_punk': 32.0,\n",
       " 'slap_house': 96.0,\n",
       " 'sleaze_rock': 18.0,\n",
       " 'soca': 41.0,\n",
       " 'socal_pop_punk': 19.0,\n",
       " 'soft_rock': 45.0,\n",
       " 'solo_wave': 7.0,\n",
       " 'sophisti-pop': 16.0,\n",
       " 'soul': 64.0,\n",
       " 'soul_flow': 3.0,\n",
       " 'soundtrack': 20.0,\n",
       " 'south_african_pop': 6.0,\n",
       " 'south_african_rock': 8.0,\n",
       " 'south_carolina_hip_hop': 242.0,\n",
       " 'southern_hip_hop': 2881.0,\n",
       " 'st_louis_rap': 121.0,\n",
       " 'stomp_and_holler': 127.0,\n",
       " 'stomp_pop': 47.0,\n",
       " 'supergroup': 8.0,\n",
       " 'swedish_electropop': 133.0,\n",
       " 'swedish_pop': 108.0,\n",
       " 'swedish_synthpop': 77.0,\n",
       " 'swing': 8.0,\n",
       " 'synthpop': 14.0,\n",
       " 'talent_show': 357.0,\n",
       " 'tennessee_hip_hop': 137.0,\n",
       " 'texas_country': 37.0,\n",
       " 'texas_latin_rap': 37.0,\n",
       " 'texas_pop_punk': 13.0,\n",
       " 'thrash_metal': 1.0,\n",
       " 'toronto_rap': 88.0,\n",
       " 'traditional_country': 1.0,\n",
       " 'trancecore': 1.0,\n",
       " 'trap': 2689.0,\n",
       " 'trap_boricua': 10.0,\n",
       " 'trap_latino': 76.0,\n",
       " 'trap_queen': 270.0,\n",
       " 'trip_hop': 6.0,\n",
       " 'tropical': 17.0,\n",
       " 'tropical_house': 299.0,\n",
       " 'turntablism': 22.0,\n",
       " 'uk_alternative_pop': 5.0,\n",
       " 'uk_americana': 57.0,\n",
       " 'uk_contemporary_r&b': 58.0,\n",
       " 'uk_dance': 103.0,\n",
       " 'uk_funky': 4.0,\n",
       " 'uk_garage': 2.0,\n",
       " 'uk_pop': 2353.0,\n",
       " 'underground_hip_hop': 23.0,\n",
       " 'upstate_ny_rap': 3.0,\n",
       " 'urban_contemporary': 5376.0,\n",
       " 'vapor_trap': 90.0,\n",
       " 'vapor_twitch': 12.0,\n",
       " 'vincy_soca': 16.0,\n",
       " 'viral_pop': 305.0,\n",
       " 'viral_rap': 301.0,\n",
       " 'viral_trap': 65.0,\n",
       " 'virginia_hip_hop': 88.0,\n",
       " 'vocal_house': 48.0,\n",
       " 'vocal_jazz': 33.0,\n",
       " 'washington_indie': 15.0,\n",
       " 'west_coast_rap': 203.0,\n",
       " 'world': 13.0,\n",
       " 'worship': 43.0,\n",
       " 'yacht_rock': 4.0,\n",
       " 'yakut_pop': 61.0,\n",
       " 'yodeling': 1.0}"
      ]
     },
     "execution_count": 176,
     "metadata": {},
     "output_type": "execute_result"
    }
   ],
   "source": [
    "genre_dict"
   ]
  },
  {
   "cell_type": "code",
   "execution_count": 179,
   "id": "b7d8ca46",
   "metadata": {},
   "outputs": [
    {
     "data": {
      "application/vnd.plotly.v1+json": {
       "config": {
        "plotlyServerURL": "https://plot.ly"
       },
       "data": [
        {
         "alignmentgroup": "True",
         "hovertemplate": "index=%{x}<br>0=%{y}<extra></extra>",
         "legendgroup": "",
         "marker": {
          "color": "#636efa",
          "pattern": {
           "shape": ""
          }
         },
         "name": "",
         "offsetgroup": "",
         "orientation": "v",
         "showlegend": false,
         "textposition": "auto",
         "type": "bar",
         "x": [
          "a_cappella",
          "acoustic_pop",
          "adult_standards",
          "afrofuturism",
          "alabama_rap",
          "alberta_country",
          "album_rock",
          "alt_z",
          "alternative_dance",
          "alternative_hip_hop",
          "alternative_metal",
          "alternative_pop",
          "alternative_r&b",
          "alternative_rock",
          "american_folk_revival",
          "anarcho-punk",
          "anti-folk",
          "arkansas_country",
          "arkansas_hip_hop",
          "art_pop",
          "art_rock",
          "asian_american_hip_hop",
          "atl_hip_hop",
          "atl_trap",
          "atlanta_bass",
          "austin_singer-songwriter",
          "australian_country",
          "australian_dance",
          "australian_electropop",
          "australian_hip_hop",
          "australian_house",
          "australian_indie",
          "australian_pop",
          "australian_talent_show",
          "bahamian_pop",
          "barbadian_pop",
          "baroque_pop",
          "bass_house",
          "bass_trap",
          "bassline",
          "baton_rouge_rap",
          "battle_rap",
          "bedroom_pop",
          "bedroom_soul",
          "belgian_dance",
          "belgian_pop",
          "bhangra",
          "big_beat",
          "big_room",
          "black_americana",
          "blues_rock",
          "bossbeat",
          "boston_hip_hop",
          "boston_punk",
          "boston_rock",
          "bounce",
          "bow_pop",
          "boy_band",
          "brill_building_pop",
          "british_invasion",
          "british_soul",
          "britpop",
          "bronx_hip_hop",
          "brooklyn_drill",
          "brostep",
          "bubblegum_dance",
          "cali_rap",
          "canadian_celtic",
          "canadian_contemporary_country",
          "canadian_contemporary_r&b",
          "canadian_country",
          "canadian_hip_hop",
          "canadian_latin",
          "canadian_metal",
          "canadian_old_school_hip_hop",
          "canadian_pop",
          "canadian_pop_punk",
          "canadian_punk",
          "canadian_rock",
          "canadian_singer-songwriter",
          "canadian_trap",
          "candy_pop",
          "cartoon",
          "ccm",
          "celtic",
          "celtic_rock",
          "chamber_pop",
          "chicago_bop",
          "chicago_drill",
          "chicago_indie",
          "chicago_rap",
          "chicano_rap",
          "children's_music",
          "chopped_and_screwed",
          "christian_alternative_rock",
          "christian_indie",
          "christian_music",
          "christian_rock",
          "chutney",
          "classic_bhangra",
          "classic_dubstep",
          "classic_girl_group",
          "classic_rock",
          "clean_comedy",
          "colombian_pop",
          "comedy",
          "comedy_rap",
          "comic",
          "complextro",
          "conscious_hip_hop",
          "contemporary_country",
          "contemporary_r&b",
          "contemporary_vocal_jazz",
          "country",
          "country_dawn",
          "country_gospel",
          "country_pop",
          "country_rap",
          "country_road",
          "country_rock",
          "cowboy_western",
          "cowpunk",
          "crunk",
          "cyberpunk",
          "dance-punk",
          "dance_pop",
          "dance_rock",
          "dancehall",
          "danish_pop",
          "dark_clubbing",
          "dark_pop",
          "deep_acoustic_pop",
          "deep_southern_trap",
          "deep_underground_hip_hop",
          "derby_indie",
          "desi_hip_hop",
          "desi_pop",
          "destroy_techno",
          "detroit_hip_hop",
          "detroit_rock",
          "dfw_rap",
          "dirty_south_rap",
          "disco",
          "dmv_rap",
          "dong-yo",
          "double_drumming",
          "downtempo",
          "drill",
          "dutch_edm",
          "dutch_pop",
          "east_coast_hip_hop",
          "easy_listening",
          "ectofolk",
          "edm",
          "electra",
          "electro",
          "electro_house",
          "electronic_rock",
          "electronic_trap",
          "electronica",
          "electropop",
          "electropowerpop",
          "emo",
          "emo_rap",
          "escape_room",
          "etherpop",
          "eurodance",
          "europop",
          "fake",
          "filter_house",
          "florida_rap",
          "folk",
          "folk-pop",
          "folk_rock",
          "french_indie_pop",
          "french_pop",
          "french_rock",
          "funk",
          "funk_metal",
          "funk_rock",
          "futuristic_swag",
          "g_funk",
          "gambian_hip_hop",
          "gangster_rap",
          "garage_rock",
          "gauze_pop",
          "gen_z_singer-songwriter",
          "german_pop",
          "german_techno",
          "ghanaian_hip_hop",
          "girl_group",
          "glam_metal",
          "glam_rock",
          "glee_club",
          "golden_age_hip_hop",
          "gospel",
          "gospel_r&b",
          "grime",
          "grunge",
          "grunge_pop",
          "hard_rock",
          "hardcore_hip_hop",
          "harlem_hip_hop",
          "hawaiian_hip_hop",
          "heartland_rock",
          "hip_hop",
          "hip_house",
          "hip_pop",
          "hollywood",
          "house",
          "houston_rap",
          "hyphy",
          "idol",
          "indie_pop",
          "indie_pop_rap",
          "indie_poptimism",
          "indie_rock",
          "indie_soul",
          "indiecoustica",
          "indietronica",
          "industrial",
          "industrial_metal",
          "industrial_rock",
          "irish_rock",
          "irish_singer-songwriter",
          "italian_adult_pop",
          "italo_dance",
          "jam_band",
          "jamaican_dancehall",
          "jazz_pop",
          "k-pop",
          "k-pop_boy_group",
          "k-pop_girl_group",
          "k-rap",
          "kentucky_hip_hop",
          "korean_old_school_hip_hop",
          "la_indie",
          "latin_hip_hop",
          "latin_pop",
          "latin_viral_pop",
          "lds_youth",
          "lgbtq+_hip_hop",
          "lilith",
          "lounge",
          "lovers_rock",
          "madchester",
          "maine_hip_hop",
          "medieval_folk",
          "melancholia",
          "melbourne_bounce_international",
          "mellow_gold",
          "melodic_dubstep",
          "melodic_rap",
          "memphis_hip_hop",
          "metal",
          "metropopolis",
          "mexican_classic_rock",
          "mexican_pop",
          "miami_bass",
          "miami_hip_hop",
          "middle_earth",
          "minneapolis_sound",
          "minnesota_hip_hop",
          "mississippi_hip_hop",
          "modern_alternative_pop",
          "modern_alternative_rock",
          "modern_blues_rock",
          "modern_country_rock",
          "modern_folk_rock",
          "modern_indie_pop",
          "modern_power_pop",
          "modern_rock",
          "modern_uplift",
          "nashville_hip_hop",
          "neo-singer-songwriter",
          "neo-synthpop",
          "neo_mellow",
          "neo_soul",
          "neon_pop_punk",
          "new_jack_swing",
          "new_jersey_rap",
          "new_jersey_underground_rap",
          "new_orleans_rap",
          "new_rave",
          "new_romantic",
          "new_wave",
          "new_wave_pop",
          "ninja",
          "north_carolina_hip_hop",
          "norwegian_pop",
          "nouvelle_chanson_francaise",
          "nu_metal",
          "nyc_rap",
          "nz_pop",
          "oakland_hip_hop",
          "ohio_hip_hop",
          "oklahoma_country",
          "old_school_atlanta_hip_hop",
          "old_school_dancehall",
          "old_school_hip_hop",
          "old_school_thrash",
          "omaha_indie",
          "operatic_pop",
          "orchestral_soundtrack",
          "outlaw_country",
          "oxford_indie",
          "panamanian_pop",
          "permanent_wave",
          "philly_rap",
          "piano_rock",
          "pittsburgh_rap",
          "pixie",
          "plugg",
          "pluggnb",
          "political_hip_hop",
          "pop",
          "pop_dance",
          "pop_emo",
          "pop_punk",
          "pop_r&b",
          "pop_rap",
          "pop_rock",
          "pop_soul",
          "post-grunge",
          "post-teen_pop",
          "power_pop",
          "progressive_electro_house",
          "progressive_house",
          "puerto_rican_pop",
          "punk",
          "punk_blues",
          "queens_hip_hop",
          "queer_country",
          "quiet_storm",
          "r&b",
          "rap",
          "rap_conscient",
          "rap_kreyol",
          "rap_latina",
          "rap_metal",
          "rap_rock",
          "redneck",
          "reggae_fusion",
          "reggaeton",
          "reggaeton_colombiano",
          "reggaeton_flow",
          "rhode_island_rap",
          "rock",
          "rock-and-roll",
          "rock_drums",
          "rockabilly",
          "romanian_house",
          "romanian_pop",
          "roots_reggae",
          "sad_rap",
          "salsa",
          "san_diego_rap",
          "scam_rap",
          "scandipop",
          "scottish_singer-songwriter",
          "screamo",
          "seattle_hip_hop",
          "seattle_indie",
          "shimmer_pop",
          "shiver_pop",
          "shoegaze",
          "show_tunes",
          "singer-songwriter",
          "ska",
          "ska_punk",
          "skate_punk",
          "slap_house",
          "sleaze_rock",
          "soca",
          "socal_pop_punk",
          "soft_rock",
          "solo_wave",
          "sophisti-pop",
          "soul",
          "soul_flow",
          "soundtrack",
          "south_african_pop",
          "south_african_rock",
          "south_carolina_hip_hop",
          "southern_hip_hop",
          "st_louis_rap",
          "stomp_and_holler",
          "stomp_pop",
          "supergroup",
          "swedish_electropop",
          "swedish_pop",
          "swedish_synthpop",
          "swing",
          "synthpop",
          "talent_show",
          "tennessee_hip_hop",
          "texas_country",
          "texas_latin_rap",
          "texas_pop_punk",
          "thrash_metal",
          "toronto_rap",
          "traditional_country",
          "trancecore",
          "trap",
          "trap_boricua",
          "trap_latino",
          "trap_queen",
          "trip_hop",
          "tropical",
          "tropical_house",
          "turntablism",
          "uk_alternative_pop",
          "uk_americana",
          "uk_contemporary_r&b",
          "uk_dance",
          "uk_funky",
          "uk_garage",
          "uk_pop",
          "underground_hip_hop",
          "upstate_ny_rap",
          "urban_contemporary",
          "vapor_trap",
          "vapor_twitch",
          "vincy_soca",
          "viral_pop",
          "viral_rap",
          "viral_trap",
          "virginia_hip_hop",
          "vocal_house",
          "vocal_jazz",
          "washington_indie",
          "west_coast_rap",
          "world",
          "worship",
          "yacht_rock",
          "yakut_pop",
          "yodeling"
         ],
         "xaxis": "x",
         "y": [
          12,
          226,
          120,
          36,
          26,
          37,
          28,
          46,
          27,
          55,
          1291,
          4,
          143,
          909,
          19,
          29,
          20,
          32,
          5,
          417,
          24,
          51,
          1667,
          42,
          29,
          14,
          28,
          113,
          11,
          138,
          8,
          11,
          321,
          14,
          18,
          228,
          115,
          8,
          12,
          41,
          20,
          17,
          12,
          8,
          1,
          1,
          7,
          23,
          29,
          68,
          132,
          3,
          3,
          10,
          10,
          26,
          7,
          898,
          63,
          6,
          297,
          16,
          62,
          64,
          121,
          161,
          107,
          13,
          29,
          246,
          106,
          65,
          93,
          2,
          18,
          1169,
          17,
          17,
          296,
          118,
          2,
          326,
          1,
          43,
          39,
          26,
          33,
          73,
          11,
          7,
          457,
          49,
          1,
          3,
          52,
          16,
          43,
          22,
          3,
          7,
          14,
          4,
          153,
          1,
          76,
          2,
          36,
          98,
          115,
          295,
          2556,
          2001,
          33,
          2793,
          701,
          9,
          419,
          34,
          2118,
          99,
          1,
          3,
          468,
          2,
          10,
          12348,
          185,
          90,
          1,
          11,
          17,
          9,
          17,
          66,
          5,
          7,
          7,
          11,
          203,
          21,
          259,
          1445,
          15,
          22,
          1,
          15,
          11,
          12,
          9,
          3,
          466,
          67,
          124,
          909,
          7,
          39,
          258,
          10,
          89,
          8,
          908,
          11,
          142,
          85,
          71,
          36,
          140,
          665,
          4,
          30,
          67,
          14,
          152,
          14,
          13,
          6,
          5,
          57,
          292,
          84,
          56,
          106,
          4,
          2138,
          21,
          78,
          4,
          3,
          129,
          10,
          693,
          30,
          14,
          6,
          36,
          8,
          16,
          7,
          33,
          5,
          43,
          343,
          31,
          3,
          25,
          4321,
          1,
          3666,
          126,
          106,
          140,
          22,
          85,
          61,
          25,
          140,
          57,
          12,
          15,
          286,
          2,
          16,
          16,
          70,
          30,
          17,
          17,
          28,
          5,
          33,
          123,
          84,
          13,
          26,
          101,
          26,
          28,
          94,
          233,
          35,
          9,
          192,
          355,
          89,
          17,
          7,
          12,
          13,
          21,
          23,
          119,
          7,
          682,
          200,
          1,
          367,
          110,
          90,
          2,
          645,
          26,
          83,
          72,
          65,
          28,
          226,
          28,
          475,
          57,
          3,
          36,
          1023,
          32,
          31,
          11,
          9,
          2869,
          1709,
          121,
          239,
          141,
          3,
          138,
          32,
          14,
          21,
          238,
          6,
          148,
          34,
          8,
          865,
          67,
          140,
          14,
          37,
          224,
          365,
          17,
          36,
          1,
          16,
          6,
          16,
          69,
          5,
          11,
          938,
          157,
          430,
          63,
          90,
          8,
          34,
          55,
          11524,
          614,
          54,
          377,
          290,
          6054,
          4158,
          256,
          1185,
          3121,
          18,
          159,
          85,
          72,
          134,
          21,
          329,
          28,
          553,
          4310,
          5439,
          1,
          1,
          55,
          102,
          252,
          48,
          75,
          123,
          11,
          10,
          36,
          1342,
          9,
          8,
          37,
          8,
          17,
          17,
          24,
          9,
          23,
          13,
          57,
          10,
          1,
          32,
          9,
          35,
          78,
          9,
          26,
          321,
          10,
          10,
          32,
          96,
          18,
          41,
          19,
          45,
          7,
          16,
          64,
          3,
          20,
          6,
          8,
          242,
          2881,
          121,
          127,
          47,
          8,
          133,
          108,
          77,
          8,
          14,
          357,
          137,
          37,
          37,
          13,
          1,
          88,
          1,
          1,
          2689,
          10,
          76,
          270,
          6,
          17,
          299,
          22,
          5,
          57,
          58,
          103,
          4,
          2,
          2353,
          23,
          3,
          5376,
          90,
          12,
          16,
          305,
          301,
          65,
          88,
          48,
          33,
          15,
          203,
          13,
          43,
          4,
          61,
          1
         ],
         "yaxis": "y"
        }
       ],
       "layout": {
        "barmode": "relative",
        "legend": {
         "tracegroupgap": 0
        },
        "margin": {
         "t": 60
        },
        "template": {
         "data": {
          "bar": [
           {
            "error_x": {
             "color": "#2a3f5f"
            },
            "error_y": {
             "color": "#2a3f5f"
            },
            "marker": {
             "line": {
              "color": "#E5ECF6",
              "width": 0.5
             },
             "pattern": {
              "fillmode": "overlay",
              "size": 10,
              "solidity": 0.2
             }
            },
            "type": "bar"
           }
          ],
          "barpolar": [
           {
            "marker": {
             "line": {
              "color": "#E5ECF6",
              "width": 0.5
             },
             "pattern": {
              "fillmode": "overlay",
              "size": 10,
              "solidity": 0.2
             }
            },
            "type": "barpolar"
           }
          ],
          "carpet": [
           {
            "aaxis": {
             "endlinecolor": "#2a3f5f",
             "gridcolor": "white",
             "linecolor": "white",
             "minorgridcolor": "white",
             "startlinecolor": "#2a3f5f"
            },
            "baxis": {
             "endlinecolor": "#2a3f5f",
             "gridcolor": "white",
             "linecolor": "white",
             "minorgridcolor": "white",
             "startlinecolor": "#2a3f5f"
            },
            "type": "carpet"
           }
          ],
          "choropleth": [
           {
            "colorbar": {
             "outlinewidth": 0,
             "ticks": ""
            },
            "type": "choropleth"
           }
          ],
          "contour": [
           {
            "colorbar": {
             "outlinewidth": 0,
             "ticks": ""
            },
            "colorscale": [
             [
              0,
              "#0d0887"
             ],
             [
              0.1111111111111111,
              "#46039f"
             ],
             [
              0.2222222222222222,
              "#7201a8"
             ],
             [
              0.3333333333333333,
              "#9c179e"
             ],
             [
              0.4444444444444444,
              "#bd3786"
             ],
             [
              0.5555555555555556,
              "#d8576b"
             ],
             [
              0.6666666666666666,
              "#ed7953"
             ],
             [
              0.7777777777777778,
              "#fb9f3a"
             ],
             [
              0.8888888888888888,
              "#fdca26"
             ],
             [
              1,
              "#f0f921"
             ]
            ],
            "type": "contour"
           }
          ],
          "contourcarpet": [
           {
            "colorbar": {
             "outlinewidth": 0,
             "ticks": ""
            },
            "type": "contourcarpet"
           }
          ],
          "heatmap": [
           {
            "colorbar": {
             "outlinewidth": 0,
             "ticks": ""
            },
            "colorscale": [
             [
              0,
              "#0d0887"
             ],
             [
              0.1111111111111111,
              "#46039f"
             ],
             [
              0.2222222222222222,
              "#7201a8"
             ],
             [
              0.3333333333333333,
              "#9c179e"
             ],
             [
              0.4444444444444444,
              "#bd3786"
             ],
             [
              0.5555555555555556,
              "#d8576b"
             ],
             [
              0.6666666666666666,
              "#ed7953"
             ],
             [
              0.7777777777777778,
              "#fb9f3a"
             ],
             [
              0.8888888888888888,
              "#fdca26"
             ],
             [
              1,
              "#f0f921"
             ]
            ],
            "type": "heatmap"
           }
          ],
          "heatmapgl": [
           {
            "colorbar": {
             "outlinewidth": 0,
             "ticks": ""
            },
            "colorscale": [
             [
              0,
              "#0d0887"
             ],
             [
              0.1111111111111111,
              "#46039f"
             ],
             [
              0.2222222222222222,
              "#7201a8"
             ],
             [
              0.3333333333333333,
              "#9c179e"
             ],
             [
              0.4444444444444444,
              "#bd3786"
             ],
             [
              0.5555555555555556,
              "#d8576b"
             ],
             [
              0.6666666666666666,
              "#ed7953"
             ],
             [
              0.7777777777777778,
              "#fb9f3a"
             ],
             [
              0.8888888888888888,
              "#fdca26"
             ],
             [
              1,
              "#f0f921"
             ]
            ],
            "type": "heatmapgl"
           }
          ],
          "histogram": [
           {
            "marker": {
             "pattern": {
              "fillmode": "overlay",
              "size": 10,
              "solidity": 0.2
             }
            },
            "type": "histogram"
           }
          ],
          "histogram2d": [
           {
            "colorbar": {
             "outlinewidth": 0,
             "ticks": ""
            },
            "colorscale": [
             [
              0,
              "#0d0887"
             ],
             [
              0.1111111111111111,
              "#46039f"
             ],
             [
              0.2222222222222222,
              "#7201a8"
             ],
             [
              0.3333333333333333,
              "#9c179e"
             ],
             [
              0.4444444444444444,
              "#bd3786"
             ],
             [
              0.5555555555555556,
              "#d8576b"
             ],
             [
              0.6666666666666666,
              "#ed7953"
             ],
             [
              0.7777777777777778,
              "#fb9f3a"
             ],
             [
              0.8888888888888888,
              "#fdca26"
             ],
             [
              1,
              "#f0f921"
             ]
            ],
            "type": "histogram2d"
           }
          ],
          "histogram2dcontour": [
           {
            "colorbar": {
             "outlinewidth": 0,
             "ticks": ""
            },
            "colorscale": [
             [
              0,
              "#0d0887"
             ],
             [
              0.1111111111111111,
              "#46039f"
             ],
             [
              0.2222222222222222,
              "#7201a8"
             ],
             [
              0.3333333333333333,
              "#9c179e"
             ],
             [
              0.4444444444444444,
              "#bd3786"
             ],
             [
              0.5555555555555556,
              "#d8576b"
             ],
             [
              0.6666666666666666,
              "#ed7953"
             ],
             [
              0.7777777777777778,
              "#fb9f3a"
             ],
             [
              0.8888888888888888,
              "#fdca26"
             ],
             [
              1,
              "#f0f921"
             ]
            ],
            "type": "histogram2dcontour"
           }
          ],
          "mesh3d": [
           {
            "colorbar": {
             "outlinewidth": 0,
             "ticks": ""
            },
            "type": "mesh3d"
           }
          ],
          "parcoords": [
           {
            "line": {
             "colorbar": {
              "outlinewidth": 0,
              "ticks": ""
             }
            },
            "type": "parcoords"
           }
          ],
          "pie": [
           {
            "automargin": true,
            "type": "pie"
           }
          ],
          "scatter": [
           {
            "fillpattern": {
             "fillmode": "overlay",
             "size": 10,
             "solidity": 0.2
            },
            "type": "scatter"
           }
          ],
          "scatter3d": [
           {
            "line": {
             "colorbar": {
              "outlinewidth": 0,
              "ticks": ""
             }
            },
            "marker": {
             "colorbar": {
              "outlinewidth": 0,
              "ticks": ""
             }
            },
            "type": "scatter3d"
           }
          ],
          "scattercarpet": [
           {
            "marker": {
             "colorbar": {
              "outlinewidth": 0,
              "ticks": ""
             }
            },
            "type": "scattercarpet"
           }
          ],
          "scattergeo": [
           {
            "marker": {
             "colorbar": {
              "outlinewidth": 0,
              "ticks": ""
             }
            },
            "type": "scattergeo"
           }
          ],
          "scattergl": [
           {
            "marker": {
             "colorbar": {
              "outlinewidth": 0,
              "ticks": ""
             }
            },
            "type": "scattergl"
           }
          ],
          "scattermapbox": [
           {
            "marker": {
             "colorbar": {
              "outlinewidth": 0,
              "ticks": ""
             }
            },
            "type": "scattermapbox"
           }
          ],
          "scatterpolar": [
           {
            "marker": {
             "colorbar": {
              "outlinewidth": 0,
              "ticks": ""
             }
            },
            "type": "scatterpolar"
           }
          ],
          "scatterpolargl": [
           {
            "marker": {
             "colorbar": {
              "outlinewidth": 0,
              "ticks": ""
             }
            },
            "type": "scatterpolargl"
           }
          ],
          "scatterternary": [
           {
            "marker": {
             "colorbar": {
              "outlinewidth": 0,
              "ticks": ""
             }
            },
            "type": "scatterternary"
           }
          ],
          "surface": [
           {
            "colorbar": {
             "outlinewidth": 0,
             "ticks": ""
            },
            "colorscale": [
             [
              0,
              "#0d0887"
             ],
             [
              0.1111111111111111,
              "#46039f"
             ],
             [
              0.2222222222222222,
              "#7201a8"
             ],
             [
              0.3333333333333333,
              "#9c179e"
             ],
             [
              0.4444444444444444,
              "#bd3786"
             ],
             [
              0.5555555555555556,
              "#d8576b"
             ],
             [
              0.6666666666666666,
              "#ed7953"
             ],
             [
              0.7777777777777778,
              "#fb9f3a"
             ],
             [
              0.8888888888888888,
              "#fdca26"
             ],
             [
              1,
              "#f0f921"
             ]
            ],
            "type": "surface"
           }
          ],
          "table": [
           {
            "cells": {
             "fill": {
              "color": "#EBF0F8"
             },
             "line": {
              "color": "white"
             }
            },
            "header": {
             "fill": {
              "color": "#C8D4E3"
             },
             "line": {
              "color": "white"
             }
            },
            "type": "table"
           }
          ]
         },
         "layout": {
          "annotationdefaults": {
           "arrowcolor": "#2a3f5f",
           "arrowhead": 0,
           "arrowwidth": 1
          },
          "autotypenumbers": "strict",
          "coloraxis": {
           "colorbar": {
            "outlinewidth": 0,
            "ticks": ""
           }
          },
          "colorscale": {
           "diverging": [
            [
             0,
             "#8e0152"
            ],
            [
             0.1,
             "#c51b7d"
            ],
            [
             0.2,
             "#de77ae"
            ],
            [
             0.3,
             "#f1b6da"
            ],
            [
             0.4,
             "#fde0ef"
            ],
            [
             0.5,
             "#f7f7f7"
            ],
            [
             0.6,
             "#e6f5d0"
            ],
            [
             0.7,
             "#b8e186"
            ],
            [
             0.8,
             "#7fbc41"
            ],
            [
             0.9,
             "#4d9221"
            ],
            [
             1,
             "#276419"
            ]
           ],
           "sequential": [
            [
             0,
             "#0d0887"
            ],
            [
             0.1111111111111111,
             "#46039f"
            ],
            [
             0.2222222222222222,
             "#7201a8"
            ],
            [
             0.3333333333333333,
             "#9c179e"
            ],
            [
             0.4444444444444444,
             "#bd3786"
            ],
            [
             0.5555555555555556,
             "#d8576b"
            ],
            [
             0.6666666666666666,
             "#ed7953"
            ],
            [
             0.7777777777777778,
             "#fb9f3a"
            ],
            [
             0.8888888888888888,
             "#fdca26"
            ],
            [
             1,
             "#f0f921"
            ]
           ],
           "sequentialminus": [
            [
             0,
             "#0d0887"
            ],
            [
             0.1111111111111111,
             "#46039f"
            ],
            [
             0.2222222222222222,
             "#7201a8"
            ],
            [
             0.3333333333333333,
             "#9c179e"
            ],
            [
             0.4444444444444444,
             "#bd3786"
            ],
            [
             0.5555555555555556,
             "#d8576b"
            ],
            [
             0.6666666666666666,
             "#ed7953"
            ],
            [
             0.7777777777777778,
             "#fb9f3a"
            ],
            [
             0.8888888888888888,
             "#fdca26"
            ],
            [
             1,
             "#f0f921"
            ]
           ]
          },
          "colorway": [
           "#636efa",
           "#EF553B",
           "#00cc96",
           "#ab63fa",
           "#FFA15A",
           "#19d3f3",
           "#FF6692",
           "#B6E880",
           "#FF97FF",
           "#FECB52"
          ],
          "font": {
           "color": "#2a3f5f"
          },
          "geo": {
           "bgcolor": "white",
           "lakecolor": "white",
           "landcolor": "#E5ECF6",
           "showlakes": true,
           "showland": true,
           "subunitcolor": "white"
          },
          "hoverlabel": {
           "align": "left"
          },
          "hovermode": "closest",
          "mapbox": {
           "style": "light"
          },
          "paper_bgcolor": "white",
          "plot_bgcolor": "#E5ECF6",
          "polar": {
           "angularaxis": {
            "gridcolor": "white",
            "linecolor": "white",
            "ticks": ""
           },
           "bgcolor": "#E5ECF6",
           "radialaxis": {
            "gridcolor": "white",
            "linecolor": "white",
            "ticks": ""
           }
          },
          "scene": {
           "xaxis": {
            "backgroundcolor": "#E5ECF6",
            "gridcolor": "white",
            "gridwidth": 2,
            "linecolor": "white",
            "showbackground": true,
            "ticks": "",
            "zerolinecolor": "white"
           },
           "yaxis": {
            "backgroundcolor": "#E5ECF6",
            "gridcolor": "white",
            "gridwidth": 2,
            "linecolor": "white",
            "showbackground": true,
            "ticks": "",
            "zerolinecolor": "white"
           },
           "zaxis": {
            "backgroundcolor": "#E5ECF6",
            "gridcolor": "white",
            "gridwidth": 2,
            "linecolor": "white",
            "showbackground": true,
            "ticks": "",
            "zerolinecolor": "white"
           }
          },
          "shapedefaults": {
           "line": {
            "color": "#2a3f5f"
           }
          },
          "ternary": {
           "aaxis": {
            "gridcolor": "white",
            "linecolor": "white",
            "ticks": ""
           },
           "baxis": {
            "gridcolor": "white",
            "linecolor": "white",
            "ticks": ""
           },
           "bgcolor": "#E5ECF6",
           "caxis": {
            "gridcolor": "white",
            "linecolor": "white",
            "ticks": ""
           }
          },
          "title": {
           "x": 0.05
          },
          "xaxis": {
           "automargin": true,
           "gridcolor": "white",
           "linecolor": "white",
           "ticks": "",
           "title": {
            "standoff": 15
           },
           "zerolinecolor": "white",
           "zerolinewidth": 2
          },
          "yaxis": {
           "automargin": true,
           "gridcolor": "white",
           "linecolor": "white",
           "ticks": "",
           "title": {
            "standoff": 15
           },
           "zerolinecolor": "white",
           "zerolinewidth": 2
          }
         }
        },
        "xaxis": {
         "anchor": "y",
         "domain": [
          0,
          1
         ],
         "title": {
          "text": "index"
         }
        },
        "yaxis": {
         "anchor": "x",
         "domain": [
          0,
          1
         ],
         "title": {
          "text": "0"
         }
        }
       }
      },
      "text/html": [
       "<div>                            <div id=\"09f7af33-3ff4-4ee0-8fbd-2f704c53458a\" class=\"plotly-graph-div\" style=\"height:525px; width:100%;\"></div>            <script type=\"text/javascript\">                require([\"plotly\"], function(Plotly) {                    window.PLOTLYENV=window.PLOTLYENV || {};                                    if (document.getElementById(\"09f7af33-3ff4-4ee0-8fbd-2f704c53458a\")) {                    Plotly.newPlot(                        \"09f7af33-3ff4-4ee0-8fbd-2f704c53458a\",                        [{\"alignmentgroup\":\"True\",\"hovertemplate\":\"index=%{x}<br>0=%{y}<extra></extra>\",\"legendgroup\":\"\",\"marker\":{\"color\":\"#636efa\",\"pattern\":{\"shape\":\"\"}},\"name\":\"\",\"offsetgroup\":\"\",\"orientation\":\"v\",\"showlegend\":false,\"textposition\":\"auto\",\"x\":[\"a_cappella\",\"acoustic_pop\",\"adult_standards\",\"afrofuturism\",\"alabama_rap\",\"alberta_country\",\"album_rock\",\"alt_z\",\"alternative_dance\",\"alternative_hip_hop\",\"alternative_metal\",\"alternative_pop\",\"alternative_r&b\",\"alternative_rock\",\"american_folk_revival\",\"anarcho-punk\",\"anti-folk\",\"arkansas_country\",\"arkansas_hip_hop\",\"art_pop\",\"art_rock\",\"asian_american_hip_hop\",\"atl_hip_hop\",\"atl_trap\",\"atlanta_bass\",\"austin_singer-songwriter\",\"australian_country\",\"australian_dance\",\"australian_electropop\",\"australian_hip_hop\",\"australian_house\",\"australian_indie\",\"australian_pop\",\"australian_talent_show\",\"bahamian_pop\",\"barbadian_pop\",\"baroque_pop\",\"bass_house\",\"bass_trap\",\"bassline\",\"baton_rouge_rap\",\"battle_rap\",\"bedroom_pop\",\"bedroom_soul\",\"belgian_dance\",\"belgian_pop\",\"bhangra\",\"big_beat\",\"big_room\",\"black_americana\",\"blues_rock\",\"bossbeat\",\"boston_hip_hop\",\"boston_punk\",\"boston_rock\",\"bounce\",\"bow_pop\",\"boy_band\",\"brill_building_pop\",\"british_invasion\",\"british_soul\",\"britpop\",\"bronx_hip_hop\",\"brooklyn_drill\",\"brostep\",\"bubblegum_dance\",\"cali_rap\",\"canadian_celtic\",\"canadian_contemporary_country\",\"canadian_contemporary_r&b\",\"canadian_country\",\"canadian_hip_hop\",\"canadian_latin\",\"canadian_metal\",\"canadian_old_school_hip_hop\",\"canadian_pop\",\"canadian_pop_punk\",\"canadian_punk\",\"canadian_rock\",\"canadian_singer-songwriter\",\"canadian_trap\",\"candy_pop\",\"cartoon\",\"ccm\",\"celtic\",\"celtic_rock\",\"chamber_pop\",\"chicago_bop\",\"chicago_drill\",\"chicago_indie\",\"chicago_rap\",\"chicano_rap\",\"children's_music\",\"chopped_and_screwed\",\"christian_alternative_rock\",\"christian_indie\",\"christian_music\",\"christian_rock\",\"chutney\",\"classic_bhangra\",\"classic_dubstep\",\"classic_girl_group\",\"classic_rock\",\"clean_comedy\",\"colombian_pop\",\"comedy\",\"comedy_rap\",\"comic\",\"complextro\",\"conscious_hip_hop\",\"contemporary_country\",\"contemporary_r&b\",\"contemporary_vocal_jazz\",\"country\",\"country_dawn\",\"country_gospel\",\"country_pop\",\"country_rap\",\"country_road\",\"country_rock\",\"cowboy_western\",\"cowpunk\",\"crunk\",\"cyberpunk\",\"dance-punk\",\"dance_pop\",\"dance_rock\",\"dancehall\",\"danish_pop\",\"dark_clubbing\",\"dark_pop\",\"deep_acoustic_pop\",\"deep_southern_trap\",\"deep_underground_hip_hop\",\"derby_indie\",\"desi_hip_hop\",\"desi_pop\",\"destroy_techno\",\"detroit_hip_hop\",\"detroit_rock\",\"dfw_rap\",\"dirty_south_rap\",\"disco\",\"dmv_rap\",\"dong-yo\",\"double_drumming\",\"downtempo\",\"drill\",\"dutch_edm\",\"dutch_pop\",\"east_coast_hip_hop\",\"easy_listening\",\"ectofolk\",\"edm\",\"electra\",\"electro\",\"electro_house\",\"electronic_rock\",\"electronic_trap\",\"electronica\",\"electropop\",\"electropowerpop\",\"emo\",\"emo_rap\",\"escape_room\",\"etherpop\",\"eurodance\",\"europop\",\"fake\",\"filter_house\",\"florida_rap\",\"folk\",\"folk-pop\",\"folk_rock\",\"french_indie_pop\",\"french_pop\",\"french_rock\",\"funk\",\"funk_metal\",\"funk_rock\",\"futuristic_swag\",\"g_funk\",\"gambian_hip_hop\",\"gangster_rap\",\"garage_rock\",\"gauze_pop\",\"gen_z_singer-songwriter\",\"german_pop\",\"german_techno\",\"ghanaian_hip_hop\",\"girl_group\",\"glam_metal\",\"glam_rock\",\"glee_club\",\"golden_age_hip_hop\",\"gospel\",\"gospel_r&b\",\"grime\",\"grunge\",\"grunge_pop\",\"hard_rock\",\"hardcore_hip_hop\",\"harlem_hip_hop\",\"hawaiian_hip_hop\",\"heartland_rock\",\"hip_hop\",\"hip_house\",\"hip_pop\",\"hollywood\",\"house\",\"houston_rap\",\"hyphy\",\"idol\",\"indie_pop\",\"indie_pop_rap\",\"indie_poptimism\",\"indie_rock\",\"indie_soul\",\"indiecoustica\",\"indietronica\",\"industrial\",\"industrial_metal\",\"industrial_rock\",\"irish_rock\",\"irish_singer-songwriter\",\"italian_adult_pop\",\"italo_dance\",\"jam_band\",\"jamaican_dancehall\",\"jazz_pop\",\"k-pop\",\"k-pop_boy_group\",\"k-pop_girl_group\",\"k-rap\",\"kentucky_hip_hop\",\"korean_old_school_hip_hop\",\"la_indie\",\"latin_hip_hop\",\"latin_pop\",\"latin_viral_pop\",\"lds_youth\",\"lgbtq+_hip_hop\",\"lilith\",\"lounge\",\"lovers_rock\",\"madchester\",\"maine_hip_hop\",\"medieval_folk\",\"melancholia\",\"melbourne_bounce_international\",\"mellow_gold\",\"melodic_dubstep\",\"melodic_rap\",\"memphis_hip_hop\",\"metal\",\"metropopolis\",\"mexican_classic_rock\",\"mexican_pop\",\"miami_bass\",\"miami_hip_hop\",\"middle_earth\",\"minneapolis_sound\",\"minnesota_hip_hop\",\"mississippi_hip_hop\",\"modern_alternative_pop\",\"modern_alternative_rock\",\"modern_blues_rock\",\"modern_country_rock\",\"modern_folk_rock\",\"modern_indie_pop\",\"modern_power_pop\",\"modern_rock\",\"modern_uplift\",\"nashville_hip_hop\",\"neo-singer-songwriter\",\"neo-synthpop\",\"neo_mellow\",\"neo_soul\",\"neon_pop_punk\",\"new_jack_swing\",\"new_jersey_rap\",\"new_jersey_underground_rap\",\"new_orleans_rap\",\"new_rave\",\"new_romantic\",\"new_wave\",\"new_wave_pop\",\"ninja\",\"north_carolina_hip_hop\",\"norwegian_pop\",\"nouvelle_chanson_francaise\",\"nu_metal\",\"nyc_rap\",\"nz_pop\",\"oakland_hip_hop\",\"ohio_hip_hop\",\"oklahoma_country\",\"old_school_atlanta_hip_hop\",\"old_school_dancehall\",\"old_school_hip_hop\",\"old_school_thrash\",\"omaha_indie\",\"operatic_pop\",\"orchestral_soundtrack\",\"outlaw_country\",\"oxford_indie\",\"panamanian_pop\",\"permanent_wave\",\"philly_rap\",\"piano_rock\",\"pittsburgh_rap\",\"pixie\",\"plugg\",\"pluggnb\",\"political_hip_hop\",\"pop\",\"pop_dance\",\"pop_emo\",\"pop_punk\",\"pop_r&b\",\"pop_rap\",\"pop_rock\",\"pop_soul\",\"post-grunge\",\"post-teen_pop\",\"power_pop\",\"progressive_electro_house\",\"progressive_house\",\"puerto_rican_pop\",\"punk\",\"punk_blues\",\"queens_hip_hop\",\"queer_country\",\"quiet_storm\",\"r&b\",\"rap\",\"rap_conscient\",\"rap_kreyol\",\"rap_latina\",\"rap_metal\",\"rap_rock\",\"redneck\",\"reggae_fusion\",\"reggaeton\",\"reggaeton_colombiano\",\"reggaeton_flow\",\"rhode_island_rap\",\"rock\",\"rock-and-roll\",\"rock_drums\",\"rockabilly\",\"romanian_house\",\"romanian_pop\",\"roots_reggae\",\"sad_rap\",\"salsa\",\"san_diego_rap\",\"scam_rap\",\"scandipop\",\"scottish_singer-songwriter\",\"screamo\",\"seattle_hip_hop\",\"seattle_indie\",\"shimmer_pop\",\"shiver_pop\",\"shoegaze\",\"show_tunes\",\"singer-songwriter\",\"ska\",\"ska_punk\",\"skate_punk\",\"slap_house\",\"sleaze_rock\",\"soca\",\"socal_pop_punk\",\"soft_rock\",\"solo_wave\",\"sophisti-pop\",\"soul\",\"soul_flow\",\"soundtrack\",\"south_african_pop\",\"south_african_rock\",\"south_carolina_hip_hop\",\"southern_hip_hop\",\"st_louis_rap\",\"stomp_and_holler\",\"stomp_pop\",\"supergroup\",\"swedish_electropop\",\"swedish_pop\",\"swedish_synthpop\",\"swing\",\"synthpop\",\"talent_show\",\"tennessee_hip_hop\",\"texas_country\",\"texas_latin_rap\",\"texas_pop_punk\",\"thrash_metal\",\"toronto_rap\",\"traditional_country\",\"trancecore\",\"trap\",\"trap_boricua\",\"trap_latino\",\"trap_queen\",\"trip_hop\",\"tropical\",\"tropical_house\",\"turntablism\",\"uk_alternative_pop\",\"uk_americana\",\"uk_contemporary_r&b\",\"uk_dance\",\"uk_funky\",\"uk_garage\",\"uk_pop\",\"underground_hip_hop\",\"upstate_ny_rap\",\"urban_contemporary\",\"vapor_trap\",\"vapor_twitch\",\"vincy_soca\",\"viral_pop\",\"viral_rap\",\"viral_trap\",\"virginia_hip_hop\",\"vocal_house\",\"vocal_jazz\",\"washington_indie\",\"west_coast_rap\",\"world\",\"worship\",\"yacht_rock\",\"yakut_pop\",\"yodeling\"],\"xaxis\":\"x\",\"y\":[12.0,226.0,120.0,36.0,26.0,37.0,28.0,46.0,27.0,55.0,1291.0,4.0,143.0,909.0,19.0,29.0,20.0,32.0,5.0,417.0,24.0,51.0,1667.0,42.0,29.0,14.0,28.0,113.0,11.0,138.0,8.0,11.0,321.0,14.0,18.0,228.0,115.0,8.0,12.0,41.0,20.0,17.0,12.0,8.0,1.0,1.0,7.0,23.0,29.0,68.0,132.0,3.0,3.0,10.0,10.0,26.0,7.0,898.0,63.0,6.0,297.0,16.0,62.0,64.0,121.0,161.0,107.0,13.0,29.0,246.0,106.0,65.0,93.0,2.0,18.0,1169.0,17.0,17.0,296.0,118.0,2.0,326.0,1.0,43.0,39.0,26.0,33.0,73.0,11.0,7.0,457.0,49.0,1.0,3.0,52.0,16.0,43.0,22.0,3.0,7.0,14.0,4.0,153.0,1.0,76.0,2.0,36.0,98.0,115.0,295.0,2556.0,2001.0,33.0,2793.0,701.0,9.0,419.0,34.0,2118.0,99.0,1.0,3.0,468.0,2.0,10.0,12348.0,185.0,90.0,1.0,11.0,17.0,9.0,17.0,66.0,5.0,7.0,7.0,11.0,203.0,21.0,259.0,1445.0,15.0,22.0,1.0,15.0,11.0,12.0,9.0,3.0,466.0,67.0,124.0,909.0,7.0,39.0,258.0,10.0,89.0,8.0,908.0,11.0,142.0,85.0,71.0,36.0,140.0,665.0,4.0,30.0,67.0,14.0,152.0,14.0,13.0,6.0,5.0,57.0,292.0,84.0,56.0,106.0,4.0,2138.0,21.0,78.0,4.0,3.0,129.0,10.0,693.0,30.0,14.0,6.0,36.0,8.0,16.0,7.0,33.0,5.0,43.0,343.0,31.0,3.0,25.0,4321.0,1.0,3666.0,126.0,106.0,140.0,22.0,85.0,61.0,25.0,140.0,57.0,12.0,15.0,286.0,2.0,16.0,16.0,70.0,30.0,17.0,17.0,28.0,5.0,33.0,123.0,84.0,13.0,26.0,101.0,26.0,28.0,94.0,233.0,35.0,9.0,192.0,355.0,89.0,17.0,7.0,12.0,13.0,21.0,23.0,119.0,7.0,682.0,200.0,1.0,367.0,110.0,90.0,2.0,645.0,26.0,83.0,72.0,65.0,28.0,226.0,28.0,475.0,57.0,3.0,36.0,1023.0,32.0,31.0,11.0,9.0,2869.0,1709.0,121.0,239.0,141.0,3.0,138.0,32.0,14.0,21.0,238.0,6.0,148.0,34.0,8.0,865.0,67.0,140.0,14.0,37.0,224.0,365.0,17.0,36.0,1.0,16.0,6.0,16.0,69.0,5.0,11.0,938.0,157.0,430.0,63.0,90.0,8.0,34.0,55.0,11524.0,614.0,54.0,377.0,290.0,6054.0,4158.0,256.0,1185.0,3121.0,18.0,159.0,85.0,72.0,134.0,21.0,329.0,28.0,553.0,4310.0,5439.0,1.0,1.0,55.0,102.0,252.0,48.0,75.0,123.0,11.0,10.0,36.0,1342.0,9.0,8.0,37.0,8.0,17.0,17.0,24.0,9.0,23.0,13.0,57.0,10.0,1.0,32.0,9.0,35.0,78.0,9.0,26.0,321.0,10.0,10.0,32.0,96.0,18.0,41.0,19.0,45.0,7.0,16.0,64.0,3.0,20.0,6.0,8.0,242.0,2881.0,121.0,127.0,47.0,8.0,133.0,108.0,77.0,8.0,14.0,357.0,137.0,37.0,37.0,13.0,1.0,88.0,1.0,1.0,2689.0,10.0,76.0,270.0,6.0,17.0,299.0,22.0,5.0,57.0,58.0,103.0,4.0,2.0,2353.0,23.0,3.0,5376.0,90.0,12.0,16.0,305.0,301.0,65.0,88.0,48.0,33.0,15.0,203.0,13.0,43.0,4.0,61.0,1.0],\"yaxis\":\"y\",\"type\":\"bar\"}],                        {\"template\":{\"data\":{\"histogram2dcontour\":[{\"type\":\"histogram2dcontour\",\"colorbar\":{\"outlinewidth\":0,\"ticks\":\"\"},\"colorscale\":[[0.0,\"#0d0887\"],[0.1111111111111111,\"#46039f\"],[0.2222222222222222,\"#7201a8\"],[0.3333333333333333,\"#9c179e\"],[0.4444444444444444,\"#bd3786\"],[0.5555555555555556,\"#d8576b\"],[0.6666666666666666,\"#ed7953\"],[0.7777777777777778,\"#fb9f3a\"],[0.8888888888888888,\"#fdca26\"],[1.0,\"#f0f921\"]]}],\"choropleth\":[{\"type\":\"choropleth\",\"colorbar\":{\"outlinewidth\":0,\"ticks\":\"\"}}],\"histogram2d\":[{\"type\":\"histogram2d\",\"colorbar\":{\"outlinewidth\":0,\"ticks\":\"\"},\"colorscale\":[[0.0,\"#0d0887\"],[0.1111111111111111,\"#46039f\"],[0.2222222222222222,\"#7201a8\"],[0.3333333333333333,\"#9c179e\"],[0.4444444444444444,\"#bd3786\"],[0.5555555555555556,\"#d8576b\"],[0.6666666666666666,\"#ed7953\"],[0.7777777777777778,\"#fb9f3a\"],[0.8888888888888888,\"#fdca26\"],[1.0,\"#f0f921\"]]}],\"heatmap\":[{\"type\":\"heatmap\",\"colorbar\":{\"outlinewidth\":0,\"ticks\":\"\"},\"colorscale\":[[0.0,\"#0d0887\"],[0.1111111111111111,\"#46039f\"],[0.2222222222222222,\"#7201a8\"],[0.3333333333333333,\"#9c179e\"],[0.4444444444444444,\"#bd3786\"],[0.5555555555555556,\"#d8576b\"],[0.6666666666666666,\"#ed7953\"],[0.7777777777777778,\"#fb9f3a\"],[0.8888888888888888,\"#fdca26\"],[1.0,\"#f0f921\"]]}],\"heatmapgl\":[{\"type\":\"heatmapgl\",\"colorbar\":{\"outlinewidth\":0,\"ticks\":\"\"},\"colorscale\":[[0.0,\"#0d0887\"],[0.1111111111111111,\"#46039f\"],[0.2222222222222222,\"#7201a8\"],[0.3333333333333333,\"#9c179e\"],[0.4444444444444444,\"#bd3786\"],[0.5555555555555556,\"#d8576b\"],[0.6666666666666666,\"#ed7953\"],[0.7777777777777778,\"#fb9f3a\"],[0.8888888888888888,\"#fdca26\"],[1.0,\"#f0f921\"]]}],\"contourcarpet\":[{\"type\":\"contourcarpet\",\"colorbar\":{\"outlinewidth\":0,\"ticks\":\"\"}}],\"contour\":[{\"type\":\"contour\",\"colorbar\":{\"outlinewidth\":0,\"ticks\":\"\"},\"colorscale\":[[0.0,\"#0d0887\"],[0.1111111111111111,\"#46039f\"],[0.2222222222222222,\"#7201a8\"],[0.3333333333333333,\"#9c179e\"],[0.4444444444444444,\"#bd3786\"],[0.5555555555555556,\"#d8576b\"],[0.6666666666666666,\"#ed7953\"],[0.7777777777777778,\"#fb9f3a\"],[0.8888888888888888,\"#fdca26\"],[1.0,\"#f0f921\"]]}],\"surface\":[{\"type\":\"surface\",\"colorbar\":{\"outlinewidth\":0,\"ticks\":\"\"},\"colorscale\":[[0.0,\"#0d0887\"],[0.1111111111111111,\"#46039f\"],[0.2222222222222222,\"#7201a8\"],[0.3333333333333333,\"#9c179e\"],[0.4444444444444444,\"#bd3786\"],[0.5555555555555556,\"#d8576b\"],[0.6666666666666666,\"#ed7953\"],[0.7777777777777778,\"#fb9f3a\"],[0.8888888888888888,\"#fdca26\"],[1.0,\"#f0f921\"]]}],\"mesh3d\":[{\"type\":\"mesh3d\",\"colorbar\":{\"outlinewidth\":0,\"ticks\":\"\"}}],\"scatter\":[{\"fillpattern\":{\"fillmode\":\"overlay\",\"size\":10,\"solidity\":0.2},\"type\":\"scatter\"}],\"parcoords\":[{\"type\":\"parcoords\",\"line\":{\"colorbar\":{\"outlinewidth\":0,\"ticks\":\"\"}}}],\"scatterpolargl\":[{\"type\":\"scatterpolargl\",\"marker\":{\"colorbar\":{\"outlinewidth\":0,\"ticks\":\"\"}}}],\"bar\":[{\"error_x\":{\"color\":\"#2a3f5f\"},\"error_y\":{\"color\":\"#2a3f5f\"},\"marker\":{\"line\":{\"color\":\"#E5ECF6\",\"width\":0.5},\"pattern\":{\"fillmode\":\"overlay\",\"size\":10,\"solidity\":0.2}},\"type\":\"bar\"}],\"scattergeo\":[{\"type\":\"scattergeo\",\"marker\":{\"colorbar\":{\"outlinewidth\":0,\"ticks\":\"\"}}}],\"scatterpolar\":[{\"type\":\"scatterpolar\",\"marker\":{\"colorbar\":{\"outlinewidth\":0,\"ticks\":\"\"}}}],\"histogram\":[{\"marker\":{\"pattern\":{\"fillmode\":\"overlay\",\"size\":10,\"solidity\":0.2}},\"type\":\"histogram\"}],\"scattergl\":[{\"type\":\"scattergl\",\"marker\":{\"colorbar\":{\"outlinewidth\":0,\"ticks\":\"\"}}}],\"scatter3d\":[{\"type\":\"scatter3d\",\"line\":{\"colorbar\":{\"outlinewidth\":0,\"ticks\":\"\"}},\"marker\":{\"colorbar\":{\"outlinewidth\":0,\"ticks\":\"\"}}}],\"scattermapbox\":[{\"type\":\"scattermapbox\",\"marker\":{\"colorbar\":{\"outlinewidth\":0,\"ticks\":\"\"}}}],\"scatterternary\":[{\"type\":\"scatterternary\",\"marker\":{\"colorbar\":{\"outlinewidth\":0,\"ticks\":\"\"}}}],\"scattercarpet\":[{\"type\":\"scattercarpet\",\"marker\":{\"colorbar\":{\"outlinewidth\":0,\"ticks\":\"\"}}}],\"carpet\":[{\"aaxis\":{\"endlinecolor\":\"#2a3f5f\",\"gridcolor\":\"white\",\"linecolor\":\"white\",\"minorgridcolor\":\"white\",\"startlinecolor\":\"#2a3f5f\"},\"baxis\":{\"endlinecolor\":\"#2a3f5f\",\"gridcolor\":\"white\",\"linecolor\":\"white\",\"minorgridcolor\":\"white\",\"startlinecolor\":\"#2a3f5f\"},\"type\":\"carpet\"}],\"table\":[{\"cells\":{\"fill\":{\"color\":\"#EBF0F8\"},\"line\":{\"color\":\"white\"}},\"header\":{\"fill\":{\"color\":\"#C8D4E3\"},\"line\":{\"color\":\"white\"}},\"type\":\"table\"}],\"barpolar\":[{\"marker\":{\"line\":{\"color\":\"#E5ECF6\",\"width\":0.5},\"pattern\":{\"fillmode\":\"overlay\",\"size\":10,\"solidity\":0.2}},\"type\":\"barpolar\"}],\"pie\":[{\"automargin\":true,\"type\":\"pie\"}]},\"layout\":{\"autotypenumbers\":\"strict\",\"colorway\":[\"#636efa\",\"#EF553B\",\"#00cc96\",\"#ab63fa\",\"#FFA15A\",\"#19d3f3\",\"#FF6692\",\"#B6E880\",\"#FF97FF\",\"#FECB52\"],\"font\":{\"color\":\"#2a3f5f\"},\"hovermode\":\"closest\",\"hoverlabel\":{\"align\":\"left\"},\"paper_bgcolor\":\"white\",\"plot_bgcolor\":\"#E5ECF6\",\"polar\":{\"bgcolor\":\"#E5ECF6\",\"angularaxis\":{\"gridcolor\":\"white\",\"linecolor\":\"white\",\"ticks\":\"\"},\"radialaxis\":{\"gridcolor\":\"white\",\"linecolor\":\"white\",\"ticks\":\"\"}},\"ternary\":{\"bgcolor\":\"#E5ECF6\",\"aaxis\":{\"gridcolor\":\"white\",\"linecolor\":\"white\",\"ticks\":\"\"},\"baxis\":{\"gridcolor\":\"white\",\"linecolor\":\"white\",\"ticks\":\"\"},\"caxis\":{\"gridcolor\":\"white\",\"linecolor\":\"white\",\"ticks\":\"\"}},\"coloraxis\":{\"colorbar\":{\"outlinewidth\":0,\"ticks\":\"\"}},\"colorscale\":{\"sequential\":[[0.0,\"#0d0887\"],[0.1111111111111111,\"#46039f\"],[0.2222222222222222,\"#7201a8\"],[0.3333333333333333,\"#9c179e\"],[0.4444444444444444,\"#bd3786\"],[0.5555555555555556,\"#d8576b\"],[0.6666666666666666,\"#ed7953\"],[0.7777777777777778,\"#fb9f3a\"],[0.8888888888888888,\"#fdca26\"],[1.0,\"#f0f921\"]],\"sequentialminus\":[[0.0,\"#0d0887\"],[0.1111111111111111,\"#46039f\"],[0.2222222222222222,\"#7201a8\"],[0.3333333333333333,\"#9c179e\"],[0.4444444444444444,\"#bd3786\"],[0.5555555555555556,\"#d8576b\"],[0.6666666666666666,\"#ed7953\"],[0.7777777777777778,\"#fb9f3a\"],[0.8888888888888888,\"#fdca26\"],[1.0,\"#f0f921\"]],\"diverging\":[[0,\"#8e0152\"],[0.1,\"#c51b7d\"],[0.2,\"#de77ae\"],[0.3,\"#f1b6da\"],[0.4,\"#fde0ef\"],[0.5,\"#f7f7f7\"],[0.6,\"#e6f5d0\"],[0.7,\"#b8e186\"],[0.8,\"#7fbc41\"],[0.9,\"#4d9221\"],[1,\"#276419\"]]},\"xaxis\":{\"gridcolor\":\"white\",\"linecolor\":\"white\",\"ticks\":\"\",\"title\":{\"standoff\":15},\"zerolinecolor\":\"white\",\"automargin\":true,\"zerolinewidth\":2},\"yaxis\":{\"gridcolor\":\"white\",\"linecolor\":\"white\",\"ticks\":\"\",\"title\":{\"standoff\":15},\"zerolinecolor\":\"white\",\"automargin\":true,\"zerolinewidth\":2},\"scene\":{\"xaxis\":{\"backgroundcolor\":\"#E5ECF6\",\"gridcolor\":\"white\",\"linecolor\":\"white\",\"showbackground\":true,\"ticks\":\"\",\"zerolinecolor\":\"white\",\"gridwidth\":2},\"yaxis\":{\"backgroundcolor\":\"#E5ECF6\",\"gridcolor\":\"white\",\"linecolor\":\"white\",\"showbackground\":true,\"ticks\":\"\",\"zerolinecolor\":\"white\",\"gridwidth\":2},\"zaxis\":{\"backgroundcolor\":\"#E5ECF6\",\"gridcolor\":\"white\",\"linecolor\":\"white\",\"showbackground\":true,\"ticks\":\"\",\"zerolinecolor\":\"white\",\"gridwidth\":2}},\"shapedefaults\":{\"line\":{\"color\":\"#2a3f5f\"}},\"annotationdefaults\":{\"arrowcolor\":\"#2a3f5f\",\"arrowhead\":0,\"arrowwidth\":1},\"geo\":{\"bgcolor\":\"white\",\"landcolor\":\"#E5ECF6\",\"subunitcolor\":\"white\",\"showland\":true,\"showlakes\":true,\"lakecolor\":\"white\"},\"title\":{\"x\":0.05},\"mapbox\":{\"style\":\"light\"}}},\"xaxis\":{\"anchor\":\"y\",\"domain\":[0.0,1.0],\"title\":{\"text\":\"index\"}},\"yaxis\":{\"anchor\":\"x\",\"domain\":[0.0,1.0],\"title\":{\"text\":\"0\"}},\"legend\":{\"tracegroupgap\":0},\"margin\":{\"t\":60},\"barmode\":\"relative\"},                        {\"responsive\": true}                    ).then(function(){\n",
       "                            \n",
       "var gd = document.getElementById('09f7af33-3ff4-4ee0-8fbd-2f704c53458a');\n",
       "var x = new MutationObserver(function (mutations, observer) {{\n",
       "        var display = window.getComputedStyle(gd).display;\n",
       "        if (!display || display === 'none') {{\n",
       "            console.log([gd, 'removed!']);\n",
       "            Plotly.purge(gd);\n",
       "            observer.disconnect();\n",
       "        }}\n",
       "}});\n",
       "\n",
       "// Listen for the removal of the full notebook cells\n",
       "var notebookContainer = gd.closest('#notebook-container');\n",
       "if (notebookContainer) {{\n",
       "    x.observe(notebookContainer, {childList: true});\n",
       "}}\n",
       "\n",
       "// Listen for the clearing of the current output cell\n",
       "var outputEl = gd.closest('.output');\n",
       "if (outputEl) {{\n",
       "    x.observe(outputEl, {childList: true});\n",
       "}}\n",
       "\n",
       "                        })                };                });            </script>        </div>"
      ]
     },
     "metadata": {},
     "output_type": "display_data"
    }
   ],
   "source": [
    "fig = px.bar(genre_counts_df, x=genre_counts_df.index, y=0)\n",
    "fig.show()"
   ]
  },
  {
   "cell_type": "code",
   "execution_count": 148,
   "id": "f2e6fb90",
   "metadata": {},
   "outputs": [
    {
     "data": {
      "application/vnd.plotly.v1+json": {
       "config": {
        "plotlyServerURL": "https://plot.ly"
       },
       "data": [
        {
         "alignmentgroup": "True",
         "bingroup": "x",
         "hovertemplate": "0=%{x}<br>count=%{y}<extra></extra>",
         "legendgroup": "",
         "marker": {
          "color": "#636efa",
          "pattern": {
           "shape": ""
          }
         },
         "name": "",
         "offsetgroup": "",
         "orientation": "v",
         "showlegend": false,
         "type": "histogram",
         "x": [
          12,
          226,
          120,
          36,
          26,
          37,
          28,
          46,
          27,
          55,
          1291,
          4,
          143,
          909,
          19,
          29,
          20,
          32,
          5,
          417,
          24,
          51,
          1667,
          42,
          29,
          14,
          28,
          113,
          11,
          138,
          8,
          11,
          321,
          14,
          18,
          228,
          115,
          8,
          12,
          41,
          20,
          17,
          12,
          8,
          1,
          1,
          7,
          23,
          29,
          68,
          132,
          3,
          3,
          10,
          10,
          26,
          7,
          898,
          63,
          6,
          297,
          16,
          62,
          64,
          121,
          161,
          107,
          13,
          29,
          246,
          106,
          65,
          93,
          2,
          18,
          1169,
          17,
          17,
          296,
          118,
          2,
          326,
          1,
          43,
          39,
          26,
          33,
          73,
          11,
          7,
          457,
          49,
          1,
          3,
          52,
          16,
          43,
          22,
          3,
          7,
          14,
          4,
          153,
          1,
          76,
          2,
          36,
          98,
          115,
          295,
          2556,
          2001,
          33,
          2793,
          701,
          9,
          419,
          34,
          2118,
          99,
          1,
          3,
          468,
          2,
          10,
          12348,
          185,
          90,
          1,
          11,
          17,
          9,
          17,
          66,
          5,
          7,
          7,
          11,
          203,
          21,
          259,
          1445,
          15,
          22,
          1,
          15,
          11,
          12,
          9,
          3,
          466,
          67,
          124,
          909,
          7,
          39,
          258,
          10,
          89,
          8,
          908,
          11,
          142,
          85,
          71,
          36,
          140,
          665,
          4,
          30,
          67,
          14,
          152,
          14,
          13,
          6,
          5,
          57,
          292,
          84,
          56,
          106,
          4,
          2138,
          21,
          78,
          4,
          3,
          129,
          10,
          693,
          30,
          14,
          6,
          36,
          8,
          16,
          7,
          33,
          5,
          43,
          343,
          31,
          3,
          25,
          4321,
          1,
          3666,
          126,
          106,
          140,
          22,
          85,
          61,
          25,
          140,
          57,
          12,
          15,
          286,
          2,
          16,
          16,
          70,
          30,
          17,
          17,
          28,
          5,
          33,
          123,
          84,
          13,
          26,
          101,
          26,
          28,
          94,
          233,
          35,
          9,
          192,
          355,
          89,
          17,
          7,
          12,
          13,
          21,
          23,
          119,
          7,
          682,
          200,
          1,
          367,
          110,
          90,
          2,
          645,
          26,
          83,
          72,
          65,
          28,
          226,
          28,
          475,
          57,
          3,
          36,
          1023,
          32,
          31,
          11,
          9,
          2869,
          1709,
          121,
          239,
          141,
          3,
          138,
          32,
          14,
          21,
          238,
          6,
          148,
          34,
          8,
          865,
          67,
          140,
          14,
          37,
          224,
          365,
          17,
          36,
          1,
          16,
          6,
          16,
          69,
          5,
          11,
          938,
          157,
          430,
          63,
          90,
          8,
          34,
          55,
          11524,
          614,
          54,
          377,
          290,
          6054,
          4158,
          256,
          1185,
          3121,
          18,
          159,
          85,
          72,
          134,
          21,
          329,
          28,
          553,
          4310,
          5439,
          1,
          1,
          55,
          102,
          252,
          48,
          75,
          123,
          11,
          10,
          36,
          1342,
          9,
          8,
          37,
          8,
          17,
          17,
          24,
          9,
          23,
          13,
          57,
          10,
          1,
          32,
          9,
          35,
          78,
          9,
          26,
          321,
          10,
          10,
          32,
          96,
          18,
          41,
          19,
          45,
          7,
          16,
          64,
          3,
          20,
          6,
          8,
          242,
          2881,
          121,
          127,
          47,
          8,
          133,
          108,
          77,
          8,
          14,
          357,
          137,
          37,
          37,
          13,
          1,
          88,
          1,
          1,
          2689,
          10,
          76,
          270,
          6,
          17,
          299,
          22,
          5,
          57,
          58,
          103,
          4,
          2,
          2353,
          23,
          3,
          5376,
          90,
          12,
          16,
          305,
          301,
          65,
          88,
          48,
          33,
          15,
          203,
          13,
          43,
          4,
          61,
          1
         ],
         "xaxis": "x",
         "yaxis": "y"
        }
       ],
       "layout": {
        "barmode": "relative",
        "legend": {
         "tracegroupgap": 0
        },
        "margin": {
         "t": 60
        },
        "template": {
         "data": {
          "bar": [
           {
            "error_x": {
             "color": "#2a3f5f"
            },
            "error_y": {
             "color": "#2a3f5f"
            },
            "marker": {
             "line": {
              "color": "#E5ECF6",
              "width": 0.5
             },
             "pattern": {
              "fillmode": "overlay",
              "size": 10,
              "solidity": 0.2
             }
            },
            "type": "bar"
           }
          ],
          "barpolar": [
           {
            "marker": {
             "line": {
              "color": "#E5ECF6",
              "width": 0.5
             },
             "pattern": {
              "fillmode": "overlay",
              "size": 10,
              "solidity": 0.2
             }
            },
            "type": "barpolar"
           }
          ],
          "carpet": [
           {
            "aaxis": {
             "endlinecolor": "#2a3f5f",
             "gridcolor": "white",
             "linecolor": "white",
             "minorgridcolor": "white",
             "startlinecolor": "#2a3f5f"
            },
            "baxis": {
             "endlinecolor": "#2a3f5f",
             "gridcolor": "white",
             "linecolor": "white",
             "minorgridcolor": "white",
             "startlinecolor": "#2a3f5f"
            },
            "type": "carpet"
           }
          ],
          "choropleth": [
           {
            "colorbar": {
             "outlinewidth": 0,
             "ticks": ""
            },
            "type": "choropleth"
           }
          ],
          "contour": [
           {
            "colorbar": {
             "outlinewidth": 0,
             "ticks": ""
            },
            "colorscale": [
             [
              0,
              "#0d0887"
             ],
             [
              0.1111111111111111,
              "#46039f"
             ],
             [
              0.2222222222222222,
              "#7201a8"
             ],
             [
              0.3333333333333333,
              "#9c179e"
             ],
             [
              0.4444444444444444,
              "#bd3786"
             ],
             [
              0.5555555555555556,
              "#d8576b"
             ],
             [
              0.6666666666666666,
              "#ed7953"
             ],
             [
              0.7777777777777778,
              "#fb9f3a"
             ],
             [
              0.8888888888888888,
              "#fdca26"
             ],
             [
              1,
              "#f0f921"
             ]
            ],
            "type": "contour"
           }
          ],
          "contourcarpet": [
           {
            "colorbar": {
             "outlinewidth": 0,
             "ticks": ""
            },
            "type": "contourcarpet"
           }
          ],
          "heatmap": [
           {
            "colorbar": {
             "outlinewidth": 0,
             "ticks": ""
            },
            "colorscale": [
             [
              0,
              "#0d0887"
             ],
             [
              0.1111111111111111,
              "#46039f"
             ],
             [
              0.2222222222222222,
              "#7201a8"
             ],
             [
              0.3333333333333333,
              "#9c179e"
             ],
             [
              0.4444444444444444,
              "#bd3786"
             ],
             [
              0.5555555555555556,
              "#d8576b"
             ],
             [
              0.6666666666666666,
              "#ed7953"
             ],
             [
              0.7777777777777778,
              "#fb9f3a"
             ],
             [
              0.8888888888888888,
              "#fdca26"
             ],
             [
              1,
              "#f0f921"
             ]
            ],
            "type": "heatmap"
           }
          ],
          "heatmapgl": [
           {
            "colorbar": {
             "outlinewidth": 0,
             "ticks": ""
            },
            "colorscale": [
             [
              0,
              "#0d0887"
             ],
             [
              0.1111111111111111,
              "#46039f"
             ],
             [
              0.2222222222222222,
              "#7201a8"
             ],
             [
              0.3333333333333333,
              "#9c179e"
             ],
             [
              0.4444444444444444,
              "#bd3786"
             ],
             [
              0.5555555555555556,
              "#d8576b"
             ],
             [
              0.6666666666666666,
              "#ed7953"
             ],
             [
              0.7777777777777778,
              "#fb9f3a"
             ],
             [
              0.8888888888888888,
              "#fdca26"
             ],
             [
              1,
              "#f0f921"
             ]
            ],
            "type": "heatmapgl"
           }
          ],
          "histogram": [
           {
            "marker": {
             "pattern": {
              "fillmode": "overlay",
              "size": 10,
              "solidity": 0.2
             }
            },
            "type": "histogram"
           }
          ],
          "histogram2d": [
           {
            "colorbar": {
             "outlinewidth": 0,
             "ticks": ""
            },
            "colorscale": [
             [
              0,
              "#0d0887"
             ],
             [
              0.1111111111111111,
              "#46039f"
             ],
             [
              0.2222222222222222,
              "#7201a8"
             ],
             [
              0.3333333333333333,
              "#9c179e"
             ],
             [
              0.4444444444444444,
              "#bd3786"
             ],
             [
              0.5555555555555556,
              "#d8576b"
             ],
             [
              0.6666666666666666,
              "#ed7953"
             ],
             [
              0.7777777777777778,
              "#fb9f3a"
             ],
             [
              0.8888888888888888,
              "#fdca26"
             ],
             [
              1,
              "#f0f921"
             ]
            ],
            "type": "histogram2d"
           }
          ],
          "histogram2dcontour": [
           {
            "colorbar": {
             "outlinewidth": 0,
             "ticks": ""
            },
            "colorscale": [
             [
              0,
              "#0d0887"
             ],
             [
              0.1111111111111111,
              "#46039f"
             ],
             [
              0.2222222222222222,
              "#7201a8"
             ],
             [
              0.3333333333333333,
              "#9c179e"
             ],
             [
              0.4444444444444444,
              "#bd3786"
             ],
             [
              0.5555555555555556,
              "#d8576b"
             ],
             [
              0.6666666666666666,
              "#ed7953"
             ],
             [
              0.7777777777777778,
              "#fb9f3a"
             ],
             [
              0.8888888888888888,
              "#fdca26"
             ],
             [
              1,
              "#f0f921"
             ]
            ],
            "type": "histogram2dcontour"
           }
          ],
          "mesh3d": [
           {
            "colorbar": {
             "outlinewidth": 0,
             "ticks": ""
            },
            "type": "mesh3d"
           }
          ],
          "parcoords": [
           {
            "line": {
             "colorbar": {
              "outlinewidth": 0,
              "ticks": ""
             }
            },
            "type": "parcoords"
           }
          ],
          "pie": [
           {
            "automargin": true,
            "type": "pie"
           }
          ],
          "scatter": [
           {
            "fillpattern": {
             "fillmode": "overlay",
             "size": 10,
             "solidity": 0.2
            },
            "type": "scatter"
           }
          ],
          "scatter3d": [
           {
            "line": {
             "colorbar": {
              "outlinewidth": 0,
              "ticks": ""
             }
            },
            "marker": {
             "colorbar": {
              "outlinewidth": 0,
              "ticks": ""
             }
            },
            "type": "scatter3d"
           }
          ],
          "scattercarpet": [
           {
            "marker": {
             "colorbar": {
              "outlinewidth": 0,
              "ticks": ""
             }
            },
            "type": "scattercarpet"
           }
          ],
          "scattergeo": [
           {
            "marker": {
             "colorbar": {
              "outlinewidth": 0,
              "ticks": ""
             }
            },
            "type": "scattergeo"
           }
          ],
          "scattergl": [
           {
            "marker": {
             "colorbar": {
              "outlinewidth": 0,
              "ticks": ""
             }
            },
            "type": "scattergl"
           }
          ],
          "scattermapbox": [
           {
            "marker": {
             "colorbar": {
              "outlinewidth": 0,
              "ticks": ""
             }
            },
            "type": "scattermapbox"
           }
          ],
          "scatterpolar": [
           {
            "marker": {
             "colorbar": {
              "outlinewidth": 0,
              "ticks": ""
             }
            },
            "type": "scatterpolar"
           }
          ],
          "scatterpolargl": [
           {
            "marker": {
             "colorbar": {
              "outlinewidth": 0,
              "ticks": ""
             }
            },
            "type": "scatterpolargl"
           }
          ],
          "scatterternary": [
           {
            "marker": {
             "colorbar": {
              "outlinewidth": 0,
              "ticks": ""
             }
            },
            "type": "scatterternary"
           }
          ],
          "surface": [
           {
            "colorbar": {
             "outlinewidth": 0,
             "ticks": ""
            },
            "colorscale": [
             [
              0,
              "#0d0887"
             ],
             [
              0.1111111111111111,
              "#46039f"
             ],
             [
              0.2222222222222222,
              "#7201a8"
             ],
             [
              0.3333333333333333,
              "#9c179e"
             ],
             [
              0.4444444444444444,
              "#bd3786"
             ],
             [
              0.5555555555555556,
              "#d8576b"
             ],
             [
              0.6666666666666666,
              "#ed7953"
             ],
             [
              0.7777777777777778,
              "#fb9f3a"
             ],
             [
              0.8888888888888888,
              "#fdca26"
             ],
             [
              1,
              "#f0f921"
             ]
            ],
            "type": "surface"
           }
          ],
          "table": [
           {
            "cells": {
             "fill": {
              "color": "#EBF0F8"
             },
             "line": {
              "color": "white"
             }
            },
            "header": {
             "fill": {
              "color": "#C8D4E3"
             },
             "line": {
              "color": "white"
             }
            },
            "type": "table"
           }
          ]
         },
         "layout": {
          "annotationdefaults": {
           "arrowcolor": "#2a3f5f",
           "arrowhead": 0,
           "arrowwidth": 1
          },
          "autotypenumbers": "strict",
          "coloraxis": {
           "colorbar": {
            "outlinewidth": 0,
            "ticks": ""
           }
          },
          "colorscale": {
           "diverging": [
            [
             0,
             "#8e0152"
            ],
            [
             0.1,
             "#c51b7d"
            ],
            [
             0.2,
             "#de77ae"
            ],
            [
             0.3,
             "#f1b6da"
            ],
            [
             0.4,
             "#fde0ef"
            ],
            [
             0.5,
             "#f7f7f7"
            ],
            [
             0.6,
             "#e6f5d0"
            ],
            [
             0.7,
             "#b8e186"
            ],
            [
             0.8,
             "#7fbc41"
            ],
            [
             0.9,
             "#4d9221"
            ],
            [
             1,
             "#276419"
            ]
           ],
           "sequential": [
            [
             0,
             "#0d0887"
            ],
            [
             0.1111111111111111,
             "#46039f"
            ],
            [
             0.2222222222222222,
             "#7201a8"
            ],
            [
             0.3333333333333333,
             "#9c179e"
            ],
            [
             0.4444444444444444,
             "#bd3786"
            ],
            [
             0.5555555555555556,
             "#d8576b"
            ],
            [
             0.6666666666666666,
             "#ed7953"
            ],
            [
             0.7777777777777778,
             "#fb9f3a"
            ],
            [
             0.8888888888888888,
             "#fdca26"
            ],
            [
             1,
             "#f0f921"
            ]
           ],
           "sequentialminus": [
            [
             0,
             "#0d0887"
            ],
            [
             0.1111111111111111,
             "#46039f"
            ],
            [
             0.2222222222222222,
             "#7201a8"
            ],
            [
             0.3333333333333333,
             "#9c179e"
            ],
            [
             0.4444444444444444,
             "#bd3786"
            ],
            [
             0.5555555555555556,
             "#d8576b"
            ],
            [
             0.6666666666666666,
             "#ed7953"
            ],
            [
             0.7777777777777778,
             "#fb9f3a"
            ],
            [
             0.8888888888888888,
             "#fdca26"
            ],
            [
             1,
             "#f0f921"
            ]
           ]
          },
          "colorway": [
           "#636efa",
           "#EF553B",
           "#00cc96",
           "#ab63fa",
           "#FFA15A",
           "#19d3f3",
           "#FF6692",
           "#B6E880",
           "#FF97FF",
           "#FECB52"
          ],
          "font": {
           "color": "#2a3f5f"
          },
          "geo": {
           "bgcolor": "white",
           "lakecolor": "white",
           "landcolor": "#E5ECF6",
           "showlakes": true,
           "showland": true,
           "subunitcolor": "white"
          },
          "hoverlabel": {
           "align": "left"
          },
          "hovermode": "closest",
          "mapbox": {
           "style": "light"
          },
          "paper_bgcolor": "white",
          "plot_bgcolor": "#E5ECF6",
          "polar": {
           "angularaxis": {
            "gridcolor": "white",
            "linecolor": "white",
            "ticks": ""
           },
           "bgcolor": "#E5ECF6",
           "radialaxis": {
            "gridcolor": "white",
            "linecolor": "white",
            "ticks": ""
           }
          },
          "scene": {
           "xaxis": {
            "backgroundcolor": "#E5ECF6",
            "gridcolor": "white",
            "gridwidth": 2,
            "linecolor": "white",
            "showbackground": true,
            "ticks": "",
            "zerolinecolor": "white"
           },
           "yaxis": {
            "backgroundcolor": "#E5ECF6",
            "gridcolor": "white",
            "gridwidth": 2,
            "linecolor": "white",
            "showbackground": true,
            "ticks": "",
            "zerolinecolor": "white"
           },
           "zaxis": {
            "backgroundcolor": "#E5ECF6",
            "gridcolor": "white",
            "gridwidth": 2,
            "linecolor": "white",
            "showbackground": true,
            "ticks": "",
            "zerolinecolor": "white"
           }
          },
          "shapedefaults": {
           "line": {
            "color": "#2a3f5f"
           }
          },
          "ternary": {
           "aaxis": {
            "gridcolor": "white",
            "linecolor": "white",
            "ticks": ""
           },
           "baxis": {
            "gridcolor": "white",
            "linecolor": "white",
            "ticks": ""
           },
           "bgcolor": "#E5ECF6",
           "caxis": {
            "gridcolor": "white",
            "linecolor": "white",
            "ticks": ""
           }
          },
          "title": {
           "x": 0.05
          },
          "xaxis": {
           "automargin": true,
           "gridcolor": "white",
           "linecolor": "white",
           "ticks": "",
           "title": {
            "standoff": 15
           },
           "zerolinecolor": "white",
           "zerolinewidth": 2
          },
          "yaxis": {
           "automargin": true,
           "gridcolor": "white",
           "linecolor": "white",
           "ticks": "",
           "title": {
            "standoff": 15
           },
           "zerolinecolor": "white",
           "zerolinewidth": 2
          }
         }
        },
        "xaxis": {
         "anchor": "y",
         "domain": [
          0,
          1
         ],
         "title": {
          "text": "0"
         }
        },
        "yaxis": {
         "anchor": "x",
         "domain": [
          0,
          1
         ],
         "title": {
          "text": "count"
         }
        }
       }
      },
      "text/html": [
       "<div>                            <div id=\"eb4375a4-ab8d-4cf8-89f5-eab423741d28\" class=\"plotly-graph-div\" style=\"height:525px; width:100%;\"></div>            <script type=\"text/javascript\">                require([\"plotly\"], function(Plotly) {                    window.PLOTLYENV=window.PLOTLYENV || {};                                    if (document.getElementById(\"eb4375a4-ab8d-4cf8-89f5-eab423741d28\")) {                    Plotly.newPlot(                        \"eb4375a4-ab8d-4cf8-89f5-eab423741d28\",                        [{\"alignmentgroup\":\"True\",\"bingroup\":\"x\",\"hovertemplate\":\"0=%{x}<br>count=%{y}<extra></extra>\",\"legendgroup\":\"\",\"marker\":{\"color\":\"#636efa\",\"pattern\":{\"shape\":\"\"}},\"name\":\"\",\"offsetgroup\":\"\",\"orientation\":\"v\",\"showlegend\":false,\"x\":[12,226,120,36,26,37,28,46,27,55,1291,4,143,909,19,29,20,32,5,417,24,51,1667,42,29,14,28,113,11,138,8,11,321,14,18,228,115,8,12,41,20,17,12,8,1,1,7,23,29,68,132,3,3,10,10,26,7,898,63,6,297,16,62,64,121,161,107,13,29,246,106,65,93,2,18,1169,17,17,296,118,2,326,1,43,39,26,33,73,11,7,457,49,1,3,52,16,43,22,3,7,14,4,153,1,76,2,36,98,115,295,2556,2001,33,2793,701,9,419,34,2118,99,1,3,468,2,10,12348,185,90,1,11,17,9,17,66,5,7,7,11,203,21,259,1445,15,22,1,15,11,12,9,3,466,67,124,909,7,39,258,10,89,8,908,11,142,85,71,36,140,665,4,30,67,14,152,14,13,6,5,57,292,84,56,106,4,2138,21,78,4,3,129,10,693,30,14,6,36,8,16,7,33,5,43,343,31,3,25,4321,1,3666,126,106,140,22,85,61,25,140,57,12,15,286,2,16,16,70,30,17,17,28,5,33,123,84,13,26,101,26,28,94,233,35,9,192,355,89,17,7,12,13,21,23,119,7,682,200,1,367,110,90,2,645,26,83,72,65,28,226,28,475,57,3,36,1023,32,31,11,9,2869,1709,121,239,141,3,138,32,14,21,238,6,148,34,8,865,67,140,14,37,224,365,17,36,1,16,6,16,69,5,11,938,157,430,63,90,8,34,55,11524,614,54,377,290,6054,4158,256,1185,3121,18,159,85,72,134,21,329,28,553,4310,5439,1,1,55,102,252,48,75,123,11,10,36,1342,9,8,37,8,17,17,24,9,23,13,57,10,1,32,9,35,78,9,26,321,10,10,32,96,18,41,19,45,7,16,64,3,20,6,8,242,2881,121,127,47,8,133,108,77,8,14,357,137,37,37,13,1,88,1,1,2689,10,76,270,6,17,299,22,5,57,58,103,4,2,2353,23,3,5376,90,12,16,305,301,65,88,48,33,15,203,13,43,4,61,1],\"xaxis\":\"x\",\"yaxis\":\"y\",\"type\":\"histogram\"}],                        {\"template\":{\"data\":{\"histogram2dcontour\":[{\"type\":\"histogram2dcontour\",\"colorbar\":{\"outlinewidth\":0,\"ticks\":\"\"},\"colorscale\":[[0.0,\"#0d0887\"],[0.1111111111111111,\"#46039f\"],[0.2222222222222222,\"#7201a8\"],[0.3333333333333333,\"#9c179e\"],[0.4444444444444444,\"#bd3786\"],[0.5555555555555556,\"#d8576b\"],[0.6666666666666666,\"#ed7953\"],[0.7777777777777778,\"#fb9f3a\"],[0.8888888888888888,\"#fdca26\"],[1.0,\"#f0f921\"]]}],\"choropleth\":[{\"type\":\"choropleth\",\"colorbar\":{\"outlinewidth\":0,\"ticks\":\"\"}}],\"histogram2d\":[{\"type\":\"histogram2d\",\"colorbar\":{\"outlinewidth\":0,\"ticks\":\"\"},\"colorscale\":[[0.0,\"#0d0887\"],[0.1111111111111111,\"#46039f\"],[0.2222222222222222,\"#7201a8\"],[0.3333333333333333,\"#9c179e\"],[0.4444444444444444,\"#bd3786\"],[0.5555555555555556,\"#d8576b\"],[0.6666666666666666,\"#ed7953\"],[0.7777777777777778,\"#fb9f3a\"],[0.8888888888888888,\"#fdca26\"],[1.0,\"#f0f921\"]]}],\"heatmap\":[{\"type\":\"heatmap\",\"colorbar\":{\"outlinewidth\":0,\"ticks\":\"\"},\"colorscale\":[[0.0,\"#0d0887\"],[0.1111111111111111,\"#46039f\"],[0.2222222222222222,\"#7201a8\"],[0.3333333333333333,\"#9c179e\"],[0.4444444444444444,\"#bd3786\"],[0.5555555555555556,\"#d8576b\"],[0.6666666666666666,\"#ed7953\"],[0.7777777777777778,\"#fb9f3a\"],[0.8888888888888888,\"#fdca26\"],[1.0,\"#f0f921\"]]}],\"heatmapgl\":[{\"type\":\"heatmapgl\",\"colorbar\":{\"outlinewidth\":0,\"ticks\":\"\"},\"colorscale\":[[0.0,\"#0d0887\"],[0.1111111111111111,\"#46039f\"],[0.2222222222222222,\"#7201a8\"],[0.3333333333333333,\"#9c179e\"],[0.4444444444444444,\"#bd3786\"],[0.5555555555555556,\"#d8576b\"],[0.6666666666666666,\"#ed7953\"],[0.7777777777777778,\"#fb9f3a\"],[0.8888888888888888,\"#fdca26\"],[1.0,\"#f0f921\"]]}],\"contourcarpet\":[{\"type\":\"contourcarpet\",\"colorbar\":{\"outlinewidth\":0,\"ticks\":\"\"}}],\"contour\":[{\"type\":\"contour\",\"colorbar\":{\"outlinewidth\":0,\"ticks\":\"\"},\"colorscale\":[[0.0,\"#0d0887\"],[0.1111111111111111,\"#46039f\"],[0.2222222222222222,\"#7201a8\"],[0.3333333333333333,\"#9c179e\"],[0.4444444444444444,\"#bd3786\"],[0.5555555555555556,\"#d8576b\"],[0.6666666666666666,\"#ed7953\"],[0.7777777777777778,\"#fb9f3a\"],[0.8888888888888888,\"#fdca26\"],[1.0,\"#f0f921\"]]}],\"surface\":[{\"type\":\"surface\",\"colorbar\":{\"outlinewidth\":0,\"ticks\":\"\"},\"colorscale\":[[0.0,\"#0d0887\"],[0.1111111111111111,\"#46039f\"],[0.2222222222222222,\"#7201a8\"],[0.3333333333333333,\"#9c179e\"],[0.4444444444444444,\"#bd3786\"],[0.5555555555555556,\"#d8576b\"],[0.6666666666666666,\"#ed7953\"],[0.7777777777777778,\"#fb9f3a\"],[0.8888888888888888,\"#fdca26\"],[1.0,\"#f0f921\"]]}],\"mesh3d\":[{\"type\":\"mesh3d\",\"colorbar\":{\"outlinewidth\":0,\"ticks\":\"\"}}],\"scatter\":[{\"fillpattern\":{\"fillmode\":\"overlay\",\"size\":10,\"solidity\":0.2},\"type\":\"scatter\"}],\"parcoords\":[{\"type\":\"parcoords\",\"line\":{\"colorbar\":{\"outlinewidth\":0,\"ticks\":\"\"}}}],\"scatterpolargl\":[{\"type\":\"scatterpolargl\",\"marker\":{\"colorbar\":{\"outlinewidth\":0,\"ticks\":\"\"}}}],\"bar\":[{\"error_x\":{\"color\":\"#2a3f5f\"},\"error_y\":{\"color\":\"#2a3f5f\"},\"marker\":{\"line\":{\"color\":\"#E5ECF6\",\"width\":0.5},\"pattern\":{\"fillmode\":\"overlay\",\"size\":10,\"solidity\":0.2}},\"type\":\"bar\"}],\"scattergeo\":[{\"type\":\"scattergeo\",\"marker\":{\"colorbar\":{\"outlinewidth\":0,\"ticks\":\"\"}}}],\"scatterpolar\":[{\"type\":\"scatterpolar\",\"marker\":{\"colorbar\":{\"outlinewidth\":0,\"ticks\":\"\"}}}],\"histogram\":[{\"marker\":{\"pattern\":{\"fillmode\":\"overlay\",\"size\":10,\"solidity\":0.2}},\"type\":\"histogram\"}],\"scattergl\":[{\"type\":\"scattergl\",\"marker\":{\"colorbar\":{\"outlinewidth\":0,\"ticks\":\"\"}}}],\"scatter3d\":[{\"type\":\"scatter3d\",\"line\":{\"colorbar\":{\"outlinewidth\":0,\"ticks\":\"\"}},\"marker\":{\"colorbar\":{\"outlinewidth\":0,\"ticks\":\"\"}}}],\"scattermapbox\":[{\"type\":\"scattermapbox\",\"marker\":{\"colorbar\":{\"outlinewidth\":0,\"ticks\":\"\"}}}],\"scatterternary\":[{\"type\":\"scatterternary\",\"marker\":{\"colorbar\":{\"outlinewidth\":0,\"ticks\":\"\"}}}],\"scattercarpet\":[{\"type\":\"scattercarpet\",\"marker\":{\"colorbar\":{\"outlinewidth\":0,\"ticks\":\"\"}}}],\"carpet\":[{\"aaxis\":{\"endlinecolor\":\"#2a3f5f\",\"gridcolor\":\"white\",\"linecolor\":\"white\",\"minorgridcolor\":\"white\",\"startlinecolor\":\"#2a3f5f\"},\"baxis\":{\"endlinecolor\":\"#2a3f5f\",\"gridcolor\":\"white\",\"linecolor\":\"white\",\"minorgridcolor\":\"white\",\"startlinecolor\":\"#2a3f5f\"},\"type\":\"carpet\"}],\"table\":[{\"cells\":{\"fill\":{\"color\":\"#EBF0F8\"},\"line\":{\"color\":\"white\"}},\"header\":{\"fill\":{\"color\":\"#C8D4E3\"},\"line\":{\"color\":\"white\"}},\"type\":\"table\"}],\"barpolar\":[{\"marker\":{\"line\":{\"color\":\"#E5ECF6\",\"width\":0.5},\"pattern\":{\"fillmode\":\"overlay\",\"size\":10,\"solidity\":0.2}},\"type\":\"barpolar\"}],\"pie\":[{\"automargin\":true,\"type\":\"pie\"}]},\"layout\":{\"autotypenumbers\":\"strict\",\"colorway\":[\"#636efa\",\"#EF553B\",\"#00cc96\",\"#ab63fa\",\"#FFA15A\",\"#19d3f3\",\"#FF6692\",\"#B6E880\",\"#FF97FF\",\"#FECB52\"],\"font\":{\"color\":\"#2a3f5f\"},\"hovermode\":\"closest\",\"hoverlabel\":{\"align\":\"left\"},\"paper_bgcolor\":\"white\",\"plot_bgcolor\":\"#E5ECF6\",\"polar\":{\"bgcolor\":\"#E5ECF6\",\"angularaxis\":{\"gridcolor\":\"white\",\"linecolor\":\"white\",\"ticks\":\"\"},\"radialaxis\":{\"gridcolor\":\"white\",\"linecolor\":\"white\",\"ticks\":\"\"}},\"ternary\":{\"bgcolor\":\"#E5ECF6\",\"aaxis\":{\"gridcolor\":\"white\",\"linecolor\":\"white\",\"ticks\":\"\"},\"baxis\":{\"gridcolor\":\"white\",\"linecolor\":\"white\",\"ticks\":\"\"},\"caxis\":{\"gridcolor\":\"white\",\"linecolor\":\"white\",\"ticks\":\"\"}},\"coloraxis\":{\"colorbar\":{\"outlinewidth\":0,\"ticks\":\"\"}},\"colorscale\":{\"sequential\":[[0.0,\"#0d0887\"],[0.1111111111111111,\"#46039f\"],[0.2222222222222222,\"#7201a8\"],[0.3333333333333333,\"#9c179e\"],[0.4444444444444444,\"#bd3786\"],[0.5555555555555556,\"#d8576b\"],[0.6666666666666666,\"#ed7953\"],[0.7777777777777778,\"#fb9f3a\"],[0.8888888888888888,\"#fdca26\"],[1.0,\"#f0f921\"]],\"sequentialminus\":[[0.0,\"#0d0887\"],[0.1111111111111111,\"#46039f\"],[0.2222222222222222,\"#7201a8\"],[0.3333333333333333,\"#9c179e\"],[0.4444444444444444,\"#bd3786\"],[0.5555555555555556,\"#d8576b\"],[0.6666666666666666,\"#ed7953\"],[0.7777777777777778,\"#fb9f3a\"],[0.8888888888888888,\"#fdca26\"],[1.0,\"#f0f921\"]],\"diverging\":[[0,\"#8e0152\"],[0.1,\"#c51b7d\"],[0.2,\"#de77ae\"],[0.3,\"#f1b6da\"],[0.4,\"#fde0ef\"],[0.5,\"#f7f7f7\"],[0.6,\"#e6f5d0\"],[0.7,\"#b8e186\"],[0.8,\"#7fbc41\"],[0.9,\"#4d9221\"],[1,\"#276419\"]]},\"xaxis\":{\"gridcolor\":\"white\",\"linecolor\":\"white\",\"ticks\":\"\",\"title\":{\"standoff\":15},\"zerolinecolor\":\"white\",\"automargin\":true,\"zerolinewidth\":2},\"yaxis\":{\"gridcolor\":\"white\",\"linecolor\":\"white\",\"ticks\":\"\",\"title\":{\"standoff\":15},\"zerolinecolor\":\"white\",\"automargin\":true,\"zerolinewidth\":2},\"scene\":{\"xaxis\":{\"backgroundcolor\":\"#E5ECF6\",\"gridcolor\":\"white\",\"linecolor\":\"white\",\"showbackground\":true,\"ticks\":\"\",\"zerolinecolor\":\"white\",\"gridwidth\":2},\"yaxis\":{\"backgroundcolor\":\"#E5ECF6\",\"gridcolor\":\"white\",\"linecolor\":\"white\",\"showbackground\":true,\"ticks\":\"\",\"zerolinecolor\":\"white\",\"gridwidth\":2},\"zaxis\":{\"backgroundcolor\":\"#E5ECF6\",\"gridcolor\":\"white\",\"linecolor\":\"white\",\"showbackground\":true,\"ticks\":\"\",\"zerolinecolor\":\"white\",\"gridwidth\":2}},\"shapedefaults\":{\"line\":{\"color\":\"#2a3f5f\"}},\"annotationdefaults\":{\"arrowcolor\":\"#2a3f5f\",\"arrowhead\":0,\"arrowwidth\":1},\"geo\":{\"bgcolor\":\"white\",\"landcolor\":\"#E5ECF6\",\"subunitcolor\":\"white\",\"showland\":true,\"showlakes\":true,\"lakecolor\":\"white\"},\"title\":{\"x\":0.05},\"mapbox\":{\"style\":\"light\"}}},\"xaxis\":{\"anchor\":\"y\",\"domain\":[0.0,1.0],\"title\":{\"text\":\"0\"}},\"yaxis\":{\"anchor\":\"x\",\"domain\":[0.0,1.0],\"title\":{\"text\":\"count\"}},\"legend\":{\"tracegroupgap\":0},\"margin\":{\"t\":60},\"barmode\":\"relative\"},                        {\"responsive\": true}                    ).then(function(){\n",
       "                            \n",
       "var gd = document.getElementById('eb4375a4-ab8d-4cf8-89f5-eab423741d28');\n",
       "var x = new MutationObserver(function (mutations, observer) {{\n",
       "        var display = window.getComputedStyle(gd).display;\n",
       "        if (!display || display === 'none') {{\n",
       "            console.log([gd, 'removed!']);\n",
       "            Plotly.purge(gd);\n",
       "            observer.disconnect();\n",
       "        }}\n",
       "}});\n",
       "\n",
       "// Listen for the removal of the full notebook cells\n",
       "var notebookContainer = gd.closest('#notebook-container');\n",
       "if (notebookContainer) {{\n",
       "    x.observe(notebookContainer, {childList: true});\n",
       "}}\n",
       "\n",
       "// Listen for the clearing of the current output cell\n",
       "var outputEl = gd.closest('.output');\n",
       "if (outputEl) {{\n",
       "    x.observe(outputEl, {childList: true});\n",
       "}}\n",
       "\n",
       "                        })                };                });            </script>        </div>"
      ]
     },
     "metadata": {},
     "output_type": "display_data"
    }
   ],
   "source": [
    "fig = px.histogram(genre_counts_df, x=0)\n",
    "#fig.update_layout(bargap=0.2)\n",
    "fig.show()"
   ]
  },
  {
   "cell_type": "code",
   "execution_count": 180,
   "id": "ea039b0c",
   "metadata": {},
   "outputs": [
    {
     "data": {
      "text/plain": [
       "['new_jack_swing',\n",
       " 'ccm',\n",
       " 'funk',\n",
       " 'bubblegum_dance',\n",
       " 'salsa',\n",
       " 'american_folk_revival',\n",
       " 'jam_band',\n",
       " 'new_rave',\n",
       " 'alternative_metal',\n",
       " 'irish_singer-songwriter',\n",
       " 'traditional_country',\n",
       " 'soul',\n",
       " 'romanian_house',\n",
       " 'screamo',\n",
       " 'soca',\n",
       " 'talent_show',\n",
       " 'fake',\n",
       " 'lounge',\n",
       " 'trancecore',\n",
       " 'bossbeat',\n",
       " 'idol',\n",
       " 'singer-songwriter',\n",
       " 'escape_room',\n",
       " 'cowpunk',\n",
       " 'derby_indie',\n",
       " 'melancholia',\n",
       " 'chicago_drill',\n",
       " 'comedy',\n",
       " 'anti-folk',\n",
       " 'neo-singer-songwriter',\n",
       " 'new_wave',\n",
       " 'lds_youth',\n",
       " 'alternative_r&b',\n",
       " 'electro_house',\n",
       " 'ninja',\n",
       " 'neo_soul',\n",
       " 'worship',\n",
       " 'hollywood',\n",
       " 'industrial',\n",
       " 'country_dawn',\n",
       " 'tropical_house',\n",
       " 'disco',\n",
       " 'uk_funky',\n",
       " 'dong-yo',\n",
       " 'texas_country',\n",
       " 'grime',\n",
       " 'metal',\n",
       " 'thrash_metal',\n",
       " 'easy_listening',\n",
       " 'bedroom_soul',\n",
       " 'canadian_metal',\n",
       " 'double_drumming',\n",
       " 'indie_soul',\n",
       " 'queer_country',\n",
       " 'k-rap',\n",
       " 'neo_mellow',\n",
       " 'bassline',\n",
       " 'canadian_latin',\n",
       " 'adult_standards',\n",
       " 'classic_dubstep',\n",
       " 'eurodance',\n",
       " 'gospel',\n",
       " 'reggaeton_colombiano',\n",
       " 'pluggnb',\n",
       " 'canadian_contemporary_r&b',\n",
       " 'drill',\n",
       " 'canadian_singer-songwriter',\n",
       " 'futuristic_swag',\n",
       " 'folk',\n",
       " 'la_indie',\n",
       " 'chicago_indie',\n",
       " 'clean_comedy',\n",
       " 'anarcho-punk',\n",
       " 'cartoon',\n",
       " \"children's_music\",\n",
       " 'australian_talent_show',\n",
       " 'crunk',\n",
       " 'gospel_r&b',\n",
       " 'filter_house',\n",
       " 'uk_contemporary_r&b',\n",
       " 'cyberpunk',\n",
       " 'nu_metal',\n",
       " 'slap_house',\n",
       " 'tropical',\n",
       " 'atlanta_bass',\n",
       " 'boston_punk',\n",
       " 'reggaeton',\n",
       " 'bounce',\n",
       " 'rap_kreyol',\n",
       " 'dance-punk',\n",
       " 'world',\n",
       " 'a_cappella',\n",
       " 'canadian_celtic',\n",
       " 'austin_singer-songwriter',\n",
       " 'ska',\n",
       " 'omaha_indie',\n",
       " 'alt_z',\n",
       " 'british_soul',\n",
       " 'turntablism',\n",
       " 'afrofuturism',\n",
       " 'trip_hop',\n",
       " 'soul_flow',\n",
       " 'alternative_dance',\n",
       " 'orchestral_soundtrack',\n",
       " 'progressive_electro_house',\n",
       " 'post-grunge',\n",
       " 'roots_reggae',\n",
       " 'funk_metal',\n",
       " 'stomp_and_holler',\n",
       " 'belgian_dance',\n",
       " 'destroy_techno',\n",
       " 'punk',\n",
       " 'yodeling',\n",
       " 'australian_house',\n",
       " 'hyphy',\n",
       " 'classic_girl_group',\n",
       " 'downtempo',\n",
       " 'ectofolk',\n",
       " 'mellow_gold',\n",
       " 'progressive_house',\n",
       " 'contemporary_country',\n",
       " 'vocal_house',\n",
       " 'canadian_punk',\n",
       " 'chicago_bop',\n",
       " 'chopped_and_screwed',\n",
       " 'outlaw_country',\n",
       " 'bhangra',\n",
       " 'boy_band',\n",
       " 'swing',\n",
       " 'chutney',\n",
       " 'country_road',\n",
       " 'german_techno',\n",
       " 'rap_metal',\n",
       " 'contemporary_r&b',\n",
       " 'washington_indie',\n",
       " 'grunge',\n",
       " 'skate_punk',\n",
       " 'rap_conscient',\n",
       " 'italo_dance',\n",
       " 'dancehall',\n",
       " 'reggaeton_flow',\n",
       " 'miami_bass',\n",
       " 'vincy_soca',\n",
       " 'dutch_edm',\n",
       " 'uk_americana',\n",
       " 'girl_group',\n",
       " 'pixie',\n",
       " 'minneapolis_sound',\n",
       " 'supergroup',\n",
       " 'oxford_indie',\n",
       " 'country_gospel',\n",
       " 'christian_music',\n",
       " 'celtic',\n",
       " 'lilith',\n",
       " 'comic',\n",
       " 'old_school_dancehall',\n",
       " 'glam_metal',\n",
       " 'seattle_indie',\n",
       " 'complextro',\n",
       " 'contemporary_vocal_jazz',\n",
       " 'hip_house',\n",
       " 'emo',\n",
       " 'madchester',\n",
       " 'old_school_thrash',\n",
       " 'quiet_storm',\n",
       " 'electronica',\n",
       " 'jamaican_dancehall',\n",
       " 'indietronica',\n",
       " 'nouvelle_chanson_francaise',\n",
       " 'brostep',\n",
       " 'australian_indie',\n",
       " 'g_funk',\n",
       " 'r&b',\n",
       " 'indiecoustica',\n",
       " 'shoegaze',\n",
       " 'christian_indie',\n",
       " 'brooklyn_drill',\n",
       " 'big_beat',\n",
       " 'dark_clubbing',\n",
       " 'black_americana',\n",
       " 'house',\n",
       " 'punk_blues',\n",
       " 'british_invasion',\n",
       " 'new_romantic',\n",
       " 'cowboy_western',\n",
       " 'plugg',\n",
       " 'show_tunes',\n",
       " 'big_room',\n",
       " 'alberta_country',\n",
       " 'edm',\n",
       " 'classic_bhangra',\n",
       " 'oklahoma_country',\n",
       " 'scottish_singer-songwriter',\n",
       " 'melbourne_bounce_international',\n",
       " 'melodic_dubstep',\n",
       " 'soundtrack',\n",
       " 'country',\n",
       " 'bass_house',\n",
       " 'glee_club',\n",
       " 'permanent_wave',\n",
       " 'gen_z_singer-songwriter',\n",
       " 'redneck',\n",
       " 'canadian_contemporary_country',\n",
       " 'arkansas_country',\n",
       " 'australian_country',\n",
       " 'middle_earth',\n",
       " 'electra',\n",
       " 'electro',\n",
       " 'modern_uplift',\n",
       " 'ska_punk',\n",
       " 'canadian_country',\n",
       " 'medieval_folk',\n",
       " 'solo_wave',\n",
       " 'vocal_jazz',\n",
       " 'rap_latina',\n",
       " 'industrial_metal',\n",
       " 'australian_dance',\n",
       " 'reggae_fusion',\n",
       " 'vapor_twitch',\n",
       " 'uk_garage',\n",
       " 'uk_dance']"
      ]
     },
     "execution_count": 180,
     "metadata": {},
     "output_type": "execute_result"
    }
   ],
   "source": [
    "# get sets of top broad genres: pop, rock, hip-hop\n",
    "all_pop = [x for x in genres if 'pop' in x]\n",
    "all_rock = [x for x in genres if 'rock' in x]\n",
    "all_hiphop = [x for x in genres if 'hip_hop' in x] + [x for x in genres if '_rap' in x] \\\n",
    "+ [x for x in genres if 'trap' in x] + ['rap', 'urban_contemporary'] \n",
    "\n",
    "# look at metal just for fun/curiosity\n",
    "all_metal = [x for x in genres if 'metal' in x]\n",
    "\n",
    "# set of top broad genres\n",
    "top3_genres = list(set(all_pop + all_rock + all_hiphop))\n",
    "\n",
    "# all remaining genres\n",
    "not_top3 = list(set(genres) - set(top_genres))\n",
    "not_top3"
   ]
  },
  {
   "cell_type": "code",
   "execution_count": 181,
   "id": "9ff7bd55",
   "metadata": {},
   "outputs": [
    {
     "data": {
      "text/html": [
       "<div>\n",
       "<style scoped>\n",
       "    .dataframe tbody tr th:only-of-type {\n",
       "        vertical-align: middle;\n",
       "    }\n",
       "\n",
       "    .dataframe tbody tr th {\n",
       "        vertical-align: top;\n",
       "    }\n",
       "\n",
       "    .dataframe thead th {\n",
       "        text-align: right;\n",
       "    }\n",
       "</style>\n",
       "<table border=\"1\" class=\"dataframe\">\n",
       "  <thead>\n",
       "    <tr style=\"text-align: right;\">\n",
       "      <th></th>\n",
       "      <th>chart_order</th>\n",
       "      <th>week</th>\n",
       "      <th>position</th>\n",
       "      <th>song</th>\n",
       "      <th>artist</th>\n",
       "      <th>combo_str</th>\n",
       "      <th>combo</th>\n",
       "      <th>artist_id</th>\n",
       "      <th>song_id</th>\n",
       "      <th>acousticness</th>\n",
       "      <th>...</th>\n",
       "      <th>worship</th>\n",
       "      <th>yacht_rock</th>\n",
       "      <th>yakut_pop</th>\n",
       "      <th>yodeling</th>\n",
       "      <th>all_pop</th>\n",
       "      <th>all_rock</th>\n",
       "      <th>all_hiphop</th>\n",
       "      <th>all_metal</th>\n",
       "      <th>top3_genres</th>\n",
       "      <th>not_top3</th>\n",
       "    </tr>\n",
       "  </thead>\n",
       "  <tbody>\n",
       "    <tr>\n",
       "      <th>0</th>\n",
       "      <td>0</td>\n",
       "      <td>1997-07-07</td>\n",
       "      <td>1</td>\n",
       "      <td>Mmm Bop</td>\n",
       "      <td>Hanson</td>\n",
       "      <td>HansonMmm Bop</td>\n",
       "      <td>0SdiiPkr02EUdekHZJkt580lnxrQAd9ZxbhBBe7d8FO8</td>\n",
       "      <td>0SdiiPkr02EUdekHZJkt58</td>\n",
       "      <td>0lnxrQAd9ZxbhBBe7d8FO8</td>\n",
       "      <td>0.00481</td>\n",
       "      <td>...</td>\n",
       "      <td>0.0</td>\n",
       "      <td>0.0</td>\n",
       "      <td>0.0</td>\n",
       "      <td>0.0</td>\n",
       "      <td>0</td>\n",
       "      <td>0</td>\n",
       "      <td>0</td>\n",
       "      <td>0</td>\n",
       "      <td>0</td>\n",
       "      <td>0</td>\n",
       "    </tr>\n",
       "    <tr>\n",
       "      <th>1</th>\n",
       "      <td>1</td>\n",
       "      <td>1997-07-07</td>\n",
       "      <td>2</td>\n",
       "      <td>Bitch</td>\n",
       "      <td>Meredith Brooks</td>\n",
       "      <td>Meredith BrooksBitch</td>\n",
       "      <td>2QmLFuIDtNDmmJY3OtvinN3i6qNxyVgIdUZTTi5m25EM</td>\n",
       "      <td>2QmLFuIDtNDmmJY3OtvinN</td>\n",
       "      <td>3i6qNxyVgIdUZTTi5m25EM</td>\n",
       "      <td>0.01120</td>\n",
       "      <td>...</td>\n",
       "      <td>0.0</td>\n",
       "      <td>0.0</td>\n",
       "      <td>0.0</td>\n",
       "      <td>0.0</td>\n",
       "      <td>0</td>\n",
       "      <td>0</td>\n",
       "      <td>0</td>\n",
       "      <td>0</td>\n",
       "      <td>0</td>\n",
       "      <td>0</td>\n",
       "    </tr>\n",
       "    <tr>\n",
       "      <th>2</th>\n",
       "      <td>2</td>\n",
       "      <td>1997-07-07</td>\n",
       "      <td>3</td>\n",
       "      <td>Say You'll Be There</td>\n",
       "      <td>Spice Girls</td>\n",
       "      <td>Spice GirlsSay You'll Be There</td>\n",
       "      <td>0uq5PttqEjj3IH1bzwcrXF1yTQ39my3MoNROlFw3RDNy</td>\n",
       "      <td>0uq5PttqEjj3IH1bzwcrXF</td>\n",
       "      <td>1yTQ39my3MoNROlFw3RDNy</td>\n",
       "      <td>0.01490</td>\n",
       "      <td>...</td>\n",
       "      <td>0.0</td>\n",
       "      <td>0.0</td>\n",
       "      <td>0.0</td>\n",
       "      <td>0.0</td>\n",
       "      <td>0</td>\n",
       "      <td>0</td>\n",
       "      <td>0</td>\n",
       "      <td>0</td>\n",
       "      <td>0</td>\n",
       "      <td>0</td>\n",
       "    </tr>\n",
       "    <tr>\n",
       "      <th>3</th>\n",
       "      <td>3</td>\n",
       "      <td>1997-07-07</td>\n",
       "      <td>4</td>\n",
       "      <td>Return Of The Mack</td>\n",
       "      <td>Mark Morrison</td>\n",
       "      <td>Mark MorrisonReturn Of The Mack</td>\n",
       "      <td>6V3F8MZrOKdT9fU686ybE93jDdpx9PMlfMBS5tOBHFm9</td>\n",
       "      <td>6V3F8MZrOKdT9fU686ybE9</td>\n",
       "      <td>3jDdpx9PMlfMBS5tOBHFm9</td>\n",
       "      <td>0.00631</td>\n",
       "      <td>...</td>\n",
       "      <td>0.0</td>\n",
       "      <td>0.0</td>\n",
       "      <td>0.0</td>\n",
       "      <td>0.0</td>\n",
       "      <td>0</td>\n",
       "      <td>0</td>\n",
       "      <td>0</td>\n",
       "      <td>0</td>\n",
       "      <td>0</td>\n",
       "      <td>0</td>\n",
       "    </tr>\n",
       "    <tr>\n",
       "      <th>4</th>\n",
       "      <td>4</td>\n",
       "      <td>1997-07-07</td>\n",
       "      <td>5</td>\n",
       "      <td>Sunny Came Home</td>\n",
       "      <td>Shawn Colvin</td>\n",
       "      <td>Shawn ColvinSunny Came Home</td>\n",
       "      <td>0K7VN4aHxHcEb7PqkfoIVA4mOxpj82q6n3EO7HBZCelX</td>\n",
       "      <td>0K7VN4aHxHcEb7PqkfoIVA</td>\n",
       "      <td>4mOxpj82q6n3EO7HBZCelX</td>\n",
       "      <td>0.34200</td>\n",
       "      <td>...</td>\n",
       "      <td>0.0</td>\n",
       "      <td>0.0</td>\n",
       "      <td>0.0</td>\n",
       "      <td>0.0</td>\n",
       "      <td>0</td>\n",
       "      <td>0</td>\n",
       "      <td>0</td>\n",
       "      <td>0</td>\n",
       "      <td>0</td>\n",
       "      <td>0</td>\n",
       "    </tr>\n",
       "  </tbody>\n",
       "</table>\n",
       "<p>5 rows × 465 columns</p>\n",
       "</div>"
      ],
      "text/plain": [
       "   chart_order       week  position                 song           artist  \\\n",
       "0            0 1997-07-07         1              Mmm Bop           Hanson   \n",
       "1            1 1997-07-07         2                Bitch  Meredith Brooks   \n",
       "2            2 1997-07-07         3  Say You'll Be There      Spice Girls   \n",
       "3            3 1997-07-07         4   Return Of The Mack    Mark Morrison   \n",
       "4            4 1997-07-07         5      Sunny Came Home     Shawn Colvin   \n",
       "\n",
       "                         combo_str  \\\n",
       "0                    HansonMmm Bop   \n",
       "1             Meredith BrooksBitch   \n",
       "2   Spice GirlsSay You'll Be There   \n",
       "3  Mark MorrisonReturn Of The Mack   \n",
       "4      Shawn ColvinSunny Came Home   \n",
       "\n",
       "                                          combo               artist_id  \\\n",
       "0  0SdiiPkr02EUdekHZJkt580lnxrQAd9ZxbhBBe7d8FO8  0SdiiPkr02EUdekHZJkt58   \n",
       "1  2QmLFuIDtNDmmJY3OtvinN3i6qNxyVgIdUZTTi5m25EM  2QmLFuIDtNDmmJY3OtvinN   \n",
       "2  0uq5PttqEjj3IH1bzwcrXF1yTQ39my3MoNROlFw3RDNy  0uq5PttqEjj3IH1bzwcrXF   \n",
       "3  6V3F8MZrOKdT9fU686ybE93jDdpx9PMlfMBS5tOBHFm9  6V3F8MZrOKdT9fU686ybE9   \n",
       "4  0K7VN4aHxHcEb7PqkfoIVA4mOxpj82q6n3EO7HBZCelX  0K7VN4aHxHcEb7PqkfoIVA   \n",
       "\n",
       "                  song_id  acousticness  ...  worship  yacht_rock  yakut_pop  \\\n",
       "0  0lnxrQAd9ZxbhBBe7d8FO8       0.00481  ...      0.0         0.0        0.0   \n",
       "1  3i6qNxyVgIdUZTTi5m25EM       0.01120  ...      0.0         0.0        0.0   \n",
       "2  1yTQ39my3MoNROlFw3RDNy       0.01490  ...      0.0         0.0        0.0   \n",
       "3  3jDdpx9PMlfMBS5tOBHFm9       0.00631  ...      0.0         0.0        0.0   \n",
       "4  4mOxpj82q6n3EO7HBZCelX       0.34200  ...      0.0         0.0        0.0   \n",
       "\n",
       "   yodeling  all_pop  all_rock  all_hiphop  all_metal  top3_genres  not_top3  \n",
       "0       0.0        0         0           0          0            0         0  \n",
       "1       0.0        0         0           0          0            0         0  \n",
       "2       0.0        0         0           0          0            0         0  \n",
       "3       0.0        0         0           0          0            0         0  \n",
       "4       0.0        0         0           0          0            0         0  \n",
       "\n",
       "[5 rows x 465 columns]"
      ]
     },
     "execution_count": 181,
     "metadata": {},
     "output_type": "execute_result"
    }
   ],
   "source": [
    "# add new broad genre columns to dataframe\n",
    "top40['all_pop'] = 0\n",
    "top40['all_rock'] = 0\n",
    "top40['all_hiphop'] = 0\n",
    "top40['all_metal'] = 0\n",
    "top40['top3_genres'] = 0\n",
    "top40['not_top3'] = 0\n",
    "top40.head()"
   ]
  },
  {
   "cell_type": "code",
   "execution_count": 187,
   "id": "a70f4fe2",
   "metadata": {},
   "outputs": [
    {
     "name": "stdout",
     "output_type": "stream",
     "text": [
      "31200 of 31275 songs processed (99.76% complete)\n",
      "37.09 minutes elapsed\n",
      "Estimated 0.09 minutes remaining\n",
      "Done!\n"
     ]
    },
    {
     "data": {
      "text/html": [
       "<div>\n",
       "<style scoped>\n",
       "    .dataframe tbody tr th:only-of-type {\n",
       "        vertical-align: middle;\n",
       "    }\n",
       "\n",
       "    .dataframe tbody tr th {\n",
       "        vertical-align: top;\n",
       "    }\n",
       "\n",
       "    .dataframe thead th {\n",
       "        text-align: right;\n",
       "    }\n",
       "</style>\n",
       "<table border=\"1\" class=\"dataframe\">\n",
       "  <thead>\n",
       "    <tr style=\"text-align: right;\">\n",
       "      <th></th>\n",
       "      <th>chart_order</th>\n",
       "      <th>week</th>\n",
       "      <th>position</th>\n",
       "      <th>song</th>\n",
       "      <th>artist</th>\n",
       "      <th>combo_str</th>\n",
       "      <th>combo</th>\n",
       "      <th>artist_id</th>\n",
       "      <th>song_id</th>\n",
       "      <th>acousticness</th>\n",
       "      <th>...</th>\n",
       "      <th>worship</th>\n",
       "      <th>yacht_rock</th>\n",
       "      <th>yakut_pop</th>\n",
       "      <th>yodeling</th>\n",
       "      <th>all_pop</th>\n",
       "      <th>all_rock</th>\n",
       "      <th>all_hiphop</th>\n",
       "      <th>all_metal</th>\n",
       "      <th>top3_genres</th>\n",
       "      <th>not_top3</th>\n",
       "    </tr>\n",
       "  </thead>\n",
       "  <tbody>\n",
       "    <tr>\n",
       "      <th>0</th>\n",
       "      <td>0</td>\n",
       "      <td>1997-07-07</td>\n",
       "      <td>1</td>\n",
       "      <td>Mmm Bop</td>\n",
       "      <td>Hanson</td>\n",
       "      <td>HansonMmm Bop</td>\n",
       "      <td>0SdiiPkr02EUdekHZJkt580lnxrQAd9ZxbhBBe7d8FO8</td>\n",
       "      <td>0SdiiPkr02EUdekHZJkt58</td>\n",
       "      <td>0lnxrQAd9ZxbhBBe7d8FO8</td>\n",
       "      <td>0.00481</td>\n",
       "      <td>...</td>\n",
       "      <td>0.0</td>\n",
       "      <td>0.0</td>\n",
       "      <td>0.0</td>\n",
       "      <td>0.0</td>\n",
       "      <td>1</td>\n",
       "      <td>1</td>\n",
       "      <td>0</td>\n",
       "      <td>0</td>\n",
       "      <td>1</td>\n",
       "      <td>0</td>\n",
       "    </tr>\n",
       "    <tr>\n",
       "      <th>1</th>\n",
       "      <td>1</td>\n",
       "      <td>1997-07-07</td>\n",
       "      <td>2</td>\n",
       "      <td>Bitch</td>\n",
       "      <td>Meredith Brooks</td>\n",
       "      <td>Meredith BrooksBitch</td>\n",
       "      <td>2QmLFuIDtNDmmJY3OtvinN3i6qNxyVgIdUZTTi5m25EM</td>\n",
       "      <td>2QmLFuIDtNDmmJY3OtvinN</td>\n",
       "      <td>3i6qNxyVgIdUZTTi5m25EM</td>\n",
       "      <td>0.01120</td>\n",
       "      <td>...</td>\n",
       "      <td>0.0</td>\n",
       "      <td>0.0</td>\n",
       "      <td>0.0</td>\n",
       "      <td>0.0</td>\n",
       "      <td>0</td>\n",
       "      <td>0</td>\n",
       "      <td>0</td>\n",
       "      <td>0</td>\n",
       "      <td>0</td>\n",
       "      <td>1</td>\n",
       "    </tr>\n",
       "    <tr>\n",
       "      <th>2</th>\n",
       "      <td>2</td>\n",
       "      <td>1997-07-07</td>\n",
       "      <td>3</td>\n",
       "      <td>Say You'll Be There</td>\n",
       "      <td>Spice Girls</td>\n",
       "      <td>Spice GirlsSay You'll Be There</td>\n",
       "      <td>0uq5PttqEjj3IH1bzwcrXF1yTQ39my3MoNROlFw3RDNy</td>\n",
       "      <td>0uq5PttqEjj3IH1bzwcrXF</td>\n",
       "      <td>1yTQ39my3MoNROlFw3RDNy</td>\n",
       "      <td>0.01490</td>\n",
       "      <td>...</td>\n",
       "      <td>0.0</td>\n",
       "      <td>0.0</td>\n",
       "      <td>0.0</td>\n",
       "      <td>0.0</td>\n",
       "      <td>1</td>\n",
       "      <td>0</td>\n",
       "      <td>0</td>\n",
       "      <td>0</td>\n",
       "      <td>1</td>\n",
       "      <td>0</td>\n",
       "    </tr>\n",
       "    <tr>\n",
       "      <th>3</th>\n",
       "      <td>3</td>\n",
       "      <td>1997-07-07</td>\n",
       "      <td>4</td>\n",
       "      <td>Return Of The Mack</td>\n",
       "      <td>Mark Morrison</td>\n",
       "      <td>Mark MorrisonReturn Of The Mack</td>\n",
       "      <td>6V3F8MZrOKdT9fU686ybE93jDdpx9PMlfMBS5tOBHFm9</td>\n",
       "      <td>6V3F8MZrOKdT9fU686ybE9</td>\n",
       "      <td>3jDdpx9PMlfMBS5tOBHFm9</td>\n",
       "      <td>0.00631</td>\n",
       "      <td>...</td>\n",
       "      <td>0.0</td>\n",
       "      <td>0.0</td>\n",
       "      <td>0.0</td>\n",
       "      <td>0.0</td>\n",
       "      <td>0</td>\n",
       "      <td>0</td>\n",
       "      <td>0</td>\n",
       "      <td>0</td>\n",
       "      <td>0</td>\n",
       "      <td>1</td>\n",
       "    </tr>\n",
       "    <tr>\n",
       "      <th>4</th>\n",
       "      <td>4</td>\n",
       "      <td>1997-07-07</td>\n",
       "      <td>5</td>\n",
       "      <td>Sunny Came Home</td>\n",
       "      <td>Shawn Colvin</td>\n",
       "      <td>Shawn ColvinSunny Came Home</td>\n",
       "      <td>0K7VN4aHxHcEb7PqkfoIVA4mOxpj82q6n3EO7HBZCelX</td>\n",
       "      <td>0K7VN4aHxHcEb7PqkfoIVA</td>\n",
       "      <td>4mOxpj82q6n3EO7HBZCelX</td>\n",
       "      <td>0.34200</td>\n",
       "      <td>...</td>\n",
       "      <td>0.0</td>\n",
       "      <td>0.0</td>\n",
       "      <td>0.0</td>\n",
       "      <td>0.0</td>\n",
       "      <td>1</td>\n",
       "      <td>1</td>\n",
       "      <td>0</td>\n",
       "      <td>0</td>\n",
       "      <td>1</td>\n",
       "      <td>0</td>\n",
       "    </tr>\n",
       "    <tr>\n",
       "      <th>5</th>\n",
       "      <td>5</td>\n",
       "      <td>1997-07-07</td>\n",
       "      <td>6</td>\n",
       "      <td>Do You Know</td>\n",
       "      <td>Robyn</td>\n",
       "      <td>RobynDo You Know</td>\n",
       "      <td>6UE7nl9mha6s8z0wFQFIZ20idCpkJ2pspfAILbanmERu</td>\n",
       "      <td>6UE7nl9mha6s8z0wFQFIZ2</td>\n",
       "      <td>0idCpkJ2pspfAILbanmERu</td>\n",
       "      <td>0.00465</td>\n",
       "      <td>...</td>\n",
       "      <td>0.0</td>\n",
       "      <td>0.0</td>\n",
       "      <td>0.0</td>\n",
       "      <td>0.0</td>\n",
       "      <td>1</td>\n",
       "      <td>0</td>\n",
       "      <td>0</td>\n",
       "      <td>0</td>\n",
       "      <td>1</td>\n",
       "      <td>0</td>\n",
       "    </tr>\n",
       "    <tr>\n",
       "      <th>6</th>\n",
       "      <td>6</td>\n",
       "      <td>1997-07-07</td>\n",
       "      <td>7</td>\n",
       "      <td>The Freshmen</td>\n",
       "      <td>Verve Pipe</td>\n",
       "      <td>Verve PipeThe Freshmen</td>\n",
       "      <td>242iqFnwNhlidVBMI9GYKp21jEuMn2lf37715rwjow2M</td>\n",
       "      <td>242iqFnwNhlidVBMI9GYKp</td>\n",
       "      <td>21jEuMn2lf37715rwjow2M</td>\n",
       "      <td>0.07570</td>\n",
       "      <td>...</td>\n",
       "      <td>0.0</td>\n",
       "      <td>0.0</td>\n",
       "      <td>0.0</td>\n",
       "      <td>0.0</td>\n",
       "      <td>1</td>\n",
       "      <td>1</td>\n",
       "      <td>0</td>\n",
       "      <td>0</td>\n",
       "      <td>1</td>\n",
       "      <td>0</td>\n",
       "    </tr>\n",
       "    <tr>\n",
       "      <th>7</th>\n",
       "      <td>7</td>\n",
       "      <td>1997-07-07</td>\n",
       "      <td>8</td>\n",
       "      <td>Hard To Say I'm Sorry</td>\n",
       "      <td>Az Yet</td>\n",
       "      <td>Az YetHard To Say I'm Sorry</td>\n",
       "      <td>4UGMQyNcbGHYg5CDMKkSw32OWzR8QoH7KaLtiN65v32x</td>\n",
       "      <td>4UGMQyNcbGHYg5CDMKkSw3</td>\n",
       "      <td>2OWzR8QoH7KaLtiN65v32x</td>\n",
       "      <td>0.60400</td>\n",
       "      <td>...</td>\n",
       "      <td>0.0</td>\n",
       "      <td>0.0</td>\n",
       "      <td>0.0</td>\n",
       "      <td>0.0</td>\n",
       "      <td>0</td>\n",
       "      <td>0</td>\n",
       "      <td>1</td>\n",
       "      <td>0</td>\n",
       "      <td>1</td>\n",
       "      <td>0</td>\n",
       "    </tr>\n",
       "    <tr>\n",
       "      <th>8</th>\n",
       "      <td>8</td>\n",
       "      <td>1997-07-07</td>\n",
       "      <td>9</td>\n",
       "      <td>I Want You</td>\n",
       "      <td>Savage Garden</td>\n",
       "      <td>Savage GardenI Want You</td>\n",
       "      <td>3NRFinRTEqUCfaTTZmk8ek3XorCFmcupSm5QS6hA9g4N</td>\n",
       "      <td>3NRFinRTEqUCfaTTZmk8ek</td>\n",
       "      <td>3XorCFmcupSm5QS6hA9g4N</td>\n",
       "      <td>0.00770</td>\n",
       "      <td>...</td>\n",
       "      <td>0.0</td>\n",
       "      <td>0.0</td>\n",
       "      <td>0.0</td>\n",
       "      <td>0.0</td>\n",
       "      <td>1</td>\n",
       "      <td>1</td>\n",
       "      <td>0</td>\n",
       "      <td>0</td>\n",
       "      <td>1</td>\n",
       "      <td>0</td>\n",
       "    </tr>\n",
       "    <tr>\n",
       "      <th>9</th>\n",
       "      <td>9</td>\n",
       "      <td>1997-07-07</td>\n",
       "      <td>10</td>\n",
       "      <td>Quit Playing Games (with My Heart)</td>\n",
       "      <td>Backstreet Boys</td>\n",
       "      <td>Backstreet BoysQuit Playing Games (with My Heart)</td>\n",
       "      <td>5rSXSAkZ67PYJSvpUpkOr71nRwyxNsqCLeA17qR8Nfxx</td>\n",
       "      <td>5rSXSAkZ67PYJSvpUpkOr7</td>\n",
       "      <td>1nRwyxNsqCLeA17qR8Nfxx</td>\n",
       "      <td>0.06150</td>\n",
       "      <td>...</td>\n",
       "      <td>0.0</td>\n",
       "      <td>0.0</td>\n",
       "      <td>0.0</td>\n",
       "      <td>0.0</td>\n",
       "      <td>1</td>\n",
       "      <td>0</td>\n",
       "      <td>0</td>\n",
       "      <td>0</td>\n",
       "      <td>1</td>\n",
       "      <td>0</td>\n",
       "    </tr>\n",
       "  </tbody>\n",
       "</table>\n",
       "<p>10 rows × 465 columns</p>\n",
       "</div>"
      ],
      "text/plain": [
       "   chart_order       week  position                                song  \\\n",
       "0            0 1997-07-07         1                             Mmm Bop   \n",
       "1            1 1997-07-07         2                               Bitch   \n",
       "2            2 1997-07-07         3                 Say You'll Be There   \n",
       "3            3 1997-07-07         4                  Return Of The Mack   \n",
       "4            4 1997-07-07         5                     Sunny Came Home   \n",
       "5            5 1997-07-07         6                         Do You Know   \n",
       "6            6 1997-07-07         7                        The Freshmen   \n",
       "7            7 1997-07-07         8               Hard To Say I'm Sorry   \n",
       "8            8 1997-07-07         9                          I Want You   \n",
       "9            9 1997-07-07        10  Quit Playing Games (with My Heart)   \n",
       "\n",
       "            artist                                          combo_str  \\\n",
       "0           Hanson                                      HansonMmm Bop   \n",
       "1  Meredith Brooks                               Meredith BrooksBitch   \n",
       "2      Spice Girls                     Spice GirlsSay You'll Be There   \n",
       "3    Mark Morrison                    Mark MorrisonReturn Of The Mack   \n",
       "4     Shawn Colvin                        Shawn ColvinSunny Came Home   \n",
       "5            Robyn                                   RobynDo You Know   \n",
       "6       Verve Pipe                             Verve PipeThe Freshmen   \n",
       "7           Az Yet                        Az YetHard To Say I'm Sorry   \n",
       "8    Savage Garden                            Savage GardenI Want You   \n",
       "9  Backstreet Boys  Backstreet BoysQuit Playing Games (with My Heart)   \n",
       "\n",
       "                                          combo               artist_id  \\\n",
       "0  0SdiiPkr02EUdekHZJkt580lnxrQAd9ZxbhBBe7d8FO8  0SdiiPkr02EUdekHZJkt58   \n",
       "1  2QmLFuIDtNDmmJY3OtvinN3i6qNxyVgIdUZTTi5m25EM  2QmLFuIDtNDmmJY3OtvinN   \n",
       "2  0uq5PttqEjj3IH1bzwcrXF1yTQ39my3MoNROlFw3RDNy  0uq5PttqEjj3IH1bzwcrXF   \n",
       "3  6V3F8MZrOKdT9fU686ybE93jDdpx9PMlfMBS5tOBHFm9  6V3F8MZrOKdT9fU686ybE9   \n",
       "4  0K7VN4aHxHcEb7PqkfoIVA4mOxpj82q6n3EO7HBZCelX  0K7VN4aHxHcEb7PqkfoIVA   \n",
       "5  6UE7nl9mha6s8z0wFQFIZ20idCpkJ2pspfAILbanmERu  6UE7nl9mha6s8z0wFQFIZ2   \n",
       "6  242iqFnwNhlidVBMI9GYKp21jEuMn2lf37715rwjow2M  242iqFnwNhlidVBMI9GYKp   \n",
       "7  4UGMQyNcbGHYg5CDMKkSw32OWzR8QoH7KaLtiN65v32x  4UGMQyNcbGHYg5CDMKkSw3   \n",
       "8  3NRFinRTEqUCfaTTZmk8ek3XorCFmcupSm5QS6hA9g4N  3NRFinRTEqUCfaTTZmk8ek   \n",
       "9  5rSXSAkZ67PYJSvpUpkOr71nRwyxNsqCLeA17qR8Nfxx  5rSXSAkZ67PYJSvpUpkOr7   \n",
       "\n",
       "                  song_id  acousticness  ...  worship  yacht_rock  yakut_pop  \\\n",
       "0  0lnxrQAd9ZxbhBBe7d8FO8       0.00481  ...      0.0         0.0        0.0   \n",
       "1  3i6qNxyVgIdUZTTi5m25EM       0.01120  ...      0.0         0.0        0.0   \n",
       "2  1yTQ39my3MoNROlFw3RDNy       0.01490  ...      0.0         0.0        0.0   \n",
       "3  3jDdpx9PMlfMBS5tOBHFm9       0.00631  ...      0.0         0.0        0.0   \n",
       "4  4mOxpj82q6n3EO7HBZCelX       0.34200  ...      0.0         0.0        0.0   \n",
       "5  0idCpkJ2pspfAILbanmERu       0.00465  ...      0.0         0.0        0.0   \n",
       "6  21jEuMn2lf37715rwjow2M       0.07570  ...      0.0         0.0        0.0   \n",
       "7  2OWzR8QoH7KaLtiN65v32x       0.60400  ...      0.0         0.0        0.0   \n",
       "8  3XorCFmcupSm5QS6hA9g4N       0.00770  ...      0.0         0.0        0.0   \n",
       "9  1nRwyxNsqCLeA17qR8Nfxx       0.06150  ...      0.0         0.0        0.0   \n",
       "\n",
       "   yodeling  all_pop  all_rock  all_hiphop  all_metal  top3_genres  not_top3  \n",
       "0       0.0        1         1           0          0            1         0  \n",
       "1       0.0        0         0           0          0            0         1  \n",
       "2       0.0        1         0           0          0            1         0  \n",
       "3       0.0        0         0           0          0            0         1  \n",
       "4       0.0        1         1           0          0            1         0  \n",
       "5       0.0        1         0           0          0            1         0  \n",
       "6       0.0        1         1           0          0            1         0  \n",
       "7       0.0        0         0           1          0            1         0  \n",
       "8       0.0        1         1           0          0            1         0  \n",
       "9       0.0        1         0           0          0            1         0  \n",
       "\n",
       "[10 rows x 465 columns]"
      ]
     },
     "execution_count": 187,
     "metadata": {},
     "output_type": "execute_result"
    }
   ],
   "source": [
    "start = timeit.default_timer()\n",
    "for i in top40.index:\n",
    "    \n",
    "    if top40[all_pop].sum(axis=1)[i] > 0:\n",
    "        top40.at[i, 'all_pop'] = 1\n",
    "        \n",
    "    if top40[all_rock].sum(axis=1)[i] > 0:\n",
    "        top40.at[i, 'all_rock'] = 1\n",
    "        \n",
    "    if top40[all_hiphop].sum(axis=1)[i] > 0:\n",
    "        top40.at[i, 'all_hiphop'] = 1\n",
    "\n",
    "    if top40[all_metal].sum(axis=1)[i] > 0:\n",
    "        top40.at[i, 'all_metal'] = 1\n",
    "    \n",
    "    if top40[top3_genres].sum(axis=1)[i] > 0:\n",
    "        top40.at[i, 'top3_genres'] = 1\n",
    "\n",
    "    if top40.loc[i, 'top3_genres']  == 0:\n",
    "        top40.at[i, 'not_top3'] = 1\n",
    "\n",
    "    if (i+1) % 100 == 0:\n",
    "        checkpoint = timeit.default_timer()\n",
    "        clear_output()\n",
    "        time_elapsed = (checkpoint-start)/60\n",
    "        pct_complete = (i+1)/len(top40)*100\n",
    "        rate = (i+1) / time_elapsed\n",
    "        total_time = len(top40)/rate\n",
    "        time_remaining = total_time - time_elapsed\n",
    "        print(f'{i+1} of {len(top40)} songs processed ({pct_complete:.2f}% complete)')\n",
    "        print(f'{time_elapsed:.2f} minutes elapsed')\n",
    "        print(f'Estimated {time_remaining:.2f} minutes remaining')\n",
    "        \n",
    "print('Done!')\n",
    "top40.head(10)"
   ]
  },
  {
   "cell_type": "code",
   "execution_count": 164,
   "id": "41e3881b",
   "metadata": {},
   "outputs": [
    {
     "data": {
      "text/plain": [
       "acousticness        0.00481\n",
       "danceability          0.683\n",
       "duration             268653\n",
       "energy                0.937\n",
       "instrumentalness     0.0046\n",
       "key                       9\n",
       "liveness               0.07\n",
       "loudness             -6.335\n",
       "mode                      1\n",
       "speechiness          0.0449\n",
       "tempo               104.872\n",
       "time_signature            4\n",
       "valence               0.619\n",
       "a_cappella                0\n",
       "Name: 0, dtype: object"
      ]
     },
     "execution_count": 164,
     "metadata": {},
     "output_type": "execute_result"
    }
   ],
   "source": [
    "top40.iloc[0,6:20]"
   ]
  },
  {
   "cell_type": "code",
   "execution_count": 156,
   "id": "535e1d91",
   "metadata": {},
   "outputs": [],
   "source": [
    "# write df to csv\n",
    "top40.to_csv('../top40_charts_audio.csv', index=False)"
   ]
  },
  {
   "cell_type": "code",
   "execution_count": null,
   "id": "2b96838d",
   "metadata": {},
   "outputs": [],
   "source": []
  }
 ],
 "metadata": {
  "kernelspec": {
   "display_name": "mlenv",
   "language": "python",
   "name": "mlenv"
  },
  "language_info": {
   "codemirror_mode": {
    "name": "ipython",
    "version": 3
   },
   "file_extension": ".py",
   "mimetype": "text/x-python",
   "name": "python",
   "nbconvert_exporter": "python",
   "pygments_lexer": "ipython3",
   "version": "3.9.13"
  }
 },
 "nbformat": 4,
 "nbformat_minor": 5
}
