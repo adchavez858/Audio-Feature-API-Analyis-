{
 "cells": [
  {
   "cell_type": "code",
   "execution_count": 165,
   "id": "3358e03a",
   "metadata": {},
   "outputs": [],
   "source": [
    "import pandas as pd\n",
    "import numpy as np\n",
    "import datetime as dt\n",
    "import plotly.express as px"
   ]
  },
  {
   "cell_type": "code",
   "execution_count": 166,
   "id": "c7ca4242",
   "metadata": {},
   "outputs": [
    {
     "name": "stdout",
     "output_type": "stream",
     "text": [
      "31275\n"
     ]
    },
    {
     "data": {
      "text/html": [
       "<div>\n",
       "<style scoped>\n",
       "    .dataframe tbody tr th:only-of-type {\n",
       "        vertical-align: middle;\n",
       "    }\n",
       "\n",
       "    .dataframe tbody tr th {\n",
       "        vertical-align: top;\n",
       "    }\n",
       "\n",
       "    .dataframe thead th {\n",
       "        text-align: right;\n",
       "    }\n",
       "</style>\n",
       "<table border=\"1\" class=\"dataframe\">\n",
       "  <thead>\n",
       "    <tr style=\"text-align: right;\">\n",
       "      <th></th>\n",
       "      <th>week</th>\n",
       "      <th>position</th>\n",
       "      <th>artist</th>\n",
       "      <th>song</th>\n",
       "      <th>combo</th>\n",
       "      <th>combo_str</th>\n",
       "      <th>acousticness</th>\n",
       "      <th>danceability</th>\n",
       "      <th>duration</th>\n",
       "      <th>energy</th>\n",
       "      <th>...</th>\n",
       "      <th>worship</th>\n",
       "      <th>yacht_rock</th>\n",
       "      <th>yakut_pop</th>\n",
       "      <th>yodeling</th>\n",
       "      <th>all_pop</th>\n",
       "      <th>all_rock</th>\n",
       "      <th>all_hiphop</th>\n",
       "      <th>all_metal</th>\n",
       "      <th>top3_genres</th>\n",
       "      <th>not_top3</th>\n",
       "    </tr>\n",
       "  </thead>\n",
       "  <tbody>\n",
       "    <tr>\n",
       "      <th>0</th>\n",
       "      <td>7/7/97</td>\n",
       "      <td>1</td>\n",
       "      <td>Hanson</td>\n",
       "      <td>Mmm Bop</td>\n",
       "      <td>0SdiiPkr02EUdekHZJkt580lnxrQAd9ZxbhBBe7d8FO8</td>\n",
       "      <td>HansonMmm Bop</td>\n",
       "      <td>0.00481</td>\n",
       "      <td>0.683</td>\n",
       "      <td>268653</td>\n",
       "      <td>0.937</td>\n",
       "      <td>...</td>\n",
       "      <td>0</td>\n",
       "      <td>0</td>\n",
       "      <td>0</td>\n",
       "      <td>0</td>\n",
       "      <td>1</td>\n",
       "      <td>1</td>\n",
       "      <td>0</td>\n",
       "      <td>0</td>\n",
       "      <td>1</td>\n",
       "      <td>0</td>\n",
       "    </tr>\n",
       "    <tr>\n",
       "      <th>1</th>\n",
       "      <td>7/7/97</td>\n",
       "      <td>2</td>\n",
       "      <td>Meredith Brooks</td>\n",
       "      <td>Bitch</td>\n",
       "      <td>2QmLFuIDtNDmmJY3OtvinN3i6qNxyVgIdUZTTi5m25EM</td>\n",
       "      <td>Meredith BrooksBitch</td>\n",
       "      <td>0.01120</td>\n",
       "      <td>0.617</td>\n",
       "      <td>252760</td>\n",
       "      <td>0.886</td>\n",
       "      <td>...</td>\n",
       "      <td>0</td>\n",
       "      <td>0</td>\n",
       "      <td>0</td>\n",
       "      <td>0</td>\n",
       "      <td>0</td>\n",
       "      <td>0</td>\n",
       "      <td>0</td>\n",
       "      <td>0</td>\n",
       "      <td>0</td>\n",
       "      <td>1</td>\n",
       "    </tr>\n",
       "    <tr>\n",
       "      <th>2</th>\n",
       "      <td>7/7/97</td>\n",
       "      <td>3</td>\n",
       "      <td>Spice Girls</td>\n",
       "      <td>Say You'll Be There</td>\n",
       "      <td>0uq5PttqEjj3IH1bzwcrXF1yTQ39my3MoNROlFw3RDNy</td>\n",
       "      <td>Spice GirlsSay You'll Be There</td>\n",
       "      <td>0.01490</td>\n",
       "      <td>0.726</td>\n",
       "      <td>235973</td>\n",
       "      <td>0.679</td>\n",
       "      <td>...</td>\n",
       "      <td>0</td>\n",
       "      <td>0</td>\n",
       "      <td>0</td>\n",
       "      <td>0</td>\n",
       "      <td>1</td>\n",
       "      <td>0</td>\n",
       "      <td>0</td>\n",
       "      <td>0</td>\n",
       "      <td>1</td>\n",
       "      <td>0</td>\n",
       "    </tr>\n",
       "    <tr>\n",
       "      <th>3</th>\n",
       "      <td>7/7/97</td>\n",
       "      <td>4</td>\n",
       "      <td>Mark Morrison</td>\n",
       "      <td>Return Of The Mack</td>\n",
       "      <td>6V3F8MZrOKdT9fU686ybE93jDdpx9PMlfMBS5tOBHFm9</td>\n",
       "      <td>Mark MorrisonReturn Of The Mack</td>\n",
       "      <td>0.00631</td>\n",
       "      <td>0.715</td>\n",
       "      <td>213093</td>\n",
       "      <td>0.833</td>\n",
       "      <td>...</td>\n",
       "      <td>0</td>\n",
       "      <td>0</td>\n",
       "      <td>0</td>\n",
       "      <td>0</td>\n",
       "      <td>0</td>\n",
       "      <td>0</td>\n",
       "      <td>0</td>\n",
       "      <td>0</td>\n",
       "      <td>0</td>\n",
       "      <td>1</td>\n",
       "    </tr>\n",
       "    <tr>\n",
       "      <th>4</th>\n",
       "      <td>7/7/97</td>\n",
       "      <td>5</td>\n",
       "      <td>Shawn Colvin</td>\n",
       "      <td>Sunny Came Home</td>\n",
       "      <td>0K7VN4aHxHcEb7PqkfoIVA4mOxpj82q6n3EO7HBZCelX</td>\n",
       "      <td>Shawn ColvinSunny Came Home</td>\n",
       "      <td>0.34200</td>\n",
       "      <td>0.558</td>\n",
       "      <td>264200</td>\n",
       "      <td>0.579</td>\n",
       "      <td>...</td>\n",
       "      <td>0</td>\n",
       "      <td>0</td>\n",
       "      <td>0</td>\n",
       "      <td>0</td>\n",
       "      <td>1</td>\n",
       "      <td>1</td>\n",
       "      <td>0</td>\n",
       "      <td>0</td>\n",
       "      <td>1</td>\n",
       "      <td>0</td>\n",
       "    </tr>\n",
       "  </tbody>\n",
       "</table>\n",
       "<p>5 rows × 462 columns</p>\n",
       "</div>"
      ],
      "text/plain": [
       "     week  position           artist                 song  \\\n",
       "0  7/7/97         1           Hanson              Mmm Bop   \n",
       "1  7/7/97         2  Meredith Brooks                Bitch   \n",
       "2  7/7/97         3      Spice Girls  Say You'll Be There   \n",
       "3  7/7/97         4    Mark Morrison   Return Of The Mack   \n",
       "4  7/7/97         5     Shawn Colvin      Sunny Came Home   \n",
       "\n",
       "                                          combo  \\\n",
       "0  0SdiiPkr02EUdekHZJkt580lnxrQAd9ZxbhBBe7d8FO8   \n",
       "1  2QmLFuIDtNDmmJY3OtvinN3i6qNxyVgIdUZTTi5m25EM   \n",
       "2  0uq5PttqEjj3IH1bzwcrXF1yTQ39my3MoNROlFw3RDNy   \n",
       "3  6V3F8MZrOKdT9fU686ybE93jDdpx9PMlfMBS5tOBHFm9   \n",
       "4  0K7VN4aHxHcEb7PqkfoIVA4mOxpj82q6n3EO7HBZCelX   \n",
       "\n",
       "                         combo_str  acousticness  danceability  duration  \\\n",
       "0                    HansonMmm Bop       0.00481         0.683    268653   \n",
       "1             Meredith BrooksBitch       0.01120         0.617    252760   \n",
       "2   Spice GirlsSay You'll Be There       0.01490         0.726    235973   \n",
       "3  Mark MorrisonReturn Of The Mack       0.00631         0.715    213093   \n",
       "4      Shawn ColvinSunny Came Home       0.34200         0.558    264200   \n",
       "\n",
       "   energy  ...  worship  yacht_rock  yakut_pop  yodeling  all_pop  all_rock  \\\n",
       "0   0.937  ...        0           0          0         0        1         1   \n",
       "1   0.886  ...        0           0          0         0        0         0   \n",
       "2   0.679  ...        0           0          0         0        1         0   \n",
       "3   0.833  ...        0           0          0         0        0         0   \n",
       "4   0.579  ...        0           0          0         0        1         1   \n",
       "\n",
       "   all_hiphop  all_metal  top3_genres  not_top3  \n",
       "0           0          0            1         0  \n",
       "1           0          0            0         1  \n",
       "2           0          0            1         0  \n",
       "3           0          0            0         1  \n",
       "4           0          0            1         0  \n",
       "\n",
       "[5 rows x 462 columns]"
      ]
     },
     "execution_count": 166,
     "metadata": {},
     "output_type": "execute_result"
    }
   ],
   "source": [
    "top40 = pd.read_csv('../top40_charts_audio.csv')\n",
    "top40.dropna(inplace=True)\n",
    "print(len(top40))\n",
    "top40.head()"
   ]
  },
  {
   "cell_type": "code",
   "execution_count": 142,
   "id": "3382c4b9",
   "metadata": {},
   "outputs": [
    {
     "data": {
      "text/plain": [
       "week           object\n",
       "position      float64\n",
       "artist         object\n",
       "song           object\n",
       "combo          object\n",
       "               ...   \n",
       "world           int64\n",
       "worship         int64\n",
       "yacht_rock      int64\n",
       "yakut_pop       int64\n",
       "yodeling        int64\n",
       "Length: 456, dtype: object"
      ]
     },
     "execution_count": 142,
     "metadata": {},
     "output_type": "execute_result"
    }
   ],
   "source": [
    "top40.dtypes"
   ]
  },
  {
   "cell_type": "code",
   "execution_count": 143,
   "id": "63b35294",
   "metadata": {},
   "outputs": [
    {
     "data": {
      "text/html": [
       "<div>\n",
       "<style scoped>\n",
       "    .dataframe tbody tr th:only-of-type {\n",
       "        vertical-align: middle;\n",
       "    }\n",
       "\n",
       "    .dataframe tbody tr th {\n",
       "        vertical-align: top;\n",
       "    }\n",
       "\n",
       "    .dataframe thead th {\n",
       "        text-align: right;\n",
       "    }\n",
       "</style>\n",
       "<table border=\"1\" class=\"dataframe\">\n",
       "  <thead>\n",
       "    <tr style=\"text-align: right;\">\n",
       "      <th></th>\n",
       "      <th>week</th>\n",
       "      <th>position</th>\n",
       "      <th>artist</th>\n",
       "      <th>song</th>\n",
       "      <th>combo</th>\n",
       "      <th>combo_str</th>\n",
       "      <th>acousticness</th>\n",
       "      <th>danceability</th>\n",
       "      <th>duration</th>\n",
       "      <th>energy</th>\n",
       "      <th>...</th>\n",
       "      <th>virginia_hip_hop</th>\n",
       "      <th>vocal_house</th>\n",
       "      <th>vocal_jazz</th>\n",
       "      <th>washington_indie</th>\n",
       "      <th>west_coast_rap</th>\n",
       "      <th>world</th>\n",
       "      <th>worship</th>\n",
       "      <th>yacht_rock</th>\n",
       "      <th>yakut_pop</th>\n",
       "      <th>yodeling</th>\n",
       "    </tr>\n",
       "  </thead>\n",
       "  <tbody>\n",
       "    <tr>\n",
       "      <th>0</th>\n",
       "      <td>1997-07-07</td>\n",
       "      <td>1.0</td>\n",
       "      <td>Hanson</td>\n",
       "      <td>Mmm Bop</td>\n",
       "      <td>0SdiiPkr02EUdekHZJkt580lnxrQAd9ZxbhBBe7d8FO8</td>\n",
       "      <td>HansonMmm Bop</td>\n",
       "      <td>0.00481</td>\n",
       "      <td>0.683</td>\n",
       "      <td>268653</td>\n",
       "      <td>0.937</td>\n",
       "      <td>...</td>\n",
       "      <td>0</td>\n",
       "      <td>0</td>\n",
       "      <td>0</td>\n",
       "      <td>0</td>\n",
       "      <td>0</td>\n",
       "      <td>0</td>\n",
       "      <td>0</td>\n",
       "      <td>0</td>\n",
       "      <td>0</td>\n",
       "      <td>0</td>\n",
       "    </tr>\n",
       "    <tr>\n",
       "      <th>1</th>\n",
       "      <td>1997-07-07</td>\n",
       "      <td>2.0</td>\n",
       "      <td>Meredith Brooks</td>\n",
       "      <td>Bitch</td>\n",
       "      <td>2QmLFuIDtNDmmJY3OtvinN3i6qNxyVgIdUZTTi5m25EM</td>\n",
       "      <td>Meredith BrooksBitch</td>\n",
       "      <td>0.01120</td>\n",
       "      <td>0.617</td>\n",
       "      <td>252760</td>\n",
       "      <td>0.886</td>\n",
       "      <td>...</td>\n",
       "      <td>0</td>\n",
       "      <td>0</td>\n",
       "      <td>0</td>\n",
       "      <td>0</td>\n",
       "      <td>0</td>\n",
       "      <td>0</td>\n",
       "      <td>0</td>\n",
       "      <td>0</td>\n",
       "      <td>0</td>\n",
       "      <td>0</td>\n",
       "    </tr>\n",
       "    <tr>\n",
       "      <th>2</th>\n",
       "      <td>1997-07-07</td>\n",
       "      <td>3.0</td>\n",
       "      <td>Spice Girls</td>\n",
       "      <td>Say You'll Be There</td>\n",
       "      <td>0uq5PttqEjj3IH1bzwcrXF1yTQ39my3MoNROlFw3RDNy</td>\n",
       "      <td>Spice GirlsSay You'll Be There</td>\n",
       "      <td>0.01490</td>\n",
       "      <td>0.726</td>\n",
       "      <td>235973</td>\n",
       "      <td>0.679</td>\n",
       "      <td>...</td>\n",
       "      <td>0</td>\n",
       "      <td>0</td>\n",
       "      <td>0</td>\n",
       "      <td>0</td>\n",
       "      <td>0</td>\n",
       "      <td>0</td>\n",
       "      <td>0</td>\n",
       "      <td>0</td>\n",
       "      <td>0</td>\n",
       "      <td>0</td>\n",
       "    </tr>\n",
       "    <tr>\n",
       "      <th>3</th>\n",
       "      <td>1997-07-07</td>\n",
       "      <td>4.0</td>\n",
       "      <td>Mark Morrison</td>\n",
       "      <td>Return Of The Mack</td>\n",
       "      <td>6V3F8MZrOKdT9fU686ybE93jDdpx9PMlfMBS5tOBHFm9</td>\n",
       "      <td>Mark MorrisonReturn Of The Mack</td>\n",
       "      <td>0.00631</td>\n",
       "      <td>0.715</td>\n",
       "      <td>213093</td>\n",
       "      <td>0.833</td>\n",
       "      <td>...</td>\n",
       "      <td>0</td>\n",
       "      <td>0</td>\n",
       "      <td>0</td>\n",
       "      <td>0</td>\n",
       "      <td>0</td>\n",
       "      <td>0</td>\n",
       "      <td>0</td>\n",
       "      <td>0</td>\n",
       "      <td>0</td>\n",
       "      <td>0</td>\n",
       "    </tr>\n",
       "    <tr>\n",
       "      <th>4</th>\n",
       "      <td>1997-07-07</td>\n",
       "      <td>5.0</td>\n",
       "      <td>Shawn Colvin</td>\n",
       "      <td>Sunny Came Home</td>\n",
       "      <td>0K7VN4aHxHcEb7PqkfoIVA4mOxpj82q6n3EO7HBZCelX</td>\n",
       "      <td>Shawn ColvinSunny Came Home</td>\n",
       "      <td>0.34200</td>\n",
       "      <td>0.558</td>\n",
       "      <td>264200</td>\n",
       "      <td>0.579</td>\n",
       "      <td>...</td>\n",
       "      <td>0</td>\n",
       "      <td>0</td>\n",
       "      <td>0</td>\n",
       "      <td>0</td>\n",
       "      <td>0</td>\n",
       "      <td>0</td>\n",
       "      <td>0</td>\n",
       "      <td>0</td>\n",
       "      <td>0</td>\n",
       "      <td>0</td>\n",
       "    </tr>\n",
       "  </tbody>\n",
       "</table>\n",
       "<p>5 rows × 456 columns</p>\n",
       "</div>"
      ],
      "text/plain": [
       "        week  position           artist                 song  \\\n",
       "0 1997-07-07       1.0           Hanson              Mmm Bop   \n",
       "1 1997-07-07       2.0  Meredith Brooks                Bitch   \n",
       "2 1997-07-07       3.0      Spice Girls  Say You'll Be There   \n",
       "3 1997-07-07       4.0    Mark Morrison   Return Of The Mack   \n",
       "4 1997-07-07       5.0     Shawn Colvin      Sunny Came Home   \n",
       "\n",
       "                                          combo  \\\n",
       "0  0SdiiPkr02EUdekHZJkt580lnxrQAd9ZxbhBBe7d8FO8   \n",
       "1  2QmLFuIDtNDmmJY3OtvinN3i6qNxyVgIdUZTTi5m25EM   \n",
       "2  0uq5PttqEjj3IH1bzwcrXF1yTQ39my3MoNROlFw3RDNy   \n",
       "3  6V3F8MZrOKdT9fU686ybE93jDdpx9PMlfMBS5tOBHFm9   \n",
       "4  0K7VN4aHxHcEb7PqkfoIVA4mOxpj82q6n3EO7HBZCelX   \n",
       "\n",
       "                         combo_str  acousticness  danceability  duration  \\\n",
       "0                    HansonMmm Bop       0.00481         0.683    268653   \n",
       "1             Meredith BrooksBitch       0.01120         0.617    252760   \n",
       "2   Spice GirlsSay You'll Be There       0.01490         0.726    235973   \n",
       "3  Mark MorrisonReturn Of The Mack       0.00631         0.715    213093   \n",
       "4      Shawn ColvinSunny Came Home       0.34200         0.558    264200   \n",
       "\n",
       "   energy  ...  virginia_hip_hop  vocal_house  vocal_jazz  washington_indie  \\\n",
       "0   0.937  ...                 0            0           0                 0   \n",
       "1   0.886  ...                 0            0           0                 0   \n",
       "2   0.679  ...                 0            0           0                 0   \n",
       "3   0.833  ...                 0            0           0                 0   \n",
       "4   0.579  ...                 0            0           0                 0   \n",
       "\n",
       "   west_coast_rap  world  worship  yacht_rock  yakut_pop  yodeling  \n",
       "0               0      0        0           0          0         0  \n",
       "1               0      0        0           0          0         0  \n",
       "2               0      0        0           0          0         0  \n",
       "3               0      0        0           0          0         0  \n",
       "4               0      0        0           0          0         0  \n",
       "\n",
       "[5 rows x 456 columns]"
      ]
     },
     "execution_count": 143,
     "metadata": {},
     "output_type": "execute_result"
    }
   ],
   "source": [
    "top40['week'] = pd.to_datetime(top40['week'])\n",
    "top40.head()"
   ]
  },
  {
   "cell_type": "code",
   "execution_count": 144,
   "id": "d60c9654",
   "metadata": {},
   "outputs": [
    {
     "data": {
      "text/plain": [
       "['a_cappella',\n",
       " 'acoustic_pop',\n",
       " 'adult_standards',\n",
       " 'afrofuturism',\n",
       " 'alabama_rap',\n",
       " 'alberta_country',\n",
       " 'album_rock',\n",
       " 'alt_z',\n",
       " 'alternative_dance',\n",
       " 'alternative_hip_hop',\n",
       " 'alternative_metal',\n",
       " 'alternative_pop',\n",
       " 'alternative_r&b',\n",
       " 'alternative_rock',\n",
       " 'american_folk_revival',\n",
       " 'anarcho-punk',\n",
       " 'anti-folk',\n",
       " 'arkansas_country',\n",
       " 'arkansas_hip_hop',\n",
       " 'art_pop',\n",
       " 'art_rock',\n",
       " 'asian_american_hip_hop',\n",
       " 'atl_hip_hop',\n",
       " 'atl_trap',\n",
       " 'atlanta_bass',\n",
       " 'austin_singer-songwriter',\n",
       " 'australian_country',\n",
       " 'australian_dance',\n",
       " 'australian_electropop',\n",
       " 'australian_hip_hop',\n",
       " 'australian_house',\n",
       " 'australian_indie',\n",
       " 'australian_pop',\n",
       " 'australian_talent_show',\n",
       " 'bahamian_pop',\n",
       " 'barbadian_pop',\n",
       " 'baroque_pop',\n",
       " 'bass_house',\n",
       " 'bass_trap',\n",
       " 'bassline',\n",
       " 'baton_rouge_rap',\n",
       " 'battle_rap',\n",
       " 'bedroom_pop',\n",
       " 'bedroom_soul',\n",
       " 'belgian_dance',\n",
       " 'belgian_pop',\n",
       " 'bhangra',\n",
       " 'big_beat',\n",
       " 'big_room',\n",
       " 'black_americana',\n",
       " 'blues_rock',\n",
       " 'bossbeat',\n",
       " 'boston_hip_hop',\n",
       " 'boston_punk',\n",
       " 'boston_rock',\n",
       " 'bounce',\n",
       " 'bow_pop',\n",
       " 'boy_band',\n",
       " 'brill_building_pop',\n",
       " 'british_invasion',\n",
       " 'british_soul',\n",
       " 'britpop',\n",
       " 'bronx_hip_hop',\n",
       " 'brooklyn_drill',\n",
       " 'brostep',\n",
       " 'bubblegum_dance',\n",
       " 'cali_rap',\n",
       " 'canadian_celtic',\n",
       " 'canadian_contemporary_country',\n",
       " 'canadian_contemporary_r&b',\n",
       " 'canadian_country',\n",
       " 'canadian_hip_hop',\n",
       " 'canadian_latin',\n",
       " 'canadian_metal',\n",
       " 'canadian_old_school_hip_hop',\n",
       " 'canadian_pop',\n",
       " 'canadian_pop_punk',\n",
       " 'canadian_punk',\n",
       " 'canadian_rock',\n",
       " 'canadian_singer-songwriter',\n",
       " 'canadian_trap',\n",
       " 'candy_pop',\n",
       " 'cartoon',\n",
       " 'ccm',\n",
       " 'celtic',\n",
       " 'celtic_rock',\n",
       " 'chamber_pop',\n",
       " 'chicago_bop',\n",
       " 'chicago_drill',\n",
       " 'chicago_indie',\n",
       " 'chicago_rap',\n",
       " 'chicano_rap',\n",
       " \"children's_music\",\n",
       " 'chopped_and_screwed',\n",
       " 'christian_alternative_rock',\n",
       " 'christian_indie',\n",
       " 'christian_music',\n",
       " 'christian_rock',\n",
       " 'chutney',\n",
       " 'classic_bhangra',\n",
       " 'classic_dubstep',\n",
       " 'classic_girl_group',\n",
       " 'classic_rock',\n",
       " 'clean_comedy',\n",
       " 'colombian_pop',\n",
       " 'comedy',\n",
       " 'comedy_rap',\n",
       " 'comic',\n",
       " 'complextro',\n",
       " 'conscious_hip_hop',\n",
       " 'contemporary_country',\n",
       " 'contemporary_r&b',\n",
       " 'contemporary_vocal_jazz',\n",
       " 'country',\n",
       " 'country_dawn',\n",
       " 'country_gospel',\n",
       " 'country_pop',\n",
       " 'country_rap',\n",
       " 'country_road',\n",
       " 'country_rock',\n",
       " 'cowboy_western',\n",
       " 'cowpunk',\n",
       " 'crunk',\n",
       " 'cyberpunk',\n",
       " 'dance-punk',\n",
       " 'dance_pop',\n",
       " 'dance_rock',\n",
       " 'dancehall',\n",
       " 'danish_pop',\n",
       " 'dark_clubbing',\n",
       " 'dark_pop',\n",
       " 'deep_acoustic_pop',\n",
       " 'deep_southern_trap',\n",
       " 'deep_underground_hip_hop',\n",
       " 'derby_indie',\n",
       " 'desi_hip_hop',\n",
       " 'desi_pop',\n",
       " 'destroy_techno',\n",
       " 'detroit_hip_hop',\n",
       " 'detroit_rock',\n",
       " 'dfw_rap',\n",
       " 'dirty_south_rap',\n",
       " 'disco',\n",
       " 'dmv_rap',\n",
       " 'dong-yo',\n",
       " 'double_drumming',\n",
       " 'downtempo',\n",
       " 'drill',\n",
       " 'dutch_edm',\n",
       " 'dutch_pop',\n",
       " 'east_coast_hip_hop',\n",
       " 'easy_listening',\n",
       " 'ectofolk',\n",
       " 'edm',\n",
       " 'electra',\n",
       " 'electro',\n",
       " 'electro_house',\n",
       " 'electronic_rock',\n",
       " 'electronic_trap',\n",
       " 'electronica',\n",
       " 'electropop',\n",
       " 'electropowerpop',\n",
       " 'emo',\n",
       " 'emo_rap',\n",
       " 'escape_room',\n",
       " 'etherpop',\n",
       " 'eurodance',\n",
       " 'europop',\n",
       " 'fake',\n",
       " 'filter_house',\n",
       " 'florida_rap',\n",
       " 'folk',\n",
       " 'folk-pop',\n",
       " 'folk_rock',\n",
       " 'french_indie_pop',\n",
       " 'french_pop',\n",
       " 'french_rock',\n",
       " 'funk',\n",
       " 'funk_metal',\n",
       " 'funk_rock',\n",
       " 'futuristic_swag',\n",
       " 'g_funk',\n",
       " 'gambian_hip_hop',\n",
       " 'gangster_rap',\n",
       " 'garage_rock',\n",
       " 'gauze_pop',\n",
       " 'gen_z_singer-songwriter',\n",
       " 'german_pop',\n",
       " 'german_techno',\n",
       " 'ghanaian_hip_hop',\n",
       " 'girl_group',\n",
       " 'glam_metal',\n",
       " 'glam_rock',\n",
       " 'glee_club',\n",
       " 'golden_age_hip_hop',\n",
       " 'gospel',\n",
       " 'gospel_r&b',\n",
       " 'grime',\n",
       " 'grunge',\n",
       " 'grunge_pop',\n",
       " 'hard_rock',\n",
       " 'hardcore_hip_hop',\n",
       " 'harlem_hip_hop',\n",
       " 'hawaiian_hip_hop',\n",
       " 'heartland_rock',\n",
       " 'hip_hop',\n",
       " 'hip_house',\n",
       " 'hip_pop',\n",
       " 'hollywood',\n",
       " 'house',\n",
       " 'houston_rap',\n",
       " 'hyphy',\n",
       " 'idol',\n",
       " 'indie_pop',\n",
       " 'indie_pop_rap',\n",
       " 'indie_poptimism',\n",
       " 'indie_rock',\n",
       " 'indie_soul',\n",
       " 'indiecoustica',\n",
       " 'indietronica',\n",
       " 'industrial',\n",
       " 'industrial_metal',\n",
       " 'industrial_rock',\n",
       " 'irish_rock',\n",
       " 'irish_singer-songwriter',\n",
       " 'italian_adult_pop',\n",
       " 'italo_dance',\n",
       " 'jam_band',\n",
       " 'jamaican_dancehall',\n",
       " 'jazz_pop',\n",
       " 'k-pop',\n",
       " 'k-pop_boy_group',\n",
       " 'k-pop_girl_group',\n",
       " 'k-rap',\n",
       " 'kentucky_hip_hop',\n",
       " 'korean_old_school_hip_hop',\n",
       " 'la_indie',\n",
       " 'latin_hip_hop',\n",
       " 'latin_pop',\n",
       " 'latin_viral_pop',\n",
       " 'lds_youth',\n",
       " 'lgbtq+_hip_hop',\n",
       " 'lilith',\n",
       " 'lounge',\n",
       " 'lovers_rock',\n",
       " 'madchester',\n",
       " 'maine_hip_hop',\n",
       " 'medieval_folk',\n",
       " 'melancholia',\n",
       " 'melbourne_bounce_international',\n",
       " 'mellow_gold',\n",
       " 'melodic_dubstep',\n",
       " 'melodic_rap',\n",
       " 'memphis_hip_hop',\n",
       " 'metal',\n",
       " 'metropopolis',\n",
       " 'mexican_classic_rock',\n",
       " 'mexican_pop',\n",
       " 'miami_bass',\n",
       " 'miami_hip_hop',\n",
       " 'middle_earth',\n",
       " 'minneapolis_sound',\n",
       " 'minnesota_hip_hop',\n",
       " 'mississippi_hip_hop',\n",
       " 'modern_alternative_pop',\n",
       " 'modern_alternative_rock',\n",
       " 'modern_blues_rock',\n",
       " 'modern_country_rock',\n",
       " 'modern_folk_rock',\n",
       " 'modern_indie_pop',\n",
       " 'modern_power_pop',\n",
       " 'modern_rock',\n",
       " 'modern_uplift',\n",
       " 'nashville_hip_hop',\n",
       " 'neo-singer-songwriter',\n",
       " 'neo-synthpop',\n",
       " 'neo_mellow',\n",
       " 'neo_soul',\n",
       " 'neon_pop_punk',\n",
       " 'new_jack_swing',\n",
       " 'new_jersey_rap',\n",
       " 'new_jersey_underground_rap',\n",
       " 'new_orleans_rap',\n",
       " 'new_rave',\n",
       " 'new_romantic',\n",
       " 'new_wave',\n",
       " 'new_wave_pop',\n",
       " 'ninja',\n",
       " 'north_carolina_hip_hop',\n",
       " 'norwegian_pop',\n",
       " 'nouvelle_chanson_francaise',\n",
       " 'nu_metal',\n",
       " 'nyc_rap',\n",
       " 'nz_pop',\n",
       " 'oakland_hip_hop',\n",
       " 'ohio_hip_hop',\n",
       " 'oklahoma_country',\n",
       " 'old_school_atlanta_hip_hop',\n",
       " 'old_school_dancehall',\n",
       " 'old_school_hip_hop',\n",
       " 'old_school_thrash',\n",
       " 'omaha_indie',\n",
       " 'operatic_pop',\n",
       " 'orchestral_soundtrack',\n",
       " 'outlaw_country',\n",
       " 'oxford_indie',\n",
       " 'panamanian_pop',\n",
       " 'permanent_wave',\n",
       " 'philly_rap',\n",
       " 'piano_rock',\n",
       " 'pittsburgh_rap',\n",
       " 'pixie',\n",
       " 'plugg',\n",
       " 'pluggnb',\n",
       " 'political_hip_hop',\n",
       " 'pop',\n",
       " 'pop_dance',\n",
       " 'pop_emo',\n",
       " 'pop_punk',\n",
       " 'pop_r&b',\n",
       " 'pop_rap',\n",
       " 'pop_rock',\n",
       " 'pop_soul',\n",
       " 'post-grunge',\n",
       " 'post-teen_pop',\n",
       " 'power_pop',\n",
       " 'progressive_electro_house',\n",
       " 'progressive_house',\n",
       " 'puerto_rican_pop',\n",
       " 'punk',\n",
       " 'punk_blues',\n",
       " 'queens_hip_hop',\n",
       " 'queer_country',\n",
       " 'quiet_storm',\n",
       " 'r&b',\n",
       " 'rap',\n",
       " 'rap_conscient',\n",
       " 'rap_kreyol',\n",
       " 'rap_latina',\n",
       " 'rap_metal',\n",
       " 'rap_rock',\n",
       " 'redneck',\n",
       " 'reggae_fusion',\n",
       " 'reggaeton',\n",
       " 'reggaeton_colombiano',\n",
       " 'reggaeton_flow',\n",
       " 'rhode_island_rap',\n",
       " 'rock',\n",
       " 'rock-and-roll',\n",
       " 'rock_drums',\n",
       " 'rockabilly',\n",
       " 'romanian_house',\n",
       " 'romanian_pop',\n",
       " 'roots_reggae',\n",
       " 'sad_rap',\n",
       " 'salsa',\n",
       " 'san_diego_rap',\n",
       " 'scam_rap',\n",
       " 'scandipop',\n",
       " 'scottish_singer-songwriter',\n",
       " 'screamo',\n",
       " 'seattle_hip_hop',\n",
       " 'seattle_indie',\n",
       " 'shimmer_pop',\n",
       " 'shiver_pop',\n",
       " 'shoegaze',\n",
       " 'show_tunes',\n",
       " 'singer-songwriter',\n",
       " 'ska',\n",
       " 'ska_punk',\n",
       " 'skate_punk',\n",
       " 'slap_house',\n",
       " 'sleaze_rock',\n",
       " 'soca',\n",
       " 'socal_pop_punk',\n",
       " 'soft_rock',\n",
       " 'solo_wave',\n",
       " 'sophisti-pop',\n",
       " 'soul',\n",
       " 'soul_flow',\n",
       " 'soundtrack',\n",
       " 'south_african_pop',\n",
       " 'south_african_rock',\n",
       " 'south_carolina_hip_hop',\n",
       " 'southern_hip_hop',\n",
       " 'st_louis_rap',\n",
       " 'stomp_and_holler',\n",
       " 'stomp_pop',\n",
       " 'supergroup',\n",
       " 'swedish_electropop',\n",
       " 'swedish_pop',\n",
       " 'swedish_synthpop',\n",
       " 'swing',\n",
       " 'synthpop',\n",
       " 'talent_show',\n",
       " 'tennessee_hip_hop',\n",
       " 'texas_country',\n",
       " 'texas_latin_rap',\n",
       " 'texas_pop_punk',\n",
       " 'thrash_metal',\n",
       " 'toronto_rap',\n",
       " 'traditional_country',\n",
       " 'trancecore',\n",
       " 'trap',\n",
       " 'trap_boricua',\n",
       " 'trap_latino',\n",
       " 'trap_queen',\n",
       " 'trip_hop',\n",
       " 'tropical',\n",
       " 'tropical_house',\n",
       " 'turntablism',\n",
       " 'uk_alternative_pop',\n",
       " 'uk_americana',\n",
       " 'uk_contemporary_r&b',\n",
       " 'uk_dance',\n",
       " 'uk_funky',\n",
       " 'uk_garage',\n",
       " 'uk_pop',\n",
       " 'underground_hip_hop',\n",
       " 'upstate_ny_rap',\n",
       " 'urban_contemporary',\n",
       " 'vapor_trap',\n",
       " 'vapor_twitch',\n",
       " 'vincy_soca',\n",
       " 'viral_pop',\n",
       " 'viral_rap',\n",
       " 'viral_trap',\n",
       " 'virginia_hip_hop',\n",
       " 'vocal_house',\n",
       " 'vocal_jazz',\n",
       " 'washington_indie',\n",
       " 'west_coast_rap',\n",
       " 'world',\n",
       " 'worship',\n",
       " 'yacht_rock',\n",
       " 'yakut_pop',\n",
       " 'yodeling']"
      ]
     },
     "execution_count": 144,
     "metadata": {},
     "output_type": "execute_result"
    }
   ],
   "source": [
    "genre_df = top40.iloc[:,19:len(top40.columns)]\n",
    "list(genre_df.columns)"
   ]
  },
  {
   "cell_type": "code",
   "execution_count": 145,
   "id": "ad157d4a",
   "metadata": {},
   "outputs": [
    {
     "data": {
      "text/html": [
       "<div>\n",
       "<style scoped>\n",
       "    .dataframe tbody tr th:only-of-type {\n",
       "        vertical-align: middle;\n",
       "    }\n",
       "\n",
       "    .dataframe tbody tr th {\n",
       "        vertical-align: top;\n",
       "    }\n",
       "\n",
       "    .dataframe thead th {\n",
       "        text-align: right;\n",
       "    }\n",
       "</style>\n",
       "<table border=\"1\" class=\"dataframe\">\n",
       "  <thead>\n",
       "    <tr style=\"text-align: right;\">\n",
       "      <th></th>\n",
       "      <th>0</th>\n",
       "    </tr>\n",
       "  </thead>\n",
       "  <tbody>\n",
       "    <tr>\n",
       "      <th>a_cappella</th>\n",
       "      <td>12</td>\n",
       "    </tr>\n",
       "    <tr>\n",
       "      <th>acoustic_pop</th>\n",
       "      <td>226</td>\n",
       "    </tr>\n",
       "    <tr>\n",
       "      <th>adult_standards</th>\n",
       "      <td>120</td>\n",
       "    </tr>\n",
       "    <tr>\n",
       "      <th>afrofuturism</th>\n",
       "      <td>36</td>\n",
       "    </tr>\n",
       "    <tr>\n",
       "      <th>alabama_rap</th>\n",
       "      <td>26</td>\n",
       "    </tr>\n",
       "  </tbody>\n",
       "</table>\n",
       "</div>"
      ],
      "text/plain": [
       "                   0\n",
       "a_cappella        12\n",
       "acoustic_pop     226\n",
       "adult_standards  120\n",
       "afrofuturism      36\n",
       "alabama_rap       26"
      ]
     },
     "execution_count": 145,
     "metadata": {},
     "output_type": "execute_result"
    }
   ],
   "source": [
    "genres = []\n",
    "genre_counts = []\n",
    "#genre_counts = {'genre':[], 'count':[]}\n",
    "for column_name, column_data in genre_df.iteritems():\n",
    "    genres.append(column_name)\n",
    "    genre_counts.append(sum(column_data))\n",
    "#    genre_counts['genre'].append(column_name)\n",
    "#    genre_counts['count'].append(sum(column_data))\n",
    "\n",
    "genre_dict = dict(zip(genres, genre_counts))\n",
    "genre_counts_df = pd.DataFrame.from_dict(genre_dict, orient='index')\n",
    "genre_counts_df.head()"
   ]
  },
  {
   "cell_type": "code",
   "execution_count": 146,
   "id": "530ac586",
   "metadata": {},
   "outputs": [
    {
     "data": {
      "text/plain": [
       "{'a_cappella': 12,\n",
       " 'acoustic_pop': 226,\n",
       " 'adult_standards': 120,\n",
       " 'afrofuturism': 36,\n",
       " 'alabama_rap': 26,\n",
       " 'alberta_country': 37,\n",
       " 'album_rock': 28,\n",
       " 'alt_z': 46,\n",
       " 'alternative_dance': 27,\n",
       " 'alternative_hip_hop': 55,\n",
       " 'alternative_metal': 1291,\n",
       " 'alternative_pop': 4,\n",
       " 'alternative_r&b': 143,\n",
       " 'alternative_rock': 909,\n",
       " 'american_folk_revival': 19,\n",
       " 'anarcho-punk': 29,\n",
       " 'anti-folk': 20,\n",
       " 'arkansas_country': 32,\n",
       " 'arkansas_hip_hop': 5,\n",
       " 'art_pop': 417,\n",
       " 'art_rock': 24,\n",
       " 'asian_american_hip_hop': 51,\n",
       " 'atl_hip_hop': 1667,\n",
       " 'atl_trap': 42,\n",
       " 'atlanta_bass': 29,\n",
       " 'austin_singer-songwriter': 14,\n",
       " 'australian_country': 28,\n",
       " 'australian_dance': 113,\n",
       " 'australian_electropop': 11,\n",
       " 'australian_hip_hop': 138,\n",
       " 'australian_house': 8,\n",
       " 'australian_indie': 11,\n",
       " 'australian_pop': 321,\n",
       " 'australian_talent_show': 14,\n",
       " 'bahamian_pop': 18,\n",
       " 'barbadian_pop': 228,\n",
       " 'baroque_pop': 115,\n",
       " 'bass_house': 8,\n",
       " 'bass_trap': 12,\n",
       " 'bassline': 41,\n",
       " 'baton_rouge_rap': 20,\n",
       " 'battle_rap': 17,\n",
       " 'bedroom_pop': 12,\n",
       " 'bedroom_soul': 8,\n",
       " 'belgian_dance': 1,\n",
       " 'belgian_pop': 1,\n",
       " 'bhangra': 7,\n",
       " 'big_beat': 23,\n",
       " 'big_room': 29,\n",
       " 'black_americana': 68,\n",
       " 'blues_rock': 132,\n",
       " 'bossbeat': 3,\n",
       " 'boston_hip_hop': 3,\n",
       " 'boston_punk': 10,\n",
       " 'boston_rock': 10,\n",
       " 'bounce': 26,\n",
       " 'bow_pop': 7,\n",
       " 'boy_band': 898,\n",
       " 'brill_building_pop': 63,\n",
       " 'british_invasion': 6,\n",
       " 'british_soul': 297,\n",
       " 'britpop': 16,\n",
       " 'bronx_hip_hop': 62,\n",
       " 'brooklyn_drill': 64,\n",
       " 'brostep': 121,\n",
       " 'bubblegum_dance': 161,\n",
       " 'cali_rap': 107,\n",
       " 'canadian_celtic': 13,\n",
       " 'canadian_contemporary_country': 29,\n",
       " 'canadian_contemporary_r&b': 246,\n",
       " 'canadian_country': 106,\n",
       " 'canadian_hip_hop': 65,\n",
       " 'canadian_latin': 93,\n",
       " 'canadian_metal': 2,\n",
       " 'canadian_old_school_hip_hop': 18,\n",
       " 'canadian_pop': 1169,\n",
       " 'canadian_pop_punk': 17,\n",
       " 'canadian_punk': 17,\n",
       " 'canadian_rock': 296,\n",
       " 'canadian_singer-songwriter': 118,\n",
       " 'canadian_trap': 2,\n",
       " 'candy_pop': 326,\n",
       " 'cartoon': 1,\n",
       " 'ccm': 43,\n",
       " 'celtic': 39,\n",
       " 'celtic_rock': 26,\n",
       " 'chamber_pop': 33,\n",
       " 'chicago_bop': 73,\n",
       " 'chicago_drill': 11,\n",
       " 'chicago_indie': 7,\n",
       " 'chicago_rap': 457,\n",
       " 'chicano_rap': 49,\n",
       " \"children's_music\": 1,\n",
       " 'chopped_and_screwed': 3,\n",
       " 'christian_alternative_rock': 52,\n",
       " 'christian_indie': 16,\n",
       " 'christian_music': 43,\n",
       " 'christian_rock': 22,\n",
       " 'chutney': 3,\n",
       " 'classic_bhangra': 7,\n",
       " 'classic_dubstep': 14,\n",
       " 'classic_girl_group': 4,\n",
       " 'classic_rock': 153,\n",
       " 'clean_comedy': 1,\n",
       " 'colombian_pop': 76,\n",
       " 'comedy': 2,\n",
       " 'comedy_rap': 36,\n",
       " 'comic': 98,\n",
       " 'complextro': 115,\n",
       " 'conscious_hip_hop': 295,\n",
       " 'contemporary_country': 2556,\n",
       " 'contemporary_r&b': 2001,\n",
       " 'contemporary_vocal_jazz': 33,\n",
       " 'country': 2793,\n",
       " 'country_dawn': 701,\n",
       " 'country_gospel': 9,\n",
       " 'country_pop': 419,\n",
       " 'country_rap': 34,\n",
       " 'country_road': 2118,\n",
       " 'country_rock': 99,\n",
       " 'cowboy_western': 1,\n",
       " 'cowpunk': 3,\n",
       " 'crunk': 468,\n",
       " 'cyberpunk': 2,\n",
       " 'dance-punk': 10,\n",
       " 'dance_pop': 12348,\n",
       " 'dance_rock': 185,\n",
       " 'dancehall': 90,\n",
       " 'danish_pop': 1,\n",
       " 'dark_clubbing': 11,\n",
       " 'dark_pop': 17,\n",
       " 'deep_acoustic_pop': 9,\n",
       " 'deep_southern_trap': 17,\n",
       " 'deep_underground_hip_hop': 66,\n",
       " 'derby_indie': 5,\n",
       " 'desi_hip_hop': 7,\n",
       " 'desi_pop': 7,\n",
       " 'destroy_techno': 11,\n",
       " 'detroit_hip_hop': 203,\n",
       " 'detroit_rock': 21,\n",
       " 'dfw_rap': 259,\n",
       " 'dirty_south_rap': 1445,\n",
       " 'disco': 15,\n",
       " 'dmv_rap': 22,\n",
       " 'dong-yo': 1,\n",
       " 'double_drumming': 15,\n",
       " 'downtempo': 11,\n",
       " 'drill': 12,\n",
       " 'dutch_edm': 9,\n",
       " 'dutch_pop': 3,\n",
       " 'east_coast_hip_hop': 466,\n",
       " 'easy_listening': 67,\n",
       " 'ectofolk': 124,\n",
       " 'edm': 909,\n",
       " 'electra': 7,\n",
       " 'electro': 39,\n",
       " 'electro_house': 258,\n",
       " 'electronic_rock': 10,\n",
       " 'electronic_trap': 89,\n",
       " 'electronica': 8,\n",
       " 'electropop': 908,\n",
       " 'electropowerpop': 11,\n",
       " 'emo': 142,\n",
       " 'emo_rap': 85,\n",
       " 'escape_room': 71,\n",
       " 'etherpop': 36,\n",
       " 'eurodance': 140,\n",
       " 'europop': 665,\n",
       " 'fake': 4,\n",
       " 'filter_house': 30,\n",
       " 'florida_rap': 67,\n",
       " 'folk': 14,\n",
       " 'folk-pop': 152,\n",
       " 'folk_rock': 14,\n",
       " 'french_indie_pop': 13,\n",
       " 'french_pop': 6,\n",
       " 'french_rock': 5,\n",
       " 'funk': 57,\n",
       " 'funk_metal': 292,\n",
       " 'funk_rock': 84,\n",
       " 'futuristic_swag': 56,\n",
       " 'g_funk': 106,\n",
       " 'gambian_hip_hop': 4,\n",
       " 'gangster_rap': 2138,\n",
       " 'garage_rock': 21,\n",
       " 'gauze_pop': 78,\n",
       " 'gen_z_singer-songwriter': 4,\n",
       " 'german_pop': 3,\n",
       " 'german_techno': 129,\n",
       " 'ghanaian_hip_hop': 10,\n",
       " 'girl_group': 693,\n",
       " 'glam_metal': 30,\n",
       " 'glam_rock': 14,\n",
       " 'glee_club': 6,\n",
       " 'golden_age_hip_hop': 36,\n",
       " 'gospel': 8,\n",
       " 'gospel_r&b': 16,\n",
       " 'grime': 7,\n",
       " 'grunge': 33,\n",
       " 'grunge_pop': 5,\n",
       " 'hard_rock': 43,\n",
       " 'hardcore_hip_hop': 343,\n",
       " 'harlem_hip_hop': 31,\n",
       " 'hawaiian_hip_hop': 3,\n",
       " 'heartland_rock': 25,\n",
       " 'hip_hop': 4321,\n",
       " 'hip_house': 1,\n",
       " 'hip_pop': 3666,\n",
       " 'hollywood': 126,\n",
       " 'house': 106,\n",
       " 'houston_rap': 140,\n",
       " 'hyphy': 22,\n",
       " 'idol': 85,\n",
       " 'indie_pop': 61,\n",
       " 'indie_pop_rap': 25,\n",
       " 'indie_poptimism': 140,\n",
       " 'indie_rock': 57,\n",
       " 'indie_soul': 12,\n",
       " 'indiecoustica': 15,\n",
       " 'indietronica': 286,\n",
       " 'industrial': 2,\n",
       " 'industrial_metal': 16,\n",
       " 'industrial_rock': 16,\n",
       " 'irish_rock': 70,\n",
       " 'irish_singer-songwriter': 30,\n",
       " 'italian_adult_pop': 17,\n",
       " 'italo_dance': 17,\n",
       " 'jam_band': 28,\n",
       " 'jamaican_dancehall': 5,\n",
       " 'jazz_pop': 33,\n",
       " 'k-pop': 123,\n",
       " 'k-pop_boy_group': 84,\n",
       " 'k-pop_girl_group': 13,\n",
       " 'k-rap': 26,\n",
       " 'kentucky_hip_hop': 101,\n",
       " 'korean_old_school_hip_hop': 26,\n",
       " 'la_indie': 28,\n",
       " 'latin_hip_hop': 94,\n",
       " 'latin_pop': 233,\n",
       " 'latin_viral_pop': 35,\n",
       " 'lds_youth': 9,\n",
       " 'lgbtq+_hip_hop': 192,\n",
       " 'lilith': 355,\n",
       " 'lounge': 89,\n",
       " 'lovers_rock': 17,\n",
       " 'madchester': 7,\n",
       " 'maine_hip_hop': 12,\n",
       " 'medieval_folk': 13,\n",
       " 'melancholia': 21,\n",
       " 'melbourne_bounce_international': 23,\n",
       " 'mellow_gold': 119,\n",
       " 'melodic_dubstep': 7,\n",
       " 'melodic_rap': 682,\n",
       " 'memphis_hip_hop': 200,\n",
       " 'metal': 1,\n",
       " 'metropopolis': 367,\n",
       " 'mexican_classic_rock': 110,\n",
       " 'mexican_pop': 90,\n",
       " 'miami_bass': 2,\n",
       " 'miami_hip_hop': 645,\n",
       " 'middle_earth': 26,\n",
       " 'minneapolis_sound': 83,\n",
       " 'minnesota_hip_hop': 72,\n",
       " 'mississippi_hip_hop': 65,\n",
       " 'modern_alternative_pop': 28,\n",
       " 'modern_alternative_rock': 226,\n",
       " 'modern_blues_rock': 28,\n",
       " 'modern_country_rock': 475,\n",
       " 'modern_folk_rock': 57,\n",
       " 'modern_indie_pop': 3,\n",
       " 'modern_power_pop': 36,\n",
       " 'modern_rock': 1023,\n",
       " 'modern_uplift': 32,\n",
       " 'nashville_hip_hop': 31,\n",
       " 'neo-singer-songwriter': 11,\n",
       " 'neo-synthpop': 9,\n",
       " 'neo_mellow': 2869,\n",
       " 'neo_soul': 1709,\n",
       " 'neon_pop_punk': 121,\n",
       " 'new_jack_swing': 239,\n",
       " 'new_jersey_rap': 141,\n",
       " 'new_jersey_underground_rap': 3,\n",
       " 'new_orleans_rap': 138,\n",
       " 'new_rave': 32,\n",
       " 'new_romantic': 14,\n",
       " 'new_wave': 21,\n",
       " 'new_wave_pop': 238,\n",
       " 'ninja': 6,\n",
       " 'north_carolina_hip_hop': 148,\n",
       " 'norwegian_pop': 34,\n",
       " 'nouvelle_chanson_francaise': 8,\n",
       " 'nu_metal': 865,\n",
       " 'nyc_rap': 67,\n",
       " 'nz_pop': 140,\n",
       " 'oakland_hip_hop': 14,\n",
       " 'ohio_hip_hop': 37,\n",
       " 'oklahoma_country': 224,\n",
       " 'old_school_atlanta_hip_hop': 365,\n",
       " 'old_school_dancehall': 17,\n",
       " 'old_school_hip_hop': 36,\n",
       " 'old_school_thrash': 1,\n",
       " 'omaha_indie': 16,\n",
       " 'operatic_pop': 6,\n",
       " 'orchestral_soundtrack': 16,\n",
       " 'outlaw_country': 69,\n",
       " 'oxford_indie': 5,\n",
       " 'panamanian_pop': 11,\n",
       " 'permanent_wave': 938,\n",
       " 'philly_rap': 157,\n",
       " 'piano_rock': 430,\n",
       " 'pittsburgh_rap': 63,\n",
       " 'pixie': 90,\n",
       " 'plugg': 8,\n",
       " 'pluggnb': 34,\n",
       " 'political_hip_hop': 55,\n",
       " 'pop': 11524,\n",
       " 'pop_dance': 614,\n",
       " 'pop_emo': 54,\n",
       " 'pop_punk': 377,\n",
       " 'pop_r&b': 290,\n",
       " 'pop_rap': 6054,\n",
       " 'pop_rock': 4158,\n",
       " 'pop_soul': 256,\n",
       " 'post-grunge': 1185,\n",
       " 'post-teen_pop': 3121,\n",
       " 'power_pop': 18,\n",
       " 'progressive_electro_house': 159,\n",
       " 'progressive_house': 85,\n",
       " 'puerto_rican_pop': 72,\n",
       " 'punk': 134,\n",
       " 'punk_blues': 21,\n",
       " 'queens_hip_hop': 329,\n",
       " 'queer_country': 28,\n",
       " 'quiet_storm': 553,\n",
       " 'r&b': 4310,\n",
       " 'rap': 5439,\n",
       " 'rap_conscient': 1,\n",
       " 'rap_kreyol': 1,\n",
       " 'rap_latina': 55,\n",
       " 'rap_metal': 102,\n",
       " 'rap_rock': 252,\n",
       " 'redneck': 48,\n",
       " 'reggae_fusion': 75,\n",
       " 'reggaeton': 123,\n",
       " 'reggaeton_colombiano': 11,\n",
       " 'reggaeton_flow': 10,\n",
       " 'rhode_island_rap': 36,\n",
       " 'rock': 1342,\n",
       " 'rock-and-roll': 9,\n",
       " 'rock_drums': 8,\n",
       " 'rockabilly': 37,\n",
       " 'romanian_house': 8,\n",
       " 'romanian_pop': 17,\n",
       " 'roots_reggae': 17,\n",
       " 'sad_rap': 24,\n",
       " 'salsa': 9,\n",
       " 'san_diego_rap': 23,\n",
       " 'scam_rap': 13,\n",
       " 'scandipop': 57,\n",
       " 'scottish_singer-songwriter': 10,\n",
       " 'screamo': 1,\n",
       " 'seattle_hip_hop': 32,\n",
       " 'seattle_indie': 9,\n",
       " 'shimmer_pop': 35,\n",
       " 'shiver_pop': 78,\n",
       " 'shoegaze': 9,\n",
       " 'show_tunes': 26,\n",
       " 'singer-songwriter': 321,\n",
       " 'ska': 10,\n",
       " 'ska_punk': 10,\n",
       " 'skate_punk': 32,\n",
       " 'slap_house': 96,\n",
       " 'sleaze_rock': 18,\n",
       " 'soca': 41,\n",
       " 'socal_pop_punk': 19,\n",
       " 'soft_rock': 45,\n",
       " 'solo_wave': 7,\n",
       " 'sophisti-pop': 16,\n",
       " 'soul': 64,\n",
       " 'soul_flow': 3,\n",
       " 'soundtrack': 20,\n",
       " 'south_african_pop': 6,\n",
       " 'south_african_rock': 8,\n",
       " 'south_carolina_hip_hop': 242,\n",
       " 'southern_hip_hop': 2881,\n",
       " 'st_louis_rap': 121,\n",
       " 'stomp_and_holler': 127,\n",
       " 'stomp_pop': 47,\n",
       " 'supergroup': 8,\n",
       " 'swedish_electropop': 133,\n",
       " 'swedish_pop': 108,\n",
       " 'swedish_synthpop': 77,\n",
       " 'swing': 8,\n",
       " 'synthpop': 14,\n",
       " 'talent_show': 357,\n",
       " 'tennessee_hip_hop': 137,\n",
       " 'texas_country': 37,\n",
       " 'texas_latin_rap': 37,\n",
       " 'texas_pop_punk': 13,\n",
       " 'thrash_metal': 1,\n",
       " 'toronto_rap': 88,\n",
       " 'traditional_country': 1,\n",
       " 'trancecore': 1,\n",
       " 'trap': 2689,\n",
       " 'trap_boricua': 10,\n",
       " 'trap_latino': 76,\n",
       " 'trap_queen': 270,\n",
       " 'trip_hop': 6,\n",
       " 'tropical': 17,\n",
       " 'tropical_house': 299,\n",
       " 'turntablism': 22,\n",
       " 'uk_alternative_pop': 5,\n",
       " 'uk_americana': 57,\n",
       " 'uk_contemporary_r&b': 58,\n",
       " 'uk_dance': 103,\n",
       " 'uk_funky': 4,\n",
       " 'uk_garage': 2,\n",
       " 'uk_pop': 2353,\n",
       " 'underground_hip_hop': 23,\n",
       " 'upstate_ny_rap': 3,\n",
       " 'urban_contemporary': 5376,\n",
       " 'vapor_trap': 90,\n",
       " 'vapor_twitch': 12,\n",
       " 'vincy_soca': 16,\n",
       " 'viral_pop': 305,\n",
       " 'viral_rap': 301,\n",
       " 'viral_trap': 65,\n",
       " 'virginia_hip_hop': 88,\n",
       " 'vocal_house': 48,\n",
       " 'vocal_jazz': 33,\n",
       " 'washington_indie': 15,\n",
       " 'west_coast_rap': 203,\n",
       " 'world': 13,\n",
       " 'worship': 43,\n",
       " 'yacht_rock': 4,\n",
       " 'yakut_pop': 61,\n",
       " 'yodeling': 1}"
      ]
     },
     "execution_count": 146,
     "metadata": {},
     "output_type": "execute_result"
    }
   ],
   "source": [
    "genre_dict"
   ]
  },
  {
   "cell_type": "code",
   "execution_count": 150,
   "id": "b7d8ca46",
   "metadata": {},
   "outputs": [
    {
     "data": {
      "application/vnd.plotly.v1+json": {
       "config": {
        "plotlyServerURL": "https://plot.ly"
       },
       "data": [
        {
         "alignmentgroup": "True",
         "hovertemplate": "index=%{x}<br>0=%{y}<extra></extra>",
         "legendgroup": "",
         "marker": {
          "color": "#636efa",
          "pattern": {
           "shape": ""
          }
         },
         "name": "",
         "offsetgroup": "",
         "orientation": "v",
         "showlegend": false,
         "textposition": "auto",
         "type": "bar",
         "x": [
          "a_cappella",
          "acoustic_pop",
          "adult_standards",
          "afrofuturism",
          "alabama_rap",
          "alberta_country",
          "album_rock",
          "alt_z",
          "alternative_dance",
          "alternative_hip_hop",
          "alternative_metal",
          "alternative_pop",
          "alternative_r&b",
          "alternative_rock",
          "american_folk_revival",
          "anarcho-punk",
          "anti-folk",
          "arkansas_country",
          "arkansas_hip_hop",
          "art_pop",
          "art_rock",
          "asian_american_hip_hop",
          "atl_hip_hop",
          "atl_trap",
          "atlanta_bass",
          "austin_singer-songwriter",
          "australian_country",
          "australian_dance",
          "australian_electropop",
          "australian_hip_hop",
          "australian_house",
          "australian_indie",
          "australian_pop",
          "australian_talent_show",
          "bahamian_pop",
          "barbadian_pop",
          "baroque_pop",
          "bass_house",
          "bass_trap",
          "bassline",
          "baton_rouge_rap",
          "battle_rap",
          "bedroom_pop",
          "bedroom_soul",
          "belgian_dance",
          "belgian_pop",
          "bhangra",
          "big_beat",
          "big_room",
          "black_americana",
          "blues_rock",
          "bossbeat",
          "boston_hip_hop",
          "boston_punk",
          "boston_rock",
          "bounce",
          "bow_pop",
          "boy_band",
          "brill_building_pop",
          "british_invasion",
          "british_soul",
          "britpop",
          "bronx_hip_hop",
          "brooklyn_drill",
          "brostep",
          "bubblegum_dance",
          "cali_rap",
          "canadian_celtic",
          "canadian_contemporary_country",
          "canadian_contemporary_r&b",
          "canadian_country",
          "canadian_hip_hop",
          "canadian_latin",
          "canadian_metal",
          "canadian_old_school_hip_hop",
          "canadian_pop",
          "canadian_pop_punk",
          "canadian_punk",
          "canadian_rock",
          "canadian_singer-songwriter",
          "canadian_trap",
          "candy_pop",
          "cartoon",
          "ccm",
          "celtic",
          "celtic_rock",
          "chamber_pop",
          "chicago_bop",
          "chicago_drill",
          "chicago_indie",
          "chicago_rap",
          "chicano_rap",
          "children's_music",
          "chopped_and_screwed",
          "christian_alternative_rock",
          "christian_indie",
          "christian_music",
          "christian_rock",
          "chutney",
          "classic_bhangra",
          "classic_dubstep",
          "classic_girl_group",
          "classic_rock",
          "clean_comedy",
          "colombian_pop",
          "comedy",
          "comedy_rap",
          "comic",
          "complextro",
          "conscious_hip_hop",
          "contemporary_country",
          "contemporary_r&b",
          "contemporary_vocal_jazz",
          "country",
          "country_dawn",
          "country_gospel",
          "country_pop",
          "country_rap",
          "country_road",
          "country_rock",
          "cowboy_western",
          "cowpunk",
          "crunk",
          "cyberpunk",
          "dance-punk",
          "dance_pop",
          "dance_rock",
          "dancehall",
          "danish_pop",
          "dark_clubbing",
          "dark_pop",
          "deep_acoustic_pop",
          "deep_southern_trap",
          "deep_underground_hip_hop",
          "derby_indie",
          "desi_hip_hop",
          "desi_pop",
          "destroy_techno",
          "detroit_hip_hop",
          "detroit_rock",
          "dfw_rap",
          "dirty_south_rap",
          "disco",
          "dmv_rap",
          "dong-yo",
          "double_drumming",
          "downtempo",
          "drill",
          "dutch_edm",
          "dutch_pop",
          "east_coast_hip_hop",
          "easy_listening",
          "ectofolk",
          "edm",
          "electra",
          "electro",
          "electro_house",
          "electronic_rock",
          "electronic_trap",
          "electronica",
          "electropop",
          "electropowerpop",
          "emo",
          "emo_rap",
          "escape_room",
          "etherpop",
          "eurodance",
          "europop",
          "fake",
          "filter_house",
          "florida_rap",
          "folk",
          "folk-pop",
          "folk_rock",
          "french_indie_pop",
          "french_pop",
          "french_rock",
          "funk",
          "funk_metal",
          "funk_rock",
          "futuristic_swag",
          "g_funk",
          "gambian_hip_hop",
          "gangster_rap",
          "garage_rock",
          "gauze_pop",
          "gen_z_singer-songwriter",
          "german_pop",
          "german_techno",
          "ghanaian_hip_hop",
          "girl_group",
          "glam_metal",
          "glam_rock",
          "glee_club",
          "golden_age_hip_hop",
          "gospel",
          "gospel_r&b",
          "grime",
          "grunge",
          "grunge_pop",
          "hard_rock",
          "hardcore_hip_hop",
          "harlem_hip_hop",
          "hawaiian_hip_hop",
          "heartland_rock",
          "hip_hop",
          "hip_house",
          "hip_pop",
          "hollywood",
          "house",
          "houston_rap",
          "hyphy",
          "idol",
          "indie_pop",
          "indie_pop_rap",
          "indie_poptimism",
          "indie_rock",
          "indie_soul",
          "indiecoustica",
          "indietronica",
          "industrial",
          "industrial_metal",
          "industrial_rock",
          "irish_rock",
          "irish_singer-songwriter",
          "italian_adult_pop",
          "italo_dance",
          "jam_band",
          "jamaican_dancehall",
          "jazz_pop",
          "k-pop",
          "k-pop_boy_group",
          "k-pop_girl_group",
          "k-rap",
          "kentucky_hip_hop",
          "korean_old_school_hip_hop",
          "la_indie",
          "latin_hip_hop",
          "latin_pop",
          "latin_viral_pop",
          "lds_youth",
          "lgbtq+_hip_hop",
          "lilith",
          "lounge",
          "lovers_rock",
          "madchester",
          "maine_hip_hop",
          "medieval_folk",
          "melancholia",
          "melbourne_bounce_international",
          "mellow_gold",
          "melodic_dubstep",
          "melodic_rap",
          "memphis_hip_hop",
          "metal",
          "metropopolis",
          "mexican_classic_rock",
          "mexican_pop",
          "miami_bass",
          "miami_hip_hop",
          "middle_earth",
          "minneapolis_sound",
          "minnesota_hip_hop",
          "mississippi_hip_hop",
          "modern_alternative_pop",
          "modern_alternative_rock",
          "modern_blues_rock",
          "modern_country_rock",
          "modern_folk_rock",
          "modern_indie_pop",
          "modern_power_pop",
          "modern_rock",
          "modern_uplift",
          "nashville_hip_hop",
          "neo-singer-songwriter",
          "neo-synthpop",
          "neo_mellow",
          "neo_soul",
          "neon_pop_punk",
          "new_jack_swing",
          "new_jersey_rap",
          "new_jersey_underground_rap",
          "new_orleans_rap",
          "new_rave",
          "new_romantic",
          "new_wave",
          "new_wave_pop",
          "ninja",
          "north_carolina_hip_hop",
          "norwegian_pop",
          "nouvelle_chanson_francaise",
          "nu_metal",
          "nyc_rap",
          "nz_pop",
          "oakland_hip_hop",
          "ohio_hip_hop",
          "oklahoma_country",
          "old_school_atlanta_hip_hop",
          "old_school_dancehall",
          "old_school_hip_hop",
          "old_school_thrash",
          "omaha_indie",
          "operatic_pop",
          "orchestral_soundtrack",
          "outlaw_country",
          "oxford_indie",
          "panamanian_pop",
          "permanent_wave",
          "philly_rap",
          "piano_rock",
          "pittsburgh_rap",
          "pixie",
          "plugg",
          "pluggnb",
          "political_hip_hop",
          "pop",
          "pop_dance",
          "pop_emo",
          "pop_punk",
          "pop_r&b",
          "pop_rap",
          "pop_rock",
          "pop_soul",
          "post-grunge",
          "post-teen_pop",
          "power_pop",
          "progressive_electro_house",
          "progressive_house",
          "puerto_rican_pop",
          "punk",
          "punk_blues",
          "queens_hip_hop",
          "queer_country",
          "quiet_storm",
          "r&b",
          "rap",
          "rap_conscient",
          "rap_kreyol",
          "rap_latina",
          "rap_metal",
          "rap_rock",
          "redneck",
          "reggae_fusion",
          "reggaeton",
          "reggaeton_colombiano",
          "reggaeton_flow",
          "rhode_island_rap",
          "rock",
          "rock-and-roll",
          "rock_drums",
          "rockabilly",
          "romanian_house",
          "romanian_pop",
          "roots_reggae",
          "sad_rap",
          "salsa",
          "san_diego_rap",
          "scam_rap",
          "scandipop",
          "scottish_singer-songwriter",
          "screamo",
          "seattle_hip_hop",
          "seattle_indie",
          "shimmer_pop",
          "shiver_pop",
          "shoegaze",
          "show_tunes",
          "singer-songwriter",
          "ska",
          "ska_punk",
          "skate_punk",
          "slap_house",
          "sleaze_rock",
          "soca",
          "socal_pop_punk",
          "soft_rock",
          "solo_wave",
          "sophisti-pop",
          "soul",
          "soul_flow",
          "soundtrack",
          "south_african_pop",
          "south_african_rock",
          "south_carolina_hip_hop",
          "southern_hip_hop",
          "st_louis_rap",
          "stomp_and_holler",
          "stomp_pop",
          "supergroup",
          "swedish_electropop",
          "swedish_pop",
          "swedish_synthpop",
          "swing",
          "synthpop",
          "talent_show",
          "tennessee_hip_hop",
          "texas_country",
          "texas_latin_rap",
          "texas_pop_punk",
          "thrash_metal",
          "toronto_rap",
          "traditional_country",
          "trancecore",
          "trap",
          "trap_boricua",
          "trap_latino",
          "trap_queen",
          "trip_hop",
          "tropical",
          "tropical_house",
          "turntablism",
          "uk_alternative_pop",
          "uk_americana",
          "uk_contemporary_r&b",
          "uk_dance",
          "uk_funky",
          "uk_garage",
          "uk_pop",
          "underground_hip_hop",
          "upstate_ny_rap",
          "urban_contemporary",
          "vapor_trap",
          "vapor_twitch",
          "vincy_soca",
          "viral_pop",
          "viral_rap",
          "viral_trap",
          "virginia_hip_hop",
          "vocal_house",
          "vocal_jazz",
          "washington_indie",
          "west_coast_rap",
          "world",
          "worship",
          "yacht_rock",
          "yakut_pop",
          "yodeling"
         ],
         "xaxis": "x",
         "y": [
          12,
          226,
          120,
          36,
          26,
          37,
          28,
          46,
          27,
          55,
          1291,
          4,
          143,
          909,
          19,
          29,
          20,
          32,
          5,
          417,
          24,
          51,
          1667,
          42,
          29,
          14,
          28,
          113,
          11,
          138,
          8,
          11,
          321,
          14,
          18,
          228,
          115,
          8,
          12,
          41,
          20,
          17,
          12,
          8,
          1,
          1,
          7,
          23,
          29,
          68,
          132,
          3,
          3,
          10,
          10,
          26,
          7,
          898,
          63,
          6,
          297,
          16,
          62,
          64,
          121,
          161,
          107,
          13,
          29,
          246,
          106,
          65,
          93,
          2,
          18,
          1169,
          17,
          17,
          296,
          118,
          2,
          326,
          1,
          43,
          39,
          26,
          33,
          73,
          11,
          7,
          457,
          49,
          1,
          3,
          52,
          16,
          43,
          22,
          3,
          7,
          14,
          4,
          153,
          1,
          76,
          2,
          36,
          98,
          115,
          295,
          2556,
          2001,
          33,
          2793,
          701,
          9,
          419,
          34,
          2118,
          99,
          1,
          3,
          468,
          2,
          10,
          12348,
          185,
          90,
          1,
          11,
          17,
          9,
          17,
          66,
          5,
          7,
          7,
          11,
          203,
          21,
          259,
          1445,
          15,
          22,
          1,
          15,
          11,
          12,
          9,
          3,
          466,
          67,
          124,
          909,
          7,
          39,
          258,
          10,
          89,
          8,
          908,
          11,
          142,
          85,
          71,
          36,
          140,
          665,
          4,
          30,
          67,
          14,
          152,
          14,
          13,
          6,
          5,
          57,
          292,
          84,
          56,
          106,
          4,
          2138,
          21,
          78,
          4,
          3,
          129,
          10,
          693,
          30,
          14,
          6,
          36,
          8,
          16,
          7,
          33,
          5,
          43,
          343,
          31,
          3,
          25,
          4321,
          1,
          3666,
          126,
          106,
          140,
          22,
          85,
          61,
          25,
          140,
          57,
          12,
          15,
          286,
          2,
          16,
          16,
          70,
          30,
          17,
          17,
          28,
          5,
          33,
          123,
          84,
          13,
          26,
          101,
          26,
          28,
          94,
          233,
          35,
          9,
          192,
          355,
          89,
          17,
          7,
          12,
          13,
          21,
          23,
          119,
          7,
          682,
          200,
          1,
          367,
          110,
          90,
          2,
          645,
          26,
          83,
          72,
          65,
          28,
          226,
          28,
          475,
          57,
          3,
          36,
          1023,
          32,
          31,
          11,
          9,
          2869,
          1709,
          121,
          239,
          141,
          3,
          138,
          32,
          14,
          21,
          238,
          6,
          148,
          34,
          8,
          865,
          67,
          140,
          14,
          37,
          224,
          365,
          17,
          36,
          1,
          16,
          6,
          16,
          69,
          5,
          11,
          938,
          157,
          430,
          63,
          90,
          8,
          34,
          55,
          11524,
          614,
          54,
          377,
          290,
          6054,
          4158,
          256,
          1185,
          3121,
          18,
          159,
          85,
          72,
          134,
          21,
          329,
          28,
          553,
          4310,
          5439,
          1,
          1,
          55,
          102,
          252,
          48,
          75,
          123,
          11,
          10,
          36,
          1342,
          9,
          8,
          37,
          8,
          17,
          17,
          24,
          9,
          23,
          13,
          57,
          10,
          1,
          32,
          9,
          35,
          78,
          9,
          26,
          321,
          10,
          10,
          32,
          96,
          18,
          41,
          19,
          45,
          7,
          16,
          64,
          3,
          20,
          6,
          8,
          242,
          2881,
          121,
          127,
          47,
          8,
          133,
          108,
          77,
          8,
          14,
          357,
          137,
          37,
          37,
          13,
          1,
          88,
          1,
          1,
          2689,
          10,
          76,
          270,
          6,
          17,
          299,
          22,
          5,
          57,
          58,
          103,
          4,
          2,
          2353,
          23,
          3,
          5376,
          90,
          12,
          16,
          305,
          301,
          65,
          88,
          48,
          33,
          15,
          203,
          13,
          43,
          4,
          61,
          1
         ],
         "yaxis": "y"
        }
       ],
       "layout": {
        "barmode": "relative",
        "legend": {
         "tracegroupgap": 0
        },
        "margin": {
         "t": 60
        },
        "template": {
         "data": {
          "bar": [
           {
            "error_x": {
             "color": "#2a3f5f"
            },
            "error_y": {
             "color": "#2a3f5f"
            },
            "marker": {
             "line": {
              "color": "#E5ECF6",
              "width": 0.5
             },
             "pattern": {
              "fillmode": "overlay",
              "size": 10,
              "solidity": 0.2
             }
            },
            "type": "bar"
           }
          ],
          "barpolar": [
           {
            "marker": {
             "line": {
              "color": "#E5ECF6",
              "width": 0.5
             },
             "pattern": {
              "fillmode": "overlay",
              "size": 10,
              "solidity": 0.2
             }
            },
            "type": "barpolar"
           }
          ],
          "carpet": [
           {
            "aaxis": {
             "endlinecolor": "#2a3f5f",
             "gridcolor": "white",
             "linecolor": "white",
             "minorgridcolor": "white",
             "startlinecolor": "#2a3f5f"
            },
            "baxis": {
             "endlinecolor": "#2a3f5f",
             "gridcolor": "white",
             "linecolor": "white",
             "minorgridcolor": "white",
             "startlinecolor": "#2a3f5f"
            },
            "type": "carpet"
           }
          ],
          "choropleth": [
           {
            "colorbar": {
             "outlinewidth": 0,
             "ticks": ""
            },
            "type": "choropleth"
           }
          ],
          "contour": [
           {
            "colorbar": {
             "outlinewidth": 0,
             "ticks": ""
            },
            "colorscale": [
             [
              0,
              "#0d0887"
             ],
             [
              0.1111111111111111,
              "#46039f"
             ],
             [
              0.2222222222222222,
              "#7201a8"
             ],
             [
              0.3333333333333333,
              "#9c179e"
             ],
             [
              0.4444444444444444,
              "#bd3786"
             ],
             [
              0.5555555555555556,
              "#d8576b"
             ],
             [
              0.6666666666666666,
              "#ed7953"
             ],
             [
              0.7777777777777778,
              "#fb9f3a"
             ],
             [
              0.8888888888888888,
              "#fdca26"
             ],
             [
              1,
              "#f0f921"
             ]
            ],
            "type": "contour"
           }
          ],
          "contourcarpet": [
           {
            "colorbar": {
             "outlinewidth": 0,
             "ticks": ""
            },
            "type": "contourcarpet"
           }
          ],
          "heatmap": [
           {
            "colorbar": {
             "outlinewidth": 0,
             "ticks": ""
            },
            "colorscale": [
             [
              0,
              "#0d0887"
             ],
             [
              0.1111111111111111,
              "#46039f"
             ],
             [
              0.2222222222222222,
              "#7201a8"
             ],
             [
              0.3333333333333333,
              "#9c179e"
             ],
             [
              0.4444444444444444,
              "#bd3786"
             ],
             [
              0.5555555555555556,
              "#d8576b"
             ],
             [
              0.6666666666666666,
              "#ed7953"
             ],
             [
              0.7777777777777778,
              "#fb9f3a"
             ],
             [
              0.8888888888888888,
              "#fdca26"
             ],
             [
              1,
              "#f0f921"
             ]
            ],
            "type": "heatmap"
           }
          ],
          "heatmapgl": [
           {
            "colorbar": {
             "outlinewidth": 0,
             "ticks": ""
            },
            "colorscale": [
             [
              0,
              "#0d0887"
             ],
             [
              0.1111111111111111,
              "#46039f"
             ],
             [
              0.2222222222222222,
              "#7201a8"
             ],
             [
              0.3333333333333333,
              "#9c179e"
             ],
             [
              0.4444444444444444,
              "#bd3786"
             ],
             [
              0.5555555555555556,
              "#d8576b"
             ],
             [
              0.6666666666666666,
              "#ed7953"
             ],
             [
              0.7777777777777778,
              "#fb9f3a"
             ],
             [
              0.8888888888888888,
              "#fdca26"
             ],
             [
              1,
              "#f0f921"
             ]
            ],
            "type": "heatmapgl"
           }
          ],
          "histogram": [
           {
            "marker": {
             "pattern": {
              "fillmode": "overlay",
              "size": 10,
              "solidity": 0.2
             }
            },
            "type": "histogram"
           }
          ],
          "histogram2d": [
           {
            "colorbar": {
             "outlinewidth": 0,
             "ticks": ""
            },
            "colorscale": [
             [
              0,
              "#0d0887"
             ],
             [
              0.1111111111111111,
              "#46039f"
             ],
             [
              0.2222222222222222,
              "#7201a8"
             ],
             [
              0.3333333333333333,
              "#9c179e"
             ],
             [
              0.4444444444444444,
              "#bd3786"
             ],
             [
              0.5555555555555556,
              "#d8576b"
             ],
             [
              0.6666666666666666,
              "#ed7953"
             ],
             [
              0.7777777777777778,
              "#fb9f3a"
             ],
             [
              0.8888888888888888,
              "#fdca26"
             ],
             [
              1,
              "#f0f921"
             ]
            ],
            "type": "histogram2d"
           }
          ],
          "histogram2dcontour": [
           {
            "colorbar": {
             "outlinewidth": 0,
             "ticks": ""
            },
            "colorscale": [
             [
              0,
              "#0d0887"
             ],
             [
              0.1111111111111111,
              "#46039f"
             ],
             [
              0.2222222222222222,
              "#7201a8"
             ],
             [
              0.3333333333333333,
              "#9c179e"
             ],
             [
              0.4444444444444444,
              "#bd3786"
             ],
             [
              0.5555555555555556,
              "#d8576b"
             ],
             [
              0.6666666666666666,
              "#ed7953"
             ],
             [
              0.7777777777777778,
              "#fb9f3a"
             ],
             [
              0.8888888888888888,
              "#fdca26"
             ],
             [
              1,
              "#f0f921"
             ]
            ],
            "type": "histogram2dcontour"
           }
          ],
          "mesh3d": [
           {
            "colorbar": {
             "outlinewidth": 0,
             "ticks": ""
            },
            "type": "mesh3d"
           }
          ],
          "parcoords": [
           {
            "line": {
             "colorbar": {
              "outlinewidth": 0,
              "ticks": ""
             }
            },
            "type": "parcoords"
           }
          ],
          "pie": [
           {
            "automargin": true,
            "type": "pie"
           }
          ],
          "scatter": [
           {
            "fillpattern": {
             "fillmode": "overlay",
             "size": 10,
             "solidity": 0.2
            },
            "type": "scatter"
           }
          ],
          "scatter3d": [
           {
            "line": {
             "colorbar": {
              "outlinewidth": 0,
              "ticks": ""
             }
            },
            "marker": {
             "colorbar": {
              "outlinewidth": 0,
              "ticks": ""
             }
            },
            "type": "scatter3d"
           }
          ],
          "scattercarpet": [
           {
            "marker": {
             "colorbar": {
              "outlinewidth": 0,
              "ticks": ""
             }
            },
            "type": "scattercarpet"
           }
          ],
          "scattergeo": [
           {
            "marker": {
             "colorbar": {
              "outlinewidth": 0,
              "ticks": ""
             }
            },
            "type": "scattergeo"
           }
          ],
          "scattergl": [
           {
            "marker": {
             "colorbar": {
              "outlinewidth": 0,
              "ticks": ""
             }
            },
            "type": "scattergl"
           }
          ],
          "scattermapbox": [
           {
            "marker": {
             "colorbar": {
              "outlinewidth": 0,
              "ticks": ""
             }
            },
            "type": "scattermapbox"
           }
          ],
          "scatterpolar": [
           {
            "marker": {
             "colorbar": {
              "outlinewidth": 0,
              "ticks": ""
             }
            },
            "type": "scatterpolar"
           }
          ],
          "scatterpolargl": [
           {
            "marker": {
             "colorbar": {
              "outlinewidth": 0,
              "ticks": ""
             }
            },
            "type": "scatterpolargl"
           }
          ],
          "scatterternary": [
           {
            "marker": {
             "colorbar": {
              "outlinewidth": 0,
              "ticks": ""
             }
            },
            "type": "scatterternary"
           }
          ],
          "surface": [
           {
            "colorbar": {
             "outlinewidth": 0,
             "ticks": ""
            },
            "colorscale": [
             [
              0,
              "#0d0887"
             ],
             [
              0.1111111111111111,
              "#46039f"
             ],
             [
              0.2222222222222222,
              "#7201a8"
             ],
             [
              0.3333333333333333,
              "#9c179e"
             ],
             [
              0.4444444444444444,
              "#bd3786"
             ],
             [
              0.5555555555555556,
              "#d8576b"
             ],
             [
              0.6666666666666666,
              "#ed7953"
             ],
             [
              0.7777777777777778,
              "#fb9f3a"
             ],
             [
              0.8888888888888888,
              "#fdca26"
             ],
             [
              1,
              "#f0f921"
             ]
            ],
            "type": "surface"
           }
          ],
          "table": [
           {
            "cells": {
             "fill": {
              "color": "#EBF0F8"
             },
             "line": {
              "color": "white"
             }
            },
            "header": {
             "fill": {
              "color": "#C8D4E3"
             },
             "line": {
              "color": "white"
             }
            },
            "type": "table"
           }
          ]
         },
         "layout": {
          "annotationdefaults": {
           "arrowcolor": "#2a3f5f",
           "arrowhead": 0,
           "arrowwidth": 1
          },
          "autotypenumbers": "strict",
          "coloraxis": {
           "colorbar": {
            "outlinewidth": 0,
            "ticks": ""
           }
          },
          "colorscale": {
           "diverging": [
            [
             0,
             "#8e0152"
            ],
            [
             0.1,
             "#c51b7d"
            ],
            [
             0.2,
             "#de77ae"
            ],
            [
             0.3,
             "#f1b6da"
            ],
            [
             0.4,
             "#fde0ef"
            ],
            [
             0.5,
             "#f7f7f7"
            ],
            [
             0.6,
             "#e6f5d0"
            ],
            [
             0.7,
             "#b8e186"
            ],
            [
             0.8,
             "#7fbc41"
            ],
            [
             0.9,
             "#4d9221"
            ],
            [
             1,
             "#276419"
            ]
           ],
           "sequential": [
            [
             0,
             "#0d0887"
            ],
            [
             0.1111111111111111,
             "#46039f"
            ],
            [
             0.2222222222222222,
             "#7201a8"
            ],
            [
             0.3333333333333333,
             "#9c179e"
            ],
            [
             0.4444444444444444,
             "#bd3786"
            ],
            [
             0.5555555555555556,
             "#d8576b"
            ],
            [
             0.6666666666666666,
             "#ed7953"
            ],
            [
             0.7777777777777778,
             "#fb9f3a"
            ],
            [
             0.8888888888888888,
             "#fdca26"
            ],
            [
             1,
             "#f0f921"
            ]
           ],
           "sequentialminus": [
            [
             0,
             "#0d0887"
            ],
            [
             0.1111111111111111,
             "#46039f"
            ],
            [
             0.2222222222222222,
             "#7201a8"
            ],
            [
             0.3333333333333333,
             "#9c179e"
            ],
            [
             0.4444444444444444,
             "#bd3786"
            ],
            [
             0.5555555555555556,
             "#d8576b"
            ],
            [
             0.6666666666666666,
             "#ed7953"
            ],
            [
             0.7777777777777778,
             "#fb9f3a"
            ],
            [
             0.8888888888888888,
             "#fdca26"
            ],
            [
             1,
             "#f0f921"
            ]
           ]
          },
          "colorway": [
           "#636efa",
           "#EF553B",
           "#00cc96",
           "#ab63fa",
           "#FFA15A",
           "#19d3f3",
           "#FF6692",
           "#B6E880",
           "#FF97FF",
           "#FECB52"
          ],
          "font": {
           "color": "#2a3f5f"
          },
          "geo": {
           "bgcolor": "white",
           "lakecolor": "white",
           "landcolor": "#E5ECF6",
           "showlakes": true,
           "showland": true,
           "subunitcolor": "white"
          },
          "hoverlabel": {
           "align": "left"
          },
          "hovermode": "closest",
          "mapbox": {
           "style": "light"
          },
          "paper_bgcolor": "white",
          "plot_bgcolor": "#E5ECF6",
          "polar": {
           "angularaxis": {
            "gridcolor": "white",
            "linecolor": "white",
            "ticks": ""
           },
           "bgcolor": "#E5ECF6",
           "radialaxis": {
            "gridcolor": "white",
            "linecolor": "white",
            "ticks": ""
           }
          },
          "scene": {
           "xaxis": {
            "backgroundcolor": "#E5ECF6",
            "gridcolor": "white",
            "gridwidth": 2,
            "linecolor": "white",
            "showbackground": true,
            "ticks": "",
            "zerolinecolor": "white"
           },
           "yaxis": {
            "backgroundcolor": "#E5ECF6",
            "gridcolor": "white",
            "gridwidth": 2,
            "linecolor": "white",
            "showbackground": true,
            "ticks": "",
            "zerolinecolor": "white"
           },
           "zaxis": {
            "backgroundcolor": "#E5ECF6",
            "gridcolor": "white",
            "gridwidth": 2,
            "linecolor": "white",
            "showbackground": true,
            "ticks": "",
            "zerolinecolor": "white"
           }
          },
          "shapedefaults": {
           "line": {
            "color": "#2a3f5f"
           }
          },
          "ternary": {
           "aaxis": {
            "gridcolor": "white",
            "linecolor": "white",
            "ticks": ""
           },
           "baxis": {
            "gridcolor": "white",
            "linecolor": "white",
            "ticks": ""
           },
           "bgcolor": "#E5ECF6",
           "caxis": {
            "gridcolor": "white",
            "linecolor": "white",
            "ticks": ""
           }
          },
          "title": {
           "x": 0.05
          },
          "xaxis": {
           "automargin": true,
           "gridcolor": "white",
           "linecolor": "white",
           "ticks": "",
           "title": {
            "standoff": 15
           },
           "zerolinecolor": "white",
           "zerolinewidth": 2
          },
          "yaxis": {
           "automargin": true,
           "gridcolor": "white",
           "linecolor": "white",
           "ticks": "",
           "title": {
            "standoff": 15
           },
           "zerolinecolor": "white",
           "zerolinewidth": 2
          }
         }
        },
        "xaxis": {
         "anchor": "y",
         "domain": [
          0,
          1
         ],
         "title": {
          "text": "index"
         }
        },
        "yaxis": {
         "anchor": "x",
         "domain": [
          0,
          1
         ],
         "title": {
          "text": "0"
         }
        }
       }
      },
      "text/html": [
       "<div>                            <div id=\"5225df1d-d658-4e84-9b65-9215aa0b5e6a\" class=\"plotly-graph-div\" style=\"height:525px; width:100%;\"></div>            <script type=\"text/javascript\">                require([\"plotly\"], function(Plotly) {                    window.PLOTLYENV=window.PLOTLYENV || {};                                    if (document.getElementById(\"5225df1d-d658-4e84-9b65-9215aa0b5e6a\")) {                    Plotly.newPlot(                        \"5225df1d-d658-4e84-9b65-9215aa0b5e6a\",                        [{\"alignmentgroup\":\"True\",\"hovertemplate\":\"index=%{x}<br>0=%{y}<extra></extra>\",\"legendgroup\":\"\",\"marker\":{\"color\":\"#636efa\",\"pattern\":{\"shape\":\"\"}},\"name\":\"\",\"offsetgroup\":\"\",\"orientation\":\"v\",\"showlegend\":false,\"textposition\":\"auto\",\"x\":[\"a_cappella\",\"acoustic_pop\",\"adult_standards\",\"afrofuturism\",\"alabama_rap\",\"alberta_country\",\"album_rock\",\"alt_z\",\"alternative_dance\",\"alternative_hip_hop\",\"alternative_metal\",\"alternative_pop\",\"alternative_r&b\",\"alternative_rock\",\"american_folk_revival\",\"anarcho-punk\",\"anti-folk\",\"arkansas_country\",\"arkansas_hip_hop\",\"art_pop\",\"art_rock\",\"asian_american_hip_hop\",\"atl_hip_hop\",\"atl_trap\",\"atlanta_bass\",\"austin_singer-songwriter\",\"australian_country\",\"australian_dance\",\"australian_electropop\",\"australian_hip_hop\",\"australian_house\",\"australian_indie\",\"australian_pop\",\"australian_talent_show\",\"bahamian_pop\",\"barbadian_pop\",\"baroque_pop\",\"bass_house\",\"bass_trap\",\"bassline\",\"baton_rouge_rap\",\"battle_rap\",\"bedroom_pop\",\"bedroom_soul\",\"belgian_dance\",\"belgian_pop\",\"bhangra\",\"big_beat\",\"big_room\",\"black_americana\",\"blues_rock\",\"bossbeat\",\"boston_hip_hop\",\"boston_punk\",\"boston_rock\",\"bounce\",\"bow_pop\",\"boy_band\",\"brill_building_pop\",\"british_invasion\",\"british_soul\",\"britpop\",\"bronx_hip_hop\",\"brooklyn_drill\",\"brostep\",\"bubblegum_dance\",\"cali_rap\",\"canadian_celtic\",\"canadian_contemporary_country\",\"canadian_contemporary_r&b\",\"canadian_country\",\"canadian_hip_hop\",\"canadian_latin\",\"canadian_metal\",\"canadian_old_school_hip_hop\",\"canadian_pop\",\"canadian_pop_punk\",\"canadian_punk\",\"canadian_rock\",\"canadian_singer-songwriter\",\"canadian_trap\",\"candy_pop\",\"cartoon\",\"ccm\",\"celtic\",\"celtic_rock\",\"chamber_pop\",\"chicago_bop\",\"chicago_drill\",\"chicago_indie\",\"chicago_rap\",\"chicano_rap\",\"children's_music\",\"chopped_and_screwed\",\"christian_alternative_rock\",\"christian_indie\",\"christian_music\",\"christian_rock\",\"chutney\",\"classic_bhangra\",\"classic_dubstep\",\"classic_girl_group\",\"classic_rock\",\"clean_comedy\",\"colombian_pop\",\"comedy\",\"comedy_rap\",\"comic\",\"complextro\",\"conscious_hip_hop\",\"contemporary_country\",\"contemporary_r&b\",\"contemporary_vocal_jazz\",\"country\",\"country_dawn\",\"country_gospel\",\"country_pop\",\"country_rap\",\"country_road\",\"country_rock\",\"cowboy_western\",\"cowpunk\",\"crunk\",\"cyberpunk\",\"dance-punk\",\"dance_pop\",\"dance_rock\",\"dancehall\",\"danish_pop\",\"dark_clubbing\",\"dark_pop\",\"deep_acoustic_pop\",\"deep_southern_trap\",\"deep_underground_hip_hop\",\"derby_indie\",\"desi_hip_hop\",\"desi_pop\",\"destroy_techno\",\"detroit_hip_hop\",\"detroit_rock\",\"dfw_rap\",\"dirty_south_rap\",\"disco\",\"dmv_rap\",\"dong-yo\",\"double_drumming\",\"downtempo\",\"drill\",\"dutch_edm\",\"dutch_pop\",\"east_coast_hip_hop\",\"easy_listening\",\"ectofolk\",\"edm\",\"electra\",\"electro\",\"electro_house\",\"electronic_rock\",\"electronic_trap\",\"electronica\",\"electropop\",\"electropowerpop\",\"emo\",\"emo_rap\",\"escape_room\",\"etherpop\",\"eurodance\",\"europop\",\"fake\",\"filter_house\",\"florida_rap\",\"folk\",\"folk-pop\",\"folk_rock\",\"french_indie_pop\",\"french_pop\",\"french_rock\",\"funk\",\"funk_metal\",\"funk_rock\",\"futuristic_swag\",\"g_funk\",\"gambian_hip_hop\",\"gangster_rap\",\"garage_rock\",\"gauze_pop\",\"gen_z_singer-songwriter\",\"german_pop\",\"german_techno\",\"ghanaian_hip_hop\",\"girl_group\",\"glam_metal\",\"glam_rock\",\"glee_club\",\"golden_age_hip_hop\",\"gospel\",\"gospel_r&b\",\"grime\",\"grunge\",\"grunge_pop\",\"hard_rock\",\"hardcore_hip_hop\",\"harlem_hip_hop\",\"hawaiian_hip_hop\",\"heartland_rock\",\"hip_hop\",\"hip_house\",\"hip_pop\",\"hollywood\",\"house\",\"houston_rap\",\"hyphy\",\"idol\",\"indie_pop\",\"indie_pop_rap\",\"indie_poptimism\",\"indie_rock\",\"indie_soul\",\"indiecoustica\",\"indietronica\",\"industrial\",\"industrial_metal\",\"industrial_rock\",\"irish_rock\",\"irish_singer-songwriter\",\"italian_adult_pop\",\"italo_dance\",\"jam_band\",\"jamaican_dancehall\",\"jazz_pop\",\"k-pop\",\"k-pop_boy_group\",\"k-pop_girl_group\",\"k-rap\",\"kentucky_hip_hop\",\"korean_old_school_hip_hop\",\"la_indie\",\"latin_hip_hop\",\"latin_pop\",\"latin_viral_pop\",\"lds_youth\",\"lgbtq+_hip_hop\",\"lilith\",\"lounge\",\"lovers_rock\",\"madchester\",\"maine_hip_hop\",\"medieval_folk\",\"melancholia\",\"melbourne_bounce_international\",\"mellow_gold\",\"melodic_dubstep\",\"melodic_rap\",\"memphis_hip_hop\",\"metal\",\"metropopolis\",\"mexican_classic_rock\",\"mexican_pop\",\"miami_bass\",\"miami_hip_hop\",\"middle_earth\",\"minneapolis_sound\",\"minnesota_hip_hop\",\"mississippi_hip_hop\",\"modern_alternative_pop\",\"modern_alternative_rock\",\"modern_blues_rock\",\"modern_country_rock\",\"modern_folk_rock\",\"modern_indie_pop\",\"modern_power_pop\",\"modern_rock\",\"modern_uplift\",\"nashville_hip_hop\",\"neo-singer-songwriter\",\"neo-synthpop\",\"neo_mellow\",\"neo_soul\",\"neon_pop_punk\",\"new_jack_swing\",\"new_jersey_rap\",\"new_jersey_underground_rap\",\"new_orleans_rap\",\"new_rave\",\"new_romantic\",\"new_wave\",\"new_wave_pop\",\"ninja\",\"north_carolina_hip_hop\",\"norwegian_pop\",\"nouvelle_chanson_francaise\",\"nu_metal\",\"nyc_rap\",\"nz_pop\",\"oakland_hip_hop\",\"ohio_hip_hop\",\"oklahoma_country\",\"old_school_atlanta_hip_hop\",\"old_school_dancehall\",\"old_school_hip_hop\",\"old_school_thrash\",\"omaha_indie\",\"operatic_pop\",\"orchestral_soundtrack\",\"outlaw_country\",\"oxford_indie\",\"panamanian_pop\",\"permanent_wave\",\"philly_rap\",\"piano_rock\",\"pittsburgh_rap\",\"pixie\",\"plugg\",\"pluggnb\",\"political_hip_hop\",\"pop\",\"pop_dance\",\"pop_emo\",\"pop_punk\",\"pop_r&b\",\"pop_rap\",\"pop_rock\",\"pop_soul\",\"post-grunge\",\"post-teen_pop\",\"power_pop\",\"progressive_electro_house\",\"progressive_house\",\"puerto_rican_pop\",\"punk\",\"punk_blues\",\"queens_hip_hop\",\"queer_country\",\"quiet_storm\",\"r&b\",\"rap\",\"rap_conscient\",\"rap_kreyol\",\"rap_latina\",\"rap_metal\",\"rap_rock\",\"redneck\",\"reggae_fusion\",\"reggaeton\",\"reggaeton_colombiano\",\"reggaeton_flow\",\"rhode_island_rap\",\"rock\",\"rock-and-roll\",\"rock_drums\",\"rockabilly\",\"romanian_house\",\"romanian_pop\",\"roots_reggae\",\"sad_rap\",\"salsa\",\"san_diego_rap\",\"scam_rap\",\"scandipop\",\"scottish_singer-songwriter\",\"screamo\",\"seattle_hip_hop\",\"seattle_indie\",\"shimmer_pop\",\"shiver_pop\",\"shoegaze\",\"show_tunes\",\"singer-songwriter\",\"ska\",\"ska_punk\",\"skate_punk\",\"slap_house\",\"sleaze_rock\",\"soca\",\"socal_pop_punk\",\"soft_rock\",\"solo_wave\",\"sophisti-pop\",\"soul\",\"soul_flow\",\"soundtrack\",\"south_african_pop\",\"south_african_rock\",\"south_carolina_hip_hop\",\"southern_hip_hop\",\"st_louis_rap\",\"stomp_and_holler\",\"stomp_pop\",\"supergroup\",\"swedish_electropop\",\"swedish_pop\",\"swedish_synthpop\",\"swing\",\"synthpop\",\"talent_show\",\"tennessee_hip_hop\",\"texas_country\",\"texas_latin_rap\",\"texas_pop_punk\",\"thrash_metal\",\"toronto_rap\",\"traditional_country\",\"trancecore\",\"trap\",\"trap_boricua\",\"trap_latino\",\"trap_queen\",\"trip_hop\",\"tropical\",\"tropical_house\",\"turntablism\",\"uk_alternative_pop\",\"uk_americana\",\"uk_contemporary_r&b\",\"uk_dance\",\"uk_funky\",\"uk_garage\",\"uk_pop\",\"underground_hip_hop\",\"upstate_ny_rap\",\"urban_contemporary\",\"vapor_trap\",\"vapor_twitch\",\"vincy_soca\",\"viral_pop\",\"viral_rap\",\"viral_trap\",\"virginia_hip_hop\",\"vocal_house\",\"vocal_jazz\",\"washington_indie\",\"west_coast_rap\",\"world\",\"worship\",\"yacht_rock\",\"yakut_pop\",\"yodeling\"],\"xaxis\":\"x\",\"y\":[12,226,120,36,26,37,28,46,27,55,1291,4,143,909,19,29,20,32,5,417,24,51,1667,42,29,14,28,113,11,138,8,11,321,14,18,228,115,8,12,41,20,17,12,8,1,1,7,23,29,68,132,3,3,10,10,26,7,898,63,6,297,16,62,64,121,161,107,13,29,246,106,65,93,2,18,1169,17,17,296,118,2,326,1,43,39,26,33,73,11,7,457,49,1,3,52,16,43,22,3,7,14,4,153,1,76,2,36,98,115,295,2556,2001,33,2793,701,9,419,34,2118,99,1,3,468,2,10,12348,185,90,1,11,17,9,17,66,5,7,7,11,203,21,259,1445,15,22,1,15,11,12,9,3,466,67,124,909,7,39,258,10,89,8,908,11,142,85,71,36,140,665,4,30,67,14,152,14,13,6,5,57,292,84,56,106,4,2138,21,78,4,3,129,10,693,30,14,6,36,8,16,7,33,5,43,343,31,3,25,4321,1,3666,126,106,140,22,85,61,25,140,57,12,15,286,2,16,16,70,30,17,17,28,5,33,123,84,13,26,101,26,28,94,233,35,9,192,355,89,17,7,12,13,21,23,119,7,682,200,1,367,110,90,2,645,26,83,72,65,28,226,28,475,57,3,36,1023,32,31,11,9,2869,1709,121,239,141,3,138,32,14,21,238,6,148,34,8,865,67,140,14,37,224,365,17,36,1,16,6,16,69,5,11,938,157,430,63,90,8,34,55,11524,614,54,377,290,6054,4158,256,1185,3121,18,159,85,72,134,21,329,28,553,4310,5439,1,1,55,102,252,48,75,123,11,10,36,1342,9,8,37,8,17,17,24,9,23,13,57,10,1,32,9,35,78,9,26,321,10,10,32,96,18,41,19,45,7,16,64,3,20,6,8,242,2881,121,127,47,8,133,108,77,8,14,357,137,37,37,13,1,88,1,1,2689,10,76,270,6,17,299,22,5,57,58,103,4,2,2353,23,3,5376,90,12,16,305,301,65,88,48,33,15,203,13,43,4,61,1],\"yaxis\":\"y\",\"type\":\"bar\"}],                        {\"template\":{\"data\":{\"histogram2dcontour\":[{\"type\":\"histogram2dcontour\",\"colorbar\":{\"outlinewidth\":0,\"ticks\":\"\"},\"colorscale\":[[0.0,\"#0d0887\"],[0.1111111111111111,\"#46039f\"],[0.2222222222222222,\"#7201a8\"],[0.3333333333333333,\"#9c179e\"],[0.4444444444444444,\"#bd3786\"],[0.5555555555555556,\"#d8576b\"],[0.6666666666666666,\"#ed7953\"],[0.7777777777777778,\"#fb9f3a\"],[0.8888888888888888,\"#fdca26\"],[1.0,\"#f0f921\"]]}],\"choropleth\":[{\"type\":\"choropleth\",\"colorbar\":{\"outlinewidth\":0,\"ticks\":\"\"}}],\"histogram2d\":[{\"type\":\"histogram2d\",\"colorbar\":{\"outlinewidth\":0,\"ticks\":\"\"},\"colorscale\":[[0.0,\"#0d0887\"],[0.1111111111111111,\"#46039f\"],[0.2222222222222222,\"#7201a8\"],[0.3333333333333333,\"#9c179e\"],[0.4444444444444444,\"#bd3786\"],[0.5555555555555556,\"#d8576b\"],[0.6666666666666666,\"#ed7953\"],[0.7777777777777778,\"#fb9f3a\"],[0.8888888888888888,\"#fdca26\"],[1.0,\"#f0f921\"]]}],\"heatmap\":[{\"type\":\"heatmap\",\"colorbar\":{\"outlinewidth\":0,\"ticks\":\"\"},\"colorscale\":[[0.0,\"#0d0887\"],[0.1111111111111111,\"#46039f\"],[0.2222222222222222,\"#7201a8\"],[0.3333333333333333,\"#9c179e\"],[0.4444444444444444,\"#bd3786\"],[0.5555555555555556,\"#d8576b\"],[0.6666666666666666,\"#ed7953\"],[0.7777777777777778,\"#fb9f3a\"],[0.8888888888888888,\"#fdca26\"],[1.0,\"#f0f921\"]]}],\"heatmapgl\":[{\"type\":\"heatmapgl\",\"colorbar\":{\"outlinewidth\":0,\"ticks\":\"\"},\"colorscale\":[[0.0,\"#0d0887\"],[0.1111111111111111,\"#46039f\"],[0.2222222222222222,\"#7201a8\"],[0.3333333333333333,\"#9c179e\"],[0.4444444444444444,\"#bd3786\"],[0.5555555555555556,\"#d8576b\"],[0.6666666666666666,\"#ed7953\"],[0.7777777777777778,\"#fb9f3a\"],[0.8888888888888888,\"#fdca26\"],[1.0,\"#f0f921\"]]}],\"contourcarpet\":[{\"type\":\"contourcarpet\",\"colorbar\":{\"outlinewidth\":0,\"ticks\":\"\"}}],\"contour\":[{\"type\":\"contour\",\"colorbar\":{\"outlinewidth\":0,\"ticks\":\"\"},\"colorscale\":[[0.0,\"#0d0887\"],[0.1111111111111111,\"#46039f\"],[0.2222222222222222,\"#7201a8\"],[0.3333333333333333,\"#9c179e\"],[0.4444444444444444,\"#bd3786\"],[0.5555555555555556,\"#d8576b\"],[0.6666666666666666,\"#ed7953\"],[0.7777777777777778,\"#fb9f3a\"],[0.8888888888888888,\"#fdca26\"],[1.0,\"#f0f921\"]]}],\"surface\":[{\"type\":\"surface\",\"colorbar\":{\"outlinewidth\":0,\"ticks\":\"\"},\"colorscale\":[[0.0,\"#0d0887\"],[0.1111111111111111,\"#46039f\"],[0.2222222222222222,\"#7201a8\"],[0.3333333333333333,\"#9c179e\"],[0.4444444444444444,\"#bd3786\"],[0.5555555555555556,\"#d8576b\"],[0.6666666666666666,\"#ed7953\"],[0.7777777777777778,\"#fb9f3a\"],[0.8888888888888888,\"#fdca26\"],[1.0,\"#f0f921\"]]}],\"mesh3d\":[{\"type\":\"mesh3d\",\"colorbar\":{\"outlinewidth\":0,\"ticks\":\"\"}}],\"scatter\":[{\"fillpattern\":{\"fillmode\":\"overlay\",\"size\":10,\"solidity\":0.2},\"type\":\"scatter\"}],\"parcoords\":[{\"type\":\"parcoords\",\"line\":{\"colorbar\":{\"outlinewidth\":0,\"ticks\":\"\"}}}],\"scatterpolargl\":[{\"type\":\"scatterpolargl\",\"marker\":{\"colorbar\":{\"outlinewidth\":0,\"ticks\":\"\"}}}],\"bar\":[{\"error_x\":{\"color\":\"#2a3f5f\"},\"error_y\":{\"color\":\"#2a3f5f\"},\"marker\":{\"line\":{\"color\":\"#E5ECF6\",\"width\":0.5},\"pattern\":{\"fillmode\":\"overlay\",\"size\":10,\"solidity\":0.2}},\"type\":\"bar\"}],\"scattergeo\":[{\"type\":\"scattergeo\",\"marker\":{\"colorbar\":{\"outlinewidth\":0,\"ticks\":\"\"}}}],\"scatterpolar\":[{\"type\":\"scatterpolar\",\"marker\":{\"colorbar\":{\"outlinewidth\":0,\"ticks\":\"\"}}}],\"histogram\":[{\"marker\":{\"pattern\":{\"fillmode\":\"overlay\",\"size\":10,\"solidity\":0.2}},\"type\":\"histogram\"}],\"scattergl\":[{\"type\":\"scattergl\",\"marker\":{\"colorbar\":{\"outlinewidth\":0,\"ticks\":\"\"}}}],\"scatter3d\":[{\"type\":\"scatter3d\",\"line\":{\"colorbar\":{\"outlinewidth\":0,\"ticks\":\"\"}},\"marker\":{\"colorbar\":{\"outlinewidth\":0,\"ticks\":\"\"}}}],\"scattermapbox\":[{\"type\":\"scattermapbox\",\"marker\":{\"colorbar\":{\"outlinewidth\":0,\"ticks\":\"\"}}}],\"scatterternary\":[{\"type\":\"scatterternary\",\"marker\":{\"colorbar\":{\"outlinewidth\":0,\"ticks\":\"\"}}}],\"scattercarpet\":[{\"type\":\"scattercarpet\",\"marker\":{\"colorbar\":{\"outlinewidth\":0,\"ticks\":\"\"}}}],\"carpet\":[{\"aaxis\":{\"endlinecolor\":\"#2a3f5f\",\"gridcolor\":\"white\",\"linecolor\":\"white\",\"minorgridcolor\":\"white\",\"startlinecolor\":\"#2a3f5f\"},\"baxis\":{\"endlinecolor\":\"#2a3f5f\",\"gridcolor\":\"white\",\"linecolor\":\"white\",\"minorgridcolor\":\"white\",\"startlinecolor\":\"#2a3f5f\"},\"type\":\"carpet\"}],\"table\":[{\"cells\":{\"fill\":{\"color\":\"#EBF0F8\"},\"line\":{\"color\":\"white\"}},\"header\":{\"fill\":{\"color\":\"#C8D4E3\"},\"line\":{\"color\":\"white\"}},\"type\":\"table\"}],\"barpolar\":[{\"marker\":{\"line\":{\"color\":\"#E5ECF6\",\"width\":0.5},\"pattern\":{\"fillmode\":\"overlay\",\"size\":10,\"solidity\":0.2}},\"type\":\"barpolar\"}],\"pie\":[{\"automargin\":true,\"type\":\"pie\"}]},\"layout\":{\"autotypenumbers\":\"strict\",\"colorway\":[\"#636efa\",\"#EF553B\",\"#00cc96\",\"#ab63fa\",\"#FFA15A\",\"#19d3f3\",\"#FF6692\",\"#B6E880\",\"#FF97FF\",\"#FECB52\"],\"font\":{\"color\":\"#2a3f5f\"},\"hovermode\":\"closest\",\"hoverlabel\":{\"align\":\"left\"},\"paper_bgcolor\":\"white\",\"plot_bgcolor\":\"#E5ECF6\",\"polar\":{\"bgcolor\":\"#E5ECF6\",\"angularaxis\":{\"gridcolor\":\"white\",\"linecolor\":\"white\",\"ticks\":\"\"},\"radialaxis\":{\"gridcolor\":\"white\",\"linecolor\":\"white\",\"ticks\":\"\"}},\"ternary\":{\"bgcolor\":\"#E5ECF6\",\"aaxis\":{\"gridcolor\":\"white\",\"linecolor\":\"white\",\"ticks\":\"\"},\"baxis\":{\"gridcolor\":\"white\",\"linecolor\":\"white\",\"ticks\":\"\"},\"caxis\":{\"gridcolor\":\"white\",\"linecolor\":\"white\",\"ticks\":\"\"}},\"coloraxis\":{\"colorbar\":{\"outlinewidth\":0,\"ticks\":\"\"}},\"colorscale\":{\"sequential\":[[0.0,\"#0d0887\"],[0.1111111111111111,\"#46039f\"],[0.2222222222222222,\"#7201a8\"],[0.3333333333333333,\"#9c179e\"],[0.4444444444444444,\"#bd3786\"],[0.5555555555555556,\"#d8576b\"],[0.6666666666666666,\"#ed7953\"],[0.7777777777777778,\"#fb9f3a\"],[0.8888888888888888,\"#fdca26\"],[1.0,\"#f0f921\"]],\"sequentialminus\":[[0.0,\"#0d0887\"],[0.1111111111111111,\"#46039f\"],[0.2222222222222222,\"#7201a8\"],[0.3333333333333333,\"#9c179e\"],[0.4444444444444444,\"#bd3786\"],[0.5555555555555556,\"#d8576b\"],[0.6666666666666666,\"#ed7953\"],[0.7777777777777778,\"#fb9f3a\"],[0.8888888888888888,\"#fdca26\"],[1.0,\"#f0f921\"]],\"diverging\":[[0,\"#8e0152\"],[0.1,\"#c51b7d\"],[0.2,\"#de77ae\"],[0.3,\"#f1b6da\"],[0.4,\"#fde0ef\"],[0.5,\"#f7f7f7\"],[0.6,\"#e6f5d0\"],[0.7,\"#b8e186\"],[0.8,\"#7fbc41\"],[0.9,\"#4d9221\"],[1,\"#276419\"]]},\"xaxis\":{\"gridcolor\":\"white\",\"linecolor\":\"white\",\"ticks\":\"\",\"title\":{\"standoff\":15},\"zerolinecolor\":\"white\",\"automargin\":true,\"zerolinewidth\":2},\"yaxis\":{\"gridcolor\":\"white\",\"linecolor\":\"white\",\"ticks\":\"\",\"title\":{\"standoff\":15},\"zerolinecolor\":\"white\",\"automargin\":true,\"zerolinewidth\":2},\"scene\":{\"xaxis\":{\"backgroundcolor\":\"#E5ECF6\",\"gridcolor\":\"white\",\"linecolor\":\"white\",\"showbackground\":true,\"ticks\":\"\",\"zerolinecolor\":\"white\",\"gridwidth\":2},\"yaxis\":{\"backgroundcolor\":\"#E5ECF6\",\"gridcolor\":\"white\",\"linecolor\":\"white\",\"showbackground\":true,\"ticks\":\"\",\"zerolinecolor\":\"white\",\"gridwidth\":2},\"zaxis\":{\"backgroundcolor\":\"#E5ECF6\",\"gridcolor\":\"white\",\"linecolor\":\"white\",\"showbackground\":true,\"ticks\":\"\",\"zerolinecolor\":\"white\",\"gridwidth\":2}},\"shapedefaults\":{\"line\":{\"color\":\"#2a3f5f\"}},\"annotationdefaults\":{\"arrowcolor\":\"#2a3f5f\",\"arrowhead\":0,\"arrowwidth\":1},\"geo\":{\"bgcolor\":\"white\",\"landcolor\":\"#E5ECF6\",\"subunitcolor\":\"white\",\"showland\":true,\"showlakes\":true,\"lakecolor\":\"white\"},\"title\":{\"x\":0.05},\"mapbox\":{\"style\":\"light\"}}},\"xaxis\":{\"anchor\":\"y\",\"domain\":[0.0,1.0],\"title\":{\"text\":\"index\"}},\"yaxis\":{\"anchor\":\"x\",\"domain\":[0.0,1.0],\"title\":{\"text\":\"0\"}},\"legend\":{\"tracegroupgap\":0},\"margin\":{\"t\":60},\"barmode\":\"relative\"},                        {\"responsive\": true}                    ).then(function(){\n",
       "                            \n",
       "var gd = document.getElementById('5225df1d-d658-4e84-9b65-9215aa0b5e6a');\n",
       "var x = new MutationObserver(function (mutations, observer) {{\n",
       "        var display = window.getComputedStyle(gd).display;\n",
       "        if (!display || display === 'none') {{\n",
       "            console.log([gd, 'removed!']);\n",
       "            Plotly.purge(gd);\n",
       "            observer.disconnect();\n",
       "        }}\n",
       "}});\n",
       "\n",
       "// Listen for the removal of the full notebook cells\n",
       "var notebookContainer = gd.closest('#notebook-container');\n",
       "if (notebookContainer) {{\n",
       "    x.observe(notebookContainer, {childList: true});\n",
       "}}\n",
       "\n",
       "// Listen for the clearing of the current output cell\n",
       "var outputEl = gd.closest('.output');\n",
       "if (outputEl) {{\n",
       "    x.observe(outputEl, {childList: true});\n",
       "}}\n",
       "\n",
       "                        })                };                });            </script>        </div>"
      ]
     },
     "metadata": {},
     "output_type": "display_data"
    }
   ],
   "source": [
    "fig = px.bar(genre_counts_df, x=genre_counts_df.index, y=0)\n",
    "fig.show()"
   ]
  },
  {
   "cell_type": "code",
   "execution_count": 148,
   "id": "f2e6fb90",
   "metadata": {},
   "outputs": [
    {
     "data": {
      "application/vnd.plotly.v1+json": {
       "config": {
        "plotlyServerURL": "https://plot.ly"
       },
       "data": [
        {
         "alignmentgroup": "True",
         "bingroup": "x",
         "hovertemplate": "0=%{x}<br>count=%{y}<extra></extra>",
         "legendgroup": "",
         "marker": {
          "color": "#636efa",
          "pattern": {
           "shape": ""
          }
         },
         "name": "",
         "offsetgroup": "",
         "orientation": "v",
         "showlegend": false,
         "type": "histogram",
         "x": [
          12,
          226,
          120,
          36,
          26,
          37,
          28,
          46,
          27,
          55,
          1291,
          4,
          143,
          909,
          19,
          29,
          20,
          32,
          5,
          417,
          24,
          51,
          1667,
          42,
          29,
          14,
          28,
          113,
          11,
          138,
          8,
          11,
          321,
          14,
          18,
          228,
          115,
          8,
          12,
          41,
          20,
          17,
          12,
          8,
          1,
          1,
          7,
          23,
          29,
          68,
          132,
          3,
          3,
          10,
          10,
          26,
          7,
          898,
          63,
          6,
          297,
          16,
          62,
          64,
          121,
          161,
          107,
          13,
          29,
          246,
          106,
          65,
          93,
          2,
          18,
          1169,
          17,
          17,
          296,
          118,
          2,
          326,
          1,
          43,
          39,
          26,
          33,
          73,
          11,
          7,
          457,
          49,
          1,
          3,
          52,
          16,
          43,
          22,
          3,
          7,
          14,
          4,
          153,
          1,
          76,
          2,
          36,
          98,
          115,
          295,
          2556,
          2001,
          33,
          2793,
          701,
          9,
          419,
          34,
          2118,
          99,
          1,
          3,
          468,
          2,
          10,
          12348,
          185,
          90,
          1,
          11,
          17,
          9,
          17,
          66,
          5,
          7,
          7,
          11,
          203,
          21,
          259,
          1445,
          15,
          22,
          1,
          15,
          11,
          12,
          9,
          3,
          466,
          67,
          124,
          909,
          7,
          39,
          258,
          10,
          89,
          8,
          908,
          11,
          142,
          85,
          71,
          36,
          140,
          665,
          4,
          30,
          67,
          14,
          152,
          14,
          13,
          6,
          5,
          57,
          292,
          84,
          56,
          106,
          4,
          2138,
          21,
          78,
          4,
          3,
          129,
          10,
          693,
          30,
          14,
          6,
          36,
          8,
          16,
          7,
          33,
          5,
          43,
          343,
          31,
          3,
          25,
          4321,
          1,
          3666,
          126,
          106,
          140,
          22,
          85,
          61,
          25,
          140,
          57,
          12,
          15,
          286,
          2,
          16,
          16,
          70,
          30,
          17,
          17,
          28,
          5,
          33,
          123,
          84,
          13,
          26,
          101,
          26,
          28,
          94,
          233,
          35,
          9,
          192,
          355,
          89,
          17,
          7,
          12,
          13,
          21,
          23,
          119,
          7,
          682,
          200,
          1,
          367,
          110,
          90,
          2,
          645,
          26,
          83,
          72,
          65,
          28,
          226,
          28,
          475,
          57,
          3,
          36,
          1023,
          32,
          31,
          11,
          9,
          2869,
          1709,
          121,
          239,
          141,
          3,
          138,
          32,
          14,
          21,
          238,
          6,
          148,
          34,
          8,
          865,
          67,
          140,
          14,
          37,
          224,
          365,
          17,
          36,
          1,
          16,
          6,
          16,
          69,
          5,
          11,
          938,
          157,
          430,
          63,
          90,
          8,
          34,
          55,
          11524,
          614,
          54,
          377,
          290,
          6054,
          4158,
          256,
          1185,
          3121,
          18,
          159,
          85,
          72,
          134,
          21,
          329,
          28,
          553,
          4310,
          5439,
          1,
          1,
          55,
          102,
          252,
          48,
          75,
          123,
          11,
          10,
          36,
          1342,
          9,
          8,
          37,
          8,
          17,
          17,
          24,
          9,
          23,
          13,
          57,
          10,
          1,
          32,
          9,
          35,
          78,
          9,
          26,
          321,
          10,
          10,
          32,
          96,
          18,
          41,
          19,
          45,
          7,
          16,
          64,
          3,
          20,
          6,
          8,
          242,
          2881,
          121,
          127,
          47,
          8,
          133,
          108,
          77,
          8,
          14,
          357,
          137,
          37,
          37,
          13,
          1,
          88,
          1,
          1,
          2689,
          10,
          76,
          270,
          6,
          17,
          299,
          22,
          5,
          57,
          58,
          103,
          4,
          2,
          2353,
          23,
          3,
          5376,
          90,
          12,
          16,
          305,
          301,
          65,
          88,
          48,
          33,
          15,
          203,
          13,
          43,
          4,
          61,
          1
         ],
         "xaxis": "x",
         "yaxis": "y"
        }
       ],
       "layout": {
        "barmode": "relative",
        "legend": {
         "tracegroupgap": 0
        },
        "margin": {
         "t": 60
        },
        "template": {
         "data": {
          "bar": [
           {
            "error_x": {
             "color": "#2a3f5f"
            },
            "error_y": {
             "color": "#2a3f5f"
            },
            "marker": {
             "line": {
              "color": "#E5ECF6",
              "width": 0.5
             },
             "pattern": {
              "fillmode": "overlay",
              "size": 10,
              "solidity": 0.2
             }
            },
            "type": "bar"
           }
          ],
          "barpolar": [
           {
            "marker": {
             "line": {
              "color": "#E5ECF6",
              "width": 0.5
             },
             "pattern": {
              "fillmode": "overlay",
              "size": 10,
              "solidity": 0.2
             }
            },
            "type": "barpolar"
           }
          ],
          "carpet": [
           {
            "aaxis": {
             "endlinecolor": "#2a3f5f",
             "gridcolor": "white",
             "linecolor": "white",
             "minorgridcolor": "white",
             "startlinecolor": "#2a3f5f"
            },
            "baxis": {
             "endlinecolor": "#2a3f5f",
             "gridcolor": "white",
             "linecolor": "white",
             "minorgridcolor": "white",
             "startlinecolor": "#2a3f5f"
            },
            "type": "carpet"
           }
          ],
          "choropleth": [
           {
            "colorbar": {
             "outlinewidth": 0,
             "ticks": ""
            },
            "type": "choropleth"
           }
          ],
          "contour": [
           {
            "colorbar": {
             "outlinewidth": 0,
             "ticks": ""
            },
            "colorscale": [
             [
              0,
              "#0d0887"
             ],
             [
              0.1111111111111111,
              "#46039f"
             ],
             [
              0.2222222222222222,
              "#7201a8"
             ],
             [
              0.3333333333333333,
              "#9c179e"
             ],
             [
              0.4444444444444444,
              "#bd3786"
             ],
             [
              0.5555555555555556,
              "#d8576b"
             ],
             [
              0.6666666666666666,
              "#ed7953"
             ],
             [
              0.7777777777777778,
              "#fb9f3a"
             ],
             [
              0.8888888888888888,
              "#fdca26"
             ],
             [
              1,
              "#f0f921"
             ]
            ],
            "type": "contour"
           }
          ],
          "contourcarpet": [
           {
            "colorbar": {
             "outlinewidth": 0,
             "ticks": ""
            },
            "type": "contourcarpet"
           }
          ],
          "heatmap": [
           {
            "colorbar": {
             "outlinewidth": 0,
             "ticks": ""
            },
            "colorscale": [
             [
              0,
              "#0d0887"
             ],
             [
              0.1111111111111111,
              "#46039f"
             ],
             [
              0.2222222222222222,
              "#7201a8"
             ],
             [
              0.3333333333333333,
              "#9c179e"
             ],
             [
              0.4444444444444444,
              "#bd3786"
             ],
             [
              0.5555555555555556,
              "#d8576b"
             ],
             [
              0.6666666666666666,
              "#ed7953"
             ],
             [
              0.7777777777777778,
              "#fb9f3a"
             ],
             [
              0.8888888888888888,
              "#fdca26"
             ],
             [
              1,
              "#f0f921"
             ]
            ],
            "type": "heatmap"
           }
          ],
          "heatmapgl": [
           {
            "colorbar": {
             "outlinewidth": 0,
             "ticks": ""
            },
            "colorscale": [
             [
              0,
              "#0d0887"
             ],
             [
              0.1111111111111111,
              "#46039f"
             ],
             [
              0.2222222222222222,
              "#7201a8"
             ],
             [
              0.3333333333333333,
              "#9c179e"
             ],
             [
              0.4444444444444444,
              "#bd3786"
             ],
             [
              0.5555555555555556,
              "#d8576b"
             ],
             [
              0.6666666666666666,
              "#ed7953"
             ],
             [
              0.7777777777777778,
              "#fb9f3a"
             ],
             [
              0.8888888888888888,
              "#fdca26"
             ],
             [
              1,
              "#f0f921"
             ]
            ],
            "type": "heatmapgl"
           }
          ],
          "histogram": [
           {
            "marker": {
             "pattern": {
              "fillmode": "overlay",
              "size": 10,
              "solidity": 0.2
             }
            },
            "type": "histogram"
           }
          ],
          "histogram2d": [
           {
            "colorbar": {
             "outlinewidth": 0,
             "ticks": ""
            },
            "colorscale": [
             [
              0,
              "#0d0887"
             ],
             [
              0.1111111111111111,
              "#46039f"
             ],
             [
              0.2222222222222222,
              "#7201a8"
             ],
             [
              0.3333333333333333,
              "#9c179e"
             ],
             [
              0.4444444444444444,
              "#bd3786"
             ],
             [
              0.5555555555555556,
              "#d8576b"
             ],
             [
              0.6666666666666666,
              "#ed7953"
             ],
             [
              0.7777777777777778,
              "#fb9f3a"
             ],
             [
              0.8888888888888888,
              "#fdca26"
             ],
             [
              1,
              "#f0f921"
             ]
            ],
            "type": "histogram2d"
           }
          ],
          "histogram2dcontour": [
           {
            "colorbar": {
             "outlinewidth": 0,
             "ticks": ""
            },
            "colorscale": [
             [
              0,
              "#0d0887"
             ],
             [
              0.1111111111111111,
              "#46039f"
             ],
             [
              0.2222222222222222,
              "#7201a8"
             ],
             [
              0.3333333333333333,
              "#9c179e"
             ],
             [
              0.4444444444444444,
              "#bd3786"
             ],
             [
              0.5555555555555556,
              "#d8576b"
             ],
             [
              0.6666666666666666,
              "#ed7953"
             ],
             [
              0.7777777777777778,
              "#fb9f3a"
             ],
             [
              0.8888888888888888,
              "#fdca26"
             ],
             [
              1,
              "#f0f921"
             ]
            ],
            "type": "histogram2dcontour"
           }
          ],
          "mesh3d": [
           {
            "colorbar": {
             "outlinewidth": 0,
             "ticks": ""
            },
            "type": "mesh3d"
           }
          ],
          "parcoords": [
           {
            "line": {
             "colorbar": {
              "outlinewidth": 0,
              "ticks": ""
             }
            },
            "type": "parcoords"
           }
          ],
          "pie": [
           {
            "automargin": true,
            "type": "pie"
           }
          ],
          "scatter": [
           {
            "fillpattern": {
             "fillmode": "overlay",
             "size": 10,
             "solidity": 0.2
            },
            "type": "scatter"
           }
          ],
          "scatter3d": [
           {
            "line": {
             "colorbar": {
              "outlinewidth": 0,
              "ticks": ""
             }
            },
            "marker": {
             "colorbar": {
              "outlinewidth": 0,
              "ticks": ""
             }
            },
            "type": "scatter3d"
           }
          ],
          "scattercarpet": [
           {
            "marker": {
             "colorbar": {
              "outlinewidth": 0,
              "ticks": ""
             }
            },
            "type": "scattercarpet"
           }
          ],
          "scattergeo": [
           {
            "marker": {
             "colorbar": {
              "outlinewidth": 0,
              "ticks": ""
             }
            },
            "type": "scattergeo"
           }
          ],
          "scattergl": [
           {
            "marker": {
             "colorbar": {
              "outlinewidth": 0,
              "ticks": ""
             }
            },
            "type": "scattergl"
           }
          ],
          "scattermapbox": [
           {
            "marker": {
             "colorbar": {
              "outlinewidth": 0,
              "ticks": ""
             }
            },
            "type": "scattermapbox"
           }
          ],
          "scatterpolar": [
           {
            "marker": {
             "colorbar": {
              "outlinewidth": 0,
              "ticks": ""
             }
            },
            "type": "scatterpolar"
           }
          ],
          "scatterpolargl": [
           {
            "marker": {
             "colorbar": {
              "outlinewidth": 0,
              "ticks": ""
             }
            },
            "type": "scatterpolargl"
           }
          ],
          "scatterternary": [
           {
            "marker": {
             "colorbar": {
              "outlinewidth": 0,
              "ticks": ""
             }
            },
            "type": "scatterternary"
           }
          ],
          "surface": [
           {
            "colorbar": {
             "outlinewidth": 0,
             "ticks": ""
            },
            "colorscale": [
             [
              0,
              "#0d0887"
             ],
             [
              0.1111111111111111,
              "#46039f"
             ],
             [
              0.2222222222222222,
              "#7201a8"
             ],
             [
              0.3333333333333333,
              "#9c179e"
             ],
             [
              0.4444444444444444,
              "#bd3786"
             ],
             [
              0.5555555555555556,
              "#d8576b"
             ],
             [
              0.6666666666666666,
              "#ed7953"
             ],
             [
              0.7777777777777778,
              "#fb9f3a"
             ],
             [
              0.8888888888888888,
              "#fdca26"
             ],
             [
              1,
              "#f0f921"
             ]
            ],
            "type": "surface"
           }
          ],
          "table": [
           {
            "cells": {
             "fill": {
              "color": "#EBF0F8"
             },
             "line": {
              "color": "white"
             }
            },
            "header": {
             "fill": {
              "color": "#C8D4E3"
             },
             "line": {
              "color": "white"
             }
            },
            "type": "table"
           }
          ]
         },
         "layout": {
          "annotationdefaults": {
           "arrowcolor": "#2a3f5f",
           "arrowhead": 0,
           "arrowwidth": 1
          },
          "autotypenumbers": "strict",
          "coloraxis": {
           "colorbar": {
            "outlinewidth": 0,
            "ticks": ""
           }
          },
          "colorscale": {
           "diverging": [
            [
             0,
             "#8e0152"
            ],
            [
             0.1,
             "#c51b7d"
            ],
            [
             0.2,
             "#de77ae"
            ],
            [
             0.3,
             "#f1b6da"
            ],
            [
             0.4,
             "#fde0ef"
            ],
            [
             0.5,
             "#f7f7f7"
            ],
            [
             0.6,
             "#e6f5d0"
            ],
            [
             0.7,
             "#b8e186"
            ],
            [
             0.8,
             "#7fbc41"
            ],
            [
             0.9,
             "#4d9221"
            ],
            [
             1,
             "#276419"
            ]
           ],
           "sequential": [
            [
             0,
             "#0d0887"
            ],
            [
             0.1111111111111111,
             "#46039f"
            ],
            [
             0.2222222222222222,
             "#7201a8"
            ],
            [
             0.3333333333333333,
             "#9c179e"
            ],
            [
             0.4444444444444444,
             "#bd3786"
            ],
            [
             0.5555555555555556,
             "#d8576b"
            ],
            [
             0.6666666666666666,
             "#ed7953"
            ],
            [
             0.7777777777777778,
             "#fb9f3a"
            ],
            [
             0.8888888888888888,
             "#fdca26"
            ],
            [
             1,
             "#f0f921"
            ]
           ],
           "sequentialminus": [
            [
             0,
             "#0d0887"
            ],
            [
             0.1111111111111111,
             "#46039f"
            ],
            [
             0.2222222222222222,
             "#7201a8"
            ],
            [
             0.3333333333333333,
             "#9c179e"
            ],
            [
             0.4444444444444444,
             "#bd3786"
            ],
            [
             0.5555555555555556,
             "#d8576b"
            ],
            [
             0.6666666666666666,
             "#ed7953"
            ],
            [
             0.7777777777777778,
             "#fb9f3a"
            ],
            [
             0.8888888888888888,
             "#fdca26"
            ],
            [
             1,
             "#f0f921"
            ]
           ]
          },
          "colorway": [
           "#636efa",
           "#EF553B",
           "#00cc96",
           "#ab63fa",
           "#FFA15A",
           "#19d3f3",
           "#FF6692",
           "#B6E880",
           "#FF97FF",
           "#FECB52"
          ],
          "font": {
           "color": "#2a3f5f"
          },
          "geo": {
           "bgcolor": "white",
           "lakecolor": "white",
           "landcolor": "#E5ECF6",
           "showlakes": true,
           "showland": true,
           "subunitcolor": "white"
          },
          "hoverlabel": {
           "align": "left"
          },
          "hovermode": "closest",
          "mapbox": {
           "style": "light"
          },
          "paper_bgcolor": "white",
          "plot_bgcolor": "#E5ECF6",
          "polar": {
           "angularaxis": {
            "gridcolor": "white",
            "linecolor": "white",
            "ticks": ""
           },
           "bgcolor": "#E5ECF6",
           "radialaxis": {
            "gridcolor": "white",
            "linecolor": "white",
            "ticks": ""
           }
          },
          "scene": {
           "xaxis": {
            "backgroundcolor": "#E5ECF6",
            "gridcolor": "white",
            "gridwidth": 2,
            "linecolor": "white",
            "showbackground": true,
            "ticks": "",
            "zerolinecolor": "white"
           },
           "yaxis": {
            "backgroundcolor": "#E5ECF6",
            "gridcolor": "white",
            "gridwidth": 2,
            "linecolor": "white",
            "showbackground": true,
            "ticks": "",
            "zerolinecolor": "white"
           },
           "zaxis": {
            "backgroundcolor": "#E5ECF6",
            "gridcolor": "white",
            "gridwidth": 2,
            "linecolor": "white",
            "showbackground": true,
            "ticks": "",
            "zerolinecolor": "white"
           }
          },
          "shapedefaults": {
           "line": {
            "color": "#2a3f5f"
           }
          },
          "ternary": {
           "aaxis": {
            "gridcolor": "white",
            "linecolor": "white",
            "ticks": ""
           },
           "baxis": {
            "gridcolor": "white",
            "linecolor": "white",
            "ticks": ""
           },
           "bgcolor": "#E5ECF6",
           "caxis": {
            "gridcolor": "white",
            "linecolor": "white",
            "ticks": ""
           }
          },
          "title": {
           "x": 0.05
          },
          "xaxis": {
           "automargin": true,
           "gridcolor": "white",
           "linecolor": "white",
           "ticks": "",
           "title": {
            "standoff": 15
           },
           "zerolinecolor": "white",
           "zerolinewidth": 2
          },
          "yaxis": {
           "automargin": true,
           "gridcolor": "white",
           "linecolor": "white",
           "ticks": "",
           "title": {
            "standoff": 15
           },
           "zerolinecolor": "white",
           "zerolinewidth": 2
          }
         }
        },
        "xaxis": {
         "anchor": "y",
         "domain": [
          0,
          1
         ],
         "title": {
          "text": "0"
         }
        },
        "yaxis": {
         "anchor": "x",
         "domain": [
          0,
          1
         ],
         "title": {
          "text": "count"
         }
        }
       }
      },
      "text/html": [
       "<div>                            <div id=\"eb4375a4-ab8d-4cf8-89f5-eab423741d28\" class=\"plotly-graph-div\" style=\"height:525px; width:100%;\"></div>            <script type=\"text/javascript\">                require([\"plotly\"], function(Plotly) {                    window.PLOTLYENV=window.PLOTLYENV || {};                                    if (document.getElementById(\"eb4375a4-ab8d-4cf8-89f5-eab423741d28\")) {                    Plotly.newPlot(                        \"eb4375a4-ab8d-4cf8-89f5-eab423741d28\",                        [{\"alignmentgroup\":\"True\",\"bingroup\":\"x\",\"hovertemplate\":\"0=%{x}<br>count=%{y}<extra></extra>\",\"legendgroup\":\"\",\"marker\":{\"color\":\"#636efa\",\"pattern\":{\"shape\":\"\"}},\"name\":\"\",\"offsetgroup\":\"\",\"orientation\":\"v\",\"showlegend\":false,\"x\":[12,226,120,36,26,37,28,46,27,55,1291,4,143,909,19,29,20,32,5,417,24,51,1667,42,29,14,28,113,11,138,8,11,321,14,18,228,115,8,12,41,20,17,12,8,1,1,7,23,29,68,132,3,3,10,10,26,7,898,63,6,297,16,62,64,121,161,107,13,29,246,106,65,93,2,18,1169,17,17,296,118,2,326,1,43,39,26,33,73,11,7,457,49,1,3,52,16,43,22,3,7,14,4,153,1,76,2,36,98,115,295,2556,2001,33,2793,701,9,419,34,2118,99,1,3,468,2,10,12348,185,90,1,11,17,9,17,66,5,7,7,11,203,21,259,1445,15,22,1,15,11,12,9,3,466,67,124,909,7,39,258,10,89,8,908,11,142,85,71,36,140,665,4,30,67,14,152,14,13,6,5,57,292,84,56,106,4,2138,21,78,4,3,129,10,693,30,14,6,36,8,16,7,33,5,43,343,31,3,25,4321,1,3666,126,106,140,22,85,61,25,140,57,12,15,286,2,16,16,70,30,17,17,28,5,33,123,84,13,26,101,26,28,94,233,35,9,192,355,89,17,7,12,13,21,23,119,7,682,200,1,367,110,90,2,645,26,83,72,65,28,226,28,475,57,3,36,1023,32,31,11,9,2869,1709,121,239,141,3,138,32,14,21,238,6,148,34,8,865,67,140,14,37,224,365,17,36,1,16,6,16,69,5,11,938,157,430,63,90,8,34,55,11524,614,54,377,290,6054,4158,256,1185,3121,18,159,85,72,134,21,329,28,553,4310,5439,1,1,55,102,252,48,75,123,11,10,36,1342,9,8,37,8,17,17,24,9,23,13,57,10,1,32,9,35,78,9,26,321,10,10,32,96,18,41,19,45,7,16,64,3,20,6,8,242,2881,121,127,47,8,133,108,77,8,14,357,137,37,37,13,1,88,1,1,2689,10,76,270,6,17,299,22,5,57,58,103,4,2,2353,23,3,5376,90,12,16,305,301,65,88,48,33,15,203,13,43,4,61,1],\"xaxis\":\"x\",\"yaxis\":\"y\",\"type\":\"histogram\"}],                        {\"template\":{\"data\":{\"histogram2dcontour\":[{\"type\":\"histogram2dcontour\",\"colorbar\":{\"outlinewidth\":0,\"ticks\":\"\"},\"colorscale\":[[0.0,\"#0d0887\"],[0.1111111111111111,\"#46039f\"],[0.2222222222222222,\"#7201a8\"],[0.3333333333333333,\"#9c179e\"],[0.4444444444444444,\"#bd3786\"],[0.5555555555555556,\"#d8576b\"],[0.6666666666666666,\"#ed7953\"],[0.7777777777777778,\"#fb9f3a\"],[0.8888888888888888,\"#fdca26\"],[1.0,\"#f0f921\"]]}],\"choropleth\":[{\"type\":\"choropleth\",\"colorbar\":{\"outlinewidth\":0,\"ticks\":\"\"}}],\"histogram2d\":[{\"type\":\"histogram2d\",\"colorbar\":{\"outlinewidth\":0,\"ticks\":\"\"},\"colorscale\":[[0.0,\"#0d0887\"],[0.1111111111111111,\"#46039f\"],[0.2222222222222222,\"#7201a8\"],[0.3333333333333333,\"#9c179e\"],[0.4444444444444444,\"#bd3786\"],[0.5555555555555556,\"#d8576b\"],[0.6666666666666666,\"#ed7953\"],[0.7777777777777778,\"#fb9f3a\"],[0.8888888888888888,\"#fdca26\"],[1.0,\"#f0f921\"]]}],\"heatmap\":[{\"type\":\"heatmap\",\"colorbar\":{\"outlinewidth\":0,\"ticks\":\"\"},\"colorscale\":[[0.0,\"#0d0887\"],[0.1111111111111111,\"#46039f\"],[0.2222222222222222,\"#7201a8\"],[0.3333333333333333,\"#9c179e\"],[0.4444444444444444,\"#bd3786\"],[0.5555555555555556,\"#d8576b\"],[0.6666666666666666,\"#ed7953\"],[0.7777777777777778,\"#fb9f3a\"],[0.8888888888888888,\"#fdca26\"],[1.0,\"#f0f921\"]]}],\"heatmapgl\":[{\"type\":\"heatmapgl\",\"colorbar\":{\"outlinewidth\":0,\"ticks\":\"\"},\"colorscale\":[[0.0,\"#0d0887\"],[0.1111111111111111,\"#46039f\"],[0.2222222222222222,\"#7201a8\"],[0.3333333333333333,\"#9c179e\"],[0.4444444444444444,\"#bd3786\"],[0.5555555555555556,\"#d8576b\"],[0.6666666666666666,\"#ed7953\"],[0.7777777777777778,\"#fb9f3a\"],[0.8888888888888888,\"#fdca26\"],[1.0,\"#f0f921\"]]}],\"contourcarpet\":[{\"type\":\"contourcarpet\",\"colorbar\":{\"outlinewidth\":0,\"ticks\":\"\"}}],\"contour\":[{\"type\":\"contour\",\"colorbar\":{\"outlinewidth\":0,\"ticks\":\"\"},\"colorscale\":[[0.0,\"#0d0887\"],[0.1111111111111111,\"#46039f\"],[0.2222222222222222,\"#7201a8\"],[0.3333333333333333,\"#9c179e\"],[0.4444444444444444,\"#bd3786\"],[0.5555555555555556,\"#d8576b\"],[0.6666666666666666,\"#ed7953\"],[0.7777777777777778,\"#fb9f3a\"],[0.8888888888888888,\"#fdca26\"],[1.0,\"#f0f921\"]]}],\"surface\":[{\"type\":\"surface\",\"colorbar\":{\"outlinewidth\":0,\"ticks\":\"\"},\"colorscale\":[[0.0,\"#0d0887\"],[0.1111111111111111,\"#46039f\"],[0.2222222222222222,\"#7201a8\"],[0.3333333333333333,\"#9c179e\"],[0.4444444444444444,\"#bd3786\"],[0.5555555555555556,\"#d8576b\"],[0.6666666666666666,\"#ed7953\"],[0.7777777777777778,\"#fb9f3a\"],[0.8888888888888888,\"#fdca26\"],[1.0,\"#f0f921\"]]}],\"mesh3d\":[{\"type\":\"mesh3d\",\"colorbar\":{\"outlinewidth\":0,\"ticks\":\"\"}}],\"scatter\":[{\"fillpattern\":{\"fillmode\":\"overlay\",\"size\":10,\"solidity\":0.2},\"type\":\"scatter\"}],\"parcoords\":[{\"type\":\"parcoords\",\"line\":{\"colorbar\":{\"outlinewidth\":0,\"ticks\":\"\"}}}],\"scatterpolargl\":[{\"type\":\"scatterpolargl\",\"marker\":{\"colorbar\":{\"outlinewidth\":0,\"ticks\":\"\"}}}],\"bar\":[{\"error_x\":{\"color\":\"#2a3f5f\"},\"error_y\":{\"color\":\"#2a3f5f\"},\"marker\":{\"line\":{\"color\":\"#E5ECF6\",\"width\":0.5},\"pattern\":{\"fillmode\":\"overlay\",\"size\":10,\"solidity\":0.2}},\"type\":\"bar\"}],\"scattergeo\":[{\"type\":\"scattergeo\",\"marker\":{\"colorbar\":{\"outlinewidth\":0,\"ticks\":\"\"}}}],\"scatterpolar\":[{\"type\":\"scatterpolar\",\"marker\":{\"colorbar\":{\"outlinewidth\":0,\"ticks\":\"\"}}}],\"histogram\":[{\"marker\":{\"pattern\":{\"fillmode\":\"overlay\",\"size\":10,\"solidity\":0.2}},\"type\":\"histogram\"}],\"scattergl\":[{\"type\":\"scattergl\",\"marker\":{\"colorbar\":{\"outlinewidth\":0,\"ticks\":\"\"}}}],\"scatter3d\":[{\"type\":\"scatter3d\",\"line\":{\"colorbar\":{\"outlinewidth\":0,\"ticks\":\"\"}},\"marker\":{\"colorbar\":{\"outlinewidth\":0,\"ticks\":\"\"}}}],\"scattermapbox\":[{\"type\":\"scattermapbox\",\"marker\":{\"colorbar\":{\"outlinewidth\":0,\"ticks\":\"\"}}}],\"scatterternary\":[{\"type\":\"scatterternary\",\"marker\":{\"colorbar\":{\"outlinewidth\":0,\"ticks\":\"\"}}}],\"scattercarpet\":[{\"type\":\"scattercarpet\",\"marker\":{\"colorbar\":{\"outlinewidth\":0,\"ticks\":\"\"}}}],\"carpet\":[{\"aaxis\":{\"endlinecolor\":\"#2a3f5f\",\"gridcolor\":\"white\",\"linecolor\":\"white\",\"minorgridcolor\":\"white\",\"startlinecolor\":\"#2a3f5f\"},\"baxis\":{\"endlinecolor\":\"#2a3f5f\",\"gridcolor\":\"white\",\"linecolor\":\"white\",\"minorgridcolor\":\"white\",\"startlinecolor\":\"#2a3f5f\"},\"type\":\"carpet\"}],\"table\":[{\"cells\":{\"fill\":{\"color\":\"#EBF0F8\"},\"line\":{\"color\":\"white\"}},\"header\":{\"fill\":{\"color\":\"#C8D4E3\"},\"line\":{\"color\":\"white\"}},\"type\":\"table\"}],\"barpolar\":[{\"marker\":{\"line\":{\"color\":\"#E5ECF6\",\"width\":0.5},\"pattern\":{\"fillmode\":\"overlay\",\"size\":10,\"solidity\":0.2}},\"type\":\"barpolar\"}],\"pie\":[{\"automargin\":true,\"type\":\"pie\"}]},\"layout\":{\"autotypenumbers\":\"strict\",\"colorway\":[\"#636efa\",\"#EF553B\",\"#00cc96\",\"#ab63fa\",\"#FFA15A\",\"#19d3f3\",\"#FF6692\",\"#B6E880\",\"#FF97FF\",\"#FECB52\"],\"font\":{\"color\":\"#2a3f5f\"},\"hovermode\":\"closest\",\"hoverlabel\":{\"align\":\"left\"},\"paper_bgcolor\":\"white\",\"plot_bgcolor\":\"#E5ECF6\",\"polar\":{\"bgcolor\":\"#E5ECF6\",\"angularaxis\":{\"gridcolor\":\"white\",\"linecolor\":\"white\",\"ticks\":\"\"},\"radialaxis\":{\"gridcolor\":\"white\",\"linecolor\":\"white\",\"ticks\":\"\"}},\"ternary\":{\"bgcolor\":\"#E5ECF6\",\"aaxis\":{\"gridcolor\":\"white\",\"linecolor\":\"white\",\"ticks\":\"\"},\"baxis\":{\"gridcolor\":\"white\",\"linecolor\":\"white\",\"ticks\":\"\"},\"caxis\":{\"gridcolor\":\"white\",\"linecolor\":\"white\",\"ticks\":\"\"}},\"coloraxis\":{\"colorbar\":{\"outlinewidth\":0,\"ticks\":\"\"}},\"colorscale\":{\"sequential\":[[0.0,\"#0d0887\"],[0.1111111111111111,\"#46039f\"],[0.2222222222222222,\"#7201a8\"],[0.3333333333333333,\"#9c179e\"],[0.4444444444444444,\"#bd3786\"],[0.5555555555555556,\"#d8576b\"],[0.6666666666666666,\"#ed7953\"],[0.7777777777777778,\"#fb9f3a\"],[0.8888888888888888,\"#fdca26\"],[1.0,\"#f0f921\"]],\"sequentialminus\":[[0.0,\"#0d0887\"],[0.1111111111111111,\"#46039f\"],[0.2222222222222222,\"#7201a8\"],[0.3333333333333333,\"#9c179e\"],[0.4444444444444444,\"#bd3786\"],[0.5555555555555556,\"#d8576b\"],[0.6666666666666666,\"#ed7953\"],[0.7777777777777778,\"#fb9f3a\"],[0.8888888888888888,\"#fdca26\"],[1.0,\"#f0f921\"]],\"diverging\":[[0,\"#8e0152\"],[0.1,\"#c51b7d\"],[0.2,\"#de77ae\"],[0.3,\"#f1b6da\"],[0.4,\"#fde0ef\"],[0.5,\"#f7f7f7\"],[0.6,\"#e6f5d0\"],[0.7,\"#b8e186\"],[0.8,\"#7fbc41\"],[0.9,\"#4d9221\"],[1,\"#276419\"]]},\"xaxis\":{\"gridcolor\":\"white\",\"linecolor\":\"white\",\"ticks\":\"\",\"title\":{\"standoff\":15},\"zerolinecolor\":\"white\",\"automargin\":true,\"zerolinewidth\":2},\"yaxis\":{\"gridcolor\":\"white\",\"linecolor\":\"white\",\"ticks\":\"\",\"title\":{\"standoff\":15},\"zerolinecolor\":\"white\",\"automargin\":true,\"zerolinewidth\":2},\"scene\":{\"xaxis\":{\"backgroundcolor\":\"#E5ECF6\",\"gridcolor\":\"white\",\"linecolor\":\"white\",\"showbackground\":true,\"ticks\":\"\",\"zerolinecolor\":\"white\",\"gridwidth\":2},\"yaxis\":{\"backgroundcolor\":\"#E5ECF6\",\"gridcolor\":\"white\",\"linecolor\":\"white\",\"showbackground\":true,\"ticks\":\"\",\"zerolinecolor\":\"white\",\"gridwidth\":2},\"zaxis\":{\"backgroundcolor\":\"#E5ECF6\",\"gridcolor\":\"white\",\"linecolor\":\"white\",\"showbackground\":true,\"ticks\":\"\",\"zerolinecolor\":\"white\",\"gridwidth\":2}},\"shapedefaults\":{\"line\":{\"color\":\"#2a3f5f\"}},\"annotationdefaults\":{\"arrowcolor\":\"#2a3f5f\",\"arrowhead\":0,\"arrowwidth\":1},\"geo\":{\"bgcolor\":\"white\",\"landcolor\":\"#E5ECF6\",\"subunitcolor\":\"white\",\"showland\":true,\"showlakes\":true,\"lakecolor\":\"white\"},\"title\":{\"x\":0.05},\"mapbox\":{\"style\":\"light\"}}},\"xaxis\":{\"anchor\":\"y\",\"domain\":[0.0,1.0],\"title\":{\"text\":\"0\"}},\"yaxis\":{\"anchor\":\"x\",\"domain\":[0.0,1.0],\"title\":{\"text\":\"count\"}},\"legend\":{\"tracegroupgap\":0},\"margin\":{\"t\":60},\"barmode\":\"relative\"},                        {\"responsive\": true}                    ).then(function(){\n",
       "                            \n",
       "var gd = document.getElementById('eb4375a4-ab8d-4cf8-89f5-eab423741d28');\n",
       "var x = new MutationObserver(function (mutations, observer) {{\n",
       "        var display = window.getComputedStyle(gd).display;\n",
       "        if (!display || display === 'none') {{\n",
       "            console.log([gd, 'removed!']);\n",
       "            Plotly.purge(gd);\n",
       "            observer.disconnect();\n",
       "        }}\n",
       "}});\n",
       "\n",
       "// Listen for the removal of the full notebook cells\n",
       "var notebookContainer = gd.closest('#notebook-container');\n",
       "if (notebookContainer) {{\n",
       "    x.observe(notebookContainer, {childList: true});\n",
       "}}\n",
       "\n",
       "// Listen for the clearing of the current output cell\n",
       "var outputEl = gd.closest('.output');\n",
       "if (outputEl) {{\n",
       "    x.observe(outputEl, {childList: true});\n",
       "}}\n",
       "\n",
       "                        })                };                });            </script>        </div>"
      ]
     },
     "metadata": {},
     "output_type": "display_data"
    }
   ],
   "source": [
    "fig = px.histogram(genre_counts_df, x=0)\n",
    "#fig.update_layout(bargap=0.2)\n",
    "fig.show()"
   ]
  },
  {
   "cell_type": "code",
   "execution_count": 149,
   "id": "ea039b0c",
   "metadata": {},
   "outputs": [
    {
     "data": {
      "text/plain": [
       "['new_jack_swing',\n",
       " 'ccm',\n",
       " 'funk',\n",
       " 'bubblegum_dance',\n",
       " 'salsa',\n",
       " 'american_folk_revival',\n",
       " 'jam_band',\n",
       " 'new_rave',\n",
       " 'alternative_metal',\n",
       " 'irish_singer-songwriter',\n",
       " 'traditional_country',\n",
       " 'soul',\n",
       " 'romanian_house',\n",
       " 'screamo',\n",
       " 'soca',\n",
       " 'talent_show',\n",
       " 'fake',\n",
       " 'lounge',\n",
       " 'trancecore',\n",
       " 'bossbeat',\n",
       " 'idol',\n",
       " 'singer-songwriter',\n",
       " 'escape_room',\n",
       " 'cowpunk',\n",
       " 'derby_indie',\n",
       " 'melancholia',\n",
       " 'chicago_drill',\n",
       " 'comedy',\n",
       " 'anti-folk',\n",
       " 'neo-singer-songwriter',\n",
       " 'new_wave',\n",
       " 'lds_youth',\n",
       " 'alternative_r&b',\n",
       " 'electro_house',\n",
       " 'ninja',\n",
       " 'neo_soul',\n",
       " 'worship',\n",
       " 'hollywood',\n",
       " 'industrial',\n",
       " 'country_dawn',\n",
       " 'tropical_house',\n",
       " 'disco',\n",
       " 'uk_funky',\n",
       " 'dong-yo',\n",
       " 'texas_country',\n",
       " 'grime',\n",
       " 'metal',\n",
       " 'thrash_metal',\n",
       " 'easy_listening',\n",
       " 'bedroom_soul',\n",
       " 'canadian_metal',\n",
       " 'double_drumming',\n",
       " 'indie_soul',\n",
       " 'queer_country',\n",
       " 'k-rap',\n",
       " 'neo_mellow',\n",
       " 'bassline',\n",
       " 'canadian_latin',\n",
       " 'adult_standards',\n",
       " 'classic_dubstep',\n",
       " 'eurodance',\n",
       " 'gospel',\n",
       " 'reggaeton_colombiano',\n",
       " 'pluggnb',\n",
       " 'canadian_contemporary_r&b',\n",
       " 'drill',\n",
       " 'canadian_singer-songwriter',\n",
       " 'futuristic_swag',\n",
       " 'folk',\n",
       " 'la_indie',\n",
       " 'chicago_indie',\n",
       " 'clean_comedy',\n",
       " 'anarcho-punk',\n",
       " 'cartoon',\n",
       " \"children's_music\",\n",
       " 'australian_talent_show',\n",
       " 'crunk',\n",
       " 'gospel_r&b',\n",
       " 'filter_house',\n",
       " 'uk_contemporary_r&b',\n",
       " 'cyberpunk',\n",
       " 'nu_metal',\n",
       " 'slap_house',\n",
       " 'tropical',\n",
       " 'atlanta_bass',\n",
       " 'boston_punk',\n",
       " 'reggaeton',\n",
       " 'bounce',\n",
       " 'rap_kreyol',\n",
       " 'dance-punk',\n",
       " 'world',\n",
       " 'a_cappella',\n",
       " 'canadian_celtic',\n",
       " 'austin_singer-songwriter',\n",
       " 'ska',\n",
       " 'omaha_indie',\n",
       " 'alt_z',\n",
       " 'british_soul',\n",
       " 'turntablism',\n",
       " 'afrofuturism',\n",
       " 'trip_hop',\n",
       " 'soul_flow',\n",
       " 'alternative_dance',\n",
       " 'orchestral_soundtrack',\n",
       " 'progressive_electro_house',\n",
       " 'post-grunge',\n",
       " 'roots_reggae',\n",
       " 'funk_metal',\n",
       " 'stomp_and_holler',\n",
       " 'belgian_dance',\n",
       " 'destroy_techno',\n",
       " 'punk',\n",
       " 'yodeling',\n",
       " 'australian_house',\n",
       " 'hyphy',\n",
       " 'classic_girl_group',\n",
       " 'downtempo',\n",
       " 'ectofolk',\n",
       " 'mellow_gold',\n",
       " 'progressive_house',\n",
       " 'contemporary_country',\n",
       " 'vocal_house',\n",
       " 'canadian_punk',\n",
       " 'chicago_bop',\n",
       " 'chopped_and_screwed',\n",
       " 'outlaw_country',\n",
       " 'bhangra',\n",
       " 'boy_band',\n",
       " 'swing',\n",
       " 'chutney',\n",
       " 'country_road',\n",
       " 'german_techno',\n",
       " 'rap_metal',\n",
       " 'contemporary_r&b',\n",
       " 'washington_indie',\n",
       " 'grunge',\n",
       " 'skate_punk',\n",
       " 'rap_conscient',\n",
       " 'italo_dance',\n",
       " 'dancehall',\n",
       " 'reggaeton_flow',\n",
       " 'miami_bass',\n",
       " 'vincy_soca',\n",
       " 'dutch_edm',\n",
       " 'uk_americana',\n",
       " 'girl_group',\n",
       " 'pixie',\n",
       " 'minneapolis_sound',\n",
       " 'supergroup',\n",
       " 'oxford_indie',\n",
       " 'country_gospel',\n",
       " 'christian_music',\n",
       " 'celtic',\n",
       " 'lilith',\n",
       " 'comic',\n",
       " 'old_school_dancehall',\n",
       " 'glam_metal',\n",
       " 'seattle_indie',\n",
       " 'complextro',\n",
       " 'contemporary_vocal_jazz',\n",
       " 'hip_house',\n",
       " 'emo',\n",
       " 'madchester',\n",
       " 'old_school_thrash',\n",
       " 'quiet_storm',\n",
       " 'electronica',\n",
       " 'jamaican_dancehall',\n",
       " 'indietronica',\n",
       " 'nouvelle_chanson_francaise',\n",
       " 'brostep',\n",
       " 'australian_indie',\n",
       " 'g_funk',\n",
       " 'r&b',\n",
       " 'indiecoustica',\n",
       " 'shoegaze',\n",
       " 'christian_indie',\n",
       " 'brooklyn_drill',\n",
       " 'big_beat',\n",
       " 'dark_clubbing',\n",
       " 'black_americana',\n",
       " 'house',\n",
       " 'punk_blues',\n",
       " 'british_invasion',\n",
       " 'new_romantic',\n",
       " 'cowboy_western',\n",
       " 'plugg',\n",
       " 'show_tunes',\n",
       " 'big_room',\n",
       " 'alberta_country',\n",
       " 'edm',\n",
       " 'classic_bhangra',\n",
       " 'oklahoma_country',\n",
       " 'scottish_singer-songwriter',\n",
       " 'melbourne_bounce_international',\n",
       " 'melodic_dubstep',\n",
       " 'soundtrack',\n",
       " 'country',\n",
       " 'bass_house',\n",
       " 'glee_club',\n",
       " 'permanent_wave',\n",
       " 'gen_z_singer-songwriter',\n",
       " 'redneck',\n",
       " 'canadian_contemporary_country',\n",
       " 'arkansas_country',\n",
       " 'australian_country',\n",
       " 'middle_earth',\n",
       " 'electra',\n",
       " 'electro',\n",
       " 'modern_uplift',\n",
       " 'ska_punk',\n",
       " 'canadian_country',\n",
       " 'medieval_folk',\n",
       " 'solo_wave',\n",
       " 'vocal_jazz',\n",
       " 'rap_latina',\n",
       " 'industrial_metal',\n",
       " 'australian_dance',\n",
       " 'reggae_fusion',\n",
       " 'vapor_twitch',\n",
       " 'uk_garage',\n",
       " 'uk_dance']"
      ]
     },
     "execution_count": 149,
     "metadata": {},
     "output_type": "execute_result"
    }
   ],
   "source": [
    "# get sets of top broad genres: pop, rock, hip-hop\n",
    "all_pop = [x for x in genres if 'pop' in x]\n",
    "all_rock = [x for x in genres if 'rock' in x]\n",
    "all_hiphop = [x for x in genres if 'hip_hop' in x] + [x for x in genres if '_rap' in x] \\\n",
    "+ [x for x in genres if 'trap' in x] + ['rap', 'urban_contemporary'] \n",
    "\n",
    "# look at metal just for fun/curiosity\n",
    "all_metal = [x for x in genres if 'metal' in x]\n",
    "\n",
    "# set of top broad genres\n",
    "top3_genres = list(set(all_pop + all_rock + all_hiphop))\n",
    "\n",
    "# all remaining genres\n",
    "not_top3 = list(set(genres) - set(top_genres))\n",
    "not_top3"
   ]
  },
  {
   "cell_type": "code",
   "execution_count": 151,
   "id": "9ff7bd55",
   "metadata": {},
   "outputs": [
    {
     "data": {
      "text/html": [
       "<div>\n",
       "<style scoped>\n",
       "    .dataframe tbody tr th:only-of-type {\n",
       "        vertical-align: middle;\n",
       "    }\n",
       "\n",
       "    .dataframe tbody tr th {\n",
       "        vertical-align: top;\n",
       "    }\n",
       "\n",
       "    .dataframe thead th {\n",
       "        text-align: right;\n",
       "    }\n",
       "</style>\n",
       "<table border=\"1\" class=\"dataframe\">\n",
       "  <thead>\n",
       "    <tr style=\"text-align: right;\">\n",
       "      <th></th>\n",
       "      <th>week</th>\n",
       "      <th>position</th>\n",
       "      <th>artist</th>\n",
       "      <th>song</th>\n",
       "      <th>combo</th>\n",
       "      <th>combo_str</th>\n",
       "      <th>acousticness</th>\n",
       "      <th>danceability</th>\n",
       "      <th>duration</th>\n",
       "      <th>energy</th>\n",
       "      <th>...</th>\n",
       "      <th>worship</th>\n",
       "      <th>yacht_rock</th>\n",
       "      <th>yakut_pop</th>\n",
       "      <th>yodeling</th>\n",
       "      <th>all_pop</th>\n",
       "      <th>all_rock</th>\n",
       "      <th>all_hiphop</th>\n",
       "      <th>all_metal</th>\n",
       "      <th>top3_genres</th>\n",
       "      <th>not_top3</th>\n",
       "    </tr>\n",
       "  </thead>\n",
       "  <tbody>\n",
       "    <tr>\n",
       "      <th>0</th>\n",
       "      <td>1997-07-07</td>\n",
       "      <td>1.0</td>\n",
       "      <td>Hanson</td>\n",
       "      <td>Mmm Bop</td>\n",
       "      <td>0SdiiPkr02EUdekHZJkt580lnxrQAd9ZxbhBBe7d8FO8</td>\n",
       "      <td>HansonMmm Bop</td>\n",
       "      <td>0.00481</td>\n",
       "      <td>0.683</td>\n",
       "      <td>268653</td>\n",
       "      <td>0.937</td>\n",
       "      <td>...</td>\n",
       "      <td>0</td>\n",
       "      <td>0</td>\n",
       "      <td>0</td>\n",
       "      <td>0</td>\n",
       "      <td>0</td>\n",
       "      <td>0</td>\n",
       "      <td>0</td>\n",
       "      <td>0</td>\n",
       "      <td>0</td>\n",
       "      <td>0</td>\n",
       "    </tr>\n",
       "    <tr>\n",
       "      <th>1</th>\n",
       "      <td>1997-07-07</td>\n",
       "      <td>2.0</td>\n",
       "      <td>Meredith Brooks</td>\n",
       "      <td>Bitch</td>\n",
       "      <td>2QmLFuIDtNDmmJY3OtvinN3i6qNxyVgIdUZTTi5m25EM</td>\n",
       "      <td>Meredith BrooksBitch</td>\n",
       "      <td>0.01120</td>\n",
       "      <td>0.617</td>\n",
       "      <td>252760</td>\n",
       "      <td>0.886</td>\n",
       "      <td>...</td>\n",
       "      <td>0</td>\n",
       "      <td>0</td>\n",
       "      <td>0</td>\n",
       "      <td>0</td>\n",
       "      <td>0</td>\n",
       "      <td>0</td>\n",
       "      <td>0</td>\n",
       "      <td>0</td>\n",
       "      <td>0</td>\n",
       "      <td>0</td>\n",
       "    </tr>\n",
       "    <tr>\n",
       "      <th>2</th>\n",
       "      <td>1997-07-07</td>\n",
       "      <td>3.0</td>\n",
       "      <td>Spice Girls</td>\n",
       "      <td>Say You'll Be There</td>\n",
       "      <td>0uq5PttqEjj3IH1bzwcrXF1yTQ39my3MoNROlFw3RDNy</td>\n",
       "      <td>Spice GirlsSay You'll Be There</td>\n",
       "      <td>0.01490</td>\n",
       "      <td>0.726</td>\n",
       "      <td>235973</td>\n",
       "      <td>0.679</td>\n",
       "      <td>...</td>\n",
       "      <td>0</td>\n",
       "      <td>0</td>\n",
       "      <td>0</td>\n",
       "      <td>0</td>\n",
       "      <td>0</td>\n",
       "      <td>0</td>\n",
       "      <td>0</td>\n",
       "      <td>0</td>\n",
       "      <td>0</td>\n",
       "      <td>0</td>\n",
       "    </tr>\n",
       "    <tr>\n",
       "      <th>3</th>\n",
       "      <td>1997-07-07</td>\n",
       "      <td>4.0</td>\n",
       "      <td>Mark Morrison</td>\n",
       "      <td>Return Of The Mack</td>\n",
       "      <td>6V3F8MZrOKdT9fU686ybE93jDdpx9PMlfMBS5tOBHFm9</td>\n",
       "      <td>Mark MorrisonReturn Of The Mack</td>\n",
       "      <td>0.00631</td>\n",
       "      <td>0.715</td>\n",
       "      <td>213093</td>\n",
       "      <td>0.833</td>\n",
       "      <td>...</td>\n",
       "      <td>0</td>\n",
       "      <td>0</td>\n",
       "      <td>0</td>\n",
       "      <td>0</td>\n",
       "      <td>0</td>\n",
       "      <td>0</td>\n",
       "      <td>0</td>\n",
       "      <td>0</td>\n",
       "      <td>0</td>\n",
       "      <td>0</td>\n",
       "    </tr>\n",
       "    <tr>\n",
       "      <th>4</th>\n",
       "      <td>1997-07-07</td>\n",
       "      <td>5.0</td>\n",
       "      <td>Shawn Colvin</td>\n",
       "      <td>Sunny Came Home</td>\n",
       "      <td>0K7VN4aHxHcEb7PqkfoIVA4mOxpj82q6n3EO7HBZCelX</td>\n",
       "      <td>Shawn ColvinSunny Came Home</td>\n",
       "      <td>0.34200</td>\n",
       "      <td>0.558</td>\n",
       "      <td>264200</td>\n",
       "      <td>0.579</td>\n",
       "      <td>...</td>\n",
       "      <td>0</td>\n",
       "      <td>0</td>\n",
       "      <td>0</td>\n",
       "      <td>0</td>\n",
       "      <td>0</td>\n",
       "      <td>0</td>\n",
       "      <td>0</td>\n",
       "      <td>0</td>\n",
       "      <td>0</td>\n",
       "      <td>0</td>\n",
       "    </tr>\n",
       "  </tbody>\n",
       "</table>\n",
       "<p>5 rows × 462 columns</p>\n",
       "</div>"
      ],
      "text/plain": [
       "        week  position           artist                 song  \\\n",
       "0 1997-07-07       1.0           Hanson              Mmm Bop   \n",
       "1 1997-07-07       2.0  Meredith Brooks                Bitch   \n",
       "2 1997-07-07       3.0      Spice Girls  Say You'll Be There   \n",
       "3 1997-07-07       4.0    Mark Morrison   Return Of The Mack   \n",
       "4 1997-07-07       5.0     Shawn Colvin      Sunny Came Home   \n",
       "\n",
       "                                          combo  \\\n",
       "0  0SdiiPkr02EUdekHZJkt580lnxrQAd9ZxbhBBe7d8FO8   \n",
       "1  2QmLFuIDtNDmmJY3OtvinN3i6qNxyVgIdUZTTi5m25EM   \n",
       "2  0uq5PttqEjj3IH1bzwcrXF1yTQ39my3MoNROlFw3RDNy   \n",
       "3  6V3F8MZrOKdT9fU686ybE93jDdpx9PMlfMBS5tOBHFm9   \n",
       "4  0K7VN4aHxHcEb7PqkfoIVA4mOxpj82q6n3EO7HBZCelX   \n",
       "\n",
       "                         combo_str  acousticness  danceability  duration  \\\n",
       "0                    HansonMmm Bop       0.00481         0.683    268653   \n",
       "1             Meredith BrooksBitch       0.01120         0.617    252760   \n",
       "2   Spice GirlsSay You'll Be There       0.01490         0.726    235973   \n",
       "3  Mark MorrisonReturn Of The Mack       0.00631         0.715    213093   \n",
       "4      Shawn ColvinSunny Came Home       0.34200         0.558    264200   \n",
       "\n",
       "   energy  ...  worship  yacht_rock  yakut_pop  yodeling  all_pop  all_rock  \\\n",
       "0   0.937  ...        0           0          0         0        0         0   \n",
       "1   0.886  ...        0           0          0         0        0         0   \n",
       "2   0.679  ...        0           0          0         0        0         0   \n",
       "3   0.833  ...        0           0          0         0        0         0   \n",
       "4   0.579  ...        0           0          0         0        0         0   \n",
       "\n",
       "   all_hiphop  all_metal  top3_genres  not_top3  \n",
       "0           0          0            0         0  \n",
       "1           0          0            0         0  \n",
       "2           0          0            0         0  \n",
       "3           0          0            0         0  \n",
       "4           0          0            0         0  \n",
       "\n",
       "[5 rows x 462 columns]"
      ]
     },
     "execution_count": 151,
     "metadata": {},
     "output_type": "execute_result"
    }
   ],
   "source": [
    "# add new broad genre columns to dataframe\n",
    "top40['all_pop'] = 0\n",
    "top40['all_rock'] = 0\n",
    "top40['all_hiphop'] = 0\n",
    "top40['all_metal'] = 0\n",
    "top40['top3_genres'] = 0\n",
    "top40['not_top3'] = 0\n",
    "top40.head()"
   ]
  },
  {
   "cell_type": "code",
   "execution_count": 152,
   "id": "a70f4fe2",
   "metadata": {},
   "outputs": [
    {
     "data": {
      "text/html": [
       "<div>\n",
       "<style scoped>\n",
       "    .dataframe tbody tr th:only-of-type {\n",
       "        vertical-align: middle;\n",
       "    }\n",
       "\n",
       "    .dataframe tbody tr th {\n",
       "        vertical-align: top;\n",
       "    }\n",
       "\n",
       "    .dataframe thead th {\n",
       "        text-align: right;\n",
       "    }\n",
       "</style>\n",
       "<table border=\"1\" class=\"dataframe\">\n",
       "  <thead>\n",
       "    <tr style=\"text-align: right;\">\n",
       "      <th></th>\n",
       "      <th>week</th>\n",
       "      <th>position</th>\n",
       "      <th>artist</th>\n",
       "      <th>song</th>\n",
       "      <th>combo</th>\n",
       "      <th>combo_str</th>\n",
       "      <th>acousticness</th>\n",
       "      <th>danceability</th>\n",
       "      <th>duration</th>\n",
       "      <th>energy</th>\n",
       "      <th>...</th>\n",
       "      <th>worship</th>\n",
       "      <th>yacht_rock</th>\n",
       "      <th>yakut_pop</th>\n",
       "      <th>yodeling</th>\n",
       "      <th>all_pop</th>\n",
       "      <th>all_rock</th>\n",
       "      <th>all_hiphop</th>\n",
       "      <th>all_metal</th>\n",
       "      <th>top3_genres</th>\n",
       "      <th>not_top3</th>\n",
       "    </tr>\n",
       "  </thead>\n",
       "  <tbody>\n",
       "    <tr>\n",
       "      <th>0</th>\n",
       "      <td>1997-07-07</td>\n",
       "      <td>1.0</td>\n",
       "      <td>Hanson</td>\n",
       "      <td>Mmm Bop</td>\n",
       "      <td>0SdiiPkr02EUdekHZJkt580lnxrQAd9ZxbhBBe7d8FO8</td>\n",
       "      <td>HansonMmm Bop</td>\n",
       "      <td>0.00481</td>\n",
       "      <td>0.683</td>\n",
       "      <td>268653</td>\n",
       "      <td>0.937</td>\n",
       "      <td>...</td>\n",
       "      <td>0</td>\n",
       "      <td>0</td>\n",
       "      <td>0</td>\n",
       "      <td>0</td>\n",
       "      <td>1</td>\n",
       "      <td>1</td>\n",
       "      <td>0</td>\n",
       "      <td>0</td>\n",
       "      <td>1</td>\n",
       "      <td>0</td>\n",
       "    </tr>\n",
       "    <tr>\n",
       "      <th>1</th>\n",
       "      <td>1997-07-07</td>\n",
       "      <td>2.0</td>\n",
       "      <td>Meredith Brooks</td>\n",
       "      <td>Bitch</td>\n",
       "      <td>2QmLFuIDtNDmmJY3OtvinN3i6qNxyVgIdUZTTi5m25EM</td>\n",
       "      <td>Meredith BrooksBitch</td>\n",
       "      <td>0.01120</td>\n",
       "      <td>0.617</td>\n",
       "      <td>252760</td>\n",
       "      <td>0.886</td>\n",
       "      <td>...</td>\n",
       "      <td>0</td>\n",
       "      <td>0</td>\n",
       "      <td>0</td>\n",
       "      <td>0</td>\n",
       "      <td>0</td>\n",
       "      <td>0</td>\n",
       "      <td>0</td>\n",
       "      <td>0</td>\n",
       "      <td>0</td>\n",
       "      <td>1</td>\n",
       "    </tr>\n",
       "    <tr>\n",
       "      <th>2</th>\n",
       "      <td>1997-07-07</td>\n",
       "      <td>3.0</td>\n",
       "      <td>Spice Girls</td>\n",
       "      <td>Say You'll Be There</td>\n",
       "      <td>0uq5PttqEjj3IH1bzwcrXF1yTQ39my3MoNROlFw3RDNy</td>\n",
       "      <td>Spice GirlsSay You'll Be There</td>\n",
       "      <td>0.01490</td>\n",
       "      <td>0.726</td>\n",
       "      <td>235973</td>\n",
       "      <td>0.679</td>\n",
       "      <td>...</td>\n",
       "      <td>0</td>\n",
       "      <td>0</td>\n",
       "      <td>0</td>\n",
       "      <td>0</td>\n",
       "      <td>1</td>\n",
       "      <td>0</td>\n",
       "      <td>0</td>\n",
       "      <td>0</td>\n",
       "      <td>1</td>\n",
       "      <td>0</td>\n",
       "    </tr>\n",
       "    <tr>\n",
       "      <th>3</th>\n",
       "      <td>1997-07-07</td>\n",
       "      <td>4.0</td>\n",
       "      <td>Mark Morrison</td>\n",
       "      <td>Return Of The Mack</td>\n",
       "      <td>6V3F8MZrOKdT9fU686ybE93jDdpx9PMlfMBS5tOBHFm9</td>\n",
       "      <td>Mark MorrisonReturn Of The Mack</td>\n",
       "      <td>0.00631</td>\n",
       "      <td>0.715</td>\n",
       "      <td>213093</td>\n",
       "      <td>0.833</td>\n",
       "      <td>...</td>\n",
       "      <td>0</td>\n",
       "      <td>0</td>\n",
       "      <td>0</td>\n",
       "      <td>0</td>\n",
       "      <td>0</td>\n",
       "      <td>0</td>\n",
       "      <td>0</td>\n",
       "      <td>0</td>\n",
       "      <td>0</td>\n",
       "      <td>1</td>\n",
       "    </tr>\n",
       "    <tr>\n",
       "      <th>4</th>\n",
       "      <td>1997-07-07</td>\n",
       "      <td>5.0</td>\n",
       "      <td>Shawn Colvin</td>\n",
       "      <td>Sunny Came Home</td>\n",
       "      <td>0K7VN4aHxHcEb7PqkfoIVA4mOxpj82q6n3EO7HBZCelX</td>\n",
       "      <td>Shawn ColvinSunny Came Home</td>\n",
       "      <td>0.34200</td>\n",
       "      <td>0.558</td>\n",
       "      <td>264200</td>\n",
       "      <td>0.579</td>\n",
       "      <td>...</td>\n",
       "      <td>0</td>\n",
       "      <td>0</td>\n",
       "      <td>0</td>\n",
       "      <td>0</td>\n",
       "      <td>1</td>\n",
       "      <td>1</td>\n",
       "      <td>0</td>\n",
       "      <td>0</td>\n",
       "      <td>1</td>\n",
       "      <td>0</td>\n",
       "    </tr>\n",
       "    <tr>\n",
       "      <th>5</th>\n",
       "      <td>1997-07-07</td>\n",
       "      <td>6.0</td>\n",
       "      <td>Robyn</td>\n",
       "      <td>Do You Know</td>\n",
       "      <td>6UE7nl9mha6s8z0wFQFIZ20idCpkJ2pspfAILbanmERu</td>\n",
       "      <td>RobynDo You Know</td>\n",
       "      <td>0.00465</td>\n",
       "      <td>0.635</td>\n",
       "      <td>221293</td>\n",
       "      <td>0.740</td>\n",
       "      <td>...</td>\n",
       "      <td>0</td>\n",
       "      <td>0</td>\n",
       "      <td>0</td>\n",
       "      <td>0</td>\n",
       "      <td>1</td>\n",
       "      <td>0</td>\n",
       "      <td>0</td>\n",
       "      <td>0</td>\n",
       "      <td>1</td>\n",
       "      <td>0</td>\n",
       "    </tr>\n",
       "    <tr>\n",
       "      <th>6</th>\n",
       "      <td>1997-07-07</td>\n",
       "      <td>7.0</td>\n",
       "      <td>Verve Pipe</td>\n",
       "      <td>The Freshmen</td>\n",
       "      <td>242iqFnwNhlidVBMI9GYKp21jEuMn2lf37715rwjow2M</td>\n",
       "      <td>Verve PipeThe Freshmen</td>\n",
       "      <td>0.07570</td>\n",
       "      <td>0.571</td>\n",
       "      <td>269467</td>\n",
       "      <td>0.505</td>\n",
       "      <td>...</td>\n",
       "      <td>0</td>\n",
       "      <td>0</td>\n",
       "      <td>0</td>\n",
       "      <td>0</td>\n",
       "      <td>1</td>\n",
       "      <td>1</td>\n",
       "      <td>0</td>\n",
       "      <td>0</td>\n",
       "      <td>1</td>\n",
       "      <td>0</td>\n",
       "    </tr>\n",
       "    <tr>\n",
       "      <th>7</th>\n",
       "      <td>1997-07-07</td>\n",
       "      <td>8.0</td>\n",
       "      <td>Az Yet</td>\n",
       "      <td>Hard To Say I'm Sorry</td>\n",
       "      <td>4UGMQyNcbGHYg5CDMKkSw32OWzR8QoH7KaLtiN65v32x</td>\n",
       "      <td>Az YetHard To Say I'm Sorry</td>\n",
       "      <td>0.60400</td>\n",
       "      <td>0.537</td>\n",
       "      <td>195693</td>\n",
       "      <td>0.413</td>\n",
       "      <td>...</td>\n",
       "      <td>0</td>\n",
       "      <td>0</td>\n",
       "      <td>0</td>\n",
       "      <td>0</td>\n",
       "      <td>0</td>\n",
       "      <td>0</td>\n",
       "      <td>1</td>\n",
       "      <td>0</td>\n",
       "      <td>1</td>\n",
       "      <td>0</td>\n",
       "    </tr>\n",
       "    <tr>\n",
       "      <th>8</th>\n",
       "      <td>1997-07-07</td>\n",
       "      <td>9.0</td>\n",
       "      <td>Savage Garden</td>\n",
       "      <td>I Want You</td>\n",
       "      <td>3NRFinRTEqUCfaTTZmk8ek3XorCFmcupSm5QS6hA9g4N</td>\n",
       "      <td>Savage GardenI Want You</td>\n",
       "      <td>0.00770</td>\n",
       "      <td>0.628</td>\n",
       "      <td>232067</td>\n",
       "      <td>0.871</td>\n",
       "      <td>...</td>\n",
       "      <td>0</td>\n",
       "      <td>0</td>\n",
       "      <td>0</td>\n",
       "      <td>0</td>\n",
       "      <td>1</td>\n",
       "      <td>1</td>\n",
       "      <td>0</td>\n",
       "      <td>0</td>\n",
       "      <td>1</td>\n",
       "      <td>0</td>\n",
       "    </tr>\n",
       "    <tr>\n",
       "      <th>9</th>\n",
       "      <td>1997-07-07</td>\n",
       "      <td>10.0</td>\n",
       "      <td>Backstreet Boys</td>\n",
       "      <td>Quit Playing Games (with My Heart)</td>\n",
       "      <td>5rSXSAkZ67PYJSvpUpkOr71nRwyxNsqCLeA17qR8Nfxx</td>\n",
       "      <td>Backstreet BoysQuit Playing Games (with My Heart)</td>\n",
       "      <td>0.06150</td>\n",
       "      <td>0.800</td>\n",
       "      <td>233533</td>\n",
       "      <td>0.875</td>\n",
       "      <td>...</td>\n",
       "      <td>0</td>\n",
       "      <td>0</td>\n",
       "      <td>0</td>\n",
       "      <td>0</td>\n",
       "      <td>1</td>\n",
       "      <td>0</td>\n",
       "      <td>0</td>\n",
       "      <td>0</td>\n",
       "      <td>1</td>\n",
       "      <td>0</td>\n",
       "    </tr>\n",
       "  </tbody>\n",
       "</table>\n",
       "<p>10 rows × 462 columns</p>\n",
       "</div>"
      ],
      "text/plain": [
       "        week  position           artist                                song  \\\n",
       "0 1997-07-07       1.0           Hanson                             Mmm Bop   \n",
       "1 1997-07-07       2.0  Meredith Brooks                               Bitch   \n",
       "2 1997-07-07       3.0      Spice Girls                 Say You'll Be There   \n",
       "3 1997-07-07       4.0    Mark Morrison                  Return Of The Mack   \n",
       "4 1997-07-07       5.0     Shawn Colvin                     Sunny Came Home   \n",
       "5 1997-07-07       6.0            Robyn                         Do You Know   \n",
       "6 1997-07-07       7.0       Verve Pipe                        The Freshmen   \n",
       "7 1997-07-07       8.0           Az Yet               Hard To Say I'm Sorry   \n",
       "8 1997-07-07       9.0    Savage Garden                          I Want You   \n",
       "9 1997-07-07      10.0  Backstreet Boys  Quit Playing Games (with My Heart)   \n",
       "\n",
       "                                          combo  \\\n",
       "0  0SdiiPkr02EUdekHZJkt580lnxrQAd9ZxbhBBe7d8FO8   \n",
       "1  2QmLFuIDtNDmmJY3OtvinN3i6qNxyVgIdUZTTi5m25EM   \n",
       "2  0uq5PttqEjj3IH1bzwcrXF1yTQ39my3MoNROlFw3RDNy   \n",
       "3  6V3F8MZrOKdT9fU686ybE93jDdpx9PMlfMBS5tOBHFm9   \n",
       "4  0K7VN4aHxHcEb7PqkfoIVA4mOxpj82q6n3EO7HBZCelX   \n",
       "5  6UE7nl9mha6s8z0wFQFIZ20idCpkJ2pspfAILbanmERu   \n",
       "6  242iqFnwNhlidVBMI9GYKp21jEuMn2lf37715rwjow2M   \n",
       "7  4UGMQyNcbGHYg5CDMKkSw32OWzR8QoH7KaLtiN65v32x   \n",
       "8  3NRFinRTEqUCfaTTZmk8ek3XorCFmcupSm5QS6hA9g4N   \n",
       "9  5rSXSAkZ67PYJSvpUpkOr71nRwyxNsqCLeA17qR8Nfxx   \n",
       "\n",
       "                                           combo_str  acousticness  \\\n",
       "0                                      HansonMmm Bop       0.00481   \n",
       "1                               Meredith BrooksBitch       0.01120   \n",
       "2                     Spice GirlsSay You'll Be There       0.01490   \n",
       "3                    Mark MorrisonReturn Of The Mack       0.00631   \n",
       "4                        Shawn ColvinSunny Came Home       0.34200   \n",
       "5                                   RobynDo You Know       0.00465   \n",
       "6                             Verve PipeThe Freshmen       0.07570   \n",
       "7                        Az YetHard To Say I'm Sorry       0.60400   \n",
       "8                            Savage GardenI Want You       0.00770   \n",
       "9  Backstreet BoysQuit Playing Games (with My Heart)       0.06150   \n",
       "\n",
       "   danceability  duration  energy  ...  worship  yacht_rock  yakut_pop  \\\n",
       "0         0.683    268653   0.937  ...        0           0          0   \n",
       "1         0.617    252760   0.886  ...        0           0          0   \n",
       "2         0.726    235973   0.679  ...        0           0          0   \n",
       "3         0.715    213093   0.833  ...        0           0          0   \n",
       "4         0.558    264200   0.579  ...        0           0          0   \n",
       "5         0.635    221293   0.740  ...        0           0          0   \n",
       "6         0.571    269467   0.505  ...        0           0          0   \n",
       "7         0.537    195693   0.413  ...        0           0          0   \n",
       "8         0.628    232067   0.871  ...        0           0          0   \n",
       "9         0.800    233533   0.875  ...        0           0          0   \n",
       "\n",
       "   yodeling  all_pop  all_rock  all_hiphop  all_metal  top3_genres  not_top3  \n",
       "0         0        1         1           0          0            1         0  \n",
       "1         0        0         0           0          0            0         1  \n",
       "2         0        1         0           0          0            1         0  \n",
       "3         0        0         0           0          0            0         1  \n",
       "4         0        1         1           0          0            1         0  \n",
       "5         0        1         0           0          0            1         0  \n",
       "6         0        1         1           0          0            1         0  \n",
       "7         0        0         0           1          0            1         0  \n",
       "8         0        1         1           0          0            1         0  \n",
       "9         0        1         0           0          0            1         0  \n",
       "\n",
       "[10 rows x 462 columns]"
      ]
     },
     "execution_count": 152,
     "metadata": {},
     "output_type": "execute_result"
    }
   ],
   "source": [
    "for i in top40.index:\n",
    "    \n",
    "    if top40[all_pop].sum(axis=1)[i] > 0:\n",
    "        top40.at[i, 'all_pop'] = 1\n",
    "        \n",
    "    if top40[all_rock].sum(axis=1)[i] > 0:\n",
    "        top40.at[i, 'all_rock'] = 1\n",
    "        \n",
    "    if top40[all_hiphop].sum(axis=1)[i] > 0:\n",
    "        top40.at[i, 'all_hiphop'] = 1\n",
    "\n",
    "    if top40[all_metal].sum(axis=1)[i] > 0:\n",
    "        top40.at[i, 'all_metal'] = 1\n",
    "    \n",
    "    if top40[top3_genres].sum(axis=1)[i] > 0:\n",
    "        top40.at[i, 'top3_genres'] = 1\n",
    "\n",
    "    if top40.loc[i, 'top3_genres']  == 0:\n",
    "        top40.at[i, 'not_top3'] = 1\n",
    "\n",
    "top40.head(10)"
   ]
  },
  {
   "cell_type": "code",
   "execution_count": 164,
   "id": "41e3881b",
   "metadata": {},
   "outputs": [
    {
     "data": {
      "text/plain": [
       "acousticness        0.00481\n",
       "danceability          0.683\n",
       "duration             268653\n",
       "energy                0.937\n",
       "instrumentalness     0.0046\n",
       "key                       9\n",
       "liveness               0.07\n",
       "loudness             -6.335\n",
       "mode                      1\n",
       "speechiness          0.0449\n",
       "tempo               104.872\n",
       "time_signature            4\n",
       "valence               0.619\n",
       "a_cappella                0\n",
       "Name: 0, dtype: object"
      ]
     },
     "execution_count": 164,
     "metadata": {},
     "output_type": "execute_result"
    }
   ],
   "source": [
    "top40.iloc[0,6:20]"
   ]
  },
  {
   "cell_type": "code",
   "execution_count": 156,
   "id": "535e1d91",
   "metadata": {},
   "outputs": [],
   "source": [
    "# write df to csv\n",
    "top40.to_csv('../top40_charts_audio.csv', index=False)"
   ]
  },
  {
   "cell_type": "code",
   "execution_count": null,
   "id": "2b96838d",
   "metadata": {},
   "outputs": [],
   "source": []
  }
 ],
 "metadata": {
  "kernelspec": {
   "display_name": "mlenv",
   "language": "python",
   "name": "mlenv"
  },
  "language_info": {
   "codemirror_mode": {
    "name": "ipython",
    "version": 3
   },
   "file_extension": ".py",
   "mimetype": "text/x-python",
   "name": "python",
   "nbconvert_exporter": "python",
   "pygments_lexer": "ipython3",
   "version": "3.9.13"
  }
 },
 "nbformat": 4,
 "nbformat_minor": 5
}
